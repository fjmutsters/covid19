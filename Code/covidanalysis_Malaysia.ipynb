{
 "cells": [
  {
   "cell_type": "code",
   "execution_count": 1,
   "metadata": {},
   "outputs": [],
   "source": [
    "import numpy as np\n",
    "import pandas as pd\n",
    "import matplotlib.pyplot as plt\n",
    "import matplotlib.ticker as ticker\n",
    "import seaborn as sns\n",
    "import plotly.express as px\n",
    "#import theme\n",
    "\n",
    "%matplotlib inline"
   ]
  },
  {
   "cell_type": "code",
   "execution_count": 2,
   "metadata": {},
   "outputs": [
    {
     "name": "stdout",
     "output_type": "stream",
     "text": [
      "(267, 269)\n"
     ]
    },
    {
     "data": {
      "text/html": [
       "<div>\n",
       "<style scoped>\n",
       "    .dataframe tbody tr th:only-of-type {\n",
       "        vertical-align: middle;\n",
       "    }\n",
       "\n",
       "    .dataframe tbody tr th {\n",
       "        vertical-align: top;\n",
       "    }\n",
       "\n",
       "    .dataframe thead th {\n",
       "        text-align: right;\n",
       "    }\n",
       "</style>\n",
       "<table border=\"1\" class=\"dataframe\">\n",
       "  <thead>\n",
       "    <tr style=\"text-align: right;\">\n",
       "      <th></th>\n",
       "      <th>Province/State</th>\n",
       "      <th>Country/Region</th>\n",
       "      <th>Lat</th>\n",
       "      <th>Long</th>\n",
       "      <th>1/22/20</th>\n",
       "      <th>1/23/20</th>\n",
       "      <th>1/24/20</th>\n",
       "      <th>1/25/20</th>\n",
       "      <th>1/26/20</th>\n",
       "      <th>1/27/20</th>\n",
       "      <th>...</th>\n",
       "      <th>10/3/20</th>\n",
       "      <th>10/4/20</th>\n",
       "      <th>10/5/20</th>\n",
       "      <th>10/6/20</th>\n",
       "      <th>10/7/20</th>\n",
       "      <th>10/8/20</th>\n",
       "      <th>10/9/20</th>\n",
       "      <th>10/10/20</th>\n",
       "      <th>10/11/20</th>\n",
       "      <th>10/12/20</th>\n",
       "    </tr>\n",
       "  </thead>\n",
       "  <tbody>\n",
       "    <tr>\n",
       "      <th>0</th>\n",
       "      <td>NaN</td>\n",
       "      <td>Afghanistan</td>\n",
       "      <td>33.93911</td>\n",
       "      <td>67.709953</td>\n",
       "      <td>0</td>\n",
       "      <td>0</td>\n",
       "      <td>0</td>\n",
       "      <td>0</td>\n",
       "      <td>0</td>\n",
       "      <td>0</td>\n",
       "      <td>...</td>\n",
       "      <td>39297</td>\n",
       "      <td>39341</td>\n",
       "      <td>39422</td>\n",
       "      <td>39486</td>\n",
       "      <td>39548</td>\n",
       "      <td>39616</td>\n",
       "      <td>39693</td>\n",
       "      <td>39703</td>\n",
       "      <td>39799</td>\n",
       "      <td>39870</td>\n",
       "    </tr>\n",
       "    <tr>\n",
       "      <th>1</th>\n",
       "      <td>NaN</td>\n",
       "      <td>Albania</td>\n",
       "      <td>41.15330</td>\n",
       "      <td>20.168300</td>\n",
       "      <td>0</td>\n",
       "      <td>0</td>\n",
       "      <td>0</td>\n",
       "      <td>0</td>\n",
       "      <td>0</td>\n",
       "      <td>0</td>\n",
       "      <td>...</td>\n",
       "      <td>14117</td>\n",
       "      <td>14266</td>\n",
       "      <td>14410</td>\n",
       "      <td>14568</td>\n",
       "      <td>14730</td>\n",
       "      <td>14899</td>\n",
       "      <td>15066</td>\n",
       "      <td>15231</td>\n",
       "      <td>15399</td>\n",
       "      <td>15570</td>\n",
       "    </tr>\n",
       "    <tr>\n",
       "      <th>2</th>\n",
       "      <td>NaN</td>\n",
       "      <td>Algeria</td>\n",
       "      <td>28.03390</td>\n",
       "      <td>1.659600</td>\n",
       "      <td>0</td>\n",
       "      <td>0</td>\n",
       "      <td>0</td>\n",
       "      <td>0</td>\n",
       "      <td>0</td>\n",
       "      <td>0</td>\n",
       "      <td>...</td>\n",
       "      <td>51995</td>\n",
       "      <td>52136</td>\n",
       "      <td>52270</td>\n",
       "      <td>52399</td>\n",
       "      <td>52520</td>\n",
       "      <td>52658</td>\n",
       "      <td>52804</td>\n",
       "      <td>52940</td>\n",
       "      <td>53072</td>\n",
       "      <td>53325</td>\n",
       "    </tr>\n",
       "    <tr>\n",
       "      <th>3</th>\n",
       "      <td>NaN</td>\n",
       "      <td>Andorra</td>\n",
       "      <td>42.50630</td>\n",
       "      <td>1.521800</td>\n",
       "      <td>0</td>\n",
       "      <td>0</td>\n",
       "      <td>0</td>\n",
       "      <td>0</td>\n",
       "      <td>0</td>\n",
       "      <td>0</td>\n",
       "      <td>...</td>\n",
       "      <td>2110</td>\n",
       "      <td>2110</td>\n",
       "      <td>2370</td>\n",
       "      <td>2370</td>\n",
       "      <td>2568</td>\n",
       "      <td>2568</td>\n",
       "      <td>2696</td>\n",
       "      <td>2696</td>\n",
       "      <td>2696</td>\n",
       "      <td>2995</td>\n",
       "    </tr>\n",
       "    <tr>\n",
       "      <th>4</th>\n",
       "      <td>NaN</td>\n",
       "      <td>Angola</td>\n",
       "      <td>-11.20270</td>\n",
       "      <td>17.873900</td>\n",
       "      <td>0</td>\n",
       "      <td>0</td>\n",
       "      <td>0</td>\n",
       "      <td>0</td>\n",
       "      <td>0</td>\n",
       "      <td>0</td>\n",
       "      <td>...</td>\n",
       "      <td>5370</td>\n",
       "      <td>5402</td>\n",
       "      <td>5530</td>\n",
       "      <td>5725</td>\n",
       "      <td>5725</td>\n",
       "      <td>5958</td>\n",
       "      <td>6031</td>\n",
       "      <td>6246</td>\n",
       "      <td>6366</td>\n",
       "      <td>6488</td>\n",
       "    </tr>\n",
       "  </tbody>\n",
       "</table>\n",
       "<p>5 rows × 269 columns</p>\n",
       "</div>"
      ],
      "text/plain": [
       "  Province/State Country/Region       Lat       Long  1/22/20  1/23/20  \\\n",
       "0            NaN    Afghanistan  33.93911  67.709953        0        0   \n",
       "1            NaN        Albania  41.15330  20.168300        0        0   \n",
       "2            NaN        Algeria  28.03390   1.659600        0        0   \n",
       "3            NaN        Andorra  42.50630   1.521800        0        0   \n",
       "4            NaN         Angola -11.20270  17.873900        0        0   \n",
       "\n",
       "   1/24/20  1/25/20  1/26/20  1/27/20  ...  10/3/20  10/4/20  10/5/20  \\\n",
       "0        0        0        0        0  ...    39297    39341    39422   \n",
       "1        0        0        0        0  ...    14117    14266    14410   \n",
       "2        0        0        0        0  ...    51995    52136    52270   \n",
       "3        0        0        0        0  ...     2110     2110     2370   \n",
       "4        0        0        0        0  ...     5370     5402     5530   \n",
       "\n",
       "   10/6/20  10/7/20  10/8/20  10/9/20  10/10/20  10/11/20  10/12/20  \n",
       "0    39486    39548    39616    39693     39703     39799     39870  \n",
       "1    14568    14730    14899    15066     15231     15399     15570  \n",
       "2    52399    52520    52658    52804     52940     53072     53325  \n",
       "3     2370     2568     2568     2696      2696      2696      2995  \n",
       "4     5725     5725     5958     6031      6246      6366      6488  \n",
       "\n",
       "[5 rows x 269 columns]"
      ]
     },
     "execution_count": 2,
     "metadata": {},
     "output_type": "execute_result"
    }
   ],
   "source": [
    "COVID_CONFIRMED_URL = 'https://raw.githubusercontent.com/CSSEGISandData/COVID-19/master/csse_covid_19_data/csse_covid_19_time_series/time_series_covid19_confirmed_global.csv'\n",
    "\n",
    "covid_confirmed = pd.read_csv(COVID_CONFIRMED_URL)\n",
    "\n",
    "print(covid_confirmed.shape)\n",
    "\n",
    "covid_confirmed.head()"
   ]
  },
  {
   "cell_type": "code",
   "execution_count": 3,
   "metadata": {},
   "outputs": [
    {
     "data": {
      "text/plain": [
       "Index(['Province/State', 'Country/Region', 'Lat', 'Long', '1/22/20', '1/23/20',\n",
       "       '1/24/20', '1/25/20', '1/26/20', '1/27/20',\n",
       "       ...\n",
       "       '10/3/20', '10/4/20', '10/5/20', '10/6/20', '10/7/20', '10/8/20',\n",
       "       '10/9/20', '10/10/20', '10/11/20', '10/12/20'],\n",
       "      dtype='object', length=269)"
      ]
     },
     "execution_count": 3,
     "metadata": {},
     "output_type": "execute_result"
    }
   ],
   "source": [
    "covid_confirmed.columns"
   ]
  },
  {
   "cell_type": "code",
   "execution_count": 4,
   "metadata": {},
   "outputs": [
    {
     "name": "stdout",
     "output_type": "stream",
     "text": [
      "(267, 269)\n"
     ]
    },
    {
     "data": {
      "text/html": [
       "<div>\n",
       "<style scoped>\n",
       "    .dataframe tbody tr th:only-of-type {\n",
       "        vertical-align: middle;\n",
       "    }\n",
       "\n",
       "    .dataframe tbody tr th {\n",
       "        vertical-align: top;\n",
       "    }\n",
       "\n",
       "    .dataframe thead th {\n",
       "        text-align: right;\n",
       "    }\n",
       "</style>\n",
       "<table border=\"1\" class=\"dataframe\">\n",
       "  <thead>\n",
       "    <tr style=\"text-align: right;\">\n",
       "      <th></th>\n",
       "      <th>Province/State</th>\n",
       "      <th>Country/Region</th>\n",
       "      <th>Lat</th>\n",
       "      <th>Long</th>\n",
       "      <th>1/22/20</th>\n",
       "      <th>1/23/20</th>\n",
       "      <th>1/24/20</th>\n",
       "      <th>1/25/20</th>\n",
       "      <th>1/26/20</th>\n",
       "      <th>1/27/20</th>\n",
       "      <th>...</th>\n",
       "      <th>10/3/20</th>\n",
       "      <th>10/4/20</th>\n",
       "      <th>10/5/20</th>\n",
       "      <th>10/6/20</th>\n",
       "      <th>10/7/20</th>\n",
       "      <th>10/8/20</th>\n",
       "      <th>10/9/20</th>\n",
       "      <th>10/10/20</th>\n",
       "      <th>10/11/20</th>\n",
       "      <th>10/12/20</th>\n",
       "    </tr>\n",
       "  </thead>\n",
       "  <tbody>\n",
       "    <tr>\n",
       "      <th>0</th>\n",
       "      <td>NaN</td>\n",
       "      <td>Afghanistan</td>\n",
       "      <td>33.93911</td>\n",
       "      <td>67.709953</td>\n",
       "      <td>0</td>\n",
       "      <td>0</td>\n",
       "      <td>0</td>\n",
       "      <td>0</td>\n",
       "      <td>0</td>\n",
       "      <td>0</td>\n",
       "      <td>...</td>\n",
       "      <td>1462</td>\n",
       "      <td>1462</td>\n",
       "      <td>1466</td>\n",
       "      <td>1467</td>\n",
       "      <td>1469</td>\n",
       "      <td>1470</td>\n",
       "      <td>1472</td>\n",
       "      <td>1473</td>\n",
       "      <td>1477</td>\n",
       "      <td>1479</td>\n",
       "    </tr>\n",
       "    <tr>\n",
       "      <th>1</th>\n",
       "      <td>NaN</td>\n",
       "      <td>Albania</td>\n",
       "      <td>41.15330</td>\n",
       "      <td>20.168300</td>\n",
       "      <td>0</td>\n",
       "      <td>0</td>\n",
       "      <td>0</td>\n",
       "      <td>0</td>\n",
       "      <td>0</td>\n",
       "      <td>0</td>\n",
       "      <td>...</td>\n",
       "      <td>392</td>\n",
       "      <td>396</td>\n",
       "      <td>400</td>\n",
       "      <td>403</td>\n",
       "      <td>407</td>\n",
       "      <td>411</td>\n",
       "      <td>413</td>\n",
       "      <td>416</td>\n",
       "      <td>420</td>\n",
       "      <td>424</td>\n",
       "    </tr>\n",
       "    <tr>\n",
       "      <th>2</th>\n",
       "      <td>NaN</td>\n",
       "      <td>Algeria</td>\n",
       "      <td>28.03390</td>\n",
       "      <td>1.659600</td>\n",
       "      <td>0</td>\n",
       "      <td>0</td>\n",
       "      <td>0</td>\n",
       "      <td>0</td>\n",
       "      <td>0</td>\n",
       "      <td>0</td>\n",
       "      <td>...</td>\n",
       "      <td>1756</td>\n",
       "      <td>1760</td>\n",
       "      <td>1768</td>\n",
       "      <td>1768</td>\n",
       "      <td>1771</td>\n",
       "      <td>1783</td>\n",
       "      <td>1789</td>\n",
       "      <td>1795</td>\n",
       "      <td>1801</td>\n",
       "      <td>1809</td>\n",
       "    </tr>\n",
       "    <tr>\n",
       "      <th>3</th>\n",
       "      <td>NaN</td>\n",
       "      <td>Andorra</td>\n",
       "      <td>42.50630</td>\n",
       "      <td>1.521800</td>\n",
       "      <td>0</td>\n",
       "      <td>0</td>\n",
       "      <td>0</td>\n",
       "      <td>0</td>\n",
       "      <td>0</td>\n",
       "      <td>0</td>\n",
       "      <td>...</td>\n",
       "      <td>53</td>\n",
       "      <td>53</td>\n",
       "      <td>53</td>\n",
       "      <td>53</td>\n",
       "      <td>53</td>\n",
       "      <td>54</td>\n",
       "      <td>55</td>\n",
       "      <td>55</td>\n",
       "      <td>55</td>\n",
       "      <td>57</td>\n",
       "    </tr>\n",
       "    <tr>\n",
       "      <th>4</th>\n",
       "      <td>NaN</td>\n",
       "      <td>Angola</td>\n",
       "      <td>-11.20270</td>\n",
       "      <td>17.873900</td>\n",
       "      <td>0</td>\n",
       "      <td>0</td>\n",
       "      <td>0</td>\n",
       "      <td>0</td>\n",
       "      <td>0</td>\n",
       "      <td>0</td>\n",
       "      <td>...</td>\n",
       "      <td>193</td>\n",
       "      <td>195</td>\n",
       "      <td>199</td>\n",
       "      <td>211</td>\n",
       "      <td>211</td>\n",
       "      <td>208</td>\n",
       "      <td>212</td>\n",
       "      <td>218</td>\n",
       "      <td>218</td>\n",
       "      <td>219</td>\n",
       "    </tr>\n",
       "  </tbody>\n",
       "</table>\n",
       "<p>5 rows × 269 columns</p>\n",
       "</div>"
      ],
      "text/plain": [
       "  Province/State Country/Region       Lat       Long  1/22/20  1/23/20  \\\n",
       "0            NaN    Afghanistan  33.93911  67.709953        0        0   \n",
       "1            NaN        Albania  41.15330  20.168300        0        0   \n",
       "2            NaN        Algeria  28.03390   1.659600        0        0   \n",
       "3            NaN        Andorra  42.50630   1.521800        0        0   \n",
       "4            NaN         Angola -11.20270  17.873900        0        0   \n",
       "\n",
       "   1/24/20  1/25/20  1/26/20  1/27/20  ...  10/3/20  10/4/20  10/5/20  \\\n",
       "0        0        0        0        0  ...     1462     1462     1466   \n",
       "1        0        0        0        0  ...      392      396      400   \n",
       "2        0        0        0        0  ...     1756     1760     1768   \n",
       "3        0        0        0        0  ...       53       53       53   \n",
       "4        0        0        0        0  ...      193      195      199   \n",
       "\n",
       "   10/6/20  10/7/20  10/8/20  10/9/20  10/10/20  10/11/20  10/12/20  \n",
       "0     1467     1469     1470     1472      1473      1477      1479  \n",
       "1      403      407      411      413       416       420       424  \n",
       "2     1768     1771     1783     1789      1795      1801      1809  \n",
       "3       53       53       54       55        55        55        57  \n",
       "4      211      211      208      212       218       218       219  \n",
       "\n",
       "[5 rows x 269 columns]"
      ]
     },
     "execution_count": 4,
     "metadata": {},
     "output_type": "execute_result"
    }
   ],
   "source": [
    "COVID_DEATHS_URL = 'https://raw.githubusercontent.com/CSSEGISandData/COVID-19/master/csse_covid_19_data/csse_covid_19_time_series/time_series_covid19_deaths_global.csv'\n",
    "\n",
    "covid_deaths = pd.read_csv(COVID_DEATHS_URL)\n",
    "\n",
    "print(covid_confirmed.shape)\n",
    "\n",
    "covid_deaths.head()"
   ]
  },
  {
   "cell_type": "code",
   "execution_count": 5,
   "metadata": {},
   "outputs": [
    {
     "name": "stdout",
     "output_type": "stream",
     "text": [
      "(254, 269)\n"
     ]
    },
    {
     "data": {
      "text/html": [
       "<div>\n",
       "<style scoped>\n",
       "    .dataframe tbody tr th:only-of-type {\n",
       "        vertical-align: middle;\n",
       "    }\n",
       "\n",
       "    .dataframe tbody tr th {\n",
       "        vertical-align: top;\n",
       "    }\n",
       "\n",
       "    .dataframe thead th {\n",
       "        text-align: right;\n",
       "    }\n",
       "</style>\n",
       "<table border=\"1\" class=\"dataframe\">\n",
       "  <thead>\n",
       "    <tr style=\"text-align: right;\">\n",
       "      <th></th>\n",
       "      <th>Province/State</th>\n",
       "      <th>Country/Region</th>\n",
       "      <th>Lat</th>\n",
       "      <th>Long</th>\n",
       "      <th>1/22/20</th>\n",
       "      <th>1/23/20</th>\n",
       "      <th>1/24/20</th>\n",
       "      <th>1/25/20</th>\n",
       "      <th>1/26/20</th>\n",
       "      <th>1/27/20</th>\n",
       "      <th>...</th>\n",
       "      <th>10/3/20</th>\n",
       "      <th>10/4/20</th>\n",
       "      <th>10/5/20</th>\n",
       "      <th>10/6/20</th>\n",
       "      <th>10/7/20</th>\n",
       "      <th>10/8/20</th>\n",
       "      <th>10/9/20</th>\n",
       "      <th>10/10/20</th>\n",
       "      <th>10/11/20</th>\n",
       "      <th>10/12/20</th>\n",
       "    </tr>\n",
       "  </thead>\n",
       "  <tbody>\n",
       "    <tr>\n",
       "      <th>0</th>\n",
       "      <td>NaN</td>\n",
       "      <td>Afghanistan</td>\n",
       "      <td>33.93911</td>\n",
       "      <td>67.709953</td>\n",
       "      <td>0</td>\n",
       "      <td>0</td>\n",
       "      <td>0</td>\n",
       "      <td>0</td>\n",
       "      <td>0</td>\n",
       "      <td>0</td>\n",
       "      <td>...</td>\n",
       "      <td>32842</td>\n",
       "      <td>32852</td>\n",
       "      <td>32879</td>\n",
       "      <td>32977</td>\n",
       "      <td>33045</td>\n",
       "      <td>33058</td>\n",
       "      <td>33058</td>\n",
       "      <td>33064</td>\n",
       "      <td>33114</td>\n",
       "      <td>33118</td>\n",
       "    </tr>\n",
       "    <tr>\n",
       "      <th>1</th>\n",
       "      <td>NaN</td>\n",
       "      <td>Albania</td>\n",
       "      <td>41.15330</td>\n",
       "      <td>20.168300</td>\n",
       "      <td>0</td>\n",
       "      <td>0</td>\n",
       "      <td>0</td>\n",
       "      <td>0</td>\n",
       "      <td>0</td>\n",
       "      <td>0</td>\n",
       "      <td>...</td>\n",
       "      <td>8536</td>\n",
       "      <td>8675</td>\n",
       "      <td>8825</td>\n",
       "      <td>8965</td>\n",
       "      <td>9115</td>\n",
       "      <td>9215</td>\n",
       "      <td>9304</td>\n",
       "      <td>9406</td>\n",
       "      <td>9500</td>\n",
       "      <td>9585</td>\n",
       "    </tr>\n",
       "    <tr>\n",
       "      <th>2</th>\n",
       "      <td>NaN</td>\n",
       "      <td>Algeria</td>\n",
       "      <td>28.03390</td>\n",
       "      <td>1.659600</td>\n",
       "      <td>0</td>\n",
       "      <td>0</td>\n",
       "      <td>0</td>\n",
       "      <td>0</td>\n",
       "      <td>0</td>\n",
       "      <td>0</td>\n",
       "      <td>...</td>\n",
       "      <td>36482</td>\n",
       "      <td>36578</td>\n",
       "      <td>36672</td>\n",
       "      <td>36763</td>\n",
       "      <td>36857</td>\n",
       "      <td>36958</td>\n",
       "      <td>37067</td>\n",
       "      <td>37170</td>\n",
       "      <td>37170</td>\n",
       "      <td>37382</td>\n",
       "    </tr>\n",
       "    <tr>\n",
       "      <th>3</th>\n",
       "      <td>NaN</td>\n",
       "      <td>Andorra</td>\n",
       "      <td>42.50630</td>\n",
       "      <td>1.521800</td>\n",
       "      <td>0</td>\n",
       "      <td>0</td>\n",
       "      <td>0</td>\n",
       "      <td>0</td>\n",
       "      <td>0</td>\n",
       "      <td>0</td>\n",
       "      <td>...</td>\n",
       "      <td>1540</td>\n",
       "      <td>1540</td>\n",
       "      <td>1615</td>\n",
       "      <td>1615</td>\n",
       "      <td>1715</td>\n",
       "      <td>1715</td>\n",
       "      <td>1814</td>\n",
       "      <td>1814</td>\n",
       "      <td>1814</td>\n",
       "      <td>1928</td>\n",
       "    </tr>\n",
       "    <tr>\n",
       "      <th>4</th>\n",
       "      <td>NaN</td>\n",
       "      <td>Angola</td>\n",
       "      <td>-11.20270</td>\n",
       "      <td>17.873900</td>\n",
       "      <td>0</td>\n",
       "      <td>0</td>\n",
       "      <td>0</td>\n",
       "      <td>0</td>\n",
       "      <td>0</td>\n",
       "      <td>0</td>\n",
       "      <td>...</td>\n",
       "      <td>2436</td>\n",
       "      <td>2577</td>\n",
       "      <td>2591</td>\n",
       "      <td>2598</td>\n",
       "      <td>2598</td>\n",
       "      <td>2635</td>\n",
       "      <td>2685</td>\n",
       "      <td>2716</td>\n",
       "      <td>2743</td>\n",
       "      <td>2744</td>\n",
       "    </tr>\n",
       "  </tbody>\n",
       "</table>\n",
       "<p>5 rows × 269 columns</p>\n",
       "</div>"
      ],
      "text/plain": [
       "  Province/State Country/Region       Lat       Long  1/22/20  1/23/20  \\\n",
       "0            NaN    Afghanistan  33.93911  67.709953        0        0   \n",
       "1            NaN        Albania  41.15330  20.168300        0        0   \n",
       "2            NaN        Algeria  28.03390   1.659600        0        0   \n",
       "3            NaN        Andorra  42.50630   1.521800        0        0   \n",
       "4            NaN         Angola -11.20270  17.873900        0        0   \n",
       "\n",
       "   1/24/20  1/25/20  1/26/20  1/27/20  ...  10/3/20  10/4/20  10/5/20  \\\n",
       "0        0        0        0        0  ...    32842    32852    32879   \n",
       "1        0        0        0        0  ...     8536     8675     8825   \n",
       "2        0        0        0        0  ...    36482    36578    36672   \n",
       "3        0        0        0        0  ...     1540     1540     1615   \n",
       "4        0        0        0        0  ...     2436     2577     2591   \n",
       "\n",
       "   10/6/20  10/7/20  10/8/20  10/9/20  10/10/20  10/11/20  10/12/20  \n",
       "0    32977    33045    33058    33058     33064     33114     33118  \n",
       "1     8965     9115     9215     9304      9406      9500      9585  \n",
       "2    36763    36857    36958    37067     37170     37170     37382  \n",
       "3     1615     1715     1715     1814      1814      1814      1928  \n",
       "4     2598     2598     2635     2685      2716      2743      2744  \n",
       "\n",
       "[5 rows x 269 columns]"
      ]
     },
     "execution_count": 5,
     "metadata": {},
     "output_type": "execute_result"
    }
   ],
   "source": [
    "COVID_RECOVERED_URL = 'https://raw.githubusercontent.com/CSSEGISandData/COVID-19/master/csse_covid_19_data/csse_covid_19_time_series/time_series_covid19_recovered_global.csv'\n",
    "\n",
    "covid_recovered = pd.read_csv(COVID_RECOVERED_URL)\n",
    "\n",
    "print(covid_recovered.shape)\n",
    "\n",
    "covid_recovered.head()"
   ]
  },
  {
   "cell_type": "code",
   "execution_count": 6,
   "metadata": {},
   "outputs": [],
   "source": [
    "covid_confirmed[['Province/State']] = covid_confirmed[['Province/State']].fillna('')\n",
    "covid_confirmed.fillna(0, inplace=True)\n",
    "\n",
    "covid_deaths[['Province/State']] = covid_deaths[['Province/State']].fillna('')\n",
    "covid_deaths.fillna(0, inplace=True)\n",
    "\n",
    "covid_recovered[['Province/State']] = covid_recovered[['Province/State']].fillna('')\n",
    "covid_recovered.fillna(0, inplace=True)"
   ]
  },
  {
   "cell_type": "code",
   "execution_count": 7,
   "metadata": {},
   "outputs": [
    {
     "data": {
      "text/plain": [
       "0"
      ]
     },
     "execution_count": 7,
     "metadata": {},
     "output_type": "execute_result"
    }
   ],
   "source": [
    "#check if NaN gone\n",
    "covid_confirmed.isna().sum().sum()"
   ]
  },
  {
   "cell_type": "code",
   "execution_count": 8,
   "metadata": {},
   "outputs": [
    {
     "data": {
      "text/html": [
       "<div>\n",
       "<style scoped>\n",
       "    .dataframe tbody tr th:only-of-type {\n",
       "        vertical-align: middle;\n",
       "    }\n",
       "\n",
       "    .dataframe tbody tr th {\n",
       "        vertical-align: top;\n",
       "    }\n",
       "\n",
       "    .dataframe thead th {\n",
       "        text-align: right;\n",
       "    }\n",
       "</style>\n",
       "<table border=\"1\" class=\"dataframe\">\n",
       "  <thead>\n",
       "    <tr style=\"text-align: right;\">\n",
       "      <th></th>\n",
       "      <th>Province/State</th>\n",
       "      <th>Country/Region</th>\n",
       "      <th>Lat</th>\n",
       "      <th>Long</th>\n",
       "      <th>1/22/20</th>\n",
       "      <th>1/23/20</th>\n",
       "      <th>1/24/20</th>\n",
       "      <th>1/25/20</th>\n",
       "      <th>1/26/20</th>\n",
       "      <th>1/27/20</th>\n",
       "      <th>...</th>\n",
       "      <th>10/3/20</th>\n",
       "      <th>10/4/20</th>\n",
       "      <th>10/5/20</th>\n",
       "      <th>10/6/20</th>\n",
       "      <th>10/7/20</th>\n",
       "      <th>10/8/20</th>\n",
       "      <th>10/9/20</th>\n",
       "      <th>10/10/20</th>\n",
       "      <th>10/11/20</th>\n",
       "      <th>10/12/20</th>\n",
       "    </tr>\n",
       "  </thead>\n",
       "  <tbody>\n",
       "    <tr>\n",
       "      <th>171</th>\n",
       "      <td></td>\n",
       "      <td>Malaysia</td>\n",
       "      <td>4.210484</td>\n",
       "      <td>101.975766</td>\n",
       "      <td>0</td>\n",
       "      <td>0</td>\n",
       "      <td>0</td>\n",
       "      <td>3</td>\n",
       "      <td>4</td>\n",
       "      <td>4</td>\n",
       "      <td>...</td>\n",
       "      <td>12088</td>\n",
       "      <td>12381</td>\n",
       "      <td>12813</td>\n",
       "      <td>13504</td>\n",
       "      <td>13993</td>\n",
       "      <td>14368</td>\n",
       "      <td>14722</td>\n",
       "      <td>15096</td>\n",
       "      <td>15657</td>\n",
       "      <td>16220</td>\n",
       "    </tr>\n",
       "  </tbody>\n",
       "</table>\n",
       "<p>1 rows × 269 columns</p>\n",
       "</div>"
      ],
      "text/plain": [
       "    Province/State Country/Region       Lat        Long  1/22/20  1/23/20  \\\n",
       "171                      Malaysia  4.210484  101.975766        0        0   \n",
       "\n",
       "     1/24/20  1/25/20  1/26/20  1/27/20  ...  10/3/20  10/4/20  10/5/20  \\\n",
       "171        0        3        4        4  ...    12088    12381    12813   \n",
       "\n",
       "     10/6/20  10/7/20  10/8/20  10/9/20  10/10/20  10/11/20  10/12/20  \n",
       "171    13504    13993    14368    14722     15096     15657     16220  \n",
       "\n",
       "[1 rows x 269 columns]"
      ]
     },
     "execution_count": 8,
     "metadata": {},
     "output_type": "execute_result"
    }
   ],
   "source": [
    "#NL confirmed\n",
    "covid_confirmed_Mal = covid_confirmed[(covid_confirmed['Country/Region'] == 'Malaysia')]\n",
    "covid_confirmed_Mal"
   ]
  },
  {
   "cell_type": "code",
   "execution_count": 9,
   "metadata": {},
   "outputs": [
    {
     "data": {
      "text/html": [
       "<div>\n",
       "<style scoped>\n",
       "    .dataframe tbody tr th:only-of-type {\n",
       "        vertical-align: middle;\n",
       "    }\n",
       "\n",
       "    .dataframe tbody tr th {\n",
       "        vertical-align: top;\n",
       "    }\n",
       "\n",
       "    .dataframe thead th {\n",
       "        text-align: right;\n",
       "    }\n",
       "</style>\n",
       "<table border=\"1\" class=\"dataframe\">\n",
       "  <thead>\n",
       "    <tr style=\"text-align: right;\">\n",
       "      <th></th>\n",
       "      <th>Province/State</th>\n",
       "      <th>Country/Region</th>\n",
       "      <th>Lat</th>\n",
       "      <th>Long</th>\n",
       "      <th>1/22/20</th>\n",
       "      <th>1/23/20</th>\n",
       "      <th>1/24/20</th>\n",
       "      <th>1/25/20</th>\n",
       "      <th>1/26/20</th>\n",
       "      <th>1/27/20</th>\n",
       "      <th>...</th>\n",
       "      <th>10/3/20</th>\n",
       "      <th>10/4/20</th>\n",
       "      <th>10/5/20</th>\n",
       "      <th>10/6/20</th>\n",
       "      <th>10/7/20</th>\n",
       "      <th>10/8/20</th>\n",
       "      <th>10/9/20</th>\n",
       "      <th>10/10/20</th>\n",
       "      <th>10/11/20</th>\n",
       "      <th>10/12/20</th>\n",
       "    </tr>\n",
       "  </thead>\n",
       "  <tbody>\n",
       "    <tr>\n",
       "      <th>171</th>\n",
       "      <td></td>\n",
       "      <td>Malaysia</td>\n",
       "      <td>4.210484</td>\n",
       "      <td>101.975766</td>\n",
       "      <td>0</td>\n",
       "      <td>0</td>\n",
       "      <td>0</td>\n",
       "      <td>0</td>\n",
       "      <td>0</td>\n",
       "      <td>0</td>\n",
       "      <td>...</td>\n",
       "      <td>137</td>\n",
       "      <td>137</td>\n",
       "      <td>137</td>\n",
       "      <td>141</td>\n",
       "      <td>141</td>\n",
       "      <td>146</td>\n",
       "      <td>152</td>\n",
       "      <td>155</td>\n",
       "      <td>157</td>\n",
       "      <td>159</td>\n",
       "    </tr>\n",
       "  </tbody>\n",
       "</table>\n",
       "<p>1 rows × 269 columns</p>\n",
       "</div>"
      ],
      "text/plain": [
       "    Province/State Country/Region       Lat        Long  1/22/20  1/23/20  \\\n",
       "171                      Malaysia  4.210484  101.975766        0        0   \n",
       "\n",
       "     1/24/20  1/25/20  1/26/20  1/27/20  ...  10/3/20  10/4/20  10/5/20  \\\n",
       "171        0        0        0        0  ...      137      137      137   \n",
       "\n",
       "     10/6/20  10/7/20  10/8/20  10/9/20  10/10/20  10/11/20  10/12/20  \n",
       "171      141      141      146      152       155       157       159  \n",
       "\n",
       "[1 rows x 269 columns]"
      ]
     },
     "execution_count": 9,
     "metadata": {},
     "output_type": "execute_result"
    }
   ],
   "source": [
    "#NL deaths\n",
    "covid_deaths_Mal = covid_deaths[(covid_deaths['Country/Region'] == 'Malaysia')]\n",
    "covid_deaths_Mal"
   ]
  },
  {
   "cell_type": "code",
   "execution_count": 12,
   "metadata": {},
   "outputs": [
    {
     "data": {
      "text/plain": [
       "16220"
      ]
     },
     "execution_count": 12,
     "metadata": {},
     "output_type": "execute_result"
    }
   ],
   "source": [
    "#nr confiremd cases NL\n",
    "covid_confirmed_Mal_count = covid_confirmed_Mal.iloc[:, 4:].sum().max()\n",
    "covid_confirmed_Mal_count"
   ]
  },
  {
   "cell_type": "code",
   "execution_count": 13,
   "metadata": {},
   "outputs": [
    {
     "data": {
      "text/plain": [
       "159"
      ]
     },
     "execution_count": 13,
     "metadata": {},
     "output_type": "execute_result"
    }
   ],
   "source": [
    "covid_deaths_Mal_count = covid_deaths_Mal.iloc[:, 4:].sum().max()\n",
    "covid_deaths_Mal_count"
   ]
  },
  {
   "cell_type": "code",
   "execution_count": 14,
   "metadata": {},
   "outputs": [
    {
     "data": {
      "text/plain": [
       "0.009802712700369913"
      ]
     },
     "execution_count": 14,
     "metadata": {},
     "output_type": "execute_result"
    }
   ],
   "source": [
    "# percentage died compared to cases\n",
    "covid_deaths_Mal_count/covid_confirmed_Mal_count"
   ]
  },
  {
   "cell_type": "code",
   "execution_count": 15,
   "metadata": {},
   "outputs": [
    {
     "data": {
      "text/plain": [
       "10/8/20     14368\n",
       "10/9/20     14722\n",
       "10/10/20    15096\n",
       "10/11/20    15657\n",
       "10/12/20    16220\n",
       "dtype: int64"
      ]
     },
     "execution_count": 15,
     "metadata": {},
     "output_type": "execute_result"
    }
   ],
   "source": [
    "covid_Mal_confirmed = covid_confirmed_Mal.iloc[:, 4:].sum(axis=0)\n",
    "covid_Mal_confirmed.tail()"
   ]
  },
  {
   "cell_type": "code",
   "execution_count": 16,
   "metadata": {},
   "outputs": [
    {
     "data": {
      "text/plain": [
       "10/8/20     146\n",
       "10/9/20     152\n",
       "10/10/20    155\n",
       "10/11/20    157\n",
       "10/12/20    159\n",
       "dtype: int64"
      ]
     },
     "execution_count": 16,
     "metadata": {},
     "output_type": "execute_result"
    }
   ],
   "source": [
    "covid_Mal_deaths = covid_deaths_Mal.iloc[:, 4:].sum(axis=0)\n",
    "covid_Mal_deaths.tail()"
   ]
  },
  {
   "cell_type": "code",
   "execution_count": 17,
   "metadata": {},
   "outputs": [
    {
     "data": {
      "image/png": "[encoded data removed]",
      "text/plain": [
       "<Figure size 1152x432 with 1 Axes>"
      ]
     },
     "metadata": {
      "needs_background": "light"
     },
     "output_type": "display_data"
    }
   ],
   "source": [
    "fig, ax = plt.subplots(figsize=(16, 6))\n",
    "\n",
    "sns.lineplot(x=covid_Mal_confirmed.index, y=covid_Mal_confirmed, sort=False, linewidth=2)\n",
    "sns.lineplot(x=covid_Mal_deaths.index, y=covid_Mal_deaths, sort=False, linewidth=2)\n",
    "\n",
    "ax.lines[0].set_linestyle(\"--\")\n",
    "\n",
    "plt.suptitle(\"COVID-19 Mal cases over the time evolution\", fontsize=16, fontweight='bold', color='white')\n",
    "\n",
    "plt.xticks(rotation=45)\n",
    "plt.ylabel('Number of cases')\n",
    "\n",
    "ax.legend(['Confirmed', 'Deaths'])\n",
    "\n",
    "plt.show()"
   ]
  },
  {
   "cell_type": "code",
   "execution_count": 18,
   "metadata": {},
   "outputs": [
    {
     "data": {
      "image/png": "[encoded data removed]",
      "text/plain": [
       "<Figure size 1152x432 with 1 Axes>"
      ]
     },
     "metadata": {
      "needs_background": "light"
     },
     "output_type": "display_data"
    }
   ],
   "source": [
    "fig, ax = plt.subplots(figsize=(16, 6))\n",
    "ax.set(yscale=\"log\")\n",
    "ax.yaxis.set_major_formatter(ticker.FuncFormatter(lambda y, _: '{:g}'.format(y)))\n",
    "\n",
    "sns.lineplot(x = covid_Mal_confirmed.index, y = covid_Mal_confirmed, sort = False, linewidth=2)\n",
    "sns.lineplot(x = covid_Mal_deaths.index, y = covid_Mal_deaths, sort = False, linewidth=2)\n",
    "\n",
    "ax.lines[0].set_linestyle(\"--\")\n",
    "\n",
    "plt.suptitle(\"COVID-19 Mal cases over the time\", fontsize=16, fontweight='bold', color='white')\n",
    "plt.title(\"(logarithmic scale)\", color='white')\n",
    "\n",
    "plt.xticks(rotation=45)\n",
    "plt.ylabel('Number of cases')\n",
    "\n",
    "ax.legend(['Confirmed', 'Deaths'])\n",
    "\n",
    "plt.show()"
   ]
  },
  {
   "cell_type": "code",
   "execution_count": 25,
   "metadata": {},
   "outputs": [
    {
     "data": {
      "text/plain": [
       "15657"
      ]
     },
     "execution_count": 25,
     "metadata": {},
     "output_type": "execute_result"
    }
   ],
   "source": [
    "#total cases Malon 10-11\n",
    "covid_Mal_confirmed['10/11/20']"
   ]
  },
  {
   "cell_type": "code",
   "execution_count": 19,
   "metadata": {},
   "outputs": [],
   "source": [
    "#covid_confirmed_NL last 6 weeks\n",
    "covid_Mal_confirmed_wk6 = covid_Mal_confirmed['10/11/20'] - covid_Mal_confirmed['10/4/20']\n",
    "covid_Mal_confirmed_wk5 = covid_Mal_confirmed['10/4/20'] - covid_Mal_confirmed['9/27/20']\n",
    "covid_Mal_confirmed_wk4 = covid_Mal_confirmed['9/27/20'] - covid_Mal_confirmed['9/20/20']\n",
    "covid_Mal_confirmed_wk3 = covid_Mal_confirmed['9/20/20'] - covid_Mal_confirmed['9/13/20']\n",
    "covid_Mal_confirmed_wk2 = covid_Mal_confirmed['9/13/20'] - covid_Mal_confirmed['9/6/20']\n",
    "covid_Mal_confirmed_wk1 = covid_Mal_confirmed['9/6/20'] - covid_Mal_confirmed['8/30/20']"
   ]
  },
  {
   "cell_type": "code",
   "execution_count": 20,
   "metadata": {},
   "outputs": [
    {
     "name": "stdout",
     "output_type": "stream",
     "text": [
      "Covid cases Malaysia increase week 6: 3276\n",
      "Covid cases Malaysia increase week 5: 1462\n",
      "Covid cases Malaysia increase week 4: 700\n",
      "Covid cases Malaysia increase week 3: 304\n",
      "Covid cases Malaysia increase week 2: 518\n",
      "Covid cases Malaysia increase week 1: 63\n"
     ]
    }
   ],
   "source": [
    "print('Covid cases Malaysia increase week 6: ' + str(covid_Mal_confirmed_wk6))\n",
    "print('Covid cases Malaysia increase week 5: ' + str(covid_Mal_confirmed_wk5))\n",
    "print('Covid cases Malaysia increase week 4: ' + str(covid_Mal_confirmed_wk4))\n",
    "print('Covid cases Malaysia increase week 3: ' + str(covid_Mal_confirmed_wk3))\n",
    "print('Covid cases Malaysia increase week 2: ' + str(covid_Mal_confirmed_wk2))\n",
    "print('Covid cases Malaysia increase week 1: ' + str(covid_Mal_confirmed_wk1))"
   ]
  },
  {
   "cell_type": "code",
   "execution_count": 24,
   "metadata": {},
   "outputs": [
    {
     "name": "stdout",
     "output_type": "stream",
     "text": [
      "Increase from week 5 to 6: 2.24\n",
      "Increase from week 4 to 5: 2.09\n",
      "Increase from week 3 to 4: 2.3\n",
      "Increase from week 2 to 3: 0.59\n",
      "Increase from week 1 to 2: 8.22\n"
     ]
    }
   ],
   "source": [
    "print('Increase from week 5 to 6: ' + str(round(covid_Mal_confirmed_wk6/covid_Mal_confirmed_wk5,2)))\n",
    "print('Increase from week 4 to 5: ' + str(round(covid_Mal_confirmed_wk5/covid_Mal_confirmed_wk4,2)))\n",
    "print('Increase from week 3 to 4: ' + str(round(covid_Mal_confirmed_wk4/covid_Mal_confirmed_wk3,2)))\n",
    "print('Increase from week 2 to 3: ' + str(round(covid_Mal_confirmed_wk3/covid_Mal_confirmed_wk2,2)))\n",
    "print('Increase from week 1 to 2: ' + str(round(covid_Mal_confirmed_wk2/covid_Mal_confirmed_wk1,2)))"
   ]
  },
  {
   "cell_type": "code",
   "execution_count": 21,
   "metadata": {},
   "outputs": [],
   "source": [
    "#covid_confirmed_NL last 6 weeks\n",
    "covid_Mal_deaths_wk6 = covid_Mal_deaths['10/11/20'] - covid_Mal_deaths['10/4/20']\n",
    "covid_Mal_deaths_wk5 = covid_Mal_deaths['10/4/20'] - covid_Mal_deaths['9/27/20']\n",
    "covid_Mal_deaths_wk4 = covid_Mal_deaths['9/27/20'] - covid_Mal_deaths['9/20/20']\n",
    "covid_Mal_deaths_wk3 = covid_Mal_deaths['9/20/20'] - covid_Mal_deaths['9/13/20']\n",
    "covid_Mal_deaths_wk2 = covid_Mal_deaths['9/13/20'] - covid_Mal_deaths['9/6/20']\n",
    "covid_Mal_deaths_wk1 = covid_Mal_deaths['9/6/20'] - covid_Mal_deaths['8/30/20']"
   ]
  },
  {
   "cell_type": "code",
   "execution_count": 22,
   "metadata": {},
   "outputs": [
    {
     "name": "stdout",
     "output_type": "stream",
     "text": [
      "Covid deaths Malaysia increase week 6: 20\n",
      "Covid deaths Malaysia increase week 5: 3\n",
      "Covid deaths Malaysial increase week 4: 4\n",
      "Covid deaths Malaysia increase week 3: 2\n",
      "Covid deaths Malaysia increase week 2: 0\n",
      "Covid deaths Malaysia increase week 1: 2\n"
     ]
    }
   ],
   "source": [
    "print('Covid deaths Malaysia increase week 6: ' + str(covid_Mal_deaths_wk6))\n",
    "print('Covid deaths Malaysia increase week 5: ' + str(covid_Mal_deaths_wk5))\n",
    "print('Covid deaths Malaysial increase week 4: ' + str(covid_Mal_deaths_wk4))\n",
    "print('Covid deaths Malaysia increase week 3: ' + str(covid_Mal_deaths_wk3))\n",
    "print('Covid deaths Malaysia increase week 2: ' + str(covid_Mal_deaths_wk2))\n",
    "print('Covid deaths Malaysia increase week 1: ' + str(covid_Mal_deaths_wk1))"
   ]
  }
 ],
 "metadata": {
  "kernelspec": {
   "display_name": "Python 3",
   "language": "python",
   "name": "python3"
  },
  "language_info": {
   "codemirror_mode": {
    "name": "ipython",
    "version": 3
   },
   "file_extension": ".py",
   "mimetype": "text/x-python",
   "name": "python",
   "nbconvert_exporter": "python",
   "pygments_lexer": "ipython3",
   "version": "3.8.5"
  }
 },
 "nbformat": 4,
 "nbformat_minor": 4
}
