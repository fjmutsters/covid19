{
 "cells": [
  {
   "cell_type": "markdown",
   "metadata": {},
   "source": [
    "COVID19- TIME SERIES DATA- ANALYSIS\n",
    "\n",
    "The main source of data for this analysis of ongoing COVID19 pandemic is the dataset prepared by John Hopkins UNiversity(JHU).\n",
    "The time-series data in particular can be found here https://github.com/CSSEGISandData/COVID-19/tree/master/csse_covid_19_data/csse_covid_19_time_series"
   ]
  },
  {
   "cell_type": "code",
   "execution_count": 1,
   "metadata": {},
   "outputs": [
    {
     "data": {
      "text/html": [
       "        <script type=\"text/javascript\">\n",
       "        window.PlotlyConfig = {MathJaxConfig: 'local'};\n",
       "        if (window.MathJax) {MathJax.Hub.Config({SVG: {font: \"STIX-Web\"}});}\n",
       "        if (typeof require !== 'undefined') {\n",
       "        require.undef(\"plotly\");\n",
       "        requirejs.config({\n",
       "            paths: {\n",
       "                'plotly': ['https://cdn.plot.ly/plotly-latest.min']\n",
       "            }\n",
       "        });\n",
       "        require(['plotly'], function(Plotly) {\n",
       "            window._Plotly = Plotly;\n",
       "        });\n",
       "        }\n",
       "        </script>\n",
       "        "
      ]
     },
     "metadata": {},
     "output_type": "display_data"
    }
   ],
   "source": [
    "#import necessary libraries\n",
    "\n",
    "import numpy as np\n",
    "import pandas as pd\n",
    "import matplotlib.pyplot as plt\n",
    "import matplotlib.ticker as ticker\n",
    "import seaborn as sns\n",
    "from plotly.offline import iplot, init_notebook_mode\n",
    "from scipy import stats\n",
    "from datetime import datetime \n",
    "import plotly.express as px\n",
    "import cufflinks as cf\n",
    "cf.go_offline()\n",
    "cf.set_config_file(offline=False, world_readable=True)\n",
    "%matplotlib inline"
   ]
  },
  {
   "cell_type": "code",
   "execution_count": 2,
   "metadata": {},
   "outputs": [
    {
     "name": "stdout",
     "output_type": "stream",
     "text": [
      "(267, 272)\n"
     ]
    },
    {
     "data": {
      "text/html": [
       "<div>\n",
       "<style scoped>\n",
       "    .dataframe tbody tr th:only-of-type {\n",
       "        vertical-align: middle;\n",
       "    }\n",
       "\n",
       "    .dataframe tbody tr th {\n",
       "        vertical-align: top;\n",
       "    }\n",
       "\n",
       "    .dataframe thead th {\n",
       "        text-align: right;\n",
       "    }\n",
       "</style>\n",
       "<table border=\"1\" class=\"dataframe\">\n",
       "  <thead>\n",
       "    <tr style=\"text-align: right;\">\n",
       "      <th></th>\n",
       "      <th>Province/State</th>\n",
       "      <th>Country</th>\n",
       "      <th>Lat</th>\n",
       "      <th>Long</th>\n",
       "      <th>1/22/20</th>\n",
       "      <th>1/23/20</th>\n",
       "      <th>1/24/20</th>\n",
       "      <th>1/25/20</th>\n",
       "      <th>1/26/20</th>\n",
       "      <th>1/27/20</th>\n",
       "      <th>...</th>\n",
       "      <th>10/6/20</th>\n",
       "      <th>10/7/20</th>\n",
       "      <th>10/8/20</th>\n",
       "      <th>10/9/20</th>\n",
       "      <th>10/10/20</th>\n",
       "      <th>10/11/20</th>\n",
       "      <th>10/12/20</th>\n",
       "      <th>10/13/20</th>\n",
       "      <th>10/14/20</th>\n",
       "      <th>10/15/20</th>\n",
       "    </tr>\n",
       "  </thead>\n",
       "  <tbody>\n",
       "    <tr>\n",
       "      <th>0</th>\n",
       "      <td>NaN</td>\n",
       "      <td>Afghanistan</td>\n",
       "      <td>33.93911</td>\n",
       "      <td>67.709953</td>\n",
       "      <td>0</td>\n",
       "      <td>0</td>\n",
       "      <td>0</td>\n",
       "      <td>0</td>\n",
       "      <td>0</td>\n",
       "      <td>0</td>\n",
       "      <td>...</td>\n",
       "      <td>39486</td>\n",
       "      <td>39548</td>\n",
       "      <td>39616</td>\n",
       "      <td>39693</td>\n",
       "      <td>39703</td>\n",
       "      <td>39799</td>\n",
       "      <td>39870</td>\n",
       "      <td>39928</td>\n",
       "      <td>39994</td>\n",
       "      <td>40026</td>\n",
       "    </tr>\n",
       "    <tr>\n",
       "      <th>1</th>\n",
       "      <td>NaN</td>\n",
       "      <td>Albania</td>\n",
       "      <td>41.15330</td>\n",
       "      <td>20.168300</td>\n",
       "      <td>0</td>\n",
       "      <td>0</td>\n",
       "      <td>0</td>\n",
       "      <td>0</td>\n",
       "      <td>0</td>\n",
       "      <td>0</td>\n",
       "      <td>...</td>\n",
       "      <td>14568</td>\n",
       "      <td>14730</td>\n",
       "      <td>14899</td>\n",
       "      <td>15066</td>\n",
       "      <td>15231</td>\n",
       "      <td>15399</td>\n",
       "      <td>15570</td>\n",
       "      <td>15752</td>\n",
       "      <td>15955</td>\n",
       "      <td>16212</td>\n",
       "    </tr>\n",
       "    <tr>\n",
       "      <th>2</th>\n",
       "      <td>NaN</td>\n",
       "      <td>Algeria</td>\n",
       "      <td>28.03390</td>\n",
       "      <td>1.659600</td>\n",
       "      <td>0</td>\n",
       "      <td>0</td>\n",
       "      <td>0</td>\n",
       "      <td>0</td>\n",
       "      <td>0</td>\n",
       "      <td>0</td>\n",
       "      <td>...</td>\n",
       "      <td>52399</td>\n",
       "      <td>52520</td>\n",
       "      <td>52658</td>\n",
       "      <td>52804</td>\n",
       "      <td>52940</td>\n",
       "      <td>53072</td>\n",
       "      <td>53325</td>\n",
       "      <td>53399</td>\n",
       "      <td>53584</td>\n",
       "      <td>53777</td>\n",
       "    </tr>\n",
       "    <tr>\n",
       "      <th>3</th>\n",
       "      <td>NaN</td>\n",
       "      <td>Andorra</td>\n",
       "      <td>42.50630</td>\n",
       "      <td>1.521800</td>\n",
       "      <td>0</td>\n",
       "      <td>0</td>\n",
       "      <td>0</td>\n",
       "      <td>0</td>\n",
       "      <td>0</td>\n",
       "      <td>0</td>\n",
       "      <td>...</td>\n",
       "      <td>2370</td>\n",
       "      <td>2568</td>\n",
       "      <td>2568</td>\n",
       "      <td>2696</td>\n",
       "      <td>2696</td>\n",
       "      <td>2696</td>\n",
       "      <td>2995</td>\n",
       "      <td>2995</td>\n",
       "      <td>3190</td>\n",
       "      <td>3190</td>\n",
       "    </tr>\n",
       "    <tr>\n",
       "      <th>4</th>\n",
       "      <td>NaN</td>\n",
       "      <td>Angola</td>\n",
       "      <td>-11.20270</td>\n",
       "      <td>17.873900</td>\n",
       "      <td>0</td>\n",
       "      <td>0</td>\n",
       "      <td>0</td>\n",
       "      <td>0</td>\n",
       "      <td>0</td>\n",
       "      <td>0</td>\n",
       "      <td>...</td>\n",
       "      <td>5725</td>\n",
       "      <td>5725</td>\n",
       "      <td>5958</td>\n",
       "      <td>6031</td>\n",
       "      <td>6246</td>\n",
       "      <td>6366</td>\n",
       "      <td>6488</td>\n",
       "      <td>6680</td>\n",
       "      <td>6846</td>\n",
       "      <td>7096</td>\n",
       "    </tr>\n",
       "  </tbody>\n",
       "</table>\n",
       "<p>5 rows × 272 columns</p>\n",
       "</div>"
      ],
      "text/plain": [
       "  Province/State      Country       Lat       Long  1/22/20  1/23/20  1/24/20  \\\n",
       "0            NaN  Afghanistan  33.93911  67.709953        0        0        0   \n",
       "1            NaN      Albania  41.15330  20.168300        0        0        0   \n",
       "2            NaN      Algeria  28.03390   1.659600        0        0        0   \n",
       "3            NaN      Andorra  42.50630   1.521800        0        0        0   \n",
       "4            NaN       Angola -11.20270  17.873900        0        0        0   \n",
       "\n",
       "   1/25/20  1/26/20  1/27/20  ...  10/6/20  10/7/20  10/8/20  10/9/20  \\\n",
       "0        0        0        0  ...    39486    39548    39616    39693   \n",
       "1        0        0        0  ...    14568    14730    14899    15066   \n",
       "2        0        0        0  ...    52399    52520    52658    52804   \n",
       "3        0        0        0  ...     2370     2568     2568     2696   \n",
       "4        0        0        0  ...     5725     5725     5958     6031   \n",
       "\n",
       "   10/10/20  10/11/20  10/12/20  10/13/20  10/14/20  10/15/20  \n",
       "0     39703     39799     39870     39928     39994     40026  \n",
       "1     15231     15399     15570     15752     15955     16212  \n",
       "2     52940     53072     53325     53399     53584     53777  \n",
       "3      2696      2696      2995      2995      3190      3190  \n",
       "4      6246      6366      6488      6680      6846      7096  \n",
       "\n",
       "[5 rows x 272 columns]"
      ]
     },
     "execution_count": 2,
     "metadata": {},
     "output_type": "execute_result"
    }
   ],
   "source": [
    "#Import time series data for confirmed cases\n",
    "\n",
    "COVID_CONFIRMED_URL = 'https://raw.githubusercontent.com/CSSEGISandData/COVID-19/master/csse_covid_19_data/csse_covid_19_time_series/time_series_covid19_confirmed_global.csv'\n",
    "\n",
    "covid_confirmed = pd.read_csv(COVID_CONFIRMED_URL)\n",
    "\n",
    "print(covid_confirmed.shape)\n",
    "\n",
    "covid_confirmed.rename(columns={'Country/Region':'Country'}, inplace=True)\n",
    "\n",
    "covid_confirmed.head()\n"
   ]
  },
  {
   "cell_type": "code",
   "execution_count": 3,
   "metadata": {},
   "outputs": [
    {
     "data": {
      "text/plain": [
       "Index(['Province/State', 'Country', 'Lat', 'Long', '1/22/20', '1/23/20',\n",
       "       '1/24/20', '1/25/20', '1/26/20', '1/27/20',\n",
       "       ...\n",
       "       '10/6/20', '10/7/20', '10/8/20', '10/9/20', '10/10/20', '10/11/20',\n",
       "       '10/12/20', '10/13/20', '10/14/20', '10/15/20'],\n",
       "      dtype='object', length=272)"
      ]
     },
     "execution_count": 3,
     "metadata": {},
     "output_type": "execute_result"
    }
   ],
   "source": [
    "covid_confirmed.columns"
   ]
  },
  {
   "cell_type": "code",
   "execution_count": 4,
   "metadata": {},
   "outputs": [
    {
     "name": "stdout",
     "output_type": "stream",
     "text": [
      "(267, 272)\n"
     ]
    },
    {
     "data": {
      "text/html": [
       "<div>\n",
       "<style scoped>\n",
       "    .dataframe tbody tr th:only-of-type {\n",
       "        vertical-align: middle;\n",
       "    }\n",
       "\n",
       "    .dataframe tbody tr th {\n",
       "        vertical-align: top;\n",
       "    }\n",
       "\n",
       "    .dataframe thead th {\n",
       "        text-align: right;\n",
       "    }\n",
       "</style>\n",
       "<table border=\"1\" class=\"dataframe\">\n",
       "  <thead>\n",
       "    <tr style=\"text-align: right;\">\n",
       "      <th></th>\n",
       "      <th>Province/State</th>\n",
       "      <th>Country</th>\n",
       "      <th>Lat</th>\n",
       "      <th>Long</th>\n",
       "      <th>1/22/20</th>\n",
       "      <th>1/23/20</th>\n",
       "      <th>1/24/20</th>\n",
       "      <th>1/25/20</th>\n",
       "      <th>1/26/20</th>\n",
       "      <th>1/27/20</th>\n",
       "      <th>...</th>\n",
       "      <th>10/6/20</th>\n",
       "      <th>10/7/20</th>\n",
       "      <th>10/8/20</th>\n",
       "      <th>10/9/20</th>\n",
       "      <th>10/10/20</th>\n",
       "      <th>10/11/20</th>\n",
       "      <th>10/12/20</th>\n",
       "      <th>10/13/20</th>\n",
       "      <th>10/14/20</th>\n",
       "      <th>10/15/20</th>\n",
       "    </tr>\n",
       "  </thead>\n",
       "  <tbody>\n",
       "    <tr>\n",
       "      <th>0</th>\n",
       "      <td>NaN</td>\n",
       "      <td>Afghanistan</td>\n",
       "      <td>33.93911</td>\n",
       "      <td>67.709953</td>\n",
       "      <td>0</td>\n",
       "      <td>0</td>\n",
       "      <td>0</td>\n",
       "      <td>0</td>\n",
       "      <td>0</td>\n",
       "      <td>0</td>\n",
       "      <td>...</td>\n",
       "      <td>1467</td>\n",
       "      <td>1469</td>\n",
       "      <td>1470</td>\n",
       "      <td>1472</td>\n",
       "      <td>1473</td>\n",
       "      <td>1477</td>\n",
       "      <td>1479</td>\n",
       "      <td>1480</td>\n",
       "      <td>1481</td>\n",
       "      <td>1481</td>\n",
       "    </tr>\n",
       "    <tr>\n",
       "      <th>1</th>\n",
       "      <td>NaN</td>\n",
       "      <td>Albania</td>\n",
       "      <td>41.15330</td>\n",
       "      <td>20.168300</td>\n",
       "      <td>0</td>\n",
       "      <td>0</td>\n",
       "      <td>0</td>\n",
       "      <td>0</td>\n",
       "      <td>0</td>\n",
       "      <td>0</td>\n",
       "      <td>...</td>\n",
       "      <td>403</td>\n",
       "      <td>407</td>\n",
       "      <td>411</td>\n",
       "      <td>413</td>\n",
       "      <td>416</td>\n",
       "      <td>420</td>\n",
       "      <td>424</td>\n",
       "      <td>429</td>\n",
       "      <td>434</td>\n",
       "      <td>439</td>\n",
       "    </tr>\n",
       "    <tr>\n",
       "      <th>2</th>\n",
       "      <td>NaN</td>\n",
       "      <td>Algeria</td>\n",
       "      <td>28.03390</td>\n",
       "      <td>1.659600</td>\n",
       "      <td>0</td>\n",
       "      <td>0</td>\n",
       "      <td>0</td>\n",
       "      <td>0</td>\n",
       "      <td>0</td>\n",
       "      <td>0</td>\n",
       "      <td>...</td>\n",
       "      <td>1768</td>\n",
       "      <td>1771</td>\n",
       "      <td>1783</td>\n",
       "      <td>1789</td>\n",
       "      <td>1795</td>\n",
       "      <td>1801</td>\n",
       "      <td>1809</td>\n",
       "      <td>1818</td>\n",
       "      <td>1827</td>\n",
       "      <td>1827</td>\n",
       "    </tr>\n",
       "    <tr>\n",
       "      <th>3</th>\n",
       "      <td>NaN</td>\n",
       "      <td>Andorra</td>\n",
       "      <td>42.50630</td>\n",
       "      <td>1.521800</td>\n",
       "      <td>0</td>\n",
       "      <td>0</td>\n",
       "      <td>0</td>\n",
       "      <td>0</td>\n",
       "      <td>0</td>\n",
       "      <td>0</td>\n",
       "      <td>...</td>\n",
       "      <td>53</td>\n",
       "      <td>53</td>\n",
       "      <td>54</td>\n",
       "      <td>55</td>\n",
       "      <td>55</td>\n",
       "      <td>55</td>\n",
       "      <td>57</td>\n",
       "      <td>57</td>\n",
       "      <td>59</td>\n",
       "      <td>59</td>\n",
       "    </tr>\n",
       "    <tr>\n",
       "      <th>4</th>\n",
       "      <td>NaN</td>\n",
       "      <td>Angola</td>\n",
       "      <td>-11.20270</td>\n",
       "      <td>17.873900</td>\n",
       "      <td>0</td>\n",
       "      <td>0</td>\n",
       "      <td>0</td>\n",
       "      <td>0</td>\n",
       "      <td>0</td>\n",
       "      <td>0</td>\n",
       "      <td>...</td>\n",
       "      <td>211</td>\n",
       "      <td>211</td>\n",
       "      <td>208</td>\n",
       "      <td>212</td>\n",
       "      <td>218</td>\n",
       "      <td>218</td>\n",
       "      <td>219</td>\n",
       "      <td>222</td>\n",
       "      <td>227</td>\n",
       "      <td>228</td>\n",
       "    </tr>\n",
       "  </tbody>\n",
       "</table>\n",
       "<p>5 rows × 272 columns</p>\n",
       "</div>"
      ],
      "text/plain": [
       "  Province/State      Country       Lat       Long  1/22/20  1/23/20  1/24/20  \\\n",
       "0            NaN  Afghanistan  33.93911  67.709953        0        0        0   \n",
       "1            NaN      Albania  41.15330  20.168300        0        0        0   \n",
       "2            NaN      Algeria  28.03390   1.659600        0        0        0   \n",
       "3            NaN      Andorra  42.50630   1.521800        0        0        0   \n",
       "4            NaN       Angola -11.20270  17.873900        0        0        0   \n",
       "\n",
       "   1/25/20  1/26/20  1/27/20  ...  10/6/20  10/7/20  10/8/20  10/9/20  \\\n",
       "0        0        0        0  ...     1467     1469     1470     1472   \n",
       "1        0        0        0  ...      403      407      411      413   \n",
       "2        0        0        0  ...     1768     1771     1783     1789   \n",
       "3        0        0        0  ...       53       53       54       55   \n",
       "4        0        0        0  ...      211      211      208      212   \n",
       "\n",
       "   10/10/20  10/11/20  10/12/20  10/13/20  10/14/20  10/15/20  \n",
       "0      1473      1477      1479      1480      1481      1481  \n",
       "1       416       420       424       429       434       439  \n",
       "2      1795      1801      1809      1818      1827      1827  \n",
       "3        55        55        57        57        59        59  \n",
       "4       218       218       219       222       227       228  \n",
       "\n",
       "[5 rows x 272 columns]"
      ]
     },
     "execution_count": 4,
     "metadata": {},
     "output_type": "execute_result"
    }
   ],
   "source": [
    "#Import time series data for death cases\n",
    "\n",
    "COVID_DEATHS_URL = 'https://raw.githubusercontent.com/CSSEGISandData/COVID-19/master/csse_covid_19_data/csse_covid_19_time_series/time_series_covid19_deaths_global.csv'\n",
    "\n",
    "covid_deaths = pd.read_csv(COVID_DEATHS_URL)\n",
    "\n",
    "print(covid_confirmed.shape)\n",
    "\n",
    "covid_deaths.rename(columns={'Country/Region':'Country'}, inplace=True)\n",
    "\n",
    "covid_deaths.head()"
   ]
  },
  {
   "cell_type": "code",
   "execution_count": 5,
   "metadata": {},
   "outputs": [
    {
     "name": "stdout",
     "output_type": "stream",
     "text": [
      "(254, 272)\n"
     ]
    },
    {
     "data": {
      "text/html": [
       "<div>\n",
       "<style scoped>\n",
       "    .dataframe tbody tr th:only-of-type {\n",
       "        vertical-align: middle;\n",
       "    }\n",
       "\n",
       "    .dataframe tbody tr th {\n",
       "        vertical-align: top;\n",
       "    }\n",
       "\n",
       "    .dataframe thead th {\n",
       "        text-align: right;\n",
       "    }\n",
       "</style>\n",
       "<table border=\"1\" class=\"dataframe\">\n",
       "  <thead>\n",
       "    <tr style=\"text-align: right;\">\n",
       "      <th></th>\n",
       "      <th>Province/State</th>\n",
       "      <th>Country</th>\n",
       "      <th>Lat</th>\n",
       "      <th>Long</th>\n",
       "      <th>1/22/20</th>\n",
       "      <th>1/23/20</th>\n",
       "      <th>1/24/20</th>\n",
       "      <th>1/25/20</th>\n",
       "      <th>1/26/20</th>\n",
       "      <th>1/27/20</th>\n",
       "      <th>...</th>\n",
       "      <th>10/6/20</th>\n",
       "      <th>10/7/20</th>\n",
       "      <th>10/8/20</th>\n",
       "      <th>10/9/20</th>\n",
       "      <th>10/10/20</th>\n",
       "      <th>10/11/20</th>\n",
       "      <th>10/12/20</th>\n",
       "      <th>10/13/20</th>\n",
       "      <th>10/14/20</th>\n",
       "      <th>10/15/20</th>\n",
       "    </tr>\n",
       "  </thead>\n",
       "  <tbody>\n",
       "    <tr>\n",
       "      <th>0</th>\n",
       "      <td>NaN</td>\n",
       "      <td>Afghanistan</td>\n",
       "      <td>33.93911</td>\n",
       "      <td>67.709953</td>\n",
       "      <td>0</td>\n",
       "      <td>0</td>\n",
       "      <td>0</td>\n",
       "      <td>0</td>\n",
       "      <td>0</td>\n",
       "      <td>0</td>\n",
       "      <td>...</td>\n",
       "      <td>32977</td>\n",
       "      <td>33045</td>\n",
       "      <td>33058</td>\n",
       "      <td>33058</td>\n",
       "      <td>33064</td>\n",
       "      <td>33114</td>\n",
       "      <td>33118</td>\n",
       "      <td>33308</td>\n",
       "      <td>33354</td>\n",
       "      <td>33447</td>\n",
       "    </tr>\n",
       "    <tr>\n",
       "      <th>1</th>\n",
       "      <td>NaN</td>\n",
       "      <td>Albania</td>\n",
       "      <td>41.15330</td>\n",
       "      <td>20.168300</td>\n",
       "      <td>0</td>\n",
       "      <td>0</td>\n",
       "      <td>0</td>\n",
       "      <td>0</td>\n",
       "      <td>0</td>\n",
       "      <td>0</td>\n",
       "      <td>...</td>\n",
       "      <td>8965</td>\n",
       "      <td>9115</td>\n",
       "      <td>9215</td>\n",
       "      <td>9304</td>\n",
       "      <td>9406</td>\n",
       "      <td>9500</td>\n",
       "      <td>9585</td>\n",
       "      <td>9675</td>\n",
       "      <td>9762</td>\n",
       "      <td>9864</td>\n",
       "    </tr>\n",
       "    <tr>\n",
       "      <th>2</th>\n",
       "      <td>NaN</td>\n",
       "      <td>Algeria</td>\n",
       "      <td>28.03390</td>\n",
       "      <td>1.659600</td>\n",
       "      <td>0</td>\n",
       "      <td>0</td>\n",
       "      <td>0</td>\n",
       "      <td>0</td>\n",
       "      <td>0</td>\n",
       "      <td>0</td>\n",
       "      <td>...</td>\n",
       "      <td>36763</td>\n",
       "      <td>36857</td>\n",
       "      <td>36958</td>\n",
       "      <td>37067</td>\n",
       "      <td>37170</td>\n",
       "      <td>37170</td>\n",
       "      <td>37382</td>\n",
       "      <td>37492</td>\n",
       "      <td>37603</td>\n",
       "      <td>37603</td>\n",
       "    </tr>\n",
       "    <tr>\n",
       "      <th>3</th>\n",
       "      <td>NaN</td>\n",
       "      <td>Andorra</td>\n",
       "      <td>42.50630</td>\n",
       "      <td>1.521800</td>\n",
       "      <td>0</td>\n",
       "      <td>0</td>\n",
       "      <td>0</td>\n",
       "      <td>0</td>\n",
       "      <td>0</td>\n",
       "      <td>0</td>\n",
       "      <td>...</td>\n",
       "      <td>1615</td>\n",
       "      <td>1715</td>\n",
       "      <td>1715</td>\n",
       "      <td>1814</td>\n",
       "      <td>1814</td>\n",
       "      <td>1814</td>\n",
       "      <td>1928</td>\n",
       "      <td>1928</td>\n",
       "      <td>2011</td>\n",
       "      <td>2011</td>\n",
       "    </tr>\n",
       "    <tr>\n",
       "      <th>4</th>\n",
       "      <td>NaN</td>\n",
       "      <td>Angola</td>\n",
       "      <td>-11.20270</td>\n",
       "      <td>17.873900</td>\n",
       "      <td>0</td>\n",
       "      <td>0</td>\n",
       "      <td>0</td>\n",
       "      <td>0</td>\n",
       "      <td>0</td>\n",
       "      <td>0</td>\n",
       "      <td>...</td>\n",
       "      <td>2598</td>\n",
       "      <td>2598</td>\n",
       "      <td>2635</td>\n",
       "      <td>2685</td>\n",
       "      <td>2716</td>\n",
       "      <td>2743</td>\n",
       "      <td>2744</td>\n",
       "      <td>2761</td>\n",
       "      <td>2801</td>\n",
       "      <td>2928</td>\n",
       "    </tr>\n",
       "  </tbody>\n",
       "</table>\n",
       "<p>5 rows × 272 columns</p>\n",
       "</div>"
      ],
      "text/plain": [
       "  Province/State      Country       Lat       Long  1/22/20  1/23/20  1/24/20  \\\n",
       "0            NaN  Afghanistan  33.93911  67.709953        0        0        0   \n",
       "1            NaN      Albania  41.15330  20.168300        0        0        0   \n",
       "2            NaN      Algeria  28.03390   1.659600        0        0        0   \n",
       "3            NaN      Andorra  42.50630   1.521800        0        0        0   \n",
       "4            NaN       Angola -11.20270  17.873900        0        0        0   \n",
       "\n",
       "   1/25/20  1/26/20  1/27/20  ...  10/6/20  10/7/20  10/8/20  10/9/20  \\\n",
       "0        0        0        0  ...    32977    33045    33058    33058   \n",
       "1        0        0        0  ...     8965     9115     9215     9304   \n",
       "2        0        0        0  ...    36763    36857    36958    37067   \n",
       "3        0        0        0  ...     1615     1715     1715     1814   \n",
       "4        0        0        0  ...     2598     2598     2635     2685   \n",
       "\n",
       "   10/10/20  10/11/20  10/12/20  10/13/20  10/14/20  10/15/20  \n",
       "0     33064     33114     33118     33308     33354     33447  \n",
       "1      9406      9500      9585      9675      9762      9864  \n",
       "2     37170     37170     37382     37492     37603     37603  \n",
       "3      1814      1814      1928      1928      2011      2011  \n",
       "4      2716      2743      2744      2761      2801      2928  \n",
       "\n",
       "[5 rows x 272 columns]"
      ]
     },
     "execution_count": 5,
     "metadata": {},
     "output_type": "execute_result"
    }
   ],
   "source": [
    "COVID_RECOVERED_URL = 'https://raw.githubusercontent.com/CSSEGISandData/COVID-19/master/csse_covid_19_data/csse_covid_19_time_series/time_series_covid19_recovered_global.csv'\n",
    "\n",
    "covid_recovered = pd.read_csv(COVID_RECOVERED_URL)\n",
    "\n",
    "print(covid_recovered.shape)\n",
    "\n",
    "covid_recovered.rename(columns={'Country/Region':'Country'}, inplace=True)\n",
    "\n",
    "covid_recovered.head()"
   ]
  },
  {
   "cell_type": "code",
   "execution_count": 6,
   "metadata": {},
   "outputs": [],
   "source": [
    "#Dropping lat and long - unused columns , Filling spaces for null values of Province/State column\n",
    "\n",
    "covid_confirmed[['Province/State']] = covid_confirmed[['Province/State']].fillna('')\n",
    "covid_confirmed.fillna(0, inplace=True)"
   ]
  },
  {
   "cell_type": "markdown",
   "metadata": {},
   "source": [
    "-----------------------------------------------COVID-INDIA-SWEDEN-ANALYSIS-----------------------------------------------------"
   ]
  },
  {
   "cell_type": "code",
   "execution_count": 7,
   "metadata": {},
   "outputs": [
    {
     "data": {
      "text/html": [
       "<div>\n",
       "<style scoped>\n",
       "    .dataframe tbody tr th:only-of-type {\n",
       "        vertical-align: middle;\n",
       "    }\n",
       "\n",
       "    .dataframe tbody tr th {\n",
       "        vertical-align: top;\n",
       "    }\n",
       "\n",
       "    .dataframe thead th {\n",
       "        text-align: right;\n",
       "    }\n",
       "</style>\n",
       "<table border=\"1\" class=\"dataframe\">\n",
       "  <thead>\n",
       "    <tr style=\"text-align: right;\">\n",
       "      <th></th>\n",
       "      <th>Province/State</th>\n",
       "      <th>Country</th>\n",
       "      <th>8/31/20</th>\n",
       "      <th>9/1/20</th>\n",
       "      <th>9/2/20</th>\n",
       "      <th>9/3/20</th>\n",
       "      <th>9/4/20</th>\n",
       "      <th>9/5/20</th>\n",
       "      <th>9/6/20</th>\n",
       "      <th>9/7/20</th>\n",
       "      <th>...</th>\n",
       "      <th>10/6/20</th>\n",
       "      <th>10/7/20</th>\n",
       "      <th>10/8/20</th>\n",
       "      <th>10/9/20</th>\n",
       "      <th>10/10/20</th>\n",
       "      <th>10/11/20</th>\n",
       "      <th>10/12/20</th>\n",
       "      <th>10/13/20</th>\n",
       "      <th>10/14/20</th>\n",
       "      <th>10/15/20</th>\n",
       "    </tr>\n",
       "  </thead>\n",
       "  <tbody>\n",
       "    <tr>\n",
       "      <th>143</th>\n",
       "      <td></td>\n",
       "      <td>India</td>\n",
       "      <td>3691166</td>\n",
       "      <td>3769523</td>\n",
       "      <td>3853406</td>\n",
       "      <td>3936747</td>\n",
       "      <td>4023179</td>\n",
       "      <td>4113811</td>\n",
       "      <td>4204613</td>\n",
       "      <td>4280422</td>\n",
       "      <td>...</td>\n",
       "      <td>6757131</td>\n",
       "      <td>6835655</td>\n",
       "      <td>6906151</td>\n",
       "      <td>6979423</td>\n",
       "      <td>7053806</td>\n",
       "      <td>7120538</td>\n",
       "      <td>7175880</td>\n",
       "      <td>7239389</td>\n",
       "      <td>7307097</td>\n",
       "      <td>7370468</td>\n",
       "    </tr>\n",
       "    <tr>\n",
       "      <th>171</th>\n",
       "      <td></td>\n",
       "      <td>Malaysia</td>\n",
       "      <td>9340</td>\n",
       "      <td>9354</td>\n",
       "      <td>9360</td>\n",
       "      <td>9374</td>\n",
       "      <td>9385</td>\n",
       "      <td>9391</td>\n",
       "      <td>9397</td>\n",
       "      <td>9459</td>\n",
       "      <td>...</td>\n",
       "      <td>13504</td>\n",
       "      <td>13993</td>\n",
       "      <td>14368</td>\n",
       "      <td>14722</td>\n",
       "      <td>15096</td>\n",
       "      <td>15657</td>\n",
       "      <td>16220</td>\n",
       "      <td>16880</td>\n",
       "      <td>17540</td>\n",
       "      <td>18129</td>\n",
       "    </tr>\n",
       "    <tr>\n",
       "      <th>190</th>\n",
       "      <td></td>\n",
       "      <td>Netherlands</td>\n",
       "      <td>70667</td>\n",
       "      <td>71129</td>\n",
       "      <td>71863</td>\n",
       "      <td>72464</td>\n",
       "      <td>73208</td>\n",
       "      <td>73862</td>\n",
       "      <td>74787</td>\n",
       "      <td>75584</td>\n",
       "      <td>...</td>\n",
       "      <td>144999</td>\n",
       "      <td>149988</td>\n",
       "      <td>155810</td>\n",
       "      <td>161781</td>\n",
       "      <td>168280</td>\n",
       "      <td>174653</td>\n",
       "      <td>181498</td>\n",
       "      <td>188876</td>\n",
       "      <td>196163</td>\n",
       "      <td>203954</td>\n",
       "    </tr>\n",
       "    <tr>\n",
       "      <th>231</th>\n",
       "      <td></td>\n",
       "      <td>Sweden</td>\n",
       "      <td>84379</td>\n",
       "      <td>84521</td>\n",
       "      <td>84532</td>\n",
       "      <td>84729</td>\n",
       "      <td>84985</td>\n",
       "      <td>84985</td>\n",
       "      <td>84985</td>\n",
       "      <td>85558</td>\n",
       "      <td>...</td>\n",
       "      <td>96145</td>\n",
       "      <td>96677</td>\n",
       "      <td>97532</td>\n",
       "      <td>98451</td>\n",
       "      <td>98451</td>\n",
       "      <td>98451</td>\n",
       "      <td>98451</td>\n",
       "      <td>100654</td>\n",
       "      <td>101332</td>\n",
       "      <td>102407</td>\n",
       "    </tr>\n",
       "  </tbody>\n",
       "</table>\n",
       "<p>4 rows × 48 columns</p>\n",
       "</div>"
      ],
      "text/plain": [
       "    Province/State      Country  8/31/20   9/1/20   9/2/20   9/3/20   9/4/20  \\\n",
       "143                       India  3691166  3769523  3853406  3936747  4023179   \n",
       "171                    Malaysia     9340     9354     9360     9374     9385   \n",
       "190                 Netherlands    70667    71129    71863    72464    73208   \n",
       "231                      Sweden    84379    84521    84532    84729    84985   \n",
       "\n",
       "      9/5/20   9/6/20   9/7/20  ...  10/6/20  10/7/20  10/8/20  10/9/20  \\\n",
       "143  4113811  4204613  4280422  ...  6757131  6835655  6906151  6979423   \n",
       "171     9391     9397     9459  ...    13504    13993    14368    14722   \n",
       "190    73862    74787    75584  ...   144999   149988   155810   161781   \n",
       "231    84985    84985    85558  ...    96145    96677    97532    98451   \n",
       "\n",
       "     10/10/20  10/11/20  10/12/20  10/13/20  10/14/20  10/15/20  \n",
       "143   7053806   7120538   7175880   7239389   7307097   7370468  \n",
       "171     15096     15657     16220     16880     17540     18129  \n",
       "190    168280    174653    181498    188876    196163    203954  \n",
       "231     98451     98451     98451    100654    101332    102407  \n",
       "\n",
       "[4 rows x 48 columns]"
      ]
     },
     "execution_count": 7,
     "metadata": {},
     "output_type": "execute_result"
    }
   ],
   "source": [
    "#TIME-SERIES PLOT OF THE 4 COUNTRIES IN SCOPE \n",
    "#get columns corresponding to 6 weeks starting from 8/30/20 till date\n",
    "\n",
    "#extract the dates needed\n",
    "data = list(covid_confirmed.columns[0:2]) + list(covid_confirmed.columns[-46:])\n",
    "\n",
    "#we're interested in these countries, so including only those 4. Netherlands Carribean is filtered out.\n",
    "countries = ['India','Netherlands','Sweden','Malaysia']\n",
    "covid_filtered = covid_confirmed.loc[(covid_confirmed['Country'].isin(countries)), data]\n",
    "covid_filtered = covid_filtered[(covid_filtered['Province/State'] == '')]\n",
    "covid_filtered"
   ]
  },
  {
   "cell_type": "code",
   "execution_count": 8,
   "metadata": {},
   "outputs": [
    {
     "data": {
      "application/vnd.plotly.v1+json": {
       "config": {
        "linkText": "Export to plot.ly",
        "plotlyServerURL": "https://plot.ly",
        "showLink": true
       },
       "data": [
        {
         "line": {
          "color": "rgba(255, 153, 51, 1.0)",
          "dash": "solid",
          "shape": "linear",
          "width": 1.3
         },
         "mode": "lines",
         "name": "India",
         "text": "",
         "type": "scatter",
         "x": [
          "8/31/20",
          "9/1/20",
          "9/2/20",
          "9/3/20",
          "9/4/20",
          "9/5/20",
          "9/6/20",
          "9/7/20",
          "9/8/20",
          "9/9/20",
          "9/10/20",
          "9/11/20",
          "9/12/20",
          "9/13/20",
          "9/14/20",
          "9/15/20",
          "9/16/20",
          "9/17/20",
          "9/18/20",
          "9/19/20",
          "9/20/20",
          "9/21/20",
          "9/22/20",
          "9/23/20",
          "9/24/20",
          "9/25/20",
          "9/26/20",
          "9/27/20",
          "9/28/20",
          "9/29/20",
          "9/30/20",
          "10/1/20",
          "10/2/20",
          "10/3/20",
          "10/4/20",
          "10/5/20",
          "10/6/20",
          "10/7/20",
          "10/8/20",
          "10/9/20",
          "10/10/20",
          "10/11/20",
          "10/12/20",
          "10/13/20",
          "10/14/20",
          "10/15/20"
         ],
         "y": [
          3691166,
          3769523,
          3853406,
          3936747,
          4023179,
          4113811,
          4204613,
          4280422,
          4370128,
          4465863,
          4562414,
          4659984,
          4754356,
          4846427,
          4930236,
          5020359,
          5118253,
          5214677,
          5308014,
          5400619,
          5487580,
          5562663,
          5646010,
          5732518,
          5818570,
          5903932,
          5992532,
          6074702,
          6145291,
          6225763,
          6312584,
          6394068,
          6473544,
          6549373,
          6623815,
          6685082,
          6757131,
          6835655,
          6906151,
          6979423,
          7053806,
          7120538,
          7175880,
          7239389,
          7307097,
          7370468
         ]
        },
        {
         "line": {
          "color": "rgba(55, 128, 191, 1.0)",
          "dash": "solid",
          "shape": "linear",
          "width": 1.3
         },
         "mode": "lines",
         "name": "Malaysia",
         "text": "",
         "type": "scatter",
         "x": [
          "8/31/20",
          "9/1/20",
          "9/2/20",
          "9/3/20",
          "9/4/20",
          "9/5/20",
          "9/6/20",
          "9/7/20",
          "9/8/20",
          "9/9/20",
          "9/10/20",
          "9/11/20",
          "9/12/20",
          "9/13/20",
          "9/14/20",
          "9/15/20",
          "9/16/20",
          "9/17/20",
          "9/18/20",
          "9/19/20",
          "9/20/20",
          "9/21/20",
          "9/22/20",
          "9/23/20",
          "9/24/20",
          "9/25/20",
          "9/26/20",
          "9/27/20",
          "9/28/20",
          "9/29/20",
          "9/30/20",
          "10/1/20",
          "10/2/20",
          "10/3/20",
          "10/4/20",
          "10/5/20",
          "10/6/20",
          "10/7/20",
          "10/8/20",
          "10/9/20",
          "10/10/20",
          "10/11/20",
          "10/12/20",
          "10/13/20",
          "10/14/20",
          "10/15/20"
         ],
         "y": [
          9340,
          9354,
          9360,
          9374,
          9385,
          9391,
          9397,
          9459,
          9559,
          9583,
          9628,
          9810,
          9868,
          9915,
          9946,
          9969,
          10031,
          10052,
          10147,
          10167,
          10219,
          10276,
          10358,
          10505,
          10576,
          10687,
          10769,
          10919,
          11034,
          11135,
          11224,
          11484,
          11771,
          12088,
          12381,
          12813,
          13504,
          13993,
          14368,
          14722,
          15096,
          15657,
          16220,
          16880,
          17540,
          18129
         ]
        },
        {
         "line": {
          "color": "rgba(50, 171, 96, 1.0)",
          "dash": "solid",
          "shape": "linear",
          "width": 1.3
         },
         "mode": "lines",
         "name": "Netherlands",
         "text": "",
         "type": "scatter",
         "x": [
          "8/31/20",
          "9/1/20",
          "9/2/20",
          "9/3/20",
          "9/4/20",
          "9/5/20",
          "9/6/20",
          "9/7/20",
          "9/8/20",
          "9/9/20",
          "9/10/20",
          "9/11/20",
          "9/12/20",
          "9/13/20",
          "9/14/20",
          "9/15/20",
          "9/16/20",
          "9/17/20",
          "9/18/20",
          "9/19/20",
          "9/20/20",
          "9/21/20",
          "9/22/20",
          "9/23/20",
          "9/24/20",
          "9/25/20",
          "9/26/20",
          "9/27/20",
          "9/28/20",
          "9/29/20",
          "9/30/20",
          "10/1/20",
          "10/2/20",
          "10/3/20",
          "10/4/20",
          "10/5/20",
          "10/6/20",
          "10/7/20",
          "10/8/20",
          "10/9/20",
          "10/10/20",
          "10/11/20",
          "10/12/20",
          "10/13/20",
          "10/14/20",
          "10/15/20"
         ],
         "y": [
          70667,
          71129,
          71863,
          72464,
          73208,
          73862,
          74787,
          75584,
          76548,
          77688,
          78511,
          79781,
          81012,
          82099,
          83399,
          84778,
          86320,
          88073,
          90047,
          91934,
          93778,
          95995,
          98240,
          100597,
          103141,
          105918,
          108631,
          111626,
          114540,
          117551,
          120845,
          124097,
          127922,
          131889,
          135892,
          135892,
          144999,
          149988,
          155810,
          161781,
          168280,
          174653,
          181498,
          188876,
          196163,
          203954
         ]
        },
        {
         "line": {
          "color": "rgba(128, 0, 128, 1.0)",
          "dash": "solid",
          "shape": "linear",
          "width": 1.3
         },
         "mode": "lines",
         "name": "Sweden",
         "text": "",
         "type": "scatter",
         "x": [
          "8/31/20",
          "9/1/20",
          "9/2/20",
          "9/3/20",
          "9/4/20",
          "9/5/20",
          "9/6/20",
          "9/7/20",
          "9/8/20",
          "9/9/20",
          "9/10/20",
          "9/11/20",
          "9/12/20",
          "9/13/20",
          "9/14/20",
          "9/15/20",
          "9/16/20",
          "9/17/20",
          "9/18/20",
          "9/19/20",
          "9/20/20",
          "9/21/20",
          "9/22/20",
          "9/23/20",
          "9/24/20",
          "9/25/20",
          "9/26/20",
          "9/27/20",
          "9/28/20",
          "9/29/20",
          "9/30/20",
          "10/1/20",
          "10/2/20",
          "10/3/20",
          "10/4/20",
          "10/5/20",
          "10/6/20",
          "10/7/20",
          "10/8/20",
          "10/9/20",
          "10/10/20",
          "10/11/20",
          "10/12/20",
          "10/13/20",
          "10/14/20",
          "10/15/20"
         ],
         "y": [
          84379,
          84521,
          84532,
          84729,
          84985,
          84985,
          84985,
          85558,
          85707,
          85880,
          86194,
          86505,
          86505,
          86505,
          86505,
          87345,
          87575,
          87885,
          88237,
          88237,
          88237,
          88237,
          89436,
          89756,
          90289,
          90923,
          90923,
          90923,
          90923,
          92466,
          92863,
          93615,
          94283,
          94283,
          94283,
          94283,
          96145,
          96677,
          97532,
          98451,
          98451,
          98451,
          98451,
          100654,
          101332,
          102407
         ]
        }
       ],
       "layout": {
        "legend": {
         "bgcolor": "#F5F6F9",
         "font": {
          "color": "#4D5663"
         }
        },
        "paper_bgcolor": "#F5F6F9",
        "plot_bgcolor": "#F5F6F9",
        "template": {
         "data": {
          "bar": [
           {
            "error_x": {
             "color": "#2a3f5f"
            },
            "error_y": {
             "color": "#2a3f5f"
            },
            "marker": {
             "line": {
              "color": "#E5ECF6",
              "width": 0.5
             }
            },
            "type": "bar"
           }
          ],
          "barpolar": [
           {
            "marker": {
             "line": {
              "color": "#E5ECF6",
              "width": 0.5
             }
            },
            "type": "barpolar"
           }
          ],
          "carpet": [
           {
            "aaxis": {
             "endlinecolor": "#2a3f5f",
             "gridcolor": "white",
             "linecolor": "white",
             "minorgridcolor": "white",
             "startlinecolor": "#2a3f5f"
            },
            "baxis": {
             "endlinecolor": "#2a3f5f",
             "gridcolor": "white",
             "linecolor": "white",
             "minorgridcolor": "white",
             "startlinecolor": "#2a3f5f"
            },
            "type": "carpet"
           }
          ],
          "choropleth": [
           {
            "colorbar": {
             "outlinewidth": 0,
             "ticks": ""
            },
            "type": "choropleth"
           }
          ],
          "contour": [
           {
            "colorbar": {
             "outlinewidth": 0,
             "ticks": ""
            },
            "colorscale": [
             [
              0,
              "#0d0887"
             ],
             [
              0.1111111111111111,
              "#46039f"
             ],
             [
              0.2222222222222222,
              "#7201a8"
             ],
             [
              0.3333333333333333,
              "#9c179e"
             ],
             [
              0.4444444444444444,
              "#bd3786"
             ],
             [
              0.5555555555555556,
              "#d8576b"
             ],
             [
              0.6666666666666666,
              "#ed7953"
             ],
             [
              0.7777777777777778,
              "#fb9f3a"
             ],
             [
              0.8888888888888888,
              "#fdca26"
             ],
             [
              1,
              "#f0f921"
             ]
            ],
            "type": "contour"
           }
          ],
          "contourcarpet": [
           {
            "colorbar": {
             "outlinewidth": 0,
             "ticks": ""
            },
            "type": "contourcarpet"
           }
          ],
          "heatmap": [
           {
            "colorbar": {
             "outlinewidth": 0,
             "ticks": ""
            },
            "colorscale": [
             [
              0,
              "#0d0887"
             ],
             [
              0.1111111111111111,
              "#46039f"
             ],
             [
              0.2222222222222222,
              "#7201a8"
             ],
             [
              0.3333333333333333,
              "#9c179e"
             ],
             [
              0.4444444444444444,
              "#bd3786"
             ],
             [
              0.5555555555555556,
              "#d8576b"
             ],
             [
              0.6666666666666666,
              "#ed7953"
             ],
             [
              0.7777777777777778,
              "#fb9f3a"
             ],
             [
              0.8888888888888888,
              "#fdca26"
             ],
             [
              1,
              "#f0f921"
             ]
            ],
            "type": "heatmap"
           }
          ],
          "heatmapgl": [
           {
            "colorbar": {
             "outlinewidth": 0,
             "ticks": ""
            },
            "colorscale": [
             [
              0,
              "#0d0887"
             ],
             [
              0.1111111111111111,
              "#46039f"
             ],
             [
              0.2222222222222222,
              "#7201a8"
             ],
             [
              0.3333333333333333,
              "#9c179e"
             ],
             [
              0.4444444444444444,
              "#bd3786"
             ],
             [
              0.5555555555555556,
              "#d8576b"
             ],
             [
              0.6666666666666666,
              "#ed7953"
             ],
             [
              0.7777777777777778,
              "#fb9f3a"
             ],
             [
              0.8888888888888888,
              "#fdca26"
             ],
             [
              1,
              "#f0f921"
             ]
            ],
            "type": "heatmapgl"
           }
          ],
          "histogram": [
           {
            "marker": {
             "colorbar": {
              "outlinewidth": 0,
              "ticks": ""
             }
            },
            "type": "histogram"
           }
          ],
          "histogram2d": [
           {
            "colorbar": {
             "outlinewidth": 0,
             "ticks": ""
            },
            "colorscale": [
             [
              0,
              "#0d0887"
             ],
             [
              0.1111111111111111,
              "#46039f"
             ],
             [
              0.2222222222222222,
              "#7201a8"
             ],
             [
              0.3333333333333333,
              "#9c179e"
             ],
             [
              0.4444444444444444,
              "#bd3786"
             ],
             [
              0.5555555555555556,
              "#d8576b"
             ],
             [
              0.6666666666666666,
              "#ed7953"
             ],
             [
              0.7777777777777778,
              "#fb9f3a"
             ],
             [
              0.8888888888888888,
              "#fdca26"
             ],
             [
              1,
              "#f0f921"
             ]
            ],
            "type": "histogram2d"
           }
          ],
          "histogram2dcontour": [
           {
            "colorbar": {
             "outlinewidth": 0,
             "ticks": ""
            },
            "colorscale": [
             [
              0,
              "#0d0887"
             ],
             [
              0.1111111111111111,
              "#46039f"
             ],
             [
              0.2222222222222222,
              "#7201a8"
             ],
             [
              0.3333333333333333,
              "#9c179e"
             ],
             [
              0.4444444444444444,
              "#bd3786"
             ],
             [
              0.5555555555555556,
              "#d8576b"
             ],
             [
              0.6666666666666666,
              "#ed7953"
             ],
             [
              0.7777777777777778,
              "#fb9f3a"
             ],
             [
              0.8888888888888888,
              "#fdca26"
             ],
             [
              1,
              "#f0f921"
             ]
            ],
            "type": "histogram2dcontour"
           }
          ],
          "mesh3d": [
           {
            "colorbar": {
             "outlinewidth": 0,
             "ticks": ""
            },
            "type": "mesh3d"
           }
          ],
          "parcoords": [
           {
            "line": {
             "colorbar": {
              "outlinewidth": 0,
              "ticks": ""
             }
            },
            "type": "parcoords"
           }
          ],
          "pie": [
           {
            "automargin": true,
            "type": "pie"
           }
          ],
          "scatter": [
           {
            "marker": {
             "colorbar": {
              "outlinewidth": 0,
              "ticks": ""
             }
            },
            "type": "scatter"
           }
          ],
          "scatter3d": [
           {
            "line": {
             "colorbar": {
              "outlinewidth": 0,
              "ticks": ""
             }
            },
            "marker": {
             "colorbar": {
              "outlinewidth": 0,
              "ticks": ""
             }
            },
            "type": "scatter3d"
           }
          ],
          "scattercarpet": [
           {
            "marker": {
             "colorbar": {
              "outlinewidth": 0,
              "ticks": ""
             }
            },
            "type": "scattercarpet"
           }
          ],
          "scattergeo": [
           {
            "marker": {
             "colorbar": {
              "outlinewidth": 0,
              "ticks": ""
             }
            },
            "type": "scattergeo"
           }
          ],
          "scattergl": [
           {
            "marker": {
             "colorbar": {
              "outlinewidth": 0,
              "ticks": ""
             }
            },
            "type": "scattergl"
           }
          ],
          "scattermapbox": [
           {
            "marker": {
             "colorbar": {
              "outlinewidth": 0,
              "ticks": ""
             }
            },
            "type": "scattermapbox"
           }
          ],
          "scatterpolar": [
           {
            "marker": {
             "colorbar": {
              "outlinewidth": 0,
              "ticks": ""
             }
            },
            "type": "scatterpolar"
           }
          ],
          "scatterpolargl": [
           {
            "marker": {
             "colorbar": {
              "outlinewidth": 0,
              "ticks": ""
             }
            },
            "type": "scatterpolargl"
           }
          ],
          "scatterternary": [
           {
            "marker": {
             "colorbar": {
              "outlinewidth": 0,
              "ticks": ""
             }
            },
            "type": "scatterternary"
           }
          ],
          "surface": [
           {
            "colorbar": {
             "outlinewidth": 0,
             "ticks": ""
            },
            "colorscale": [
             [
              0,
              "#0d0887"
             ],
             [
              0.1111111111111111,
              "#46039f"
             ],
             [
              0.2222222222222222,
              "#7201a8"
             ],
             [
              0.3333333333333333,
              "#9c179e"
             ],
             [
              0.4444444444444444,
              "#bd3786"
             ],
             [
              0.5555555555555556,
              "#d8576b"
             ],
             [
              0.6666666666666666,
              "#ed7953"
             ],
             [
              0.7777777777777778,
              "#fb9f3a"
             ],
             [
              0.8888888888888888,
              "#fdca26"
             ],
             [
              1,
              "#f0f921"
             ]
            ],
            "type": "surface"
           }
          ],
          "table": [
           {
            "cells": {
             "fill": {
              "color": "#EBF0F8"
             },
             "line": {
              "color": "white"
             }
            },
            "header": {
             "fill": {
              "color": "#C8D4E3"
             },
             "line": {
              "color": "white"
             }
            },
            "type": "table"
           }
          ]
         },
         "layout": {
          "annotationdefaults": {
           "arrowcolor": "#2a3f5f",
           "arrowhead": 0,
           "arrowwidth": 1
          },
          "coloraxis": {
           "colorbar": {
            "outlinewidth": 0,
            "ticks": ""
           }
          },
          "colorscale": {
           "diverging": [
            [
             0,
             "#8e0152"
            ],
            [
             0.1,
             "#c51b7d"
            ],
            [
             0.2,
             "#de77ae"
            ],
            [
             0.3,
             "#f1b6da"
            ],
            [
             0.4,
             "#fde0ef"
            ],
            [
             0.5,
             "#f7f7f7"
            ],
            [
             0.6,
             "#e6f5d0"
            ],
            [
             0.7,
             "#b8e186"
            ],
            [
             0.8,
             "#7fbc41"
            ],
            [
             0.9,
             "#4d9221"
            ],
            [
             1,
             "#276419"
            ]
           ],
           "sequential": [
            [
             0,
             "#0d0887"
            ],
            [
             0.1111111111111111,
             "#46039f"
            ],
            [
             0.2222222222222222,
             "#7201a8"
            ],
            [
             0.3333333333333333,
             "#9c179e"
            ],
            [
             0.4444444444444444,
             "#bd3786"
            ],
            [
             0.5555555555555556,
             "#d8576b"
            ],
            [
             0.6666666666666666,
             "#ed7953"
            ],
            [
             0.7777777777777778,
             "#fb9f3a"
            ],
            [
             0.8888888888888888,
             "#fdca26"
            ],
            [
             1,
             "#f0f921"
            ]
           ],
           "sequentialminus": [
            [
             0,
             "#0d0887"
            ],
            [
             0.1111111111111111,
             "#46039f"
            ],
            [
             0.2222222222222222,
             "#7201a8"
            ],
            [
             0.3333333333333333,
             "#9c179e"
            ],
            [
             0.4444444444444444,
             "#bd3786"
            ],
            [
             0.5555555555555556,
             "#d8576b"
            ],
            [
             0.6666666666666666,
             "#ed7953"
            ],
            [
             0.7777777777777778,
             "#fb9f3a"
            ],
            [
             0.8888888888888888,
             "#fdca26"
            ],
            [
             1,
             "#f0f921"
            ]
           ]
          },
          "colorway": [
           "#636efa",
           "#EF553B",
           "#00cc96",
           "#ab63fa",
           "#FFA15A",
           "#19d3f3",
           "#FF6692",
           "#B6E880",
           "#FF97FF",
           "#FECB52"
          ],
          "font": {
           "color": "#2a3f5f"
          },
          "geo": {
           "bgcolor": "white",
           "lakecolor": "white",
           "landcolor": "#E5ECF6",
           "showlakes": true,
           "showland": true,
           "subunitcolor": "white"
          },
          "hoverlabel": {
           "align": "left"
          },
          "hovermode": "closest",
          "mapbox": {
           "style": "light"
          },
          "paper_bgcolor": "white",
          "plot_bgcolor": "#E5ECF6",
          "polar": {
           "angularaxis": {
            "gridcolor": "white",
            "linecolor": "white",
            "ticks": ""
           },
           "bgcolor": "#E5ECF6",
           "radialaxis": {
            "gridcolor": "white",
            "linecolor": "white",
            "ticks": ""
           }
          },
          "scene": {
           "xaxis": {
            "backgroundcolor": "#E5ECF6",
            "gridcolor": "white",
            "gridwidth": 2,
            "linecolor": "white",
            "showbackground": true,
            "ticks": "",
            "zerolinecolor": "white"
           },
           "yaxis": {
            "backgroundcolor": "#E5ECF6",
            "gridcolor": "white",
            "gridwidth": 2,
            "linecolor": "white",
            "showbackground": true,
            "ticks": "",
            "zerolinecolor": "white"
           },
           "zaxis": {
            "backgroundcolor": "#E5ECF6",
            "gridcolor": "white",
            "gridwidth": 2,
            "linecolor": "white",
            "showbackground": true,
            "ticks": "",
            "zerolinecolor": "white"
           }
          },
          "shapedefaults": {
           "line": {
            "color": "#2a3f5f"
           }
          },
          "ternary": {
           "aaxis": {
            "gridcolor": "white",
            "linecolor": "white",
            "ticks": ""
           },
           "baxis": {
            "gridcolor": "white",
            "linecolor": "white",
            "ticks": ""
           },
           "bgcolor": "#E5ECF6",
           "caxis": {
            "gridcolor": "white",
            "linecolor": "white",
            "ticks": ""
           }
          },
          "title": {
           "x": 0.05
          },
          "xaxis": {
           "automargin": true,
           "gridcolor": "white",
           "linecolor": "white",
           "ticks": "",
           "title": {
            "standoff": 15
           },
           "zerolinecolor": "white",
           "zerolinewidth": 2
          },
          "yaxis": {
           "automargin": true,
           "gridcolor": "white",
           "linecolor": "white",
           "ticks": "",
           "title": {
            "standoff": 15
           },
           "zerolinecolor": "white",
           "zerolinewidth": 2
          }
         }
        },
        "title": {
         "font": {
          "color": "#4D5663"
         },
         "text": "Time series of confirmed cases of countries"
        },
        "xaxis": {
         "gridcolor": "#E1E5ED",
         "showgrid": true,
         "tickfont": {
          "color": "#4D5663"
         },
         "title": {
          "font": {
           "color": "#4D5663"
          },
          "text": ""
         },
         "zerolinecolor": "#E1E5ED"
        },
        "yaxis": {
         "gridcolor": "#E1E5ED",
         "showgrid": true,
         "tickfont": {
          "color": "#4D5663"
         },
         "title": {
          "font": {
           "color": "#4D5663"
          },
          "text": ""
         },
         "zerolinecolor": "#E1E5ED"
        }
       }
      },
      "text/html": [
       "<div>                            <div id=\"18f83c84-25b3-4dc1-928a-94f0c40511e0\" class=\"plotly-graph-div\" style=\"height:525px; width:100%;\"></div>            <script type=\"text/javascript\">                require([\"plotly\"], function(Plotly) {                    window.PLOTLYENV=window.PLOTLYENV || {};\n",
       "                    window.PLOTLYENV.BASE_URL='https://plot.ly';                                    if (document.getElementById(\"18f83c84-25b3-4dc1-928a-94f0c40511e0\")) {                    Plotly.newPlot(                        \"18f83c84-25b3-4dc1-928a-94f0c40511e0\",                        [{\"line\": {\"color\": \"rgba(255, 153, 51, 1.0)\", \"dash\": \"solid\", \"shape\": \"linear\", \"width\": 1.3}, \"mode\": \"lines\", \"name\": \"India\", \"text\": \"\", \"type\": \"scatter\", \"x\": [\"8/31/20\", \"9/1/20\", \"9/2/20\", \"9/3/20\", \"9/4/20\", \"9/5/20\", \"9/6/20\", \"9/7/20\", \"9/8/20\", \"9/9/20\", \"9/10/20\", \"9/11/20\", \"9/12/20\", \"9/13/20\", \"9/14/20\", \"9/15/20\", \"9/16/20\", \"9/17/20\", \"9/18/20\", \"9/19/20\", \"9/20/20\", \"9/21/20\", \"9/22/20\", \"9/23/20\", \"9/24/20\", \"9/25/20\", \"9/26/20\", \"9/27/20\", \"9/28/20\", \"9/29/20\", \"9/30/20\", \"10/1/20\", \"10/2/20\", \"10/3/20\", \"10/4/20\", \"10/5/20\", \"10/6/20\", \"10/7/20\", \"10/8/20\", \"10/9/20\", \"10/10/20\", \"10/11/20\", \"10/12/20\", \"10/13/20\", \"10/14/20\", \"10/15/20\"], \"y\": [3691166, 3769523, 3853406, 3936747, 4023179, 4113811, 4204613, 4280422, 4370128, 4465863, 4562414, 4659984, 4754356, 4846427, 4930236, 5020359, 5118253, 5214677, 5308014, 5400619, 5487580, 5562663, 5646010, 5732518, 5818570, 5903932, 5992532, 6074702, 6145291, 6225763, 6312584, 6394068, 6473544, 6549373, 6623815, 6685082, 6757131, 6835655, 6906151, 6979423, 7053806, 7120538, 7175880, 7239389, 7307097, 7370468]}, {\"line\": {\"color\": \"rgba(55, 128, 191, 1.0)\", \"dash\": \"solid\", \"shape\": \"linear\", \"width\": 1.3}, \"mode\": \"lines\", \"name\": \"Malaysia\", \"text\": \"\", \"type\": \"scatter\", \"x\": [\"8/31/20\", \"9/1/20\", \"9/2/20\", \"9/3/20\", \"9/4/20\", \"9/5/20\", \"9/6/20\", \"9/7/20\", \"9/8/20\", \"9/9/20\", \"9/10/20\", \"9/11/20\", \"9/12/20\", \"9/13/20\", \"9/14/20\", \"9/15/20\", \"9/16/20\", \"9/17/20\", \"9/18/20\", \"9/19/20\", \"9/20/20\", \"9/21/20\", \"9/22/20\", \"9/23/20\", \"9/24/20\", \"9/25/20\", \"9/26/20\", \"9/27/20\", \"9/28/20\", \"9/29/20\", \"9/30/20\", \"10/1/20\", \"10/2/20\", \"10/3/20\", \"10/4/20\", \"10/5/20\", \"10/6/20\", \"10/7/20\", \"10/8/20\", \"10/9/20\", \"10/10/20\", \"10/11/20\", \"10/12/20\", \"10/13/20\", \"10/14/20\", \"10/15/20\"], \"y\": [9340, 9354, 9360, 9374, 9385, 9391, 9397, 9459, 9559, 9583, 9628, 9810, 9868, 9915, 9946, 9969, 10031, 10052, 10147, 10167, 10219, 10276, 10358, 10505, 10576, 10687, 10769, 10919, 11034, 11135, 11224, 11484, 11771, 12088, 12381, 12813, 13504, 13993, 14368, 14722, 15096, 15657, 16220, 16880, 17540, 18129]}, {\"line\": {\"color\": \"rgba(50, 171, 96, 1.0)\", \"dash\": \"solid\", \"shape\": \"linear\", \"width\": 1.3}, \"mode\": \"lines\", \"name\": \"Netherlands\", \"text\": \"\", \"type\": \"scatter\", \"x\": [\"8/31/20\", \"9/1/20\", \"9/2/20\", \"9/3/20\", \"9/4/20\", \"9/5/20\", \"9/6/20\", \"9/7/20\", \"9/8/20\", \"9/9/20\", \"9/10/20\", \"9/11/20\", \"9/12/20\", \"9/13/20\", \"9/14/20\", \"9/15/20\", \"9/16/20\", \"9/17/20\", \"9/18/20\", \"9/19/20\", \"9/20/20\", \"9/21/20\", \"9/22/20\", \"9/23/20\", \"9/24/20\", \"9/25/20\", \"9/26/20\", \"9/27/20\", \"9/28/20\", \"9/29/20\", \"9/30/20\", \"10/1/20\", \"10/2/20\", \"10/3/20\", \"10/4/20\", \"10/5/20\", \"10/6/20\", \"10/7/20\", \"10/8/20\", \"10/9/20\", \"10/10/20\", \"10/11/20\", \"10/12/20\", \"10/13/20\", \"10/14/20\", \"10/15/20\"], \"y\": [70667, 71129, 71863, 72464, 73208, 73862, 74787, 75584, 76548, 77688, 78511, 79781, 81012, 82099, 83399, 84778, 86320, 88073, 90047, 91934, 93778, 95995, 98240, 100597, 103141, 105918, 108631, 111626, 114540, 117551, 120845, 124097, 127922, 131889, 135892, 135892, 144999, 149988, 155810, 161781, 168280, 174653, 181498, 188876, 196163, 203954]}, {\"line\": {\"color\": \"rgba(128, 0, 128, 1.0)\", \"dash\": \"solid\", \"shape\": \"linear\", \"width\": 1.3}, \"mode\": \"lines\", \"name\": \"Sweden\", \"text\": \"\", \"type\": \"scatter\", \"x\": [\"8/31/20\", \"9/1/20\", \"9/2/20\", \"9/3/20\", \"9/4/20\", \"9/5/20\", \"9/6/20\", \"9/7/20\", \"9/8/20\", \"9/9/20\", \"9/10/20\", \"9/11/20\", \"9/12/20\", \"9/13/20\", \"9/14/20\", \"9/15/20\", \"9/16/20\", \"9/17/20\", \"9/18/20\", \"9/19/20\", \"9/20/20\", \"9/21/20\", \"9/22/20\", \"9/23/20\", \"9/24/20\", \"9/25/20\", \"9/26/20\", \"9/27/20\", \"9/28/20\", \"9/29/20\", \"9/30/20\", \"10/1/20\", \"10/2/20\", \"10/3/20\", \"10/4/20\", \"10/5/20\", \"10/6/20\", \"10/7/20\", \"10/8/20\", \"10/9/20\", \"10/10/20\", \"10/11/20\", \"10/12/20\", \"10/13/20\", \"10/14/20\", \"10/15/20\"], \"y\": [84379, 84521, 84532, 84729, 84985, 84985, 84985, 85558, 85707, 85880, 86194, 86505, 86505, 86505, 86505, 87345, 87575, 87885, 88237, 88237, 88237, 88237, 89436, 89756, 90289, 90923, 90923, 90923, 90923, 92466, 92863, 93615, 94283, 94283, 94283, 94283, 96145, 96677, 97532, 98451, 98451, 98451, 98451, 100654, 101332, 102407]}],                        {\"legend\": {\"bgcolor\": \"#F5F6F9\", \"font\": {\"color\": \"#4D5663\"}}, \"paper_bgcolor\": \"#F5F6F9\", \"plot_bgcolor\": \"#F5F6F9\", \"template\": {\"data\": {\"bar\": [{\"error_x\": {\"color\": \"#2a3f5f\"}, \"error_y\": {\"color\": \"#2a3f5f\"}, \"marker\": {\"line\": {\"color\": \"#E5ECF6\", \"width\": 0.5}}, \"type\": \"bar\"}], \"barpolar\": [{\"marker\": {\"line\": {\"color\": \"#E5ECF6\", \"width\": 0.5}}, \"type\": \"barpolar\"}], \"carpet\": [{\"aaxis\": {\"endlinecolor\": \"#2a3f5f\", \"gridcolor\": \"white\", \"linecolor\": \"white\", \"minorgridcolor\": \"white\", \"startlinecolor\": \"#2a3f5f\"}, \"baxis\": {\"endlinecolor\": \"#2a3f5f\", \"gridcolor\": \"white\", \"linecolor\": \"white\", \"minorgridcolor\": \"white\", \"startlinecolor\": \"#2a3f5f\"}, \"type\": \"carpet\"}], \"choropleth\": [{\"colorbar\": {\"outlinewidth\": 0, \"ticks\": \"\"}, \"type\": \"choropleth\"}], \"contour\": [{\"colorbar\": {\"outlinewidth\": 0, \"ticks\": \"\"}, \"colorscale\": [[0.0, \"#0d0887\"], [0.1111111111111111, \"#46039f\"], [0.2222222222222222, \"#7201a8\"], [0.3333333333333333, \"#9c179e\"], [0.4444444444444444, \"#bd3786\"], [0.5555555555555556, \"#d8576b\"], [0.6666666666666666, \"#ed7953\"], [0.7777777777777778, \"#fb9f3a\"], [0.8888888888888888, \"#fdca26\"], [1.0, \"#f0f921\"]], \"type\": \"contour\"}], \"contourcarpet\": [{\"colorbar\": {\"outlinewidth\": 0, \"ticks\": \"\"}, \"type\": \"contourcarpet\"}], \"heatmap\": [{\"colorbar\": {\"outlinewidth\": 0, \"ticks\": \"\"}, \"colorscale\": [[0.0, \"#0d0887\"], [0.1111111111111111, \"#46039f\"], [0.2222222222222222, \"#7201a8\"], [0.3333333333333333, \"#9c179e\"], [0.4444444444444444, \"#bd3786\"], [0.5555555555555556, \"#d8576b\"], [0.6666666666666666, \"#ed7953\"], [0.7777777777777778, \"#fb9f3a\"], [0.8888888888888888, \"#fdca26\"], [1.0, \"#f0f921\"]], \"type\": \"heatmap\"}], \"heatmapgl\": [{\"colorbar\": {\"outlinewidth\": 0, \"ticks\": \"\"}, \"colorscale\": [[0.0, \"#0d0887\"], [0.1111111111111111, \"#46039f\"], [0.2222222222222222, \"#7201a8\"], [0.3333333333333333, \"#9c179e\"], [0.4444444444444444, \"#bd3786\"], [0.5555555555555556, \"#d8576b\"], [0.6666666666666666, \"#ed7953\"], [0.7777777777777778, \"#fb9f3a\"], [0.8888888888888888, \"#fdca26\"], [1.0, \"#f0f921\"]], \"type\": \"heatmapgl\"}], \"histogram\": [{\"marker\": {\"colorbar\": {\"outlinewidth\": 0, \"ticks\": \"\"}}, \"type\": \"histogram\"}], \"histogram2d\": [{\"colorbar\": {\"outlinewidth\": 0, \"ticks\": \"\"}, \"colorscale\": [[0.0, \"#0d0887\"], [0.1111111111111111, \"#46039f\"], [0.2222222222222222, \"#7201a8\"], [0.3333333333333333, \"#9c179e\"], [0.4444444444444444, \"#bd3786\"], [0.5555555555555556, \"#d8576b\"], [0.6666666666666666, \"#ed7953\"], [0.7777777777777778, \"#fb9f3a\"], [0.8888888888888888, \"#fdca26\"], [1.0, \"#f0f921\"]], \"type\": \"histogram2d\"}], \"histogram2dcontour\": [{\"colorbar\": {\"outlinewidth\": 0, \"ticks\": \"\"}, \"colorscale\": [[0.0, \"#0d0887\"], [0.1111111111111111, \"#46039f\"], [0.2222222222222222, \"#7201a8\"], [0.3333333333333333, \"#9c179e\"], [0.4444444444444444, \"#bd3786\"], [0.5555555555555556, \"#d8576b\"], [0.6666666666666666, \"#ed7953\"], [0.7777777777777778, \"#fb9f3a\"], [0.8888888888888888, \"#fdca26\"], [1.0, \"#f0f921\"]], \"type\": \"histogram2dcontour\"}], \"mesh3d\": [{\"colorbar\": {\"outlinewidth\": 0, \"ticks\": \"\"}, \"type\": \"mesh3d\"}], \"parcoords\": [{\"line\": {\"colorbar\": {\"outlinewidth\": 0, \"ticks\": \"\"}}, \"type\": \"parcoords\"}], \"pie\": [{\"automargin\": true, \"type\": \"pie\"}], \"scatter\": [{\"marker\": {\"colorbar\": {\"outlinewidth\": 0, \"ticks\": \"\"}}, \"type\": \"scatter\"}], \"scatter3d\": [{\"line\": {\"colorbar\": {\"outlinewidth\": 0, \"ticks\": \"\"}}, \"marker\": {\"colorbar\": {\"outlinewidth\": 0, \"ticks\": \"\"}}, \"type\": \"scatter3d\"}], \"scattercarpet\": [{\"marker\": {\"colorbar\": {\"outlinewidth\": 0, \"ticks\": \"\"}}, \"type\": \"scattercarpet\"}], \"scattergeo\": [{\"marker\": {\"colorbar\": {\"outlinewidth\": 0, \"ticks\": \"\"}}, \"type\": \"scattergeo\"}], \"scattergl\": [{\"marker\": {\"colorbar\": {\"outlinewidth\": 0, \"ticks\": \"\"}}, \"type\": \"scattergl\"}], \"scattermapbox\": [{\"marker\": {\"colorbar\": {\"outlinewidth\": 0, \"ticks\": \"\"}}, \"type\": \"scattermapbox\"}], \"scatterpolar\": [{\"marker\": {\"colorbar\": {\"outlinewidth\": 0, \"ticks\": \"\"}}, \"type\": \"scatterpolar\"}], \"scatterpolargl\": [{\"marker\": {\"colorbar\": {\"outlinewidth\": 0, \"ticks\": \"\"}}, \"type\": \"scatterpolargl\"}], \"scatterternary\": [{\"marker\": {\"colorbar\": {\"outlinewidth\": 0, \"ticks\": \"\"}}, \"type\": \"scatterternary\"}], \"surface\": [{\"colorbar\": {\"outlinewidth\": 0, \"ticks\": \"\"}, \"colorscale\": [[0.0, \"#0d0887\"], [0.1111111111111111, \"#46039f\"], [0.2222222222222222, \"#7201a8\"], [0.3333333333333333, \"#9c179e\"], [0.4444444444444444, \"#bd3786\"], [0.5555555555555556, \"#d8576b\"], [0.6666666666666666, \"#ed7953\"], [0.7777777777777778, \"#fb9f3a\"], [0.8888888888888888, \"#fdca26\"], [1.0, \"#f0f921\"]], \"type\": \"surface\"}], \"table\": [{\"cells\": {\"fill\": {\"color\": \"#EBF0F8\"}, \"line\": {\"color\": \"white\"}}, \"header\": {\"fill\": {\"color\": \"#C8D4E3\"}, \"line\": {\"color\": \"white\"}}, \"type\": \"table\"}]}, \"layout\": {\"annotationdefaults\": {\"arrowcolor\": \"#2a3f5f\", \"arrowhead\": 0, \"arrowwidth\": 1}, \"coloraxis\": {\"colorbar\": {\"outlinewidth\": 0, \"ticks\": \"\"}}, \"colorscale\": {\"diverging\": [[0, \"#8e0152\"], [0.1, \"#c51b7d\"], [0.2, \"#de77ae\"], [0.3, \"#f1b6da\"], [0.4, \"#fde0ef\"], [0.5, \"#f7f7f7\"], [0.6, \"#e6f5d0\"], [0.7, \"#b8e186\"], [0.8, \"#7fbc41\"], [0.9, \"#4d9221\"], [1, \"#276419\"]], \"sequential\": [[0.0, \"#0d0887\"], [0.1111111111111111, \"#46039f\"], [0.2222222222222222, \"#7201a8\"], [0.3333333333333333, \"#9c179e\"], [0.4444444444444444, \"#bd3786\"], [0.5555555555555556, \"#d8576b\"], [0.6666666666666666, \"#ed7953\"], [0.7777777777777778, \"#fb9f3a\"], [0.8888888888888888, \"#fdca26\"], [1.0, \"#f0f921\"]], \"sequentialminus\": [[0.0, \"#0d0887\"], [0.1111111111111111, \"#46039f\"], [0.2222222222222222, \"#7201a8\"], [0.3333333333333333, \"#9c179e\"], [0.4444444444444444, \"#bd3786\"], [0.5555555555555556, \"#d8576b\"], [0.6666666666666666, \"#ed7953\"], [0.7777777777777778, \"#fb9f3a\"], [0.8888888888888888, \"#fdca26\"], [1.0, \"#f0f921\"]]}, \"colorway\": [\"#636efa\", \"#EF553B\", \"#00cc96\", \"#ab63fa\", \"#FFA15A\", \"#19d3f3\", \"#FF6692\", \"#B6E880\", \"#FF97FF\", \"#FECB52\"], \"font\": {\"color\": \"#2a3f5f\"}, \"geo\": {\"bgcolor\": \"white\", \"lakecolor\": \"white\", \"landcolor\": \"#E5ECF6\", \"showlakes\": true, \"showland\": true, \"subunitcolor\": \"white\"}, \"hoverlabel\": {\"align\": \"left\"}, \"hovermode\": \"closest\", \"mapbox\": {\"style\": \"light\"}, \"paper_bgcolor\": \"white\", \"plot_bgcolor\": \"#E5ECF6\", \"polar\": {\"angularaxis\": {\"gridcolor\": \"white\", \"linecolor\": \"white\", \"ticks\": \"\"}, \"bgcolor\": \"#E5ECF6\", \"radialaxis\": {\"gridcolor\": \"white\", \"linecolor\": \"white\", \"ticks\": \"\"}}, \"scene\": {\"xaxis\": {\"backgroundcolor\": \"#E5ECF6\", \"gridcolor\": \"white\", \"gridwidth\": 2, \"linecolor\": \"white\", \"showbackground\": true, \"ticks\": \"\", \"zerolinecolor\": \"white\"}, \"yaxis\": {\"backgroundcolor\": \"#E5ECF6\", \"gridcolor\": \"white\", \"gridwidth\": 2, \"linecolor\": \"white\", \"showbackground\": true, \"ticks\": \"\", \"zerolinecolor\": \"white\"}, \"zaxis\": {\"backgroundcolor\": \"#E5ECF6\", \"gridcolor\": \"white\", \"gridwidth\": 2, \"linecolor\": \"white\", \"showbackground\": true, \"ticks\": \"\", \"zerolinecolor\": \"white\"}}, \"shapedefaults\": {\"line\": {\"color\": \"#2a3f5f\"}}, \"ternary\": {\"aaxis\": {\"gridcolor\": \"white\", \"linecolor\": \"white\", \"ticks\": \"\"}, \"baxis\": {\"gridcolor\": \"white\", \"linecolor\": \"white\", \"ticks\": \"\"}, \"bgcolor\": \"#E5ECF6\", \"caxis\": {\"gridcolor\": \"white\", \"linecolor\": \"white\", \"ticks\": \"\"}}, \"title\": {\"x\": 0.05}, \"xaxis\": {\"automargin\": true, \"gridcolor\": \"white\", \"linecolor\": \"white\", \"ticks\": \"\", \"title\": {\"standoff\": 15}, \"zerolinecolor\": \"white\", \"zerolinewidth\": 2}, \"yaxis\": {\"automargin\": true, \"gridcolor\": \"white\", \"linecolor\": \"white\", \"ticks\": \"\", \"title\": {\"standoff\": 15}, \"zerolinecolor\": \"white\", \"zerolinewidth\": 2}}}, \"title\": {\"font\": {\"color\": \"#4D5663\"}, \"text\": \"Time series of confirmed cases of countries\"}, \"xaxis\": {\"gridcolor\": \"#E1E5ED\", \"showgrid\": true, \"tickfont\": {\"color\": \"#4D5663\"}, \"title\": {\"font\": {\"color\": \"#4D5663\"}, \"text\": \"\"}, \"zerolinecolor\": \"#E1E5ED\"}, \"yaxis\": {\"gridcolor\": \"#E1E5ED\", \"showgrid\": true, \"tickfont\": {\"color\": \"#4D5663\"}, \"title\": {\"font\": {\"color\": \"#4D5663\"}, \"text\": \"\"}, \"zerolinecolor\": \"#E1E5ED\"}},                        {\"showLink\": true, \"linkText\": \"Export to plot.ly\", \"plotlyServerURL\": \"https://plot.ly\", \"responsive\": true}                    ).then(function(){\n",
       "                            \n",
       "var gd = document.getElementById('18f83c84-25b3-4dc1-928a-94f0c40511e0');\n",
       "var x = new MutationObserver(function (mutations, observer) {{\n",
       "        var display = window.getComputedStyle(gd).display;\n",
       "        if (!display || display === 'none') {{\n",
       "            console.log([gd, 'removed!']);\n",
       "            Plotly.purge(gd);\n",
       "            observer.disconnect();\n",
       "        }}\n",
       "}});\n",
       "\n",
       "// Listen for the removal of the full notebook cells\n",
       "var notebookContainer = gd.closest('#notebook-container');\n",
       "if (notebookContainer) {{\n",
       "    x.observe(notebookContainer, {childList: true});\n",
       "}}\n",
       "\n",
       "// Listen for the clearing of the current output cell\n",
       "var outputEl = gd.closest('.output');\n",
       "if (outputEl) {{\n",
       "    x.observe(outputEl, {childList: true});\n",
       "}}\n",
       "\n",
       "                        })                };                });            </script>        </div>"
      ]
     },
     "metadata": {},
     "output_type": "display_data"
    }
   ],
   "source": [
    "#Time series plot of confirmed cases for 4 selected countries \n",
    "covid_filtered = covid_filtered.groupby(['Country']).sum()\n",
    "covid_filtered.transpose().iplot(title = 'Time series of confirmed cases of countries')"
   ]
  },
  {
   "cell_type": "code",
   "execution_count": 9,
   "metadata": {},
   "outputs": [
    {
     "data": {
      "text/html": [
       "<div>\n",
       "<style scoped>\n",
       "    .dataframe tbody tr th:only-of-type {\n",
       "        vertical-align: middle;\n",
       "    }\n",
       "\n",
       "    .dataframe tbody tr th {\n",
       "        vertical-align: top;\n",
       "    }\n",
       "\n",
       "    .dataframe thead th {\n",
       "        text-align: right;\n",
       "    }\n",
       "</style>\n",
       "<table border=\"1\" class=\"dataframe\">\n",
       "  <thead>\n",
       "    <tr style=\"text-align: right;\">\n",
       "      <th></th>\n",
       "      <th>Province/State</th>\n",
       "      <th>Country</th>\n",
       "      <th>8/31/20</th>\n",
       "      <th>9/1/20</th>\n",
       "      <th>9/2/20</th>\n",
       "      <th>9/3/20</th>\n",
       "      <th>9/4/20</th>\n",
       "      <th>9/5/20</th>\n",
       "      <th>9/6/20</th>\n",
       "      <th>9/7/20</th>\n",
       "      <th>...</th>\n",
       "      <th>10/6/20</th>\n",
       "      <th>10/7/20</th>\n",
       "      <th>10/8/20</th>\n",
       "      <th>10/9/20</th>\n",
       "      <th>10/10/20</th>\n",
       "      <th>10/11/20</th>\n",
       "      <th>10/12/20</th>\n",
       "      <th>10/13/20</th>\n",
       "      <th>10/14/20</th>\n",
       "      <th>10/15/20</th>\n",
       "    </tr>\n",
       "  </thead>\n",
       "  <tbody>\n",
       "    <tr>\n",
       "      <th>143</th>\n",
       "      <td></td>\n",
       "      <td>India</td>\n",
       "      <td>65288</td>\n",
       "      <td>66333</td>\n",
       "      <td>67376</td>\n",
       "      <td>68472</td>\n",
       "      <td>69561</td>\n",
       "      <td>70626</td>\n",
       "      <td>71642</td>\n",
       "      <td>72775</td>\n",
       "      <td>...</td>\n",
       "      <td>104555</td>\n",
       "      <td>105526</td>\n",
       "      <td>106490</td>\n",
       "      <td>107416</td>\n",
       "      <td>108334</td>\n",
       "      <td>109150</td>\n",
       "      <td>109856</td>\n",
       "      <td>110586</td>\n",
       "      <td>111266</td>\n",
       "      <td>112161</td>\n",
       "    </tr>\n",
       "    <tr>\n",
       "      <th>171</th>\n",
       "      <td></td>\n",
       "      <td>Malaysia</td>\n",
       "      <td>127</td>\n",
       "      <td>128</td>\n",
       "      <td>128</td>\n",
       "      <td>128</td>\n",
       "      <td>128</td>\n",
       "      <td>128</td>\n",
       "      <td>128</td>\n",
       "      <td>128</td>\n",
       "      <td>...</td>\n",
       "      <td>141</td>\n",
       "      <td>141</td>\n",
       "      <td>146</td>\n",
       "      <td>152</td>\n",
       "      <td>155</td>\n",
       "      <td>157</td>\n",
       "      <td>159</td>\n",
       "      <td>163</td>\n",
       "      <td>167</td>\n",
       "      <td>170</td>\n",
       "    </tr>\n",
       "    <tr>\n",
       "      <th>190</th>\n",
       "      <td></td>\n",
       "      <td>Netherlands</td>\n",
       "      <td>6224</td>\n",
       "      <td>6230</td>\n",
       "      <td>6235</td>\n",
       "      <td>6235</td>\n",
       "      <td>6237</td>\n",
       "      <td>6241</td>\n",
       "      <td>6243</td>\n",
       "      <td>6243</td>\n",
       "      <td>...</td>\n",
       "      <td>6482</td>\n",
       "      <td>6518</td>\n",
       "      <td>6531</td>\n",
       "      <td>6544</td>\n",
       "      <td>6567</td>\n",
       "      <td>6584</td>\n",
       "      <td>6596</td>\n",
       "      <td>6631</td>\n",
       "      <td>6663</td>\n",
       "      <td>6692</td>\n",
       "    </tr>\n",
       "    <tr>\n",
       "      <th>231</th>\n",
       "      <td></td>\n",
       "      <td>Sweden</td>\n",
       "      <td>5808</td>\n",
       "      <td>5813</td>\n",
       "      <td>5820</td>\n",
       "      <td>5832</td>\n",
       "      <td>5835</td>\n",
       "      <td>5835</td>\n",
       "      <td>5835</td>\n",
       "      <td>5837</td>\n",
       "      <td>...</td>\n",
       "      <td>5883</td>\n",
       "      <td>5892</td>\n",
       "      <td>5892</td>\n",
       "      <td>5894</td>\n",
       "      <td>5894</td>\n",
       "      <td>5894</td>\n",
       "      <td>5894</td>\n",
       "      <td>5899</td>\n",
       "      <td>5907</td>\n",
       "      <td>5910</td>\n",
       "    </tr>\n",
       "  </tbody>\n",
       "</table>\n",
       "<p>4 rows × 48 columns</p>\n",
       "</div>"
      ],
      "text/plain": [
       "    Province/State      Country  8/31/20  9/1/20  9/2/20  9/3/20  9/4/20  \\\n",
       "143                       India    65288   66333   67376   68472   69561   \n",
       "171                    Malaysia      127     128     128     128     128   \n",
       "190                 Netherlands     6224    6230    6235    6235    6237   \n",
       "231                      Sweden     5808    5813    5820    5832    5835   \n",
       "\n",
       "     9/5/20  9/6/20  9/7/20  ...  10/6/20  10/7/20  10/8/20  10/9/20  \\\n",
       "143   70626   71642   72775  ...   104555   105526   106490   107416   \n",
       "171     128     128     128  ...      141      141      146      152   \n",
       "190    6241    6243    6243  ...     6482     6518     6531     6544   \n",
       "231    5835    5835    5837  ...     5883     5892     5892     5894   \n",
       "\n",
       "     10/10/20  10/11/20  10/12/20  10/13/20  10/14/20  10/15/20  \n",
       "143    108334    109150    109856    110586    111266    112161  \n",
       "171       155       157       159       163       167       170  \n",
       "190      6567      6584      6596      6631      6663      6692  \n",
       "231      5894      5894      5894      5899      5907      5910  \n",
       "\n",
       "[4 rows x 48 columns]"
      ]
     },
     "execution_count": 9,
     "metadata": {},
     "output_type": "execute_result"
    }
   ],
   "source": [
    "#get columns corresponding to 6 weeks starting from 8/30/20 till date \n",
    "#Pulling the dataset with same conditions as that of the previous one.(for confirmed cases)\n",
    "\n",
    "covid_deaths[['Province/State']] = covid_deaths[['Province/State']].fillna('')\n",
    "covid_deaths.fillna(0, inplace=True)\n",
    "\n",
    "data = list(covid_deaths.columns[0:2]) + list(covid_deaths.columns[-46:])\n",
    "countries = ['India','Netherlands','Sweden','Malaysia']\n",
    "covid_filtered1 = covid_deaths.loc[(covid_deaths['Country'].isin(countries)), data]\n",
    "covid_filtered1 = covid_filtered1[(covid_filtered1['Province/State'] == '')]\n",
    "covid_filtered1"
   ]
  },
  {
   "cell_type": "code",
   "execution_count": 10,
   "metadata": {},
   "outputs": [
    {
     "data": {
      "application/vnd.plotly.v1+json": {
       "config": {
        "linkText": "Export to plot.ly",
        "plotlyServerURL": "https://plot.ly",
        "showLink": true
       },
       "data": [
        {
         "line": {
          "color": "rgba(255, 153, 51, 1.0)",
          "dash": "solid",
          "shape": "linear",
          "width": 1.3
         },
         "mode": "lines",
         "name": "India",
         "text": "",
         "type": "scatter",
         "x": [
          "8/31/20",
          "9/1/20",
          "9/2/20",
          "9/3/20",
          "9/4/20",
          "9/5/20",
          "9/6/20",
          "9/7/20",
          "9/8/20",
          "9/9/20",
          "9/10/20",
          "9/11/20",
          "9/12/20",
          "9/13/20",
          "9/14/20",
          "9/15/20",
          "9/16/20",
          "9/17/20",
          "9/18/20",
          "9/19/20",
          "9/20/20",
          "9/21/20",
          "9/22/20",
          "9/23/20",
          "9/24/20",
          "9/25/20",
          "9/26/20",
          "9/27/20",
          "9/28/20",
          "9/29/20",
          "9/30/20",
          "10/1/20",
          "10/2/20",
          "10/3/20",
          "10/4/20",
          "10/5/20",
          "10/6/20",
          "10/7/20",
          "10/8/20",
          "10/9/20",
          "10/10/20",
          "10/11/20",
          "10/12/20",
          "10/13/20",
          "10/14/20",
          "10/15/20"
         ],
         "y": [
          65288,
          66333,
          67376,
          68472,
          69561,
          70626,
          71642,
          72775,
          73890,
          75062,
          76271,
          77472,
          78586,
          79722,
          80776,
          82066,
          83198,
          84372,
          85619,
          86752,
          87882,
          88935,
          90020,
          91149,
          92290,
          93379,
          94503,
          95542,
          96318,
          97497,
          98678,
          99773,
          100842,
          101782,
          102685,
          103569,
          104555,
          105526,
          106490,
          107416,
          108334,
          109150,
          109856,
          110586,
          111266,
          112161
         ]
        },
        {
         "line": {
          "color": "rgba(55, 128, 191, 1.0)",
          "dash": "solid",
          "shape": "linear",
          "width": 1.3
         },
         "mode": "lines",
         "name": "Netherlands",
         "text": "",
         "type": "scatter",
         "x": [
          "8/31/20",
          "9/1/20",
          "9/2/20",
          "9/3/20",
          "9/4/20",
          "9/5/20",
          "9/6/20",
          "9/7/20",
          "9/8/20",
          "9/9/20",
          "9/10/20",
          "9/11/20",
          "9/12/20",
          "9/13/20",
          "9/14/20",
          "9/15/20",
          "9/16/20",
          "9/17/20",
          "9/18/20",
          "9/19/20",
          "9/20/20",
          "9/21/20",
          "9/22/20",
          "9/23/20",
          "9/24/20",
          "9/25/20",
          "9/26/20",
          "9/27/20",
          "9/28/20",
          "9/29/20",
          "9/30/20",
          "10/1/20",
          "10/2/20",
          "10/3/20",
          "10/4/20",
          "10/5/20",
          "10/6/20",
          "10/7/20",
          "10/8/20",
          "10/9/20",
          "10/10/20",
          "10/11/20",
          "10/12/20",
          "10/13/20",
          "10/14/20",
          "10/15/20"
         ],
         "y": [
          6224,
          6230,
          6235,
          6235,
          6237,
          6241,
          6243,
          6243,
          6244,
          6246,
          6249,
          6252,
          6253,
          6254,
          6256,
          6258,
          6260,
          6266,
          6273,
          6275,
          6279,
          6281,
          6291,
          6296,
          6312,
          6328,
          6366,
          6374,
          6380,
          6393,
          6406,
          6419,
          6428,
          6449,
          6454,
          6454,
          6482,
          6518,
          6531,
          6544,
          6567,
          6584,
          6596,
          6631,
          6663,
          6692
         ]
        },
        {
         "line": {
          "color": "rgba(50, 171, 96, 1.0)",
          "dash": "solid",
          "shape": "linear",
          "width": 1.3
         },
         "mode": "lines",
         "name": "Sweden",
         "text": "",
         "type": "scatter",
         "x": [
          "8/31/20",
          "9/1/20",
          "9/2/20",
          "9/3/20",
          "9/4/20",
          "9/5/20",
          "9/6/20",
          "9/7/20",
          "9/8/20",
          "9/9/20",
          "9/10/20",
          "9/11/20",
          "9/12/20",
          "9/13/20",
          "9/14/20",
          "9/15/20",
          "9/16/20",
          "9/17/20",
          "9/18/20",
          "9/19/20",
          "9/20/20",
          "9/21/20",
          "9/22/20",
          "9/23/20",
          "9/24/20",
          "9/25/20",
          "9/26/20",
          "9/27/20",
          "9/28/20",
          "9/29/20",
          "9/30/20",
          "10/1/20",
          "10/2/20",
          "10/3/20",
          "10/4/20",
          "10/5/20",
          "10/6/20",
          "10/7/20",
          "10/8/20",
          "10/9/20",
          "10/10/20",
          "10/11/20",
          "10/12/20",
          "10/13/20",
          "10/14/20",
          "10/15/20"
         ],
         "y": [
          5808,
          5813,
          5820,
          5832,
          5835,
          5835,
          5835,
          5837,
          5838,
          5842,
          5843,
          5846,
          5846,
          5846,
          5846,
          5851,
          5860,
          5864,
          5865,
          5865,
          5865,
          5865,
          5870,
          5876,
          5878,
          5880,
          5880,
          5880,
          5880,
          5890,
          5893,
          5893,
          5895,
          5895,
          5895,
          5895,
          5883,
          5892,
          5892,
          5894,
          5894,
          5894,
          5894,
          5899,
          5907,
          5910
         ]
        },
        {
         "line": {
          "color": "rgba(128, 0, 128, 1.0)",
          "dash": "solid",
          "shape": "linear",
          "width": 1.3
         },
         "mode": "lines",
         "name": "Malaysia",
         "text": "",
         "type": "scatter",
         "x": [
          "8/31/20",
          "9/1/20",
          "9/2/20",
          "9/3/20",
          "9/4/20",
          "9/5/20",
          "9/6/20",
          "9/7/20",
          "9/8/20",
          "9/9/20",
          "9/10/20",
          "9/11/20",
          "9/12/20",
          "9/13/20",
          "9/14/20",
          "9/15/20",
          "9/16/20",
          "9/17/20",
          "9/18/20",
          "9/19/20",
          "9/20/20",
          "9/21/20",
          "9/22/20",
          "9/23/20",
          "9/24/20",
          "9/25/20",
          "9/26/20",
          "9/27/20",
          "9/28/20",
          "9/29/20",
          "9/30/20",
          "10/1/20",
          "10/2/20",
          "10/3/20",
          "10/4/20",
          "10/5/20",
          "10/6/20",
          "10/7/20",
          "10/8/20",
          "10/9/20",
          "10/10/20",
          "10/11/20",
          "10/12/20",
          "10/13/20",
          "10/14/20",
          "10/15/20"
         ],
         "y": [
          127,
          128,
          128,
          128,
          128,
          128,
          128,
          128,
          128,
          128,
          128,
          128,
          128,
          128,
          128,
          128,
          128,
          128,
          129,
          130,
          130,
          130,
          130,
          133,
          133,
          133,
          133,
          134,
          134,
          134,
          136,
          136,
          136,
          137,
          137,
          137,
          141,
          141,
          146,
          152,
          155,
          157,
          159,
          163,
          167,
          170
         ]
        }
       ],
       "layout": {
        "legend": {
         "bgcolor": "#F5F6F9",
         "font": {
          "color": "#4D5663"
         }
        },
        "paper_bgcolor": "#F5F6F9",
        "plot_bgcolor": "#F5F6F9",
        "template": {
         "data": {
          "bar": [
           {
            "error_x": {
             "color": "#2a3f5f"
            },
            "error_y": {
             "color": "#2a3f5f"
            },
            "marker": {
             "line": {
              "color": "#E5ECF6",
              "width": 0.5
             }
            },
            "type": "bar"
           }
          ],
          "barpolar": [
           {
            "marker": {
             "line": {
              "color": "#E5ECF6",
              "width": 0.5
             }
            },
            "type": "barpolar"
           }
          ],
          "carpet": [
           {
            "aaxis": {
             "endlinecolor": "#2a3f5f",
             "gridcolor": "white",
             "linecolor": "white",
             "minorgridcolor": "white",
             "startlinecolor": "#2a3f5f"
            },
            "baxis": {
             "endlinecolor": "#2a3f5f",
             "gridcolor": "white",
             "linecolor": "white",
             "minorgridcolor": "white",
             "startlinecolor": "#2a3f5f"
            },
            "type": "carpet"
           }
          ],
          "choropleth": [
           {
            "colorbar": {
             "outlinewidth": 0,
             "ticks": ""
            },
            "type": "choropleth"
           }
          ],
          "contour": [
           {
            "colorbar": {
             "outlinewidth": 0,
             "ticks": ""
            },
            "colorscale": [
             [
              0,
              "#0d0887"
             ],
             [
              0.1111111111111111,
              "#46039f"
             ],
             [
              0.2222222222222222,
              "#7201a8"
             ],
             [
              0.3333333333333333,
              "#9c179e"
             ],
             [
              0.4444444444444444,
              "#bd3786"
             ],
             [
              0.5555555555555556,
              "#d8576b"
             ],
             [
              0.6666666666666666,
              "#ed7953"
             ],
             [
              0.7777777777777778,
              "#fb9f3a"
             ],
             [
              0.8888888888888888,
              "#fdca26"
             ],
             [
              1,
              "#f0f921"
             ]
            ],
            "type": "contour"
           }
          ],
          "contourcarpet": [
           {
            "colorbar": {
             "outlinewidth": 0,
             "ticks": ""
            },
            "type": "contourcarpet"
           }
          ],
          "heatmap": [
           {
            "colorbar": {
             "outlinewidth": 0,
             "ticks": ""
            },
            "colorscale": [
             [
              0,
              "#0d0887"
             ],
             [
              0.1111111111111111,
              "#46039f"
             ],
             [
              0.2222222222222222,
              "#7201a8"
             ],
             [
              0.3333333333333333,
              "#9c179e"
             ],
             [
              0.4444444444444444,
              "#bd3786"
             ],
             [
              0.5555555555555556,
              "#d8576b"
             ],
             [
              0.6666666666666666,
              "#ed7953"
             ],
             [
              0.7777777777777778,
              "#fb9f3a"
             ],
             [
              0.8888888888888888,
              "#fdca26"
             ],
             [
              1,
              "#f0f921"
             ]
            ],
            "type": "heatmap"
           }
          ],
          "heatmapgl": [
           {
            "colorbar": {
             "outlinewidth": 0,
             "ticks": ""
            },
            "colorscale": [
             [
              0,
              "#0d0887"
             ],
             [
              0.1111111111111111,
              "#46039f"
             ],
             [
              0.2222222222222222,
              "#7201a8"
             ],
             [
              0.3333333333333333,
              "#9c179e"
             ],
             [
              0.4444444444444444,
              "#bd3786"
             ],
             [
              0.5555555555555556,
              "#d8576b"
             ],
             [
              0.6666666666666666,
              "#ed7953"
             ],
             [
              0.7777777777777778,
              "#fb9f3a"
             ],
             [
              0.8888888888888888,
              "#fdca26"
             ],
             [
              1,
              "#f0f921"
             ]
            ],
            "type": "heatmapgl"
           }
          ],
          "histogram": [
           {
            "marker": {
             "colorbar": {
              "outlinewidth": 0,
              "ticks": ""
             }
            },
            "type": "histogram"
           }
          ],
          "histogram2d": [
           {
            "colorbar": {
             "outlinewidth": 0,
             "ticks": ""
            },
            "colorscale": [
             [
              0,
              "#0d0887"
             ],
             [
              0.1111111111111111,
              "#46039f"
             ],
             [
              0.2222222222222222,
              "#7201a8"
             ],
             [
              0.3333333333333333,
              "#9c179e"
             ],
             [
              0.4444444444444444,
              "#bd3786"
             ],
             [
              0.5555555555555556,
              "#d8576b"
             ],
             [
              0.6666666666666666,
              "#ed7953"
             ],
             [
              0.7777777777777778,
              "#fb9f3a"
             ],
             [
              0.8888888888888888,
              "#fdca26"
             ],
             [
              1,
              "#f0f921"
             ]
            ],
            "type": "histogram2d"
           }
          ],
          "histogram2dcontour": [
           {
            "colorbar": {
             "outlinewidth": 0,
             "ticks": ""
            },
            "colorscale": [
             [
              0,
              "#0d0887"
             ],
             [
              0.1111111111111111,
              "#46039f"
             ],
             [
              0.2222222222222222,
              "#7201a8"
             ],
             [
              0.3333333333333333,
              "#9c179e"
             ],
             [
              0.4444444444444444,
              "#bd3786"
             ],
             [
              0.5555555555555556,
              "#d8576b"
             ],
             [
              0.6666666666666666,
              "#ed7953"
             ],
             [
              0.7777777777777778,
              "#fb9f3a"
             ],
             [
              0.8888888888888888,
              "#fdca26"
             ],
             [
              1,
              "#f0f921"
             ]
            ],
            "type": "histogram2dcontour"
           }
          ],
          "mesh3d": [
           {
            "colorbar": {
             "outlinewidth": 0,
             "ticks": ""
            },
            "type": "mesh3d"
           }
          ],
          "parcoords": [
           {
            "line": {
             "colorbar": {
              "outlinewidth": 0,
              "ticks": ""
             }
            },
            "type": "parcoords"
           }
          ],
          "pie": [
           {
            "automargin": true,
            "type": "pie"
           }
          ],
          "scatter": [
           {
            "marker": {
             "colorbar": {
              "outlinewidth": 0,
              "ticks": ""
             }
            },
            "type": "scatter"
           }
          ],
          "scatter3d": [
           {
            "line": {
             "colorbar": {
              "outlinewidth": 0,
              "ticks": ""
             }
            },
            "marker": {
             "colorbar": {
              "outlinewidth": 0,
              "ticks": ""
             }
            },
            "type": "scatter3d"
           }
          ],
          "scattercarpet": [
           {
            "marker": {
             "colorbar": {
              "outlinewidth": 0,
              "ticks": ""
             }
            },
            "type": "scattercarpet"
           }
          ],
          "scattergeo": [
           {
            "marker": {
             "colorbar": {
              "outlinewidth": 0,
              "ticks": ""
             }
            },
            "type": "scattergeo"
           }
          ],
          "scattergl": [
           {
            "marker": {
             "colorbar": {
              "outlinewidth": 0,
              "ticks": ""
             }
            },
            "type": "scattergl"
           }
          ],
          "scattermapbox": [
           {
            "marker": {
             "colorbar": {
              "outlinewidth": 0,
              "ticks": ""
             }
            },
            "type": "scattermapbox"
           }
          ],
          "scatterpolar": [
           {
            "marker": {
             "colorbar": {
              "outlinewidth": 0,
              "ticks": ""
             }
            },
            "type": "scatterpolar"
           }
          ],
          "scatterpolargl": [
           {
            "marker": {
             "colorbar": {
              "outlinewidth": 0,
              "ticks": ""
             }
            },
            "type": "scatterpolargl"
           }
          ],
          "scatterternary": [
           {
            "marker": {
             "colorbar": {
              "outlinewidth": 0,
              "ticks": ""
             }
            },
            "type": "scatterternary"
           }
          ],
          "surface": [
           {
            "colorbar": {
             "outlinewidth": 0,
             "ticks": ""
            },
            "colorscale": [
             [
              0,
              "#0d0887"
             ],
             [
              0.1111111111111111,
              "#46039f"
             ],
             [
              0.2222222222222222,
              "#7201a8"
             ],
             [
              0.3333333333333333,
              "#9c179e"
             ],
             [
              0.4444444444444444,
              "#bd3786"
             ],
             [
              0.5555555555555556,
              "#d8576b"
             ],
             [
              0.6666666666666666,
              "#ed7953"
             ],
             [
              0.7777777777777778,
              "#fb9f3a"
             ],
             [
              0.8888888888888888,
              "#fdca26"
             ],
             [
              1,
              "#f0f921"
             ]
            ],
            "type": "surface"
           }
          ],
          "table": [
           {
            "cells": {
             "fill": {
              "color": "#EBF0F8"
             },
             "line": {
              "color": "white"
             }
            },
            "header": {
             "fill": {
              "color": "#C8D4E3"
             },
             "line": {
              "color": "white"
             }
            },
            "type": "table"
           }
          ]
         },
         "layout": {
          "annotationdefaults": {
           "arrowcolor": "#2a3f5f",
           "arrowhead": 0,
           "arrowwidth": 1
          },
          "coloraxis": {
           "colorbar": {
            "outlinewidth": 0,
            "ticks": ""
           }
          },
          "colorscale": {
           "diverging": [
            [
             0,
             "#8e0152"
            ],
            [
             0.1,
             "#c51b7d"
            ],
            [
             0.2,
             "#de77ae"
            ],
            [
             0.3,
             "#f1b6da"
            ],
            [
             0.4,
             "#fde0ef"
            ],
            [
             0.5,
             "#f7f7f7"
            ],
            [
             0.6,
             "#e6f5d0"
            ],
            [
             0.7,
             "#b8e186"
            ],
            [
             0.8,
             "#7fbc41"
            ],
            [
             0.9,
             "#4d9221"
            ],
            [
             1,
             "#276419"
            ]
           ],
           "sequential": [
            [
             0,
             "#0d0887"
            ],
            [
             0.1111111111111111,
             "#46039f"
            ],
            [
             0.2222222222222222,
             "#7201a8"
            ],
            [
             0.3333333333333333,
             "#9c179e"
            ],
            [
             0.4444444444444444,
             "#bd3786"
            ],
            [
             0.5555555555555556,
             "#d8576b"
            ],
            [
             0.6666666666666666,
             "#ed7953"
            ],
            [
             0.7777777777777778,
             "#fb9f3a"
            ],
            [
             0.8888888888888888,
             "#fdca26"
            ],
            [
             1,
             "#f0f921"
            ]
           ],
           "sequentialminus": [
            [
             0,
             "#0d0887"
            ],
            [
             0.1111111111111111,
             "#46039f"
            ],
            [
             0.2222222222222222,
             "#7201a8"
            ],
            [
             0.3333333333333333,
             "#9c179e"
            ],
            [
             0.4444444444444444,
             "#bd3786"
            ],
            [
             0.5555555555555556,
             "#d8576b"
            ],
            [
             0.6666666666666666,
             "#ed7953"
            ],
            [
             0.7777777777777778,
             "#fb9f3a"
            ],
            [
             0.8888888888888888,
             "#fdca26"
            ],
            [
             1,
             "#f0f921"
            ]
           ]
          },
          "colorway": [
           "#636efa",
           "#EF553B",
           "#00cc96",
           "#ab63fa",
           "#FFA15A",
           "#19d3f3",
           "#FF6692",
           "#B6E880",
           "#FF97FF",
           "#FECB52"
          ],
          "font": {
           "color": "#2a3f5f"
          },
          "geo": {
           "bgcolor": "white",
           "lakecolor": "white",
           "landcolor": "#E5ECF6",
           "showlakes": true,
           "showland": true,
           "subunitcolor": "white"
          },
          "hoverlabel": {
           "align": "left"
          },
          "hovermode": "closest",
          "mapbox": {
           "style": "light"
          },
          "paper_bgcolor": "white",
          "plot_bgcolor": "#E5ECF6",
          "polar": {
           "angularaxis": {
            "gridcolor": "white",
            "linecolor": "white",
            "ticks": ""
           },
           "bgcolor": "#E5ECF6",
           "radialaxis": {
            "gridcolor": "white",
            "linecolor": "white",
            "ticks": ""
           }
          },
          "scene": {
           "xaxis": {
            "backgroundcolor": "#E5ECF6",
            "gridcolor": "white",
            "gridwidth": 2,
            "linecolor": "white",
            "showbackground": true,
            "ticks": "",
            "zerolinecolor": "white"
           },
           "yaxis": {
            "backgroundcolor": "#E5ECF6",
            "gridcolor": "white",
            "gridwidth": 2,
            "linecolor": "white",
            "showbackground": true,
            "ticks": "",
            "zerolinecolor": "white"
           },
           "zaxis": {
            "backgroundcolor": "#E5ECF6",
            "gridcolor": "white",
            "gridwidth": 2,
            "linecolor": "white",
            "showbackground": true,
            "ticks": "",
            "zerolinecolor": "white"
           }
          },
          "shapedefaults": {
           "line": {
            "color": "#2a3f5f"
           }
          },
          "ternary": {
           "aaxis": {
            "gridcolor": "white",
            "linecolor": "white",
            "ticks": ""
           },
           "baxis": {
            "gridcolor": "white",
            "linecolor": "white",
            "ticks": ""
           },
           "bgcolor": "#E5ECF6",
           "caxis": {
            "gridcolor": "white",
            "linecolor": "white",
            "ticks": ""
           }
          },
          "title": {
           "x": 0.05
          },
          "xaxis": {
           "automargin": true,
           "gridcolor": "white",
           "linecolor": "white",
           "ticks": "",
           "title": {
            "standoff": 15
           },
           "zerolinecolor": "white",
           "zerolinewidth": 2
          },
          "yaxis": {
           "automargin": true,
           "gridcolor": "white",
           "linecolor": "white",
           "ticks": "",
           "title": {
            "standoff": 15
           },
           "zerolinecolor": "white",
           "zerolinewidth": 2
          }
         }
        },
        "title": {
         "font": {
          "color": "#4D5663"
         },
         "text": "Time series of mortality cases of countries "
        },
        "xaxis": {
         "gridcolor": "#E1E5ED",
         "showgrid": true,
         "tickfont": {
          "color": "#4D5663"
         },
         "title": {
          "font": {
           "color": "#4D5663"
          },
          "text": ""
         },
         "zerolinecolor": "#E1E5ED"
        },
        "yaxis": {
         "gridcolor": "#E1E5ED",
         "showgrid": true,
         "tickfont": {
          "color": "#4D5663"
         },
         "title": {
          "font": {
           "color": "#4D5663"
          },
          "text": ""
         },
         "zerolinecolor": "#E1E5ED"
        }
       }
      },
      "text/html": [
       "<div>                            <div id=\"d323fa25-86ec-4608-b02a-aa5a10742328\" class=\"plotly-graph-div\" style=\"height:525px; width:100%;\"></div>            <script type=\"text/javascript\">                require([\"plotly\"], function(Plotly) {                    window.PLOTLYENV=window.PLOTLYENV || {};\n",
       "                    window.PLOTLYENV.BASE_URL='https://plot.ly';                                    if (document.getElementById(\"d323fa25-86ec-4608-b02a-aa5a10742328\")) {                    Plotly.newPlot(                        \"d323fa25-86ec-4608-b02a-aa5a10742328\",                        [{\"line\": {\"color\": \"rgba(255, 153, 51, 1.0)\", \"dash\": \"solid\", \"shape\": \"linear\", \"width\": 1.3}, \"mode\": \"lines\", \"name\": \"India\", \"text\": \"\", \"type\": \"scatter\", \"x\": [\"8/31/20\", \"9/1/20\", \"9/2/20\", \"9/3/20\", \"9/4/20\", \"9/5/20\", \"9/6/20\", \"9/7/20\", \"9/8/20\", \"9/9/20\", \"9/10/20\", \"9/11/20\", \"9/12/20\", \"9/13/20\", \"9/14/20\", \"9/15/20\", \"9/16/20\", \"9/17/20\", \"9/18/20\", \"9/19/20\", \"9/20/20\", \"9/21/20\", \"9/22/20\", \"9/23/20\", \"9/24/20\", \"9/25/20\", \"9/26/20\", \"9/27/20\", \"9/28/20\", \"9/29/20\", \"9/30/20\", \"10/1/20\", \"10/2/20\", \"10/3/20\", \"10/4/20\", \"10/5/20\", \"10/6/20\", \"10/7/20\", \"10/8/20\", \"10/9/20\", \"10/10/20\", \"10/11/20\", \"10/12/20\", \"10/13/20\", \"10/14/20\", \"10/15/20\"], \"y\": [65288, 66333, 67376, 68472, 69561, 70626, 71642, 72775, 73890, 75062, 76271, 77472, 78586, 79722, 80776, 82066, 83198, 84372, 85619, 86752, 87882, 88935, 90020, 91149, 92290, 93379, 94503, 95542, 96318, 97497, 98678, 99773, 100842, 101782, 102685, 103569, 104555, 105526, 106490, 107416, 108334, 109150, 109856, 110586, 111266, 112161]}, {\"line\": {\"color\": \"rgba(55, 128, 191, 1.0)\", \"dash\": \"solid\", \"shape\": \"linear\", \"width\": 1.3}, \"mode\": \"lines\", \"name\": \"Netherlands\", \"text\": \"\", \"type\": \"scatter\", \"x\": [\"8/31/20\", \"9/1/20\", \"9/2/20\", \"9/3/20\", \"9/4/20\", \"9/5/20\", \"9/6/20\", \"9/7/20\", \"9/8/20\", \"9/9/20\", \"9/10/20\", \"9/11/20\", \"9/12/20\", \"9/13/20\", \"9/14/20\", \"9/15/20\", \"9/16/20\", \"9/17/20\", \"9/18/20\", \"9/19/20\", \"9/20/20\", \"9/21/20\", \"9/22/20\", \"9/23/20\", \"9/24/20\", \"9/25/20\", \"9/26/20\", \"9/27/20\", \"9/28/20\", \"9/29/20\", \"9/30/20\", \"10/1/20\", \"10/2/20\", \"10/3/20\", \"10/4/20\", \"10/5/20\", \"10/6/20\", \"10/7/20\", \"10/8/20\", \"10/9/20\", \"10/10/20\", \"10/11/20\", \"10/12/20\", \"10/13/20\", \"10/14/20\", \"10/15/20\"], \"y\": [6224, 6230, 6235, 6235, 6237, 6241, 6243, 6243, 6244, 6246, 6249, 6252, 6253, 6254, 6256, 6258, 6260, 6266, 6273, 6275, 6279, 6281, 6291, 6296, 6312, 6328, 6366, 6374, 6380, 6393, 6406, 6419, 6428, 6449, 6454, 6454, 6482, 6518, 6531, 6544, 6567, 6584, 6596, 6631, 6663, 6692]}, {\"line\": {\"color\": \"rgba(50, 171, 96, 1.0)\", \"dash\": \"solid\", \"shape\": \"linear\", \"width\": 1.3}, \"mode\": \"lines\", \"name\": \"Sweden\", \"text\": \"\", \"type\": \"scatter\", \"x\": [\"8/31/20\", \"9/1/20\", \"9/2/20\", \"9/3/20\", \"9/4/20\", \"9/5/20\", \"9/6/20\", \"9/7/20\", \"9/8/20\", \"9/9/20\", \"9/10/20\", \"9/11/20\", \"9/12/20\", \"9/13/20\", \"9/14/20\", \"9/15/20\", \"9/16/20\", \"9/17/20\", \"9/18/20\", \"9/19/20\", \"9/20/20\", \"9/21/20\", \"9/22/20\", \"9/23/20\", \"9/24/20\", \"9/25/20\", \"9/26/20\", \"9/27/20\", \"9/28/20\", \"9/29/20\", \"9/30/20\", \"10/1/20\", \"10/2/20\", \"10/3/20\", \"10/4/20\", \"10/5/20\", \"10/6/20\", \"10/7/20\", \"10/8/20\", \"10/9/20\", \"10/10/20\", \"10/11/20\", \"10/12/20\", \"10/13/20\", \"10/14/20\", \"10/15/20\"], \"y\": [5808, 5813, 5820, 5832, 5835, 5835, 5835, 5837, 5838, 5842, 5843, 5846, 5846, 5846, 5846, 5851, 5860, 5864, 5865, 5865, 5865, 5865, 5870, 5876, 5878, 5880, 5880, 5880, 5880, 5890, 5893, 5893, 5895, 5895, 5895, 5895, 5883, 5892, 5892, 5894, 5894, 5894, 5894, 5899, 5907, 5910]}, {\"line\": {\"color\": \"rgba(128, 0, 128, 1.0)\", \"dash\": \"solid\", \"shape\": \"linear\", \"width\": 1.3}, \"mode\": \"lines\", \"name\": \"Malaysia\", \"text\": \"\", \"type\": \"scatter\", \"x\": [\"8/31/20\", \"9/1/20\", \"9/2/20\", \"9/3/20\", \"9/4/20\", \"9/5/20\", \"9/6/20\", \"9/7/20\", \"9/8/20\", \"9/9/20\", \"9/10/20\", \"9/11/20\", \"9/12/20\", \"9/13/20\", \"9/14/20\", \"9/15/20\", \"9/16/20\", \"9/17/20\", \"9/18/20\", \"9/19/20\", \"9/20/20\", \"9/21/20\", \"9/22/20\", \"9/23/20\", \"9/24/20\", \"9/25/20\", \"9/26/20\", \"9/27/20\", \"9/28/20\", \"9/29/20\", \"9/30/20\", \"10/1/20\", \"10/2/20\", \"10/3/20\", \"10/4/20\", \"10/5/20\", \"10/6/20\", \"10/7/20\", \"10/8/20\", \"10/9/20\", \"10/10/20\", \"10/11/20\", \"10/12/20\", \"10/13/20\", \"10/14/20\", \"10/15/20\"], \"y\": [127, 128, 128, 128, 128, 128, 128, 128, 128, 128, 128, 128, 128, 128, 128, 128, 128, 128, 129, 130, 130, 130, 130, 133, 133, 133, 133, 134, 134, 134, 136, 136, 136, 137, 137, 137, 141, 141, 146, 152, 155, 157, 159, 163, 167, 170]}],                        {\"legend\": {\"bgcolor\": \"#F5F6F9\", \"font\": {\"color\": \"#4D5663\"}}, \"paper_bgcolor\": \"#F5F6F9\", \"plot_bgcolor\": \"#F5F6F9\", \"template\": {\"data\": {\"bar\": [{\"error_x\": {\"color\": \"#2a3f5f\"}, \"error_y\": {\"color\": \"#2a3f5f\"}, \"marker\": {\"line\": {\"color\": \"#E5ECF6\", \"width\": 0.5}}, \"type\": \"bar\"}], \"barpolar\": [{\"marker\": {\"line\": {\"color\": \"#E5ECF6\", \"width\": 0.5}}, \"type\": \"barpolar\"}], \"carpet\": [{\"aaxis\": {\"endlinecolor\": \"#2a3f5f\", \"gridcolor\": \"white\", \"linecolor\": \"white\", \"minorgridcolor\": \"white\", \"startlinecolor\": \"#2a3f5f\"}, \"baxis\": {\"endlinecolor\": \"#2a3f5f\", \"gridcolor\": \"white\", \"linecolor\": \"white\", \"minorgridcolor\": \"white\", \"startlinecolor\": \"#2a3f5f\"}, \"type\": \"carpet\"}], \"choropleth\": [{\"colorbar\": {\"outlinewidth\": 0, \"ticks\": \"\"}, \"type\": \"choropleth\"}], \"contour\": [{\"colorbar\": {\"outlinewidth\": 0, \"ticks\": \"\"}, \"colorscale\": [[0.0, \"#0d0887\"], [0.1111111111111111, \"#46039f\"], [0.2222222222222222, \"#7201a8\"], [0.3333333333333333, \"#9c179e\"], [0.4444444444444444, \"#bd3786\"], [0.5555555555555556, \"#d8576b\"], [0.6666666666666666, \"#ed7953\"], [0.7777777777777778, \"#fb9f3a\"], [0.8888888888888888, \"#fdca26\"], [1.0, \"#f0f921\"]], \"type\": \"contour\"}], \"contourcarpet\": [{\"colorbar\": {\"outlinewidth\": 0, \"ticks\": \"\"}, \"type\": \"contourcarpet\"}], \"heatmap\": [{\"colorbar\": {\"outlinewidth\": 0, \"ticks\": \"\"}, \"colorscale\": [[0.0, \"#0d0887\"], [0.1111111111111111, \"#46039f\"], [0.2222222222222222, \"#7201a8\"], [0.3333333333333333, \"#9c179e\"], [0.4444444444444444, \"#bd3786\"], [0.5555555555555556, \"#d8576b\"], [0.6666666666666666, \"#ed7953\"], [0.7777777777777778, \"#fb9f3a\"], [0.8888888888888888, \"#fdca26\"], [1.0, \"#f0f921\"]], \"type\": \"heatmap\"}], \"heatmapgl\": [{\"colorbar\": {\"outlinewidth\": 0, \"ticks\": \"\"}, \"colorscale\": [[0.0, \"#0d0887\"], [0.1111111111111111, \"#46039f\"], [0.2222222222222222, \"#7201a8\"], [0.3333333333333333, \"#9c179e\"], [0.4444444444444444, \"#bd3786\"], [0.5555555555555556, \"#d8576b\"], [0.6666666666666666, \"#ed7953\"], [0.7777777777777778, \"#fb9f3a\"], [0.8888888888888888, \"#fdca26\"], [1.0, \"#f0f921\"]], \"type\": \"heatmapgl\"}], \"histogram\": [{\"marker\": {\"colorbar\": {\"outlinewidth\": 0, \"ticks\": \"\"}}, \"type\": \"histogram\"}], \"histogram2d\": [{\"colorbar\": {\"outlinewidth\": 0, \"ticks\": \"\"}, \"colorscale\": [[0.0, \"#0d0887\"], [0.1111111111111111, \"#46039f\"], [0.2222222222222222, \"#7201a8\"], [0.3333333333333333, \"#9c179e\"], [0.4444444444444444, \"#bd3786\"], [0.5555555555555556, \"#d8576b\"], [0.6666666666666666, \"#ed7953\"], [0.7777777777777778, \"#fb9f3a\"], [0.8888888888888888, \"#fdca26\"], [1.0, \"#f0f921\"]], \"type\": \"histogram2d\"}], \"histogram2dcontour\": [{\"colorbar\": {\"outlinewidth\": 0, \"ticks\": \"\"}, \"colorscale\": [[0.0, \"#0d0887\"], [0.1111111111111111, \"#46039f\"], [0.2222222222222222, \"#7201a8\"], [0.3333333333333333, \"#9c179e\"], [0.4444444444444444, \"#bd3786\"], [0.5555555555555556, \"#d8576b\"], [0.6666666666666666, \"#ed7953\"], [0.7777777777777778, \"#fb9f3a\"], [0.8888888888888888, \"#fdca26\"], [1.0, \"#f0f921\"]], \"type\": \"histogram2dcontour\"}], \"mesh3d\": [{\"colorbar\": {\"outlinewidth\": 0, \"ticks\": \"\"}, \"type\": \"mesh3d\"}], \"parcoords\": [{\"line\": {\"colorbar\": {\"outlinewidth\": 0, \"ticks\": \"\"}}, \"type\": \"parcoords\"}], \"pie\": [{\"automargin\": true, \"type\": \"pie\"}], \"scatter\": [{\"marker\": {\"colorbar\": {\"outlinewidth\": 0, \"ticks\": \"\"}}, \"type\": \"scatter\"}], \"scatter3d\": [{\"line\": {\"colorbar\": {\"outlinewidth\": 0, \"ticks\": \"\"}}, \"marker\": {\"colorbar\": {\"outlinewidth\": 0, \"ticks\": \"\"}}, \"type\": \"scatter3d\"}], \"scattercarpet\": [{\"marker\": {\"colorbar\": {\"outlinewidth\": 0, \"ticks\": \"\"}}, \"type\": \"scattercarpet\"}], \"scattergeo\": [{\"marker\": {\"colorbar\": {\"outlinewidth\": 0, \"ticks\": \"\"}}, \"type\": \"scattergeo\"}], \"scattergl\": [{\"marker\": {\"colorbar\": {\"outlinewidth\": 0, \"ticks\": \"\"}}, \"type\": \"scattergl\"}], \"scattermapbox\": [{\"marker\": {\"colorbar\": {\"outlinewidth\": 0, \"ticks\": \"\"}}, \"type\": \"scattermapbox\"}], \"scatterpolar\": [{\"marker\": {\"colorbar\": {\"outlinewidth\": 0, \"ticks\": \"\"}}, \"type\": \"scatterpolar\"}], \"scatterpolargl\": [{\"marker\": {\"colorbar\": {\"outlinewidth\": 0, \"ticks\": \"\"}}, \"type\": \"scatterpolargl\"}], \"scatterternary\": [{\"marker\": {\"colorbar\": {\"outlinewidth\": 0, \"ticks\": \"\"}}, \"type\": \"scatterternary\"}], \"surface\": [{\"colorbar\": {\"outlinewidth\": 0, \"ticks\": \"\"}, \"colorscale\": [[0.0, \"#0d0887\"], [0.1111111111111111, \"#46039f\"], [0.2222222222222222, \"#7201a8\"], [0.3333333333333333, \"#9c179e\"], [0.4444444444444444, \"#bd3786\"], [0.5555555555555556, \"#d8576b\"], [0.6666666666666666, \"#ed7953\"], [0.7777777777777778, \"#fb9f3a\"], [0.8888888888888888, \"#fdca26\"], [1.0, \"#f0f921\"]], \"type\": \"surface\"}], \"table\": [{\"cells\": {\"fill\": {\"color\": \"#EBF0F8\"}, \"line\": {\"color\": \"white\"}}, \"header\": {\"fill\": {\"color\": \"#C8D4E3\"}, \"line\": {\"color\": \"white\"}}, \"type\": \"table\"}]}, \"layout\": {\"annotationdefaults\": {\"arrowcolor\": \"#2a3f5f\", \"arrowhead\": 0, \"arrowwidth\": 1}, \"coloraxis\": {\"colorbar\": {\"outlinewidth\": 0, \"ticks\": \"\"}}, \"colorscale\": {\"diverging\": [[0, \"#8e0152\"], [0.1, \"#c51b7d\"], [0.2, \"#de77ae\"], [0.3, \"#f1b6da\"], [0.4, \"#fde0ef\"], [0.5, \"#f7f7f7\"], [0.6, \"#e6f5d0\"], [0.7, \"#b8e186\"], [0.8, \"#7fbc41\"], [0.9, \"#4d9221\"], [1, \"#276419\"]], \"sequential\": [[0.0, \"#0d0887\"], [0.1111111111111111, \"#46039f\"], [0.2222222222222222, \"#7201a8\"], [0.3333333333333333, \"#9c179e\"], [0.4444444444444444, \"#bd3786\"], [0.5555555555555556, \"#d8576b\"], [0.6666666666666666, \"#ed7953\"], [0.7777777777777778, \"#fb9f3a\"], [0.8888888888888888, \"#fdca26\"], [1.0, \"#f0f921\"]], \"sequentialminus\": [[0.0, \"#0d0887\"], [0.1111111111111111, \"#46039f\"], [0.2222222222222222, \"#7201a8\"], [0.3333333333333333, \"#9c179e\"], [0.4444444444444444, \"#bd3786\"], [0.5555555555555556, \"#d8576b\"], [0.6666666666666666, \"#ed7953\"], [0.7777777777777778, \"#fb9f3a\"], [0.8888888888888888, \"#fdca26\"], [1.0, \"#f0f921\"]]}, \"colorway\": [\"#636efa\", \"#EF553B\", \"#00cc96\", \"#ab63fa\", \"#FFA15A\", \"#19d3f3\", \"#FF6692\", \"#B6E880\", \"#FF97FF\", \"#FECB52\"], \"font\": {\"color\": \"#2a3f5f\"}, \"geo\": {\"bgcolor\": \"white\", \"lakecolor\": \"white\", \"landcolor\": \"#E5ECF6\", \"showlakes\": true, \"showland\": true, \"subunitcolor\": \"white\"}, \"hoverlabel\": {\"align\": \"left\"}, \"hovermode\": \"closest\", \"mapbox\": {\"style\": \"light\"}, \"paper_bgcolor\": \"white\", \"plot_bgcolor\": \"#E5ECF6\", \"polar\": {\"angularaxis\": {\"gridcolor\": \"white\", \"linecolor\": \"white\", \"ticks\": \"\"}, \"bgcolor\": \"#E5ECF6\", \"radialaxis\": {\"gridcolor\": \"white\", \"linecolor\": \"white\", \"ticks\": \"\"}}, \"scene\": {\"xaxis\": {\"backgroundcolor\": \"#E5ECF6\", \"gridcolor\": \"white\", \"gridwidth\": 2, \"linecolor\": \"white\", \"showbackground\": true, \"ticks\": \"\", \"zerolinecolor\": \"white\"}, \"yaxis\": {\"backgroundcolor\": \"#E5ECF6\", \"gridcolor\": \"white\", \"gridwidth\": 2, \"linecolor\": \"white\", \"showbackground\": true, \"ticks\": \"\", \"zerolinecolor\": \"white\"}, \"zaxis\": {\"backgroundcolor\": \"#E5ECF6\", \"gridcolor\": \"white\", \"gridwidth\": 2, \"linecolor\": \"white\", \"showbackground\": true, \"ticks\": \"\", \"zerolinecolor\": \"white\"}}, \"shapedefaults\": {\"line\": {\"color\": \"#2a3f5f\"}}, \"ternary\": {\"aaxis\": {\"gridcolor\": \"white\", \"linecolor\": \"white\", \"ticks\": \"\"}, \"baxis\": {\"gridcolor\": \"white\", \"linecolor\": \"white\", \"ticks\": \"\"}, \"bgcolor\": \"#E5ECF6\", \"caxis\": {\"gridcolor\": \"white\", \"linecolor\": \"white\", \"ticks\": \"\"}}, \"title\": {\"x\": 0.05}, \"xaxis\": {\"automargin\": true, \"gridcolor\": \"white\", \"linecolor\": \"white\", \"ticks\": \"\", \"title\": {\"standoff\": 15}, \"zerolinecolor\": \"white\", \"zerolinewidth\": 2}, \"yaxis\": {\"automargin\": true, \"gridcolor\": \"white\", \"linecolor\": \"white\", \"ticks\": \"\", \"title\": {\"standoff\": 15}, \"zerolinecolor\": \"white\", \"zerolinewidth\": 2}}}, \"title\": {\"font\": {\"color\": \"#4D5663\"}, \"text\": \"Time series of mortality cases of countries \"}, \"xaxis\": {\"gridcolor\": \"#E1E5ED\", \"showgrid\": true, \"tickfont\": {\"color\": \"#4D5663\"}, \"title\": {\"font\": {\"color\": \"#4D5663\"}, \"text\": \"\"}, \"zerolinecolor\": \"#E1E5ED\"}, \"yaxis\": {\"gridcolor\": \"#E1E5ED\", \"showgrid\": true, \"tickfont\": {\"color\": \"#4D5663\"}, \"title\": {\"font\": {\"color\": \"#4D5663\"}, \"text\": \"\"}, \"zerolinecolor\": \"#E1E5ED\"}},                        {\"showLink\": true, \"linkText\": \"Export to plot.ly\", \"plotlyServerURL\": \"https://plot.ly\", \"responsive\": true}                    ).then(function(){\n",
       "                            \n",
       "var gd = document.getElementById('d323fa25-86ec-4608-b02a-aa5a10742328');\n",
       "var x = new MutationObserver(function (mutations, observer) {{\n",
       "        var display = window.getComputedStyle(gd).display;\n",
       "        if (!display || display === 'none') {{\n",
       "            console.log([gd, 'removed!']);\n",
       "            Plotly.purge(gd);\n",
       "            observer.disconnect();\n",
       "        }}\n",
       "}});\n",
       "\n",
       "// Listen for the removal of the full notebook cells\n",
       "var notebookContainer = gd.closest('#notebook-container');\n",
       "if (notebookContainer) {{\n",
       "    x.observe(notebookContainer, {childList: true});\n",
       "}}\n",
       "\n",
       "// Listen for the clearing of the current output cell\n",
       "var outputEl = gd.closest('.output');\n",
       "if (outputEl) {{\n",
       "    x.observe(outputEl, {childList: true});\n",
       "}}\n",
       "\n",
       "                        })                };                });            </script>        </div>"
      ]
     },
     "metadata": {},
     "output_type": "display_data"
    }
   ],
   "source": [
    "#Time series plot of mortality cases for 4 selected countries \n",
    "covid_filtered1 = covid_filtered1.groupby(['Country']).sum()\n",
    "\n",
    "#get countries with most cases on last date in dataframe\n",
    "covid_filtered1 = covid_filtered1.sort_values(by = covid_filtered1.columns[-1], ascending = False).head(4)\n",
    "\n",
    "covid_filtered1.transpose().iplot(title = 'Time series of mortality cases of countries ')"
   ]
  },
  {
   "cell_type": "markdown",
   "metadata": {},
   "source": [
    "As per the data , which is corresponding to September till date it can be seen that Malaysia has a very low mortality rate .\n",
    "While though India being the highest in the no.of confirmed cases (nearly 80 million) reported so far , the death percentage seems low in proportion to the huge number of cases.  The population and population density are also two major factors contributing to the rapid increase in India."
   ]
  },
  {
   "cell_type": "code",
   "execution_count": 11,
   "metadata": {},
   "outputs": [],
   "source": [
    "#Converting the data into long format for ease of analysis and further interpretation.\n",
    "\n",
    "dates = covid_confirmed.columns[4:]\n",
    "\n",
    "covid_confirmed_long = covid_confirmed.melt(\n",
    "    id_vars=['Province/State', 'Country', 'Lat', 'Long'], \n",
    "    value_vars=dates, \n",
    "    var_name='date', \n",
    "    value_name='Confirmed'\n",
    ")\n",
    "covid_deaths_long = covid_deaths.melt(\n",
    "    id_vars=['Province/State', 'Country', 'Lat', 'Long'], \n",
    "    value_vars=dates, \n",
    "    var_name='date', \n",
    "    value_name='Deaths'\n",
    ")\n",
    "covid_recovered_long = covid_recovered.melt(\n",
    "    id_vars=['Province/State', 'Country', 'Lat', 'Long'], \n",
    "    value_vars=dates, \n",
    "    var_name='date', \n",
    "    value_name='Recovered'\n",
    ")"
   ]
  },
  {
   "cell_type": "code",
   "execution_count": 12,
   "metadata": {},
   "outputs": [],
   "source": [
    "covid_recovered_long = covid_recovered_long[covid_recovered_long['Country']!='Canada']"
   ]
  },
  {
   "cell_type": "code",
   "execution_count": 13,
   "metadata": {},
   "outputs": [
    {
     "data": {
      "text/html": [
       "<div>\n",
       "<style scoped>\n",
       "    .dataframe tbody tr th:only-of-type {\n",
       "        vertical-align: middle;\n",
       "    }\n",
       "\n",
       "    .dataframe tbody tr th {\n",
       "        vertical-align: top;\n",
       "    }\n",
       "\n",
       "    .dataframe thead th {\n",
       "        text-align: right;\n",
       "    }\n",
       "</style>\n",
       "<table border=\"1\" class=\"dataframe\">\n",
       "  <thead>\n",
       "    <tr style=\"text-align: right;\">\n",
       "      <th></th>\n",
       "      <th>Province/State</th>\n",
       "      <th>Country</th>\n",
       "      <th>Lat</th>\n",
       "      <th>Long</th>\n",
       "      <th>date</th>\n",
       "      <th>Confirmed</th>\n",
       "      <th>Deaths</th>\n",
       "      <th>Recovered</th>\n",
       "    </tr>\n",
       "  </thead>\n",
       "  <tbody>\n",
       "    <tr>\n",
       "      <th>0</th>\n",
       "      <td></td>\n",
       "      <td>Afghanistan</td>\n",
       "      <td>33.939110</td>\n",
       "      <td>67.709953</td>\n",
       "      <td>1/22/20</td>\n",
       "      <td>0</td>\n",
       "      <td>0.0</td>\n",
       "      <td>NaN</td>\n",
       "    </tr>\n",
       "    <tr>\n",
       "      <th>1</th>\n",
       "      <td></td>\n",
       "      <td>Albania</td>\n",
       "      <td>41.153300</td>\n",
       "      <td>20.168300</td>\n",
       "      <td>1/22/20</td>\n",
       "      <td>0</td>\n",
       "      <td>0.0</td>\n",
       "      <td>NaN</td>\n",
       "    </tr>\n",
       "    <tr>\n",
       "      <th>2</th>\n",
       "      <td></td>\n",
       "      <td>Algeria</td>\n",
       "      <td>28.033900</td>\n",
       "      <td>1.659600</td>\n",
       "      <td>1/22/20</td>\n",
       "      <td>0</td>\n",
       "      <td>0.0</td>\n",
       "      <td>NaN</td>\n",
       "    </tr>\n",
       "    <tr>\n",
       "      <th>3</th>\n",
       "      <td></td>\n",
       "      <td>Andorra</td>\n",
       "      <td>42.506300</td>\n",
       "      <td>1.521800</td>\n",
       "      <td>1/22/20</td>\n",
       "      <td>0</td>\n",
       "      <td>0.0</td>\n",
       "      <td>NaN</td>\n",
       "    </tr>\n",
       "    <tr>\n",
       "      <th>4</th>\n",
       "      <td></td>\n",
       "      <td>Angola</td>\n",
       "      <td>-11.202700</td>\n",
       "      <td>17.873900</td>\n",
       "      <td>1/22/20</td>\n",
       "      <td>0</td>\n",
       "      <td>0.0</td>\n",
       "      <td>NaN</td>\n",
       "    </tr>\n",
       "    <tr>\n",
       "      <th>...</th>\n",
       "      <td>...</td>\n",
       "      <td>...</td>\n",
       "      <td>...</td>\n",
       "      <td>...</td>\n",
       "      <td>...</td>\n",
       "      <td>...</td>\n",
       "      <td>...</td>\n",
       "      <td>...</td>\n",
       "    </tr>\n",
       "    <tr>\n",
       "      <th>71551</th>\n",
       "      <td></td>\n",
       "      <td>West Bank and Gaza</td>\n",
       "      <td>31.952200</td>\n",
       "      <td>35.233200</td>\n",
       "      <td>10/15/20</td>\n",
       "      <td>46100</td>\n",
       "      <td>401.0</td>\n",
       "      <td>NaN</td>\n",
       "    </tr>\n",
       "    <tr>\n",
       "      <th>71552</th>\n",
       "      <td></td>\n",
       "      <td>Western Sahara</td>\n",
       "      <td>24.215500</td>\n",
       "      <td>-12.885800</td>\n",
       "      <td>10/15/20</td>\n",
       "      <td>10</td>\n",
       "      <td>1.0</td>\n",
       "      <td>NaN</td>\n",
       "    </tr>\n",
       "    <tr>\n",
       "      <th>71553</th>\n",
       "      <td></td>\n",
       "      <td>Yemen</td>\n",
       "      <td>15.552727</td>\n",
       "      <td>48.516388</td>\n",
       "      <td>10/15/20</td>\n",
       "      <td>2053</td>\n",
       "      <td>NaN</td>\n",
       "      <td>NaN</td>\n",
       "    </tr>\n",
       "    <tr>\n",
       "      <th>71554</th>\n",
       "      <td></td>\n",
       "      <td>Zambia</td>\n",
       "      <td>-13.133897</td>\n",
       "      <td>27.849332</td>\n",
       "      <td>10/15/20</td>\n",
       "      <td>15659</td>\n",
       "      <td>346.0</td>\n",
       "      <td>NaN</td>\n",
       "    </tr>\n",
       "    <tr>\n",
       "      <th>71555</th>\n",
       "      <td></td>\n",
       "      <td>Zimbabwe</td>\n",
       "      <td>-19.015438</td>\n",
       "      <td>29.154857</td>\n",
       "      <td>10/15/20</td>\n",
       "      <td>8075</td>\n",
       "      <td>231.0</td>\n",
       "      <td>NaN</td>\n",
       "    </tr>\n",
       "  </tbody>\n",
       "</table>\n",
       "<p>71556 rows × 8 columns</p>\n",
       "</div>"
      ],
      "text/plain": [
       "      Province/State             Country        Lat       Long      date  \\\n",
       "0                            Afghanistan  33.939110  67.709953   1/22/20   \n",
       "1                                Albania  41.153300  20.168300   1/22/20   \n",
       "2                                Algeria  28.033900   1.659600   1/22/20   \n",
       "3                                Andorra  42.506300   1.521800   1/22/20   \n",
       "4                                 Angola -11.202700  17.873900   1/22/20   \n",
       "...              ...                 ...        ...        ...       ...   \n",
       "71551                 West Bank and Gaza  31.952200  35.233200  10/15/20   \n",
       "71552                     Western Sahara  24.215500 -12.885800  10/15/20   \n",
       "71553                              Yemen  15.552727  48.516388  10/15/20   \n",
       "71554                             Zambia -13.133897  27.849332  10/15/20   \n",
       "71555                           Zimbabwe -19.015438  29.154857  10/15/20   \n",
       "\n",
       "       Confirmed  Deaths  Recovered  \n",
       "0              0     0.0        NaN  \n",
       "1              0     0.0        NaN  \n",
       "2              0     0.0        NaN  \n",
       "3              0     0.0        NaN  \n",
       "4              0     0.0        NaN  \n",
       "...          ...     ...        ...  \n",
       "71551      46100   401.0        NaN  \n",
       "71552         10     1.0        NaN  \n",
       "71553       2053     NaN        NaN  \n",
       "71554      15659   346.0        NaN  \n",
       "71555       8075   231.0        NaN  \n",
       "\n",
       "[71556 rows x 8 columns]"
      ]
     },
     "execution_count": 13,
     "metadata": {},
     "output_type": "execute_result"
    }
   ],
   "source": [
    "# Merging all the long formatted files into one dataframe : merged_table\n",
    "\n",
    "merged_table = covid_confirmed_long.merge(\n",
    "  right=covid_deaths_long, \n",
    "  how='left',\n",
    "  on=['Province/State', 'Country', 'date', 'Lat','Long']\n",
    ")\n",
    "# Merging full_table and recovered_df_long\n",
    "merged_table = merged_table.merge(\n",
    "  right=covid_recovered_long, \n",
    "  how='left',\n",
    "  on=['Province/State', 'Country','date','Lat','Long']\n",
    ")\n",
    "\n",
    "merged_table"
   ]
  },
  {
   "cell_type": "code",
   "execution_count": 14,
   "metadata": {},
   "outputs": [
    {
     "data": {
      "text/html": [
       "<div>\n",
       "<style scoped>\n",
       "    .dataframe tbody tr th:only-of-type {\n",
       "        vertical-align: middle;\n",
       "    }\n",
       "\n",
       "    .dataframe tbody tr th {\n",
       "        vertical-align: top;\n",
       "    }\n",
       "\n",
       "    .dataframe thead th {\n",
       "        text-align: right;\n",
       "    }\n",
       "</style>\n",
       "<table border=\"1\" class=\"dataframe\">\n",
       "  <thead>\n",
       "    <tr style=\"text-align: right;\">\n",
       "      <th></th>\n",
       "      <th>Province/State</th>\n",
       "      <th>Country</th>\n",
       "      <th>Lat</th>\n",
       "      <th>Long</th>\n",
       "      <th>date</th>\n",
       "      <th>Confirmed</th>\n",
       "      <th>Deaths</th>\n",
       "      <th>Recovered</th>\n",
       "    </tr>\n",
       "  </thead>\n",
       "  <tbody>\n",
       "    <tr>\n",
       "      <th>0</th>\n",
       "      <td></td>\n",
       "      <td>Afghanistan</td>\n",
       "      <td>33.939110</td>\n",
       "      <td>67.709953</td>\n",
       "      <td>1/22/20</td>\n",
       "      <td>0</td>\n",
       "      <td>0.0</td>\n",
       "      <td>NaN</td>\n",
       "    </tr>\n",
       "    <tr>\n",
       "      <th>1</th>\n",
       "      <td></td>\n",
       "      <td>Albania</td>\n",
       "      <td>41.153300</td>\n",
       "      <td>20.168300</td>\n",
       "      <td>1/22/20</td>\n",
       "      <td>0</td>\n",
       "      <td>0.0</td>\n",
       "      <td>NaN</td>\n",
       "    </tr>\n",
       "    <tr>\n",
       "      <th>2</th>\n",
       "      <td></td>\n",
       "      <td>Algeria</td>\n",
       "      <td>28.033900</td>\n",
       "      <td>1.659600</td>\n",
       "      <td>1/22/20</td>\n",
       "      <td>0</td>\n",
       "      <td>0.0</td>\n",
       "      <td>NaN</td>\n",
       "    </tr>\n",
       "    <tr>\n",
       "      <th>3</th>\n",
       "      <td></td>\n",
       "      <td>Andorra</td>\n",
       "      <td>42.506300</td>\n",
       "      <td>1.521800</td>\n",
       "      <td>1/22/20</td>\n",
       "      <td>0</td>\n",
       "      <td>0.0</td>\n",
       "      <td>NaN</td>\n",
       "    </tr>\n",
       "    <tr>\n",
       "      <th>4</th>\n",
       "      <td></td>\n",
       "      <td>Angola</td>\n",
       "      <td>-11.202700</td>\n",
       "      <td>17.873900</td>\n",
       "      <td>1/22/20</td>\n",
       "      <td>0</td>\n",
       "      <td>0.0</td>\n",
       "      <td>NaN</td>\n",
       "    </tr>\n",
       "    <tr>\n",
       "      <th>...</th>\n",
       "      <td>...</td>\n",
       "      <td>...</td>\n",
       "      <td>...</td>\n",
       "      <td>...</td>\n",
       "      <td>...</td>\n",
       "      <td>...</td>\n",
       "      <td>...</td>\n",
       "      <td>...</td>\n",
       "    </tr>\n",
       "    <tr>\n",
       "      <th>71551</th>\n",
       "      <td></td>\n",
       "      <td>West Bank and Gaza</td>\n",
       "      <td>31.952200</td>\n",
       "      <td>35.233200</td>\n",
       "      <td>10/15/20</td>\n",
       "      <td>46100</td>\n",
       "      <td>401.0</td>\n",
       "      <td>NaN</td>\n",
       "    </tr>\n",
       "    <tr>\n",
       "      <th>71552</th>\n",
       "      <td></td>\n",
       "      <td>Western Sahara</td>\n",
       "      <td>24.215500</td>\n",
       "      <td>-12.885800</td>\n",
       "      <td>10/15/20</td>\n",
       "      <td>10</td>\n",
       "      <td>1.0</td>\n",
       "      <td>NaN</td>\n",
       "    </tr>\n",
       "    <tr>\n",
       "      <th>71553</th>\n",
       "      <td></td>\n",
       "      <td>Yemen</td>\n",
       "      <td>15.552727</td>\n",
       "      <td>48.516388</td>\n",
       "      <td>10/15/20</td>\n",
       "      <td>2053</td>\n",
       "      <td>NaN</td>\n",
       "      <td>NaN</td>\n",
       "    </tr>\n",
       "    <tr>\n",
       "      <th>71554</th>\n",
       "      <td></td>\n",
       "      <td>Zambia</td>\n",
       "      <td>-13.133897</td>\n",
       "      <td>27.849332</td>\n",
       "      <td>10/15/20</td>\n",
       "      <td>15659</td>\n",
       "      <td>346.0</td>\n",
       "      <td>NaN</td>\n",
       "    </tr>\n",
       "    <tr>\n",
       "      <th>71555</th>\n",
       "      <td></td>\n",
       "      <td>Zimbabwe</td>\n",
       "      <td>-19.015438</td>\n",
       "      <td>29.154857</td>\n",
       "      <td>10/15/20</td>\n",
       "      <td>8075</td>\n",
       "      <td>231.0</td>\n",
       "      <td>NaN</td>\n",
       "    </tr>\n",
       "  </tbody>\n",
       "</table>\n",
       "<p>70484 rows × 8 columns</p>\n",
       "</div>"
      ],
      "text/plain": [
       "      Province/State             Country        Lat       Long      date  \\\n",
       "0                            Afghanistan  33.939110  67.709953   1/22/20   \n",
       "1                                Albania  41.153300  20.168300   1/22/20   \n",
       "2                                Algeria  28.033900   1.659600   1/22/20   \n",
       "3                                Andorra  42.506300   1.521800   1/22/20   \n",
       "4                                 Angola -11.202700  17.873900   1/22/20   \n",
       "...              ...                 ...        ...        ...       ...   \n",
       "71551                 West Bank and Gaza  31.952200  35.233200  10/15/20   \n",
       "71552                     Western Sahara  24.215500 -12.885800  10/15/20   \n",
       "71553                              Yemen  15.552727  48.516388  10/15/20   \n",
       "71554                             Zambia -13.133897  27.849332  10/15/20   \n",
       "71555                           Zimbabwe -19.015438  29.154857  10/15/20   \n",
       "\n",
       "       Confirmed  Deaths  Recovered  \n",
       "0              0     0.0        NaN  \n",
       "1              0     0.0        NaN  \n",
       "2              0     0.0        NaN  \n",
       "3              0     0.0        NaN  \n",
       "4              0     0.0        NaN  \n",
       "...          ...     ...        ...  \n",
       "71551      46100   401.0        NaN  \n",
       "71552         10     1.0        NaN  \n",
       "71553       2053     NaN        NaN  \n",
       "71554      15659   346.0        NaN  \n",
       "71555       8075   231.0        NaN  \n",
       "\n",
       "[70484 rows x 8 columns]"
      ]
     },
     "execution_count": 14,
     "metadata": {},
     "output_type": "execute_result"
    }
   ],
   "source": [
    "#Extract cases in cruises and eliminate them as they are out of scope of this analysis.\n",
    "ship_rows = merged_table['Province/State'].str.contains('Grand Princess') | merged_table['Province/State'].str.contains('Diamond Princess') | merged_table['Country'].str.contains('Diamond Princess') | merged_table['Country'].str.contains('MS Zaandam')\n",
    "ship_data = merged_table[ship_rows]\n",
    "merged_table = merged_table[~(ship_rows)]\n",
    "merged_table"
   ]
  },
  {
   "cell_type": "code",
   "execution_count": 15,
   "metadata": {},
   "outputs": [
    {
     "data": {
      "text/html": [
       "<div>\n",
       "<style scoped>\n",
       "    .dataframe tbody tr th:only-of-type {\n",
       "        vertical-align: middle;\n",
       "    }\n",
       "\n",
       "    .dataframe tbody tr th {\n",
       "        vertical-align: top;\n",
       "    }\n",
       "\n",
       "    .dataframe thead th {\n",
       "        text-align: right;\n",
       "    }\n",
       "</style>\n",
       "<table border=\"1\" class=\"dataframe\">\n",
       "  <thead>\n",
       "    <tr style=\"text-align: right;\">\n",
       "      <th></th>\n",
       "      <th>Province/State</th>\n",
       "      <th>Country</th>\n",
       "      <th>Lat</th>\n",
       "      <th>Long</th>\n",
       "      <th>date</th>\n",
       "      <th>Confirmed</th>\n",
       "      <th>Deaths</th>\n",
       "      <th>Recovered</th>\n",
       "    </tr>\n",
       "  </thead>\n",
       "  <tbody>\n",
       "    <tr>\n",
       "      <th>0</th>\n",
       "      <td></td>\n",
       "      <td>Afghanistan</td>\n",
       "      <td>33.939110</td>\n",
       "      <td>67.709953</td>\n",
       "      <td>1/22/20</td>\n",
       "      <td>0</td>\n",
       "      <td>0.0</td>\n",
       "      <td>NaN</td>\n",
       "    </tr>\n",
       "    <tr>\n",
       "      <th>1</th>\n",
       "      <td></td>\n",
       "      <td>Albania</td>\n",
       "      <td>41.153300</td>\n",
       "      <td>20.168300</td>\n",
       "      <td>1/22/20</td>\n",
       "      <td>0</td>\n",
       "      <td>0.0</td>\n",
       "      <td>NaN</td>\n",
       "    </tr>\n",
       "    <tr>\n",
       "      <th>2</th>\n",
       "      <td></td>\n",
       "      <td>Algeria</td>\n",
       "      <td>28.033900</td>\n",
       "      <td>1.659600</td>\n",
       "      <td>1/22/20</td>\n",
       "      <td>0</td>\n",
       "      <td>0.0</td>\n",
       "      <td>NaN</td>\n",
       "    </tr>\n",
       "    <tr>\n",
       "      <th>3</th>\n",
       "      <td></td>\n",
       "      <td>Andorra</td>\n",
       "      <td>42.506300</td>\n",
       "      <td>1.521800</td>\n",
       "      <td>1/22/20</td>\n",
       "      <td>0</td>\n",
       "      <td>0.0</td>\n",
       "      <td>NaN</td>\n",
       "    </tr>\n",
       "    <tr>\n",
       "      <th>4</th>\n",
       "      <td></td>\n",
       "      <td>Angola</td>\n",
       "      <td>-11.202700</td>\n",
       "      <td>17.873900</td>\n",
       "      <td>1/22/20</td>\n",
       "      <td>0</td>\n",
       "      <td>0.0</td>\n",
       "      <td>NaN</td>\n",
       "    </tr>\n",
       "    <tr>\n",
       "      <th>...</th>\n",
       "      <td>...</td>\n",
       "      <td>...</td>\n",
       "      <td>...</td>\n",
       "      <td>...</td>\n",
       "      <td>...</td>\n",
       "      <td>...</td>\n",
       "      <td>...</td>\n",
       "      <td>...</td>\n",
       "    </tr>\n",
       "    <tr>\n",
       "      <th>71551</th>\n",
       "      <td></td>\n",
       "      <td>West Bank and Gaza</td>\n",
       "      <td>31.952200</td>\n",
       "      <td>35.233200</td>\n",
       "      <td>10/15/20</td>\n",
       "      <td>46100</td>\n",
       "      <td>401.0</td>\n",
       "      <td>NaN</td>\n",
       "    </tr>\n",
       "    <tr>\n",
       "      <th>71552</th>\n",
       "      <td></td>\n",
       "      <td>Western Sahara</td>\n",
       "      <td>24.215500</td>\n",
       "      <td>-12.885800</td>\n",
       "      <td>10/15/20</td>\n",
       "      <td>10</td>\n",
       "      <td>1.0</td>\n",
       "      <td>NaN</td>\n",
       "    </tr>\n",
       "    <tr>\n",
       "      <th>71553</th>\n",
       "      <td></td>\n",
       "      <td>Yemen</td>\n",
       "      <td>15.552727</td>\n",
       "      <td>48.516388</td>\n",
       "      <td>10/15/20</td>\n",
       "      <td>2053</td>\n",
       "      <td>NaN</td>\n",
       "      <td>NaN</td>\n",
       "    </tr>\n",
       "    <tr>\n",
       "      <th>71554</th>\n",
       "      <td></td>\n",
       "      <td>Zambia</td>\n",
       "      <td>-13.133897</td>\n",
       "      <td>27.849332</td>\n",
       "      <td>10/15/20</td>\n",
       "      <td>15659</td>\n",
       "      <td>346.0</td>\n",
       "      <td>NaN</td>\n",
       "    </tr>\n",
       "    <tr>\n",
       "      <th>71555</th>\n",
       "      <td></td>\n",
       "      <td>Zimbabwe</td>\n",
       "      <td>-19.015438</td>\n",
       "      <td>29.154857</td>\n",
       "      <td>10/15/20</td>\n",
       "      <td>8075</td>\n",
       "      <td>231.0</td>\n",
       "      <td>NaN</td>\n",
       "    </tr>\n",
       "  </tbody>\n",
       "</table>\n",
       "<p>70484 rows × 8 columns</p>\n",
       "</div>"
      ],
      "text/plain": [
       "      Province/State             Country        Lat       Long      date  \\\n",
       "0                            Afghanistan  33.939110  67.709953   1/22/20   \n",
       "1                                Albania  41.153300  20.168300   1/22/20   \n",
       "2                                Algeria  28.033900   1.659600   1/22/20   \n",
       "3                                Andorra  42.506300   1.521800   1/22/20   \n",
       "4                                 Angola -11.202700  17.873900   1/22/20   \n",
       "...              ...                 ...        ...        ...       ...   \n",
       "71551                 West Bank and Gaza  31.952200  35.233200  10/15/20   \n",
       "71552                     Western Sahara  24.215500 -12.885800  10/15/20   \n",
       "71553                              Yemen  15.552727  48.516388  10/15/20   \n",
       "71554                             Zambia -13.133897  27.849332  10/15/20   \n",
       "71555                           Zimbabwe -19.015438  29.154857  10/15/20   \n",
       "\n",
       "       Confirmed  Deaths  Recovered  \n",
       "0              0     0.0        NaN  \n",
       "1              0     0.0        NaN  \n",
       "2              0     0.0        NaN  \n",
       "3              0     0.0        NaN  \n",
       "4              0     0.0        NaN  \n",
       "...          ...     ...        ...  \n",
       "71551      46100   401.0        NaN  \n",
       "71552         10     1.0        NaN  \n",
       "71553       2053     NaN        NaN  \n",
       "71554      15659   346.0        NaN  \n",
       "71555       8075   231.0        NaN  \n",
       "\n",
       "[70484 rows x 8 columns]"
      ]
     },
     "execution_count": 15,
     "metadata": {},
     "output_type": "execute_result"
    }
   ],
   "source": [
    "#Extract cases in cruises and eliminate them as they are out of scope of this analysis.\n",
    "ship_rows = merged_table['Province/State'].str.contains('Grand Princess') | merged_table['Province/State'].str.contains('Diamond Princess') | merged_table['Country'].str.contains('Diamond Princess') | merged_table['Country'].str.contains('MS Zaandam')\n",
    "ship_data = merged_table[ship_rows]\n",
    "merged_table = merged_table[~(ship_rows)]\n",
    "merged_table"
   ]
  },
  {
   "cell_type": "code",
   "execution_count": 16,
   "metadata": {},
   "outputs": [],
   "source": [
    "#Replace missing values with zeroes.\n",
    "merged_table['Deaths'] = merged_table['Deaths'].fillna(0)\n",
    "merged_table['Recovered'] = merged_table['Recovered'].fillna(0)"
   ]
  },
  {
   "cell_type": "code",
   "execution_count": 17,
   "metadata": {},
   "outputs": [
    {
     "data": {
      "text/html": [
       "<div>\n",
       "<style scoped>\n",
       "    .dataframe tbody tr th:only-of-type {\n",
       "        vertical-align: middle;\n",
       "    }\n",
       "\n",
       "    .dataframe tbody tr th {\n",
       "        vertical-align: top;\n",
       "    }\n",
       "\n",
       "    .dataframe thead th {\n",
       "        text-align: right;\n",
       "    }\n",
       "</style>\n",
       "<table border=\"1\" class=\"dataframe\">\n",
       "  <thead>\n",
       "    <tr style=\"text-align: right;\">\n",
       "      <th></th>\n",
       "      <th>Province/State</th>\n",
       "      <th>Country</th>\n",
       "      <th>Lat</th>\n",
       "      <th>Long</th>\n",
       "      <th>date</th>\n",
       "      <th>Confirmed</th>\n",
       "      <th>Deaths</th>\n",
       "      <th>Recovered</th>\n",
       "      <th>Active</th>\n",
       "    </tr>\n",
       "  </thead>\n",
       "  <tbody>\n",
       "    <tr>\n",
       "      <th>0</th>\n",
       "      <td></td>\n",
       "      <td>Afghanistan</td>\n",
       "      <td>33.939110</td>\n",
       "      <td>67.709953</td>\n",
       "      <td>1/22/20</td>\n",
       "      <td>0</td>\n",
       "      <td>0.0</td>\n",
       "      <td>0.0</td>\n",
       "      <td>0.0</td>\n",
       "    </tr>\n",
       "    <tr>\n",
       "      <th>1</th>\n",
       "      <td></td>\n",
       "      <td>Albania</td>\n",
       "      <td>41.153300</td>\n",
       "      <td>20.168300</td>\n",
       "      <td>1/22/20</td>\n",
       "      <td>0</td>\n",
       "      <td>0.0</td>\n",
       "      <td>0.0</td>\n",
       "      <td>0.0</td>\n",
       "    </tr>\n",
       "    <tr>\n",
       "      <th>2</th>\n",
       "      <td></td>\n",
       "      <td>Algeria</td>\n",
       "      <td>28.033900</td>\n",
       "      <td>1.659600</td>\n",
       "      <td>1/22/20</td>\n",
       "      <td>0</td>\n",
       "      <td>0.0</td>\n",
       "      <td>0.0</td>\n",
       "      <td>0.0</td>\n",
       "    </tr>\n",
       "    <tr>\n",
       "      <th>3</th>\n",
       "      <td></td>\n",
       "      <td>Andorra</td>\n",
       "      <td>42.506300</td>\n",
       "      <td>1.521800</td>\n",
       "      <td>1/22/20</td>\n",
       "      <td>0</td>\n",
       "      <td>0.0</td>\n",
       "      <td>0.0</td>\n",
       "      <td>0.0</td>\n",
       "    </tr>\n",
       "    <tr>\n",
       "      <th>4</th>\n",
       "      <td></td>\n",
       "      <td>Angola</td>\n",
       "      <td>-11.202700</td>\n",
       "      <td>17.873900</td>\n",
       "      <td>1/22/20</td>\n",
       "      <td>0</td>\n",
       "      <td>0.0</td>\n",
       "      <td>0.0</td>\n",
       "      <td>0.0</td>\n",
       "    </tr>\n",
       "    <tr>\n",
       "      <th>...</th>\n",
       "      <td>...</td>\n",
       "      <td>...</td>\n",
       "      <td>...</td>\n",
       "      <td>...</td>\n",
       "      <td>...</td>\n",
       "      <td>...</td>\n",
       "      <td>...</td>\n",
       "      <td>...</td>\n",
       "      <td>...</td>\n",
       "    </tr>\n",
       "    <tr>\n",
       "      <th>71551</th>\n",
       "      <td></td>\n",
       "      <td>West Bank and Gaza</td>\n",
       "      <td>31.952200</td>\n",
       "      <td>35.233200</td>\n",
       "      <td>10/15/20</td>\n",
       "      <td>46100</td>\n",
       "      <td>401.0</td>\n",
       "      <td>0.0</td>\n",
       "      <td>45699.0</td>\n",
       "    </tr>\n",
       "    <tr>\n",
       "      <th>71552</th>\n",
       "      <td></td>\n",
       "      <td>Western Sahara</td>\n",
       "      <td>24.215500</td>\n",
       "      <td>-12.885800</td>\n",
       "      <td>10/15/20</td>\n",
       "      <td>10</td>\n",
       "      <td>1.0</td>\n",
       "      <td>0.0</td>\n",
       "      <td>9.0</td>\n",
       "    </tr>\n",
       "    <tr>\n",
       "      <th>71553</th>\n",
       "      <td></td>\n",
       "      <td>Yemen</td>\n",
       "      <td>15.552727</td>\n",
       "      <td>48.516388</td>\n",
       "      <td>10/15/20</td>\n",
       "      <td>2053</td>\n",
       "      <td>0.0</td>\n",
       "      <td>0.0</td>\n",
       "      <td>2053.0</td>\n",
       "    </tr>\n",
       "    <tr>\n",
       "      <th>71554</th>\n",
       "      <td></td>\n",
       "      <td>Zambia</td>\n",
       "      <td>-13.133897</td>\n",
       "      <td>27.849332</td>\n",
       "      <td>10/15/20</td>\n",
       "      <td>15659</td>\n",
       "      <td>346.0</td>\n",
       "      <td>0.0</td>\n",
       "      <td>15313.0</td>\n",
       "    </tr>\n",
       "    <tr>\n",
       "      <th>71555</th>\n",
       "      <td></td>\n",
       "      <td>Zimbabwe</td>\n",
       "      <td>-19.015438</td>\n",
       "      <td>29.154857</td>\n",
       "      <td>10/15/20</td>\n",
       "      <td>8075</td>\n",
       "      <td>231.0</td>\n",
       "      <td>0.0</td>\n",
       "      <td>7844.0</td>\n",
       "    </tr>\n",
       "  </tbody>\n",
       "</table>\n",
       "<p>70484 rows × 9 columns</p>\n",
       "</div>"
      ],
      "text/plain": [
       "      Province/State             Country        Lat       Long      date  \\\n",
       "0                            Afghanistan  33.939110  67.709953   1/22/20   \n",
       "1                                Albania  41.153300  20.168300   1/22/20   \n",
       "2                                Algeria  28.033900   1.659600   1/22/20   \n",
       "3                                Andorra  42.506300   1.521800   1/22/20   \n",
       "4                                 Angola -11.202700  17.873900   1/22/20   \n",
       "...              ...                 ...        ...        ...       ...   \n",
       "71551                 West Bank and Gaza  31.952200  35.233200  10/15/20   \n",
       "71552                     Western Sahara  24.215500 -12.885800  10/15/20   \n",
       "71553                              Yemen  15.552727  48.516388  10/15/20   \n",
       "71554                             Zambia -13.133897  27.849332  10/15/20   \n",
       "71555                           Zimbabwe -19.015438  29.154857  10/15/20   \n",
       "\n",
       "       Confirmed  Deaths  Recovered   Active  \n",
       "0              0     0.0        0.0      0.0  \n",
       "1              0     0.0        0.0      0.0  \n",
       "2              0     0.0        0.0      0.0  \n",
       "3              0     0.0        0.0      0.0  \n",
       "4              0     0.0        0.0      0.0  \n",
       "...          ...     ...        ...      ...  \n",
       "71551      46100   401.0        0.0  45699.0  \n",
       "71552         10     1.0        0.0      9.0  \n",
       "71553       2053     0.0        0.0   2053.0  \n",
       "71554      15659   346.0        0.0  15313.0  \n",
       "71555       8075   231.0        0.0   7844.0  \n",
       "\n",
       "[70484 rows x 9 columns]"
      ]
     },
     "execution_count": 17,
     "metadata": {},
     "output_type": "execute_result"
    }
   ],
   "source": [
    "# Active Case = confirmed - deaths - recovered\n",
    "merged_table['Active'] = merged_table['Confirmed'] - merged_table['Deaths'] - merged_table['Recovered']\n",
    "merged_table"
   ]
  },
  {
   "cell_type": "code",
   "execution_count": 18,
   "metadata": {},
   "outputs": [
    {
     "name": "stderr",
     "output_type": "stream",
     "text": [
      "c:\\users\\gurur\\appdata\\local\\programs\\python\\python37\\lib\\site-packages\\ipykernel_launcher.py:2: FutureWarning:\n",
      "\n",
      "Indexing with multiple keys (implicitly converted to a tuple of keys) will be deprecated, use a list instead.\n",
      "\n"
     ]
    },
    {
     "data": {
      "text/html": [
       "<div>\n",
       "<style scoped>\n",
       "    .dataframe tbody tr th:only-of-type {\n",
       "        vertical-align: middle;\n",
       "    }\n",
       "\n",
       "    .dataframe tbody tr th {\n",
       "        vertical-align: top;\n",
       "    }\n",
       "\n",
       "    .dataframe thead th {\n",
       "        text-align: right;\n",
       "    }\n",
       "</style>\n",
       "<table border=\"1\" class=\"dataframe\">\n",
       "  <thead>\n",
       "    <tr style=\"text-align: right;\">\n",
       "      <th></th>\n",
       "      <th>date</th>\n",
       "      <th>Country</th>\n",
       "      <th>Confirmed</th>\n",
       "      <th>Deaths</th>\n",
       "      <th>Recovered</th>\n",
       "      <th>Active</th>\n",
       "    </tr>\n",
       "  </thead>\n",
       "  <tbody>\n",
       "    <tr>\n",
       "      <th>50066</th>\n",
       "      <td>9/9/20</td>\n",
       "      <td>Romania</td>\n",
       "      <td>98304</td>\n",
       "      <td>4018.0</td>\n",
       "      <td>0.0</td>\n",
       "      <td>94286.0</td>\n",
       "    </tr>\n",
       "    <tr>\n",
       "      <th>50067</th>\n",
       "      <td>9/9/20</td>\n",
       "      <td>Russia</td>\n",
       "      <td>1037526</td>\n",
       "      <td>0.0</td>\n",
       "      <td>0.0</td>\n",
       "      <td>1037526.0</td>\n",
       "    </tr>\n",
       "    <tr>\n",
       "      <th>50068</th>\n",
       "      <td>9/9/20</td>\n",
       "      <td>Rwanda</td>\n",
       "      <td>4460</td>\n",
       "      <td>21.0</td>\n",
       "      <td>0.0</td>\n",
       "      <td>4439.0</td>\n",
       "    </tr>\n",
       "    <tr>\n",
       "      <th>50069</th>\n",
       "      <td>9/9/20</td>\n",
       "      <td>Saint Kitts and Nevis</td>\n",
       "      <td>17</td>\n",
       "      <td>0.0</td>\n",
       "      <td>0.0</td>\n",
       "      <td>17.0</td>\n",
       "    </tr>\n",
       "    <tr>\n",
       "      <th>50070</th>\n",
       "      <td>9/9/20</td>\n",
       "      <td>Saint Lucia</td>\n",
       "      <td>27</td>\n",
       "      <td>0.0</td>\n",
       "      <td>0.0</td>\n",
       "      <td>27.0</td>\n",
       "    </tr>\n",
       "    <tr>\n",
       "      <th>50071</th>\n",
       "      <td>9/9/20</td>\n",
       "      <td>Saint Vincent and the Grenadines</td>\n",
       "      <td>62</td>\n",
       "      <td>0.0</td>\n",
       "      <td>0.0</td>\n",
       "      <td>62.0</td>\n",
       "    </tr>\n",
       "    <tr>\n",
       "      <th>50072</th>\n",
       "      <td>9/9/20</td>\n",
       "      <td>San Marino</td>\n",
       "      <td>722</td>\n",
       "      <td>42.0</td>\n",
       "      <td>0.0</td>\n",
       "      <td>680.0</td>\n",
       "    </tr>\n",
       "    <tr>\n",
       "      <th>50073</th>\n",
       "      <td>9/9/20</td>\n",
       "      <td>Sao Tome and Principe</td>\n",
       "      <td>898</td>\n",
       "      <td>15.0</td>\n",
       "      <td>0.0</td>\n",
       "      <td>883.0</td>\n",
       "    </tr>\n",
       "    <tr>\n",
       "      <th>50074</th>\n",
       "      <td>9/9/20</td>\n",
       "      <td>Saudi Arabia</td>\n",
       "      <td>323012</td>\n",
       "      <td>4165.0</td>\n",
       "      <td>0.0</td>\n",
       "      <td>318847.0</td>\n",
       "    </tr>\n",
       "    <tr>\n",
       "      <th>50075</th>\n",
       "      <td>9/9/20</td>\n",
       "      <td>Senegal</td>\n",
       "      <td>14102</td>\n",
       "      <td>293.0</td>\n",
       "      <td>0.0</td>\n",
       "      <td>13809.0</td>\n",
       "    </tr>\n",
       "    <tr>\n",
       "      <th>50076</th>\n",
       "      <td>9/9/20</td>\n",
       "      <td>Serbia</td>\n",
       "      <td>32078</td>\n",
       "      <td>728.0</td>\n",
       "      <td>0.0</td>\n",
       "      <td>31350.0</td>\n",
       "    </tr>\n",
       "    <tr>\n",
       "      <th>50077</th>\n",
       "      <td>9/9/20</td>\n",
       "      <td>Seychelles</td>\n",
       "      <td>137</td>\n",
       "      <td>0.0</td>\n",
       "      <td>0.0</td>\n",
       "      <td>137.0</td>\n",
       "    </tr>\n",
       "    <tr>\n",
       "      <th>50078</th>\n",
       "      <td>9/9/20</td>\n",
       "      <td>Sierra Leone</td>\n",
       "      <td>2067</td>\n",
       "      <td>72.0</td>\n",
       "      <td>0.0</td>\n",
       "      <td>1995.0</td>\n",
       "    </tr>\n",
       "    <tr>\n",
       "      <th>50079</th>\n",
       "      <td>9/9/20</td>\n",
       "      <td>Singapore</td>\n",
       "      <td>57166</td>\n",
       "      <td>27.0</td>\n",
       "      <td>0.0</td>\n",
       "      <td>57139.0</td>\n",
       "    </tr>\n",
       "    <tr>\n",
       "      <th>50080</th>\n",
       "      <td>9/9/20</td>\n",
       "      <td>Slovakia</td>\n",
       "      <td>4888</td>\n",
       "      <td>37.0</td>\n",
       "      <td>0.0</td>\n",
       "      <td>4851.0</td>\n",
       "    </tr>\n",
       "    <tr>\n",
       "      <th>50081</th>\n",
       "      <td>9/9/20</td>\n",
       "      <td>Slovenia</td>\n",
       "      <td>3312</td>\n",
       "      <td>135.0</td>\n",
       "      <td>0.0</td>\n",
       "      <td>3177.0</td>\n",
       "    </tr>\n",
       "    <tr>\n",
       "      <th>50082</th>\n",
       "      <td>9/9/20</td>\n",
       "      <td>Solomon Islands</td>\n",
       "      <td>0</td>\n",
       "      <td>0.0</td>\n",
       "      <td>0.0</td>\n",
       "      <td>0.0</td>\n",
       "    </tr>\n",
       "    <tr>\n",
       "      <th>50083</th>\n",
       "      <td>9/9/20</td>\n",
       "      <td>Somalia</td>\n",
       "      <td>3371</td>\n",
       "      <td>97.0</td>\n",
       "      <td>0.0</td>\n",
       "      <td>3274.0</td>\n",
       "    </tr>\n",
       "    <tr>\n",
       "      <th>50084</th>\n",
       "      <td>9/9/20</td>\n",
       "      <td>South Africa</td>\n",
       "      <td>642431</td>\n",
       "      <td>15168.0</td>\n",
       "      <td>0.0</td>\n",
       "      <td>627263.0</td>\n",
       "    </tr>\n",
       "    <tr>\n",
       "      <th>50085</th>\n",
       "      <td>9/9/20</td>\n",
       "      <td>South Sudan</td>\n",
       "      <td>2555</td>\n",
       "      <td>0.0</td>\n",
       "      <td>0.0</td>\n",
       "      <td>2555.0</td>\n",
       "    </tr>\n",
       "    <tr>\n",
       "      <th>50086</th>\n",
       "      <td>9/9/20</td>\n",
       "      <td>Spain</td>\n",
       "      <td>543379</td>\n",
       "      <td>0.0</td>\n",
       "      <td>0.0</td>\n",
       "      <td>543379.0</td>\n",
       "    </tr>\n",
       "    <tr>\n",
       "      <th>50087</th>\n",
       "      <td>9/9/20</td>\n",
       "      <td>Sri Lanka</td>\n",
       "      <td>3147</td>\n",
       "      <td>0.0</td>\n",
       "      <td>0.0</td>\n",
       "      <td>3147.0</td>\n",
       "    </tr>\n",
       "    <tr>\n",
       "      <th>50088</th>\n",
       "      <td>9/9/20</td>\n",
       "      <td>Sudan</td>\n",
       "      <td>13437</td>\n",
       "      <td>833.0</td>\n",
       "      <td>0.0</td>\n",
       "      <td>12604.0</td>\n",
       "    </tr>\n",
       "    <tr>\n",
       "      <th>50089</th>\n",
       "      <td>9/9/20</td>\n",
       "      <td>Suriname</td>\n",
       "      <td>4447</td>\n",
       "      <td>92.0</td>\n",
       "      <td>0.0</td>\n",
       "      <td>4355.0</td>\n",
       "    </tr>\n",
       "    <tr>\n",
       "      <th>50090</th>\n",
       "      <td>9/9/20</td>\n",
       "      <td>Sweden</td>\n",
       "      <td>85880</td>\n",
       "      <td>5842.0</td>\n",
       "      <td>0.0</td>\n",
       "      <td>80038.0</td>\n",
       "    </tr>\n",
       "    <tr>\n",
       "      <th>50091</th>\n",
       "      <td>9/9/20</td>\n",
       "      <td>Switzerland</td>\n",
       "      <td>45306</td>\n",
       "      <td>2019.0</td>\n",
       "      <td>0.0</td>\n",
       "      <td>43287.0</td>\n",
       "    </tr>\n",
       "    <tr>\n",
       "      <th>50092</th>\n",
       "      <td>9/9/20</td>\n",
       "      <td>Syria</td>\n",
       "      <td>3351</td>\n",
       "      <td>0.0</td>\n",
       "      <td>0.0</td>\n",
       "      <td>3351.0</td>\n",
       "    </tr>\n",
       "    <tr>\n",
       "      <th>50093</th>\n",
       "      <td>9/9/20</td>\n",
       "      <td>Taiwan*</td>\n",
       "      <td>495</td>\n",
       "      <td>7.0</td>\n",
       "      <td>0.0</td>\n",
       "      <td>488.0</td>\n",
       "    </tr>\n",
       "    <tr>\n",
       "      <th>50094</th>\n",
       "      <td>9/9/20</td>\n",
       "      <td>Tajikistan</td>\n",
       "      <td>8899</td>\n",
       "      <td>71.0</td>\n",
       "      <td>0.0</td>\n",
       "      <td>8828.0</td>\n",
       "    </tr>\n",
       "    <tr>\n",
       "      <th>50095</th>\n",
       "      <td>9/9/20</td>\n",
       "      <td>Tanzania</td>\n",
       "      <td>509</td>\n",
       "      <td>21.0</td>\n",
       "      <td>0.0</td>\n",
       "      <td>488.0</td>\n",
       "    </tr>\n",
       "    <tr>\n",
       "      <th>50096</th>\n",
       "      <td>9/9/20</td>\n",
       "      <td>Thailand</td>\n",
       "      <td>3454</td>\n",
       "      <td>58.0</td>\n",
       "      <td>0.0</td>\n",
       "      <td>3396.0</td>\n",
       "    </tr>\n",
       "    <tr>\n",
       "      <th>50097</th>\n",
       "      <td>9/9/20</td>\n",
       "      <td>Timor-Leste</td>\n",
       "      <td>27</td>\n",
       "      <td>0.0</td>\n",
       "      <td>0.0</td>\n",
       "      <td>27.0</td>\n",
       "    </tr>\n",
       "    <tr>\n",
       "      <th>50098</th>\n",
       "      <td>9/9/20</td>\n",
       "      <td>Togo</td>\n",
       "      <td>1528</td>\n",
       "      <td>36.0</td>\n",
       "      <td>0.0</td>\n",
       "      <td>1492.0</td>\n",
       "    </tr>\n",
       "    <tr>\n",
       "      <th>50099</th>\n",
       "      <td>9/9/20</td>\n",
       "      <td>Trinidad and Tobago</td>\n",
       "      <td>2588</td>\n",
       "      <td>39.0</td>\n",
       "      <td>0.0</td>\n",
       "      <td>2549.0</td>\n",
       "    </tr>\n",
       "    <tr>\n",
       "      <th>50100</th>\n",
       "      <td>9/9/20</td>\n",
       "      <td>Tunisia</td>\n",
       "      <td>5417</td>\n",
       "      <td>96.0</td>\n",
       "      <td>0.0</td>\n",
       "      <td>5321.0</td>\n",
       "    </tr>\n",
       "    <tr>\n",
       "      <th>50101</th>\n",
       "      <td>9/9/20</td>\n",
       "      <td>Turkey</td>\n",
       "      <td>284943</td>\n",
       "      <td>6837.0</td>\n",
       "      <td>0.0</td>\n",
       "      <td>278106.0</td>\n",
       "    </tr>\n",
       "    <tr>\n",
       "      <th>50102</th>\n",
       "      <td>9/9/20</td>\n",
       "      <td>US</td>\n",
       "      <td>6365325</td>\n",
       "      <td>190853.0</td>\n",
       "      <td>0.0</td>\n",
       "      <td>6174472.0</td>\n",
       "    </tr>\n",
       "    <tr>\n",
       "      <th>50103</th>\n",
       "      <td>9/9/20</td>\n",
       "      <td>Uganda</td>\n",
       "      <td>4101</td>\n",
       "      <td>46.0</td>\n",
       "      <td>0.0</td>\n",
       "      <td>4055.0</td>\n",
       "    </tr>\n",
       "    <tr>\n",
       "      <th>50104</th>\n",
       "      <td>9/9/20</td>\n",
       "      <td>Ukraine</td>\n",
       "      <td>146511</td>\n",
       "      <td>3034.0</td>\n",
       "      <td>0.0</td>\n",
       "      <td>143477.0</td>\n",
       "    </tr>\n",
       "    <tr>\n",
       "      <th>50105</th>\n",
       "      <td>9/9/20</td>\n",
       "      <td>United Arab Emirates</td>\n",
       "      <td>75981</td>\n",
       "      <td>0.0</td>\n",
       "      <td>0.0</td>\n",
       "      <td>75981.0</td>\n",
       "    </tr>\n",
       "    <tr>\n",
       "      <th>50106</th>\n",
       "      <td>9/9/20</td>\n",
       "      <td>United Kingdom</td>\n",
       "      <td>357613</td>\n",
       "      <td>41677.0</td>\n",
       "      <td>1831.0</td>\n",
       "      <td>314105.0</td>\n",
       "    </tr>\n",
       "    <tr>\n",
       "      <th>50107</th>\n",
       "      <td>9/9/20</td>\n",
       "      <td>Uruguay</td>\n",
       "      <td>1741</td>\n",
       "      <td>45.0</td>\n",
       "      <td>0.0</td>\n",
       "      <td>1696.0</td>\n",
       "    </tr>\n",
       "    <tr>\n",
       "      <th>50108</th>\n",
       "      <td>9/9/20</td>\n",
       "      <td>Uzbekistan</td>\n",
       "      <td>44930</td>\n",
       "      <td>366.0</td>\n",
       "      <td>0.0</td>\n",
       "      <td>44564.0</td>\n",
       "    </tr>\n",
       "    <tr>\n",
       "      <th>50109</th>\n",
       "      <td>9/9/20</td>\n",
       "      <td>Venezuela</td>\n",
       "      <td>56751</td>\n",
       "      <td>452.0</td>\n",
       "      <td>0.0</td>\n",
       "      <td>56299.0</td>\n",
       "    </tr>\n",
       "    <tr>\n",
       "      <th>50110</th>\n",
       "      <td>9/9/20</td>\n",
       "      <td>Vietnam</td>\n",
       "      <td>1059</td>\n",
       "      <td>0.0</td>\n",
       "      <td>0.0</td>\n",
       "      <td>1059.0</td>\n",
       "    </tr>\n",
       "    <tr>\n",
       "      <th>50111</th>\n",
       "      <td>9/9/20</td>\n",
       "      <td>West Bank and Gaza</td>\n",
       "      <td>27919</td>\n",
       "      <td>192.0</td>\n",
       "      <td>0.0</td>\n",
       "      <td>27727.0</td>\n",
       "    </tr>\n",
       "    <tr>\n",
       "      <th>50112</th>\n",
       "      <td>9/9/20</td>\n",
       "      <td>Western Sahara</td>\n",
       "      <td>10</td>\n",
       "      <td>1.0</td>\n",
       "      <td>0.0</td>\n",
       "      <td>9.0</td>\n",
       "    </tr>\n",
       "    <tr>\n",
       "      <th>50113</th>\n",
       "      <td>9/9/20</td>\n",
       "      <td>Yemen</td>\n",
       "      <td>1999</td>\n",
       "      <td>0.0</td>\n",
       "      <td>0.0</td>\n",
       "      <td>1999.0</td>\n",
       "    </tr>\n",
       "    <tr>\n",
       "      <th>50114</th>\n",
       "      <td>9/9/20</td>\n",
       "      <td>Zambia</td>\n",
       "      <td>13112</td>\n",
       "      <td>300.0</td>\n",
       "      <td>0.0</td>\n",
       "      <td>12812.0</td>\n",
       "    </tr>\n",
       "    <tr>\n",
       "      <th>50115</th>\n",
       "      <td>9/9/20</td>\n",
       "      <td>Zimbabwe</td>\n",
       "      <td>7429</td>\n",
       "      <td>222.0</td>\n",
       "      <td>0.0</td>\n",
       "      <td>7207.0</td>\n",
       "    </tr>\n",
       "  </tbody>\n",
       "</table>\n",
       "</div>"
      ],
      "text/plain": [
       "         date                           Country  Confirmed    Deaths  \\\n",
       "50066  9/9/20                           Romania      98304    4018.0   \n",
       "50067  9/9/20                            Russia    1037526       0.0   \n",
       "50068  9/9/20                            Rwanda       4460      21.0   \n",
       "50069  9/9/20             Saint Kitts and Nevis         17       0.0   \n",
       "50070  9/9/20                       Saint Lucia         27       0.0   \n",
       "50071  9/9/20  Saint Vincent and the Grenadines         62       0.0   \n",
       "50072  9/9/20                        San Marino        722      42.0   \n",
       "50073  9/9/20             Sao Tome and Principe        898      15.0   \n",
       "50074  9/9/20                      Saudi Arabia     323012    4165.0   \n",
       "50075  9/9/20                           Senegal      14102     293.0   \n",
       "50076  9/9/20                            Serbia      32078     728.0   \n",
       "50077  9/9/20                        Seychelles        137       0.0   \n",
       "50078  9/9/20                      Sierra Leone       2067      72.0   \n",
       "50079  9/9/20                         Singapore      57166      27.0   \n",
       "50080  9/9/20                          Slovakia       4888      37.0   \n",
       "50081  9/9/20                          Slovenia       3312     135.0   \n",
       "50082  9/9/20                   Solomon Islands          0       0.0   \n",
       "50083  9/9/20                           Somalia       3371      97.0   \n",
       "50084  9/9/20                      South Africa     642431   15168.0   \n",
       "50085  9/9/20                       South Sudan       2555       0.0   \n",
       "50086  9/9/20                             Spain     543379       0.0   \n",
       "50087  9/9/20                         Sri Lanka       3147       0.0   \n",
       "50088  9/9/20                             Sudan      13437     833.0   \n",
       "50089  9/9/20                          Suriname       4447      92.0   \n",
       "50090  9/9/20                            Sweden      85880    5842.0   \n",
       "50091  9/9/20                       Switzerland      45306    2019.0   \n",
       "50092  9/9/20                             Syria       3351       0.0   \n",
       "50093  9/9/20                           Taiwan*        495       7.0   \n",
       "50094  9/9/20                        Tajikistan       8899      71.0   \n",
       "50095  9/9/20                          Tanzania        509      21.0   \n",
       "50096  9/9/20                          Thailand       3454      58.0   \n",
       "50097  9/9/20                       Timor-Leste         27       0.0   \n",
       "50098  9/9/20                              Togo       1528      36.0   \n",
       "50099  9/9/20               Trinidad and Tobago       2588      39.0   \n",
       "50100  9/9/20                           Tunisia       5417      96.0   \n",
       "50101  9/9/20                            Turkey     284943    6837.0   \n",
       "50102  9/9/20                                US    6365325  190853.0   \n",
       "50103  9/9/20                            Uganda       4101      46.0   \n",
       "50104  9/9/20                           Ukraine     146511    3034.0   \n",
       "50105  9/9/20              United Arab Emirates      75981       0.0   \n",
       "50106  9/9/20                    United Kingdom     357613   41677.0   \n",
       "50107  9/9/20                           Uruguay       1741      45.0   \n",
       "50108  9/9/20                        Uzbekistan      44930     366.0   \n",
       "50109  9/9/20                         Venezuela      56751     452.0   \n",
       "50110  9/9/20                           Vietnam       1059       0.0   \n",
       "50111  9/9/20                West Bank and Gaza      27919     192.0   \n",
       "50112  9/9/20                    Western Sahara         10       1.0   \n",
       "50113  9/9/20                             Yemen       1999       0.0   \n",
       "50114  9/9/20                            Zambia      13112     300.0   \n",
       "50115  9/9/20                          Zimbabwe       7429     222.0   \n",
       "\n",
       "       Recovered     Active  \n",
       "50066        0.0    94286.0  \n",
       "50067        0.0  1037526.0  \n",
       "50068        0.0     4439.0  \n",
       "50069        0.0       17.0  \n",
       "50070        0.0       27.0  \n",
       "50071        0.0       62.0  \n",
       "50072        0.0      680.0  \n",
       "50073        0.0      883.0  \n",
       "50074        0.0   318847.0  \n",
       "50075        0.0    13809.0  \n",
       "50076        0.0    31350.0  \n",
       "50077        0.0      137.0  \n",
       "50078        0.0     1995.0  \n",
       "50079        0.0    57139.0  \n",
       "50080        0.0     4851.0  \n",
       "50081        0.0     3177.0  \n",
       "50082        0.0        0.0  \n",
       "50083        0.0     3274.0  \n",
       "50084        0.0   627263.0  \n",
       "50085        0.0     2555.0  \n",
       "50086        0.0   543379.0  \n",
       "50087        0.0     3147.0  \n",
       "50088        0.0    12604.0  \n",
       "50089        0.0     4355.0  \n",
       "50090        0.0    80038.0  \n",
       "50091        0.0    43287.0  \n",
       "50092        0.0     3351.0  \n",
       "50093        0.0      488.0  \n",
       "50094        0.0     8828.0  \n",
       "50095        0.0      488.0  \n",
       "50096        0.0     3396.0  \n",
       "50097        0.0       27.0  \n",
       "50098        0.0     1492.0  \n",
       "50099        0.0     2549.0  \n",
       "50100        0.0     5321.0  \n",
       "50101        0.0   278106.0  \n",
       "50102        0.0  6174472.0  \n",
       "50103        0.0     4055.0  \n",
       "50104        0.0   143477.0  \n",
       "50105        0.0    75981.0  \n",
       "50106     1831.0   314105.0  \n",
       "50107        0.0     1696.0  \n",
       "50108        0.0    44564.0  \n",
       "50109        0.0    56299.0  \n",
       "50110        0.0     1059.0  \n",
       "50111        0.0    27727.0  \n",
       "50112        0.0        9.0  \n",
       "50113        0.0     1999.0  \n",
       "50114        0.0    12812.0  \n",
       "50115        0.0     7207.0  "
      ]
     },
     "execution_count": 18,
     "metadata": {},
     "output_type": "execute_result"
    }
   ],
   "source": [
    "#get the total number of active , confirmed , deaths and recovered cases .\n",
    "final_data = merged_table.groupby(['date', 'Country'])['Confirmed', 'Deaths', 'Recovered', 'Active'].sum().reset_index()\n",
    "final_data.tail(50)"
   ]
  },
  {
   "cell_type": "code",
   "execution_count": 19,
   "metadata": {},
   "outputs": [
    {
     "name": "stderr",
     "output_type": "stream",
     "text": [
      "c:\\users\\gurur\\appdata\\local\\programs\\python\\python37\\lib\\site-packages\\ipykernel_launcher.py:2: FutureWarning:\n",
      "\n",
      "Indexing with multiple keys (implicitly converted to a tuple of keys) will be deprecated, use a list instead.\n",
      "\n"
     ]
    },
    {
     "data": {
      "text/html": [
       "<div>\n",
       "<style scoped>\n",
       "    .dataframe tbody tr th:only-of-type {\n",
       "        vertical-align: middle;\n",
       "    }\n",
       "\n",
       "    .dataframe tbody tr th {\n",
       "        vertical-align: top;\n",
       "    }\n",
       "\n",
       "    .dataframe thead th {\n",
       "        text-align: right;\n",
       "    }\n",
       "</style>\n",
       "<table border=\"1\" class=\"dataframe\">\n",
       "  <thead>\n",
       "    <tr style=\"text-align: right;\">\n",
       "      <th></th>\n",
       "      <th>date</th>\n",
       "      <th>Country</th>\n",
       "      <th>Confirmed</th>\n",
       "      <th>Deaths</th>\n",
       "      <th>Recovered</th>\n",
       "      <th>Active</th>\n",
       "      <th>New cases</th>\n",
       "      <th>New deaths</th>\n",
       "      <th>New recovered</th>\n",
       "    </tr>\n",
       "  </thead>\n",
       "  <tbody>\n",
       "    <tr>\n",
       "      <th>0</th>\n",
       "      <td>1/22/20</td>\n",
       "      <td>Afghanistan</td>\n",
       "      <td>0</td>\n",
       "      <td>0.0</td>\n",
       "      <td>0.0</td>\n",
       "      <td>0.0</td>\n",
       "      <td>0</td>\n",
       "      <td>0</td>\n",
       "      <td>0</td>\n",
       "    </tr>\n",
       "    <tr>\n",
       "      <th>1</th>\n",
       "      <td>1/22/20</td>\n",
       "      <td>Albania</td>\n",
       "      <td>0</td>\n",
       "      <td>0.0</td>\n",
       "      <td>0.0</td>\n",
       "      <td>0.0</td>\n",
       "      <td>0</td>\n",
       "      <td>0</td>\n",
       "      <td>0</td>\n",
       "    </tr>\n",
       "    <tr>\n",
       "      <th>2</th>\n",
       "      <td>1/22/20</td>\n",
       "      <td>Algeria</td>\n",
       "      <td>0</td>\n",
       "      <td>0.0</td>\n",
       "      <td>0.0</td>\n",
       "      <td>0.0</td>\n",
       "      <td>0</td>\n",
       "      <td>0</td>\n",
       "      <td>0</td>\n",
       "    </tr>\n",
       "    <tr>\n",
       "      <th>3</th>\n",
       "      <td>1/22/20</td>\n",
       "      <td>Andorra</td>\n",
       "      <td>0</td>\n",
       "      <td>0.0</td>\n",
       "      <td>0.0</td>\n",
       "      <td>0.0</td>\n",
       "      <td>0</td>\n",
       "      <td>0</td>\n",
       "      <td>0</td>\n",
       "    </tr>\n",
       "    <tr>\n",
       "      <th>4</th>\n",
       "      <td>1/22/20</td>\n",
       "      <td>Angola</td>\n",
       "      <td>0</td>\n",
       "      <td>0.0</td>\n",
       "      <td>0.0</td>\n",
       "      <td>0.0</td>\n",
       "      <td>0</td>\n",
       "      <td>0</td>\n",
       "      <td>0</td>\n",
       "    </tr>\n",
       "    <tr>\n",
       "      <th>...</th>\n",
       "      <td>...</td>\n",
       "      <td>...</td>\n",
       "      <td>...</td>\n",
       "      <td>...</td>\n",
       "      <td>...</td>\n",
       "      <td>...</td>\n",
       "      <td>...</td>\n",
       "      <td>...</td>\n",
       "      <td>...</td>\n",
       "    </tr>\n",
       "    <tr>\n",
       "      <th>50111</th>\n",
       "      <td>9/9/20</td>\n",
       "      <td>West Bank and Gaza</td>\n",
       "      <td>27919</td>\n",
       "      <td>192.0</td>\n",
       "      <td>0.0</td>\n",
       "      <td>27727.0</td>\n",
       "      <td>556</td>\n",
       "      <td>2</td>\n",
       "      <td>0</td>\n",
       "    </tr>\n",
       "    <tr>\n",
       "      <th>50112</th>\n",
       "      <td>9/9/20</td>\n",
       "      <td>Western Sahara</td>\n",
       "      <td>10</td>\n",
       "      <td>1.0</td>\n",
       "      <td>0.0</td>\n",
       "      <td>9.0</td>\n",
       "      <td>0</td>\n",
       "      <td>0</td>\n",
       "      <td>0</td>\n",
       "    </tr>\n",
       "    <tr>\n",
       "      <th>50113</th>\n",
       "      <td>9/9/20</td>\n",
       "      <td>Yemen</td>\n",
       "      <td>1999</td>\n",
       "      <td>0.0</td>\n",
       "      <td>0.0</td>\n",
       "      <td>1999.0</td>\n",
       "      <td>5</td>\n",
       "      <td>0</td>\n",
       "      <td>0</td>\n",
       "    </tr>\n",
       "    <tr>\n",
       "      <th>50114</th>\n",
       "      <td>9/9/20</td>\n",
       "      <td>Zambia</td>\n",
       "      <td>13112</td>\n",
       "      <td>300.0</td>\n",
       "      <td>0.0</td>\n",
       "      <td>12812.0</td>\n",
       "      <td>160</td>\n",
       "      <td>3</td>\n",
       "      <td>0</td>\n",
       "    </tr>\n",
       "    <tr>\n",
       "      <th>50115</th>\n",
       "      <td>9/9/20</td>\n",
       "      <td>Zimbabwe</td>\n",
       "      <td>7429</td>\n",
       "      <td>222.0</td>\n",
       "      <td>0.0</td>\n",
       "      <td>7207.0</td>\n",
       "      <td>41</td>\n",
       "      <td>4</td>\n",
       "      <td>0</td>\n",
       "    </tr>\n",
       "  </tbody>\n",
       "</table>\n",
       "<p>50116 rows × 9 columns</p>\n",
       "</div>"
      ],
      "text/plain": [
       "          date             Country  Confirmed  Deaths  Recovered   Active  \\\n",
       "0      1/22/20         Afghanistan          0     0.0        0.0      0.0   \n",
       "1      1/22/20             Albania          0     0.0        0.0      0.0   \n",
       "2      1/22/20             Algeria          0     0.0        0.0      0.0   \n",
       "3      1/22/20             Andorra          0     0.0        0.0      0.0   \n",
       "4      1/22/20              Angola          0     0.0        0.0      0.0   \n",
       "...        ...                 ...        ...     ...        ...      ...   \n",
       "50111   9/9/20  West Bank and Gaza      27919   192.0        0.0  27727.0   \n",
       "50112   9/9/20      Western Sahara         10     1.0        0.0      9.0   \n",
       "50113   9/9/20               Yemen       1999     0.0        0.0   1999.0   \n",
       "50114   9/9/20              Zambia      13112   300.0        0.0  12812.0   \n",
       "50115   9/9/20            Zimbabwe       7429   222.0        0.0   7207.0   \n",
       "\n",
       "       New cases  New deaths  New recovered  \n",
       "0              0           0              0  \n",
       "1              0           0              0  \n",
       "2              0           0              0  \n",
       "3              0           0              0  \n",
       "4              0           0              0  \n",
       "...          ...         ...            ...  \n",
       "50111        556           2              0  \n",
       "50112          0           0              0  \n",
       "50113          5           0              0  \n",
       "50114        160           3              0  \n",
       "50115         41           4              0  \n",
       "\n",
       "[50116 rows x 9 columns]"
      ]
     },
     "execution_count": 19,
     "metadata": {},
     "output_type": "execute_result"
    }
   ],
   "source": [
    "# new cases \n",
    "temp = final_data.groupby(['Country', 'date', ])['Confirmed', 'Deaths', 'Recovered']\n",
    "temp = temp.sum().diff().reset_index()\n",
    "mask = temp['Country'] != temp['Country'].shift(1)\n",
    "temp.loc[mask, 'Confirmed'] = np.nan\n",
    "temp.loc[mask, 'Deaths'] = np.nan\n",
    "temp.loc[mask, 'Recovered'] = np.nan\n",
    "# renaming columns\n",
    "temp.columns = ['Country', 'date', 'New cases', 'New deaths', 'New recovered']\n",
    "# merging new values\n",
    "final_data = pd.merge(final_data, temp, on=['Country', 'date'])\n",
    "# filling na with 0\n",
    "final_data = final_data.fillna(0)\n",
    "# fixing data types\n",
    "cols = ['New cases', 'New deaths', 'New recovered']\n",
    "final_data[cols] = final_data[cols].astype('int')\n",
    "# \n",
    "final_data['New cases'] = final_data['New cases'].apply(lambda x: 0 if x<0 else x)\n",
    "final_data"
   ]
  },
  {
   "cell_type": "code",
   "execution_count": 20,
   "metadata": {},
   "outputs": [],
   "source": [
    "#Import demographic info csv file of countries\n",
    "countries = pd.read_csv('../data/population_by_country_2020.csv')\n",
    "countries.rename(columns={'Country (or dependency)':'Country' , 'Population (2020)':'Population','Density (P/Km²)':'Density(P/Km²)'}, inplace=True)\n",
    "\n",
    "#Country name replaced to avoid mismatch while merging the files\n",
    "final_data['Country'] = final_data['Country'].replace(['Korea, South'], 'South Korea')\n",
    "\n",
    "countries_date_df = countries.groupby(['Country'],sort=False).sum().reset_index()\n",
    "#countries_date_df.head()"
   ]
  },
  {
   "cell_type": "code",
   "execution_count": 21,
   "metadata": {},
   "outputs": [
    {
     "data": {
      "text/html": [
       "<div>\n",
       "<style scoped>\n",
       "    .dataframe tbody tr th:only-of-type {\n",
       "        vertical-align: middle;\n",
       "    }\n",
       "\n",
       "    .dataframe tbody tr th {\n",
       "        vertical-align: top;\n",
       "    }\n",
       "\n",
       "    .dataframe thead th {\n",
       "        text-align: right;\n",
       "    }\n",
       "</style>\n",
       "<table border=\"1\" class=\"dataframe\">\n",
       "  <thead>\n",
       "    <tr style=\"text-align: right;\">\n",
       "      <th></th>\n",
       "      <th>Country</th>\n",
       "      <th>Population</th>\n",
       "      <th>Density(P/Km²)</th>\n",
       "    </tr>\n",
       "  </thead>\n",
       "  <tbody>\n",
       "    <tr>\n",
       "      <th>0</th>\n",
       "      <td>China</td>\n",
       "      <td>1440297825</td>\n",
       "      <td>153</td>\n",
       "    </tr>\n",
       "    <tr>\n",
       "      <th>1</th>\n",
       "      <td>India</td>\n",
       "      <td>1382345085</td>\n",
       "      <td>464</td>\n",
       "    </tr>\n",
       "    <tr>\n",
       "      <th>2</th>\n",
       "      <td>United States</td>\n",
       "      <td>331341050</td>\n",
       "      <td>36</td>\n",
       "    </tr>\n",
       "    <tr>\n",
       "      <th>3</th>\n",
       "      <td>Indonesia</td>\n",
       "      <td>274021604</td>\n",
       "      <td>151</td>\n",
       "    </tr>\n",
       "    <tr>\n",
       "      <th>4</th>\n",
       "      <td>Pakistan</td>\n",
       "      <td>221612785</td>\n",
       "      <td>287</td>\n",
       "    </tr>\n",
       "    <tr>\n",
       "      <th>...</th>\n",
       "      <td>...</td>\n",
       "      <td>...</td>\n",
       "      <td>...</td>\n",
       "    </tr>\n",
       "    <tr>\n",
       "      <th>230</th>\n",
       "      <td>Montserrat</td>\n",
       "      <td>4993</td>\n",
       "      <td>50</td>\n",
       "    </tr>\n",
       "    <tr>\n",
       "      <th>231</th>\n",
       "      <td>Falkland Islands</td>\n",
       "      <td>3497</td>\n",
       "      <td>0</td>\n",
       "    </tr>\n",
       "    <tr>\n",
       "      <th>232</th>\n",
       "      <td>Niue</td>\n",
       "      <td>1628</td>\n",
       "      <td>6</td>\n",
       "    </tr>\n",
       "    <tr>\n",
       "      <th>233</th>\n",
       "      <td>Tokelau</td>\n",
       "      <td>1360</td>\n",
       "      <td>136</td>\n",
       "    </tr>\n",
       "    <tr>\n",
       "      <th>234</th>\n",
       "      <td>Holy See</td>\n",
       "      <td>801</td>\n",
       "      <td>2003</td>\n",
       "    </tr>\n",
       "  </tbody>\n",
       "</table>\n",
       "<p>235 rows × 3 columns</p>\n",
       "</div>"
      ],
      "text/plain": [
       "              Country  Population  Density(P/Km²)\n",
       "0               China  1440297825             153\n",
       "1               India  1382345085             464\n",
       "2       United States   331341050              36\n",
       "3           Indonesia   274021604             151\n",
       "4            Pakistan   221612785             287\n",
       "..                ...         ...             ...\n",
       "230        Montserrat        4993              50\n",
       "231  Falkland Islands        3497               0\n",
       "232              Niue        1628               6\n",
       "233           Tokelau        1360             136\n",
       "234          Holy See         801            2003\n",
       "\n",
       "[235 rows x 3 columns]"
      ]
     },
     "execution_count": 21,
     "metadata": {},
     "output_type": "execute_result"
    }
   ],
   "source": [
    "#Filtering only necessary column from countries file into df1 dataframe\n",
    "df1 = countries_date_df[['Country', 'Population','Density(P/Km²)']]\n",
    "df1"
   ]
  },
  {
   "cell_type": "code",
   "execution_count": 22,
   "metadata": {},
   "outputs": [
    {
     "data": {
      "text/html": [
       "<div>\n",
       "<style scoped>\n",
       "    .dataframe tbody tr th:only-of-type {\n",
       "        vertical-align: middle;\n",
       "    }\n",
       "\n",
       "    .dataframe tbody tr th {\n",
       "        vertical-align: top;\n",
       "    }\n",
       "\n",
       "    .dataframe thead th {\n",
       "        text-align: right;\n",
       "    }\n",
       "</style>\n",
       "<table border=\"1\" class=\"dataframe\">\n",
       "  <thead>\n",
       "    <tr style=\"text-align: right;\">\n",
       "      <th></th>\n",
       "      <th>date</th>\n",
       "      <th>Country</th>\n",
       "      <th>Confirmed</th>\n",
       "      <th>Deaths</th>\n",
       "      <th>Recovered</th>\n",
       "      <th>Active</th>\n",
       "      <th>New cases</th>\n",
       "      <th>New deaths</th>\n",
       "      <th>New recovered</th>\n",
       "      <th>Population</th>\n",
       "      <th>Density(P/Km²)</th>\n",
       "    </tr>\n",
       "  </thead>\n",
       "  <tbody>\n",
       "    <tr>\n",
       "      <th>0</th>\n",
       "      <td>1/22/20</td>\n",
       "      <td>Afghanistan</td>\n",
       "      <td>0</td>\n",
       "      <td>0.0</td>\n",
       "      <td>0.0</td>\n",
       "      <td>0.0</td>\n",
       "      <td>0</td>\n",
       "      <td>0</td>\n",
       "      <td>0</td>\n",
       "      <td>39074280</td>\n",
       "      <td>60</td>\n",
       "    </tr>\n",
       "    <tr>\n",
       "      <th>1</th>\n",
       "      <td>1/23/20</td>\n",
       "      <td>Afghanistan</td>\n",
       "      <td>0</td>\n",
       "      <td>0.0</td>\n",
       "      <td>0.0</td>\n",
       "      <td>0.0</td>\n",
       "      <td>0</td>\n",
       "      <td>0</td>\n",
       "      <td>0</td>\n",
       "      <td>39074280</td>\n",
       "      <td>60</td>\n",
       "    </tr>\n",
       "    <tr>\n",
       "      <th>2</th>\n",
       "      <td>1/24/20</td>\n",
       "      <td>Afghanistan</td>\n",
       "      <td>0</td>\n",
       "      <td>0.0</td>\n",
       "      <td>0.0</td>\n",
       "      <td>0.0</td>\n",
       "      <td>0</td>\n",
       "      <td>0</td>\n",
       "      <td>0</td>\n",
       "      <td>39074280</td>\n",
       "      <td>60</td>\n",
       "    </tr>\n",
       "    <tr>\n",
       "      <th>3</th>\n",
       "      <td>1/25/20</td>\n",
       "      <td>Afghanistan</td>\n",
       "      <td>0</td>\n",
       "      <td>0.0</td>\n",
       "      <td>0.0</td>\n",
       "      <td>0.0</td>\n",
       "      <td>0</td>\n",
       "      <td>0</td>\n",
       "      <td>0</td>\n",
       "      <td>39074280</td>\n",
       "      <td>60</td>\n",
       "    </tr>\n",
       "    <tr>\n",
       "      <th>4</th>\n",
       "      <td>1/26/20</td>\n",
       "      <td>Afghanistan</td>\n",
       "      <td>0</td>\n",
       "      <td>0.0</td>\n",
       "      <td>0.0</td>\n",
       "      <td>0.0</td>\n",
       "      <td>0</td>\n",
       "      <td>0</td>\n",
       "      <td>0</td>\n",
       "      <td>39074280</td>\n",
       "      <td>60</td>\n",
       "    </tr>\n",
       "    <tr>\n",
       "      <th>...</th>\n",
       "      <td>...</td>\n",
       "      <td>...</td>\n",
       "      <td>...</td>\n",
       "      <td>...</td>\n",
       "      <td>...</td>\n",
       "      <td>...</td>\n",
       "      <td>...</td>\n",
       "      <td>...</td>\n",
       "      <td>...</td>\n",
       "      <td>...</td>\n",
       "      <td>...</td>\n",
       "    </tr>\n",
       "    <tr>\n",
       "      <th>46895</th>\n",
       "      <td>9/5/20</td>\n",
       "      <td>Zimbabwe</td>\n",
       "      <td>6837</td>\n",
       "      <td>206.0</td>\n",
       "      <td>0.0</td>\n",
       "      <td>6631.0</td>\n",
       "      <td>0</td>\n",
       "      <td>0</td>\n",
       "      <td>0</td>\n",
       "      <td>14899771</td>\n",
       "      <td>38</td>\n",
       "    </tr>\n",
       "    <tr>\n",
       "      <th>46896</th>\n",
       "      <td>9/6/20</td>\n",
       "      <td>Zimbabwe</td>\n",
       "      <td>6837</td>\n",
       "      <td>206.0</td>\n",
       "      <td>0.0</td>\n",
       "      <td>6631.0</td>\n",
       "      <td>0</td>\n",
       "      <td>0</td>\n",
       "      <td>0</td>\n",
       "      <td>14899771</td>\n",
       "      <td>38</td>\n",
       "    </tr>\n",
       "    <tr>\n",
       "      <th>46897</th>\n",
       "      <td>9/7/20</td>\n",
       "      <td>Zimbabwe</td>\n",
       "      <td>7298</td>\n",
       "      <td>210.0</td>\n",
       "      <td>0.0</td>\n",
       "      <td>7088.0</td>\n",
       "      <td>461</td>\n",
       "      <td>4</td>\n",
       "      <td>0</td>\n",
       "      <td>14899771</td>\n",
       "      <td>38</td>\n",
       "    </tr>\n",
       "    <tr>\n",
       "      <th>46898</th>\n",
       "      <td>9/8/20</td>\n",
       "      <td>Zimbabwe</td>\n",
       "      <td>7388</td>\n",
       "      <td>218.0</td>\n",
       "      <td>0.0</td>\n",
       "      <td>7170.0</td>\n",
       "      <td>90</td>\n",
       "      <td>8</td>\n",
       "      <td>0</td>\n",
       "      <td>14899771</td>\n",
       "      <td>38</td>\n",
       "    </tr>\n",
       "    <tr>\n",
       "      <th>46899</th>\n",
       "      <td>9/9/20</td>\n",
       "      <td>Zimbabwe</td>\n",
       "      <td>7429</td>\n",
       "      <td>222.0</td>\n",
       "      <td>0.0</td>\n",
       "      <td>7207.0</td>\n",
       "      <td>41</td>\n",
       "      <td>4</td>\n",
       "      <td>0</td>\n",
       "      <td>14899771</td>\n",
       "      <td>38</td>\n",
       "    </tr>\n",
       "  </tbody>\n",
       "</table>\n",
       "<p>46900 rows × 11 columns</p>\n",
       "</div>"
      ],
      "text/plain": [
       "          date      Country  Confirmed  Deaths  Recovered  Active  New cases  \\\n",
       "0      1/22/20  Afghanistan          0     0.0        0.0     0.0          0   \n",
       "1      1/23/20  Afghanistan          0     0.0        0.0     0.0          0   \n",
       "2      1/24/20  Afghanistan          0     0.0        0.0     0.0          0   \n",
       "3      1/25/20  Afghanistan          0     0.0        0.0     0.0          0   \n",
       "4      1/26/20  Afghanistan          0     0.0        0.0     0.0          0   \n",
       "...        ...          ...        ...     ...        ...     ...        ...   \n",
       "46895   9/5/20     Zimbabwe       6837   206.0        0.0  6631.0          0   \n",
       "46896   9/6/20     Zimbabwe       6837   206.0        0.0  6631.0          0   \n",
       "46897   9/7/20     Zimbabwe       7298   210.0        0.0  7088.0        461   \n",
       "46898   9/8/20     Zimbabwe       7388   218.0        0.0  7170.0         90   \n",
       "46899   9/9/20     Zimbabwe       7429   222.0        0.0  7207.0         41   \n",
       "\n",
       "       New deaths  New recovered  Population  Density(P/Km²)  \n",
       "0               0              0    39074280              60  \n",
       "1               0              0    39074280              60  \n",
       "2               0              0    39074280              60  \n",
       "3               0              0    39074280              60  \n",
       "4               0              0    39074280              60  \n",
       "...           ...            ...         ...             ...  \n",
       "46895           0              0    14899771              38  \n",
       "46896           0              0    14899771              38  \n",
       "46897           4              0    14899771              38  \n",
       "46898           8              0    14899771              38  \n",
       "46899           4              0    14899771              38  \n",
       "\n",
       "[46900 rows x 11 columns]"
      ]
     },
     "execution_count": 22,
     "metadata": {},
     "output_type": "execute_result"
    }
   ],
   "source": [
    "#merge population file along with time series data to normalize the figures per million \n",
    "\n",
    "final_data = final_data.merge(df1 , on='Country')\n",
    "\n",
    "#drop countries which are not in timeseries file \n",
    "final_data = final_data.dropna()\n",
    "final_data"
   ]
  },
  {
   "cell_type": "code",
   "execution_count": 23,
   "metadata": {},
   "outputs": [
    {
     "data": {
      "text/html": [
       "<div>\n",
       "<style scoped>\n",
       "    .dataframe tbody tr th:only-of-type {\n",
       "        vertical-align: middle;\n",
       "    }\n",
       "\n",
       "    .dataframe tbody tr th {\n",
       "        vertical-align: top;\n",
       "    }\n",
       "\n",
       "    .dataframe thead th {\n",
       "        text-align: right;\n",
       "    }\n",
       "</style>\n",
       "<table border=\"1\" class=\"dataframe\">\n",
       "  <thead>\n",
       "    <tr style=\"text-align: right;\">\n",
       "      <th></th>\n",
       "      <th>date</th>\n",
       "      <th>Country</th>\n",
       "      <th>Confirmed</th>\n",
       "      <th>Deaths</th>\n",
       "      <th>Recovered</th>\n",
       "      <th>Active</th>\n",
       "      <th>New cases</th>\n",
       "      <th>New deaths</th>\n",
       "      <th>New recovered</th>\n",
       "      <th>Population</th>\n",
       "      <th>Density(P/Km²)</th>\n",
       "      <th>Population_million</th>\n",
       "      <th>Cases_per_Million</th>\n",
       "      <th>Deaths_per_Million</th>\n",
       "      <th>Recovered_per_Million</th>\n",
       "    </tr>\n",
       "  </thead>\n",
       "  <tbody>\n",
       "    <tr>\n",
       "      <th>0</th>\n",
       "      <td>1/22/20</td>\n",
       "      <td>Afghanistan</td>\n",
       "      <td>0</td>\n",
       "      <td>0.0</td>\n",
       "      <td>0.0</td>\n",
       "      <td>0.0</td>\n",
       "      <td>0</td>\n",
       "      <td>0</td>\n",
       "      <td>0</td>\n",
       "      <td>39074280</td>\n",
       "      <td>60</td>\n",
       "      <td>39074.28</td>\n",
       "      <td>0.00</td>\n",
       "      <td>0.00</td>\n",
       "      <td>0.0</td>\n",
       "    </tr>\n",
       "    <tr>\n",
       "      <th>1</th>\n",
       "      <td>1/23/20</td>\n",
       "      <td>Afghanistan</td>\n",
       "      <td>0</td>\n",
       "      <td>0.0</td>\n",
       "      <td>0.0</td>\n",
       "      <td>0.0</td>\n",
       "      <td>0</td>\n",
       "      <td>0</td>\n",
       "      <td>0</td>\n",
       "      <td>39074280</td>\n",
       "      <td>60</td>\n",
       "      <td>39074.28</td>\n",
       "      <td>0.00</td>\n",
       "      <td>0.00</td>\n",
       "      <td>0.0</td>\n",
       "    </tr>\n",
       "    <tr>\n",
       "      <th>2</th>\n",
       "      <td>1/24/20</td>\n",
       "      <td>Afghanistan</td>\n",
       "      <td>0</td>\n",
       "      <td>0.0</td>\n",
       "      <td>0.0</td>\n",
       "      <td>0.0</td>\n",
       "      <td>0</td>\n",
       "      <td>0</td>\n",
       "      <td>0</td>\n",
       "      <td>39074280</td>\n",
       "      <td>60</td>\n",
       "      <td>39074.28</td>\n",
       "      <td>0.00</td>\n",
       "      <td>0.00</td>\n",
       "      <td>0.0</td>\n",
       "    </tr>\n",
       "    <tr>\n",
       "      <th>3</th>\n",
       "      <td>1/25/20</td>\n",
       "      <td>Afghanistan</td>\n",
       "      <td>0</td>\n",
       "      <td>0.0</td>\n",
       "      <td>0.0</td>\n",
       "      <td>0.0</td>\n",
       "      <td>0</td>\n",
       "      <td>0</td>\n",
       "      <td>0</td>\n",
       "      <td>39074280</td>\n",
       "      <td>60</td>\n",
       "      <td>39074.28</td>\n",
       "      <td>0.00</td>\n",
       "      <td>0.00</td>\n",
       "      <td>0.0</td>\n",
       "    </tr>\n",
       "    <tr>\n",
       "      <th>4</th>\n",
       "      <td>1/26/20</td>\n",
       "      <td>Afghanistan</td>\n",
       "      <td>0</td>\n",
       "      <td>0.0</td>\n",
       "      <td>0.0</td>\n",
       "      <td>0.0</td>\n",
       "      <td>0</td>\n",
       "      <td>0</td>\n",
       "      <td>0</td>\n",
       "      <td>39074280</td>\n",
       "      <td>60</td>\n",
       "      <td>39074.28</td>\n",
       "      <td>0.00</td>\n",
       "      <td>0.00</td>\n",
       "      <td>0.0</td>\n",
       "    </tr>\n",
       "    <tr>\n",
       "      <th>...</th>\n",
       "      <td>...</td>\n",
       "      <td>...</td>\n",
       "      <td>...</td>\n",
       "      <td>...</td>\n",
       "      <td>...</td>\n",
       "      <td>...</td>\n",
       "      <td>...</td>\n",
       "      <td>...</td>\n",
       "      <td>...</td>\n",
       "      <td>...</td>\n",
       "      <td>...</td>\n",
       "      <td>...</td>\n",
       "      <td>...</td>\n",
       "      <td>...</td>\n",
       "      <td>...</td>\n",
       "    </tr>\n",
       "    <tr>\n",
       "      <th>46895</th>\n",
       "      <td>9/5/20</td>\n",
       "      <td>Zimbabwe</td>\n",
       "      <td>6837</td>\n",
       "      <td>206.0</td>\n",
       "      <td>0.0</td>\n",
       "      <td>6631.0</td>\n",
       "      <td>0</td>\n",
       "      <td>0</td>\n",
       "      <td>0</td>\n",
       "      <td>14899771</td>\n",
       "      <td>38</td>\n",
       "      <td>14899.77</td>\n",
       "      <td>0.46</td>\n",
       "      <td>0.01</td>\n",
       "      <td>0.0</td>\n",
       "    </tr>\n",
       "    <tr>\n",
       "      <th>46896</th>\n",
       "      <td>9/6/20</td>\n",
       "      <td>Zimbabwe</td>\n",
       "      <td>6837</td>\n",
       "      <td>206.0</td>\n",
       "      <td>0.0</td>\n",
       "      <td>6631.0</td>\n",
       "      <td>0</td>\n",
       "      <td>0</td>\n",
       "      <td>0</td>\n",
       "      <td>14899771</td>\n",
       "      <td>38</td>\n",
       "      <td>14899.77</td>\n",
       "      <td>0.46</td>\n",
       "      <td>0.01</td>\n",
       "      <td>0.0</td>\n",
       "    </tr>\n",
       "    <tr>\n",
       "      <th>46897</th>\n",
       "      <td>9/7/20</td>\n",
       "      <td>Zimbabwe</td>\n",
       "      <td>7298</td>\n",
       "      <td>210.0</td>\n",
       "      <td>0.0</td>\n",
       "      <td>7088.0</td>\n",
       "      <td>461</td>\n",
       "      <td>4</td>\n",
       "      <td>0</td>\n",
       "      <td>14899771</td>\n",
       "      <td>38</td>\n",
       "      <td>14899.77</td>\n",
       "      <td>0.49</td>\n",
       "      <td>0.01</td>\n",
       "      <td>0.0</td>\n",
       "    </tr>\n",
       "    <tr>\n",
       "      <th>46898</th>\n",
       "      <td>9/8/20</td>\n",
       "      <td>Zimbabwe</td>\n",
       "      <td>7388</td>\n",
       "      <td>218.0</td>\n",
       "      <td>0.0</td>\n",
       "      <td>7170.0</td>\n",
       "      <td>90</td>\n",
       "      <td>8</td>\n",
       "      <td>0</td>\n",
       "      <td>14899771</td>\n",
       "      <td>38</td>\n",
       "      <td>14899.77</td>\n",
       "      <td>0.50</td>\n",
       "      <td>0.01</td>\n",
       "      <td>0.0</td>\n",
       "    </tr>\n",
       "    <tr>\n",
       "      <th>46899</th>\n",
       "      <td>9/9/20</td>\n",
       "      <td>Zimbabwe</td>\n",
       "      <td>7429</td>\n",
       "      <td>222.0</td>\n",
       "      <td>0.0</td>\n",
       "      <td>7207.0</td>\n",
       "      <td>41</td>\n",
       "      <td>4</td>\n",
       "      <td>0</td>\n",
       "      <td>14899771</td>\n",
       "      <td>38</td>\n",
       "      <td>14899.77</td>\n",
       "      <td>0.50</td>\n",
       "      <td>0.01</td>\n",
       "      <td>0.0</td>\n",
       "    </tr>\n",
       "  </tbody>\n",
       "</table>\n",
       "<p>46900 rows × 15 columns</p>\n",
       "</div>"
      ],
      "text/plain": [
       "          date      Country  Confirmed  Deaths  Recovered  Active  New cases  \\\n",
       "0      1/22/20  Afghanistan          0     0.0        0.0     0.0          0   \n",
       "1      1/23/20  Afghanistan          0     0.0        0.0     0.0          0   \n",
       "2      1/24/20  Afghanistan          0     0.0        0.0     0.0          0   \n",
       "3      1/25/20  Afghanistan          0     0.0        0.0     0.0          0   \n",
       "4      1/26/20  Afghanistan          0     0.0        0.0     0.0          0   \n",
       "...        ...          ...        ...     ...        ...     ...        ...   \n",
       "46895   9/5/20     Zimbabwe       6837   206.0        0.0  6631.0          0   \n",
       "46896   9/6/20     Zimbabwe       6837   206.0        0.0  6631.0          0   \n",
       "46897   9/7/20     Zimbabwe       7298   210.0        0.0  7088.0        461   \n",
       "46898   9/8/20     Zimbabwe       7388   218.0        0.0  7170.0         90   \n",
       "46899   9/9/20     Zimbabwe       7429   222.0        0.0  7207.0         41   \n",
       "\n",
       "       New deaths  New recovered  Population  Density(P/Km²)  \\\n",
       "0               0              0    39074280              60   \n",
       "1               0              0    39074280              60   \n",
       "2               0              0    39074280              60   \n",
       "3               0              0    39074280              60   \n",
       "4               0              0    39074280              60   \n",
       "...           ...            ...         ...             ...   \n",
       "46895           0              0    14899771              38   \n",
       "46896           0              0    14899771              38   \n",
       "46897           4              0    14899771              38   \n",
       "46898           8              0    14899771              38   \n",
       "46899           4              0    14899771              38   \n",
       "\n",
       "       Population_million  Cases_per_Million  Deaths_per_Million  \\\n",
       "0                39074.28               0.00                0.00   \n",
       "1                39074.28               0.00                0.00   \n",
       "2                39074.28               0.00                0.00   \n",
       "3                39074.28               0.00                0.00   \n",
       "4                39074.28               0.00                0.00   \n",
       "...                   ...                ...                 ...   \n",
       "46895            14899.77               0.46                0.01   \n",
       "46896            14899.77               0.46                0.01   \n",
       "46897            14899.77               0.49                0.01   \n",
       "46898            14899.77               0.50                0.01   \n",
       "46899            14899.77               0.50                0.01   \n",
       "\n",
       "       Recovered_per_Million  \n",
       "0                        0.0  \n",
       "1                        0.0  \n",
       "2                        0.0  \n",
       "3                        0.0  \n",
       "4                        0.0  \n",
       "...                      ...  \n",
       "46895                    0.0  \n",
       "46896                    0.0  \n",
       "46897                    0.0  \n",
       "46898                    0.0  \n",
       "46899                    0.0  \n",
       "\n",
       "[46900 rows x 15 columns]"
      ]
     },
     "execution_count": 23,
     "metadata": {},
     "output_type": "execute_result"
    }
   ],
   "source": [
    "final_data['Population_million'] = round((final_data['Population']/1000),2)\n",
    "final_data['Cases_per_Million'] = round((final_data['Confirmed']/final_data['Population_million']),2)\n",
    "final_data['Deaths_per_Million'] = round((final_data['Deaths']/final_data['Population_million']),2)\n",
    "final_data['Recovered_per_Million'] = round((final_data['Recovered']/final_data['Population_million']),2)\n",
    "final_data"
   ]
  },
  {
   "cell_type": "code",
   "execution_count": 24,
   "metadata": {},
   "outputs": [
    {
     "data": {
      "text/html": [
       "<div>\n",
       "<style scoped>\n",
       "    .dataframe tbody tr th:only-of-type {\n",
       "        vertical-align: middle;\n",
       "    }\n",
       "\n",
       "    .dataframe tbody tr th {\n",
       "        vertical-align: top;\n",
       "    }\n",
       "\n",
       "    .dataframe thead th {\n",
       "        text-align: right;\n",
       "    }\n",
       "</style>\n",
       "<table border=\"1\" class=\"dataframe\">\n",
       "  <thead>\n",
       "    <tr style=\"text-align: right;\">\n",
       "      <th></th>\n",
       "      <th>date</th>\n",
       "      <th>Country</th>\n",
       "      <th>Confirmed</th>\n",
       "      <th>Deaths</th>\n",
       "      <th>Recovered</th>\n",
       "      <th>Active</th>\n",
       "      <th>New cases</th>\n",
       "      <th>New deaths</th>\n",
       "      <th>New recovered</th>\n",
       "      <th>Population</th>\n",
       "      <th>Density(P/Km²)</th>\n",
       "      <th>Population_million</th>\n",
       "      <th>Cases_per_Million</th>\n",
       "      <th>Deaths_per_Million</th>\n",
       "      <th>Recovered_per_Million</th>\n",
       "    </tr>\n",
       "  </thead>\n",
       "  <tbody>\n",
       "    <tr>\n",
       "      <th>19710</th>\n",
       "      <td>2020-06-01</td>\n",
       "      <td>India</td>\n",
       "      <td>198370</td>\n",
       "      <td>5608.0</td>\n",
       "      <td>0.0</td>\n",
       "      <td>192762.0</td>\n",
       "      <td>135562</td>\n",
       "      <td>3507</td>\n",
       "      <td>0</td>\n",
       "      <td>1382345085</td>\n",
       "      <td>464</td>\n",
       "      <td>1382345.08</td>\n",
       "      <td>0.14</td>\n",
       "      <td>0.00</td>\n",
       "      <td>0.0</td>\n",
       "    </tr>\n",
       "    <tr>\n",
       "      <th>19711</th>\n",
       "      <td>2020-06-10</td>\n",
       "      <td>India</td>\n",
       "      <td>286605</td>\n",
       "      <td>8102.0</td>\n",
       "      <td>0.0</td>\n",
       "      <td>278503.0</td>\n",
       "      <td>88235</td>\n",
       "      <td>2494</td>\n",
       "      <td>0</td>\n",
       "      <td>1382345085</td>\n",
       "      <td>464</td>\n",
       "      <td>1382345.08</td>\n",
       "      <td>0.21</td>\n",
       "      <td>0.01</td>\n",
       "      <td>0.0</td>\n",
       "    </tr>\n",
       "    <tr>\n",
       "      <th>19712</th>\n",
       "      <td>2020-06-11</td>\n",
       "      <td>India</td>\n",
       "      <td>297535</td>\n",
       "      <td>8498.0</td>\n",
       "      <td>0.0</td>\n",
       "      <td>289037.0</td>\n",
       "      <td>10930</td>\n",
       "      <td>396</td>\n",
       "      <td>0</td>\n",
       "      <td>1382345085</td>\n",
       "      <td>464</td>\n",
       "      <td>1382345.08</td>\n",
       "      <td>0.22</td>\n",
       "      <td>0.01</td>\n",
       "      <td>0.0</td>\n",
       "    </tr>\n",
       "    <tr>\n",
       "      <th>19713</th>\n",
       "      <td>2020-06-12</td>\n",
       "      <td>India</td>\n",
       "      <td>308993</td>\n",
       "      <td>8884.0</td>\n",
       "      <td>0.0</td>\n",
       "      <td>300109.0</td>\n",
       "      <td>11458</td>\n",
       "      <td>386</td>\n",
       "      <td>0</td>\n",
       "      <td>1382345085</td>\n",
       "      <td>464</td>\n",
       "      <td>1382345.08</td>\n",
       "      <td>0.22</td>\n",
       "      <td>0.01</td>\n",
       "      <td>0.0</td>\n",
       "    </tr>\n",
       "    <tr>\n",
       "      <th>19714</th>\n",
       "      <td>2020-06-13</td>\n",
       "      <td>India</td>\n",
       "      <td>320922</td>\n",
       "      <td>9195.0</td>\n",
       "      <td>0.0</td>\n",
       "      <td>311727.0</td>\n",
       "      <td>11929</td>\n",
       "      <td>311</td>\n",
       "      <td>0</td>\n",
       "      <td>1382345085</td>\n",
       "      <td>464</td>\n",
       "      <td>1382345.08</td>\n",
       "      <td>0.23</td>\n",
       "      <td>0.01</td>\n",
       "      <td>0.0</td>\n",
       "    </tr>\n",
       "  </tbody>\n",
       "</table>\n",
       "</div>"
      ],
      "text/plain": [
       "            date Country  Confirmed  Deaths  Recovered    Active  New cases  \\\n",
       "19710 2020-06-01   India     198370  5608.0        0.0  192762.0     135562   \n",
       "19711 2020-06-10   India     286605  8102.0        0.0  278503.0      88235   \n",
       "19712 2020-06-11   India     297535  8498.0        0.0  289037.0      10930   \n",
       "19713 2020-06-12   India     308993  8884.0        0.0  300109.0      11458   \n",
       "19714 2020-06-13   India     320922  9195.0        0.0  311727.0      11929   \n",
       "\n",
       "       New deaths  New recovered  Population  Density(P/Km²)  \\\n",
       "19710        3507              0  1382345085             464   \n",
       "19711        2494              0  1382345085             464   \n",
       "19712         396              0  1382345085             464   \n",
       "19713         386              0  1382345085             464   \n",
       "19714         311              0  1382345085             464   \n",
       "\n",
       "       Population_million  Cases_per_Million  Deaths_per_Million  \\\n",
       "19710          1382345.08               0.14                0.00   \n",
       "19711          1382345.08               0.21                0.01   \n",
       "19712          1382345.08               0.22                0.01   \n",
       "19713          1382345.08               0.22                0.01   \n",
       "19714          1382345.08               0.23                0.01   \n",
       "\n",
       "       Recovered_per_Million  \n",
       "19710                    0.0  \n",
       "19711                    0.0  \n",
       "19712                    0.0  \n",
       "19713                    0.0  \n",
       "19714                    0.0  "
      ]
     },
     "execution_count": 24,
     "metadata": {},
     "output_type": "execute_result"
    }
   ],
   "source": [
    "#Was Sweden's voluntary lockdown strategy a success ?\n",
    "#Sweden was one of the countries not to impose a compulsory lockdown when the rest of the Europe and world were under lockdown during Mar-May.\n",
    "#They had an unsual strategy for tackling the outbreak which is hailed both as a success and condemned as a failure.\n",
    "\n",
    "#filter for the chosen countries for the month of June \n",
    "countries = ['India','Netherlands','Sweden','Malaysia']\n",
    "covid_countries = final_data[final_data.Country.isin(countries)]\n",
    "\n",
    "covid_countries['date'] = pd.to_datetime(covid_countries['date'])\n",
    "start_date = '6/1/20'\n",
    "end_date = '6/30/20'\n",
    "mask = (covid_countries['date'] >= start_date) & (covid_countries['date'] <= end_date)\n",
    "covid_countries = covid_countries.loc[mask]\n",
    "covid_countries.head()"
   ]
  },
  {
   "cell_type": "code",
   "execution_count": 25,
   "metadata": {},
   "outputs": [
    {
     "data": {
      "image/png": "[encoded data removed]",
      "text/plain": [
       "<Figure size 842.4x595.44 with 1 Axes>"
      ]
     },
     "metadata": {},
     "output_type": "display_data"
    }
   ],
   "source": [
    "#plotting style specs\n",
    "sns.set(rc={'figure.figsize':(11.7,8.27)})\n",
    "sns.set(style = 'whitegrid',context = 'paper')\n",
    "\n",
    "from datetime import date\n",
    "covid_countries.pivot_table(index = 'Country',values='Cases_per_Million',aggfunc={'Cases_per_Million':'sum'})\n",
    "cases_plot = sns.lineplot(x = 'date', y = 'Cases_per_Million',hue = 'Country',data = covid_countries).set_title(\"Total Cases per million population in June\", fontsize = 20)\n",
    "plt.show()"
   ]
  },
  {
   "cell_type": "markdown",
   "metadata": {},
   "source": [
    "Sweden , in the month of June had the steepest rise in the cases compared to its counterparts in the plot.(It is to be noted that Sweden is less populated than Netherlands as per the data available)\n",
    "Whereas , in NL followed by the lockdown period in March-Apr there is indeed a somewhat flattened curve in the middle and then a slight increase for a shorter time period.\n",
    "\n",
    "Hence , with the data available for the analysis done over the specific time period ,the Netherlands did a better job in terms of controlling the infection rate .\n",
    "\n",
    "The picture in India starts getting worse after the mid of June, after which the country has not seen a significant drop in the infection."
   ]
  },
  {
   "cell_type": "code",
   "execution_count": 26,
   "metadata": {},
   "outputs": [
    {
     "name": "stdout",
     "output_type": "stream",
     "text": [
      "With 95.0% confidence, the true mean of the cases per million in Sweden ,lies within the interval: [4.99, 5.63]\n"
     ]
    }
   ],
   "source": [
    "#With the above disturbing picture of Sweden , it would be a good idea to calculate the confidence intervals for the average number of cases per million in Sweden at 95% confidence level\n",
    "\n",
    "covid_countries_SW = covid_countries[covid_countries['Country'] == 'Sweden']\n",
    "\n",
    "sample_mean = covid_countries_SW.loc[:,\"Cases_per_Million\"].mean()\n",
    "sample_std = covid_countries_SW.loc[:,\"Cases_per_Million\"].std()\n",
    "\n",
    "#sample size \n",
    "n = len(covid_countries_SW)\n",
    "\n",
    "confidence_lvl = 0.95\n",
    "\n",
    "z = stats.norm.interval(confidence_lvl)[1]\n",
    "\n",
    "margin_error = sample_std/np.sqrt(n)\n",
    "conf = [sample_mean - (z * margin_error) , sample_mean + (z * margin_error)]\n",
    "conf_int = [round(num, 2) for num in conf]\n",
    "print('With ' + str(confidence_lvl * 100) + '% confidence, the true mean of the cases per million in Sweden ,lies within the interval:', conf_int)"
   ]
  },
  {
   "cell_type": "markdown",
   "metadata": {},
   "source": [
    "--------------------------------------COVID19 PICTURE OF 8 \"DAPT\" COUNTRIES----------------------------------------------------"
   ]
  },
  {
   "cell_type": "code",
   "execution_count": 27,
   "metadata": {},
   "outputs": [
    {
     "data": {
      "text/html": [
       "<div>\n",
       "<style scoped>\n",
       "    .dataframe tbody tr th:only-of-type {\n",
       "        vertical-align: middle;\n",
       "    }\n",
       "\n",
       "    .dataframe tbody tr th {\n",
       "        vertical-align: top;\n",
       "    }\n",
       "\n",
       "    .dataframe thead th {\n",
       "        text-align: right;\n",
       "    }\n",
       "</style>\n",
       "<table border=\"1\" class=\"dataframe\">\n",
       "  <thead>\n",
       "    <tr style=\"text-align: right;\">\n",
       "      <th></th>\n",
       "      <th>date</th>\n",
       "      <th>Country</th>\n",
       "      <th>Confirmed</th>\n",
       "      <th>Deaths</th>\n",
       "      <th>Recovered</th>\n",
       "      <th>Active</th>\n",
       "      <th>New cases</th>\n",
       "      <th>New deaths</th>\n",
       "      <th>New recovered</th>\n",
       "      <th>Population</th>\n",
       "      <th>Density(P/Km²)</th>\n",
       "      <th>Population_million</th>\n",
       "      <th>Cases_per_Million</th>\n",
       "      <th>Deaths_per_Million</th>\n",
       "      <th>Recovered_per_Million</th>\n",
       "    </tr>\n",
       "  </thead>\n",
       "  <tbody>\n",
       "    <tr>\n",
       "      <th>44751</th>\n",
       "      <td>9/5/20</td>\n",
       "      <td>United Kingdom</td>\n",
       "      <td>346513</td>\n",
       "      <td>41632.0</td>\n",
       "      <td>1806.0</td>\n",
       "      <td>303075.0</td>\n",
       "      <td>1827</td>\n",
       "      <td>12</td>\n",
       "      <td>50</td>\n",
       "      <td>67948282</td>\n",
       "      <td>281</td>\n",
       "      <td>67948.28</td>\n",
       "      <td>5.10</td>\n",
       "      <td>0.61</td>\n",
       "      <td>0.03</td>\n",
       "    </tr>\n",
       "    <tr>\n",
       "      <th>44752</th>\n",
       "      <td>9/6/20</td>\n",
       "      <td>United Kingdom</td>\n",
       "      <td>349500</td>\n",
       "      <td>41634.0</td>\n",
       "      <td>1824.0</td>\n",
       "      <td>306042.0</td>\n",
       "      <td>2987</td>\n",
       "      <td>2</td>\n",
       "      <td>18</td>\n",
       "      <td>67948282</td>\n",
       "      <td>281</td>\n",
       "      <td>67948.28</td>\n",
       "      <td>5.14</td>\n",
       "      <td>0.61</td>\n",
       "      <td>0.03</td>\n",
       "    </tr>\n",
       "    <tr>\n",
       "      <th>44753</th>\n",
       "      <td>9/7/20</td>\n",
       "      <td>United Kingdom</td>\n",
       "      <td>352451</td>\n",
       "      <td>41637.0</td>\n",
       "      <td>1824.0</td>\n",
       "      <td>308990.0</td>\n",
       "      <td>2951</td>\n",
       "      <td>3</td>\n",
       "      <td>0</td>\n",
       "      <td>67948282</td>\n",
       "      <td>281</td>\n",
       "      <td>67948.28</td>\n",
       "      <td>5.19</td>\n",
       "      <td>0.61</td>\n",
       "      <td>0.03</td>\n",
       "    </tr>\n",
       "    <tr>\n",
       "      <th>44754</th>\n",
       "      <td>9/8/20</td>\n",
       "      <td>United Kingdom</td>\n",
       "      <td>354932</td>\n",
       "      <td>41669.0</td>\n",
       "      <td>1827.0</td>\n",
       "      <td>311436.0</td>\n",
       "      <td>2481</td>\n",
       "      <td>32</td>\n",
       "      <td>3</td>\n",
       "      <td>67948282</td>\n",
       "      <td>281</td>\n",
       "      <td>67948.28</td>\n",
       "      <td>5.22</td>\n",
       "      <td>0.61</td>\n",
       "      <td>0.03</td>\n",
       "    </tr>\n",
       "    <tr>\n",
       "      <th>44755</th>\n",
       "      <td>9/9/20</td>\n",
       "      <td>United Kingdom</td>\n",
       "      <td>357613</td>\n",
       "      <td>41677.0</td>\n",
       "      <td>1831.0</td>\n",
       "      <td>314105.0</td>\n",
       "      <td>2681</td>\n",
       "      <td>8</td>\n",
       "      <td>4</td>\n",
       "      <td>67948282</td>\n",
       "      <td>281</td>\n",
       "      <td>67948.28</td>\n",
       "      <td>5.26</td>\n",
       "      <td>0.61</td>\n",
       "      <td>0.03</td>\n",
       "    </tr>\n",
       "  </tbody>\n",
       "</table>\n",
       "</div>"
      ],
      "text/plain": [
       "         date         Country  Confirmed   Deaths  Recovered    Active  \\\n",
       "44751  9/5/20  United Kingdom     346513  41632.0     1806.0  303075.0   \n",
       "44752  9/6/20  United Kingdom     349500  41634.0     1824.0  306042.0   \n",
       "44753  9/7/20  United Kingdom     352451  41637.0     1824.0  308990.0   \n",
       "44754  9/8/20  United Kingdom     354932  41669.0     1827.0  311436.0   \n",
       "44755  9/9/20  United Kingdom     357613  41677.0     1831.0  314105.0   \n",
       "\n",
       "       New cases  New deaths  New recovered  Population  Density(P/Km²)  \\\n",
       "44751       1827          12             50    67948282             281   \n",
       "44752       2987           2             18    67948282             281   \n",
       "44753       2951           3              0    67948282             281   \n",
       "44754       2481          32              3    67948282             281   \n",
       "44755       2681           8              4    67948282             281   \n",
       "\n",
       "       Population_million  Cases_per_Million  Deaths_per_Million  \\\n",
       "44751            67948.28               5.10                0.61   \n",
       "44752            67948.28               5.14                0.61   \n",
       "44753            67948.28               5.19                0.61   \n",
       "44754            67948.28               5.22                0.61   \n",
       "44755            67948.28               5.26                0.61   \n",
       "\n",
       "       Recovered_per_Million  \n",
       "44751                   0.03  \n",
       "44752                   0.03  \n",
       "44753                   0.03  \n",
       "44754                   0.03  \n",
       "44755                   0.03  "
      ]
     },
     "execution_count": 27,
     "metadata": {},
     "output_type": "execute_result"
    }
   ],
   "source": [
    "countries_dapt = ['India','Netherlands','Turkey','Italy','Romania','South Korea','United Kingdom','Brazil']\n",
    "covid_countries_dapt = final_data[final_data.Country.isin(countries_dapt)]\n",
    "covid_countries_dapt.tail()"
   ]
  },
  {
   "cell_type": "code",
   "execution_count": 28,
   "metadata": {},
   "outputs": [
    {
     "data": {
      "text/html": [
       "<div>\n",
       "<style scoped>\n",
       "    .dataframe tbody tr th:only-of-type {\n",
       "        vertical-align: middle;\n",
       "    }\n",
       "\n",
       "    .dataframe tbody tr th {\n",
       "        vertical-align: top;\n",
       "    }\n",
       "\n",
       "    .dataframe thead th {\n",
       "        text-align: right;\n",
       "    }\n",
       "</style>\n",
       "<table border=\"1\" class=\"dataframe\">\n",
       "  <thead>\n",
       "    <tr style=\"text-align: right;\">\n",
       "      <th></th>\n",
       "      <th>date</th>\n",
       "      <th>Country</th>\n",
       "      <th>Confirmed</th>\n",
       "      <th>Deaths</th>\n",
       "      <th>Recovered</th>\n",
       "      <th>Active</th>\n",
       "      <th>New cases</th>\n",
       "      <th>New deaths</th>\n",
       "      <th>New recovered</th>\n",
       "      <th>Population</th>\n",
       "      <th>Density(P/Km²)</th>\n",
       "      <th>Population_million</th>\n",
       "      <th>Cases_per_Million</th>\n",
       "      <th>Deaths_per_Million</th>\n",
       "      <th>Recovered_per_Million</th>\n",
       "    </tr>\n",
       "  </thead>\n",
       "  <tbody>\n",
       "    <tr>\n",
       "      <th>6174</th>\n",
       "      <td>2020-10-01</td>\n",
       "      <td>Brazil</td>\n",
       "      <td>4847092</td>\n",
       "      <td>144680.0</td>\n",
       "      <td>0.0</td>\n",
       "      <td>4702412.0</td>\n",
       "      <td>4847092</td>\n",
       "      <td>144680</td>\n",
       "      <td>0</td>\n",
       "      <td>212821986</td>\n",
       "      <td>25</td>\n",
       "      <td>212821.99</td>\n",
       "      <td>22.78</td>\n",
       "      <td>0.68</td>\n",
       "      <td>0.00</td>\n",
       "    </tr>\n",
       "    <tr>\n",
       "      <th>6175</th>\n",
       "      <td>2020-10-10</td>\n",
       "      <td>Brazil</td>\n",
       "      <td>5082637</td>\n",
       "      <td>150198.0</td>\n",
       "      <td>0.0</td>\n",
       "      <td>4932439.0</td>\n",
       "      <td>235545</td>\n",
       "      <td>5518</td>\n",
       "      <td>0</td>\n",
       "      <td>212821986</td>\n",
       "      <td>25</td>\n",
       "      <td>212821.99</td>\n",
       "      <td>23.88</td>\n",
       "      <td>0.71</td>\n",
       "      <td>0.00</td>\n",
       "    </tr>\n",
       "    <tr>\n",
       "      <th>6176</th>\n",
       "      <td>2020-10-11</td>\n",
       "      <td>Brazil</td>\n",
       "      <td>5094979</td>\n",
       "      <td>150488.0</td>\n",
       "      <td>0.0</td>\n",
       "      <td>4944491.0</td>\n",
       "      <td>12342</td>\n",
       "      <td>290</td>\n",
       "      <td>0</td>\n",
       "      <td>212821986</td>\n",
       "      <td>25</td>\n",
       "      <td>212821.99</td>\n",
       "      <td>23.94</td>\n",
       "      <td>0.71</td>\n",
       "      <td>0.00</td>\n",
       "    </tr>\n",
       "    <tr>\n",
       "      <th>6177</th>\n",
       "      <td>2020-10-12</td>\n",
       "      <td>Brazil</td>\n",
       "      <td>5103408</td>\n",
       "      <td>150689.0</td>\n",
       "      <td>0.0</td>\n",
       "      <td>4952719.0</td>\n",
       "      <td>8429</td>\n",
       "      <td>201</td>\n",
       "      <td>0</td>\n",
       "      <td>212821986</td>\n",
       "      <td>25</td>\n",
       "      <td>212821.99</td>\n",
       "      <td>23.98</td>\n",
       "      <td>0.71</td>\n",
       "      <td>0.00</td>\n",
       "    </tr>\n",
       "    <tr>\n",
       "      <th>6178</th>\n",
       "      <td>2020-10-13</td>\n",
       "      <td>Brazil</td>\n",
       "      <td>5113628</td>\n",
       "      <td>150998.0</td>\n",
       "      <td>0.0</td>\n",
       "      <td>4962630.0</td>\n",
       "      <td>10220</td>\n",
       "      <td>309</td>\n",
       "      <td>0</td>\n",
       "      <td>212821986</td>\n",
       "      <td>25</td>\n",
       "      <td>212821.99</td>\n",
       "      <td>24.03</td>\n",
       "      <td>0.71</td>\n",
       "      <td>0.00</td>\n",
       "    </tr>\n",
       "    <tr>\n",
       "      <th>...</th>\n",
       "      <td>...</td>\n",
       "      <td>...</td>\n",
       "      <td>...</td>\n",
       "      <td>...</td>\n",
       "      <td>...</td>\n",
       "      <td>...</td>\n",
       "      <td>...</td>\n",
       "      <td>...</td>\n",
       "      <td>...</td>\n",
       "      <td>...</td>\n",
       "      <td>...</td>\n",
       "      <td>...</td>\n",
       "      <td>...</td>\n",
       "      <td>...</td>\n",
       "      <td>...</td>\n",
       "    </tr>\n",
       "    <tr>\n",
       "      <th>44508</th>\n",
       "      <td>2020-10-05</td>\n",
       "      <td>United Kingdom</td>\n",
       "      <td>518222</td>\n",
       "      <td>42452.0</td>\n",
       "      <td>2409.0</td>\n",
       "      <td>473361.0</td>\n",
       "      <td>12603</td>\n",
       "      <td>19</td>\n",
       "      <td>6</td>\n",
       "      <td>67948282</td>\n",
       "      <td>281</td>\n",
       "      <td>67948.28</td>\n",
       "      <td>7.63</td>\n",
       "      <td>0.62</td>\n",
       "      <td>0.04</td>\n",
       "    </tr>\n",
       "    <tr>\n",
       "      <th>44509</th>\n",
       "      <td>2020-10-06</td>\n",
       "      <td>United Kingdom</td>\n",
       "      <td>532779</td>\n",
       "      <td>42528.0</td>\n",
       "      <td>2417.0</td>\n",
       "      <td>487834.0</td>\n",
       "      <td>14557</td>\n",
       "      <td>76</td>\n",
       "      <td>8</td>\n",
       "      <td>67948282</td>\n",
       "      <td>281</td>\n",
       "      <td>67948.28</td>\n",
       "      <td>7.84</td>\n",
       "      <td>0.63</td>\n",
       "      <td>0.04</td>\n",
       "    </tr>\n",
       "    <tr>\n",
       "      <th>44510</th>\n",
       "      <td>2020-10-07</td>\n",
       "      <td>United Kingdom</td>\n",
       "      <td>546952</td>\n",
       "      <td>42598.0</td>\n",
       "      <td>2425.0</td>\n",
       "      <td>501929.0</td>\n",
       "      <td>14173</td>\n",
       "      <td>70</td>\n",
       "      <td>8</td>\n",
       "      <td>67948282</td>\n",
       "      <td>281</td>\n",
       "      <td>67948.28</td>\n",
       "      <td>8.05</td>\n",
       "      <td>0.63</td>\n",
       "      <td>0.04</td>\n",
       "    </tr>\n",
       "    <tr>\n",
       "      <th>44511</th>\n",
       "      <td>2020-10-08</td>\n",
       "      <td>United Kingdom</td>\n",
       "      <td>564502</td>\n",
       "      <td>42675.0</td>\n",
       "      <td>2474.0</td>\n",
       "      <td>519353.0</td>\n",
       "      <td>17550</td>\n",
       "      <td>77</td>\n",
       "      <td>49</td>\n",
       "      <td>67948282</td>\n",
       "      <td>281</td>\n",
       "      <td>67948.28</td>\n",
       "      <td>8.31</td>\n",
       "      <td>0.63</td>\n",
       "      <td>0.04</td>\n",
       "    </tr>\n",
       "    <tr>\n",
       "      <th>44512</th>\n",
       "      <td>2020-10-09</td>\n",
       "      <td>United Kingdom</td>\n",
       "      <td>578390</td>\n",
       "      <td>42762.0</td>\n",
       "      <td>2488.0</td>\n",
       "      <td>533140.0</td>\n",
       "      <td>13888</td>\n",
       "      <td>87</td>\n",
       "      <td>14</td>\n",
       "      <td>67948282</td>\n",
       "      <td>281</td>\n",
       "      <td>67948.28</td>\n",
       "      <td>8.51</td>\n",
       "      <td>0.63</td>\n",
       "      <td>0.04</td>\n",
       "    </tr>\n",
       "  </tbody>\n",
       "</table>\n",
       "<p>112 rows × 15 columns</p>\n",
       "</div>"
      ],
      "text/plain": [
       "            date         Country  Confirmed    Deaths  Recovered     Active  \\\n",
       "6174  2020-10-01          Brazil    4847092  144680.0        0.0  4702412.0   \n",
       "6175  2020-10-10          Brazil    5082637  150198.0        0.0  4932439.0   \n",
       "6176  2020-10-11          Brazil    5094979  150488.0        0.0  4944491.0   \n",
       "6177  2020-10-12          Brazil    5103408  150689.0        0.0  4952719.0   \n",
       "6178  2020-10-13          Brazil    5113628  150998.0        0.0  4962630.0   \n",
       "...          ...             ...        ...       ...        ...        ...   \n",
       "44508 2020-10-05  United Kingdom     518222   42452.0     2409.0   473361.0   \n",
       "44509 2020-10-06  United Kingdom     532779   42528.0     2417.0   487834.0   \n",
       "44510 2020-10-07  United Kingdom     546952   42598.0     2425.0   501929.0   \n",
       "44511 2020-10-08  United Kingdom     564502   42675.0     2474.0   519353.0   \n",
       "44512 2020-10-09  United Kingdom     578390   42762.0     2488.0   533140.0   \n",
       "\n",
       "       New cases  New deaths  New recovered  Population  Density(P/Km²)  \\\n",
       "6174     4847092      144680              0   212821986              25   \n",
       "6175      235545        5518              0   212821986              25   \n",
       "6176       12342         290              0   212821986              25   \n",
       "6177        8429         201              0   212821986              25   \n",
       "6178       10220         309              0   212821986              25   \n",
       "...          ...         ...            ...         ...             ...   \n",
       "44508      12603          19              6    67948282             281   \n",
       "44509      14557          76              8    67948282             281   \n",
       "44510      14173          70              8    67948282             281   \n",
       "44511      17550          77             49    67948282             281   \n",
       "44512      13888          87             14    67948282             281   \n",
       "\n",
       "       Population_million  Cases_per_Million  Deaths_per_Million  \\\n",
       "6174            212821.99              22.78                0.68   \n",
       "6175            212821.99              23.88                0.71   \n",
       "6176            212821.99              23.94                0.71   \n",
       "6177            212821.99              23.98                0.71   \n",
       "6178            212821.99              24.03                0.71   \n",
       "...                   ...                ...                 ...   \n",
       "44508            67948.28               7.63                0.62   \n",
       "44509            67948.28               7.84                0.63   \n",
       "44510            67948.28               8.05                0.63   \n",
       "44511            67948.28               8.31                0.63   \n",
       "44512            67948.28               8.51                0.63   \n",
       "\n",
       "       Recovered_per_Million  \n",
       "6174                    0.00  \n",
       "6175                    0.00  \n",
       "6176                    0.00  \n",
       "6177                    0.00  \n",
       "6178                    0.00  \n",
       "...                      ...  \n",
       "44508                   0.04  \n",
       "44509                   0.04  \n",
       "44510                   0.04  \n",
       "44511                   0.04  \n",
       "44512                   0.04  \n",
       "\n",
       "[112 rows x 15 columns]"
      ]
     },
     "execution_count": 28,
     "metadata": {},
     "output_type": "execute_result"
    }
   ],
   "source": [
    "#Filtering the data for the past 2 weeks\n",
    "covid_countries_dapt['date'] = pd.to_datetime(covid_countries_dapt['date'])\n",
    "start_date = '10/1/20'\n",
    "end_date = '10/14/20'\n",
    "mask = (covid_countries_dapt['date'] >= start_date) & (covid_countries_dapt['date'] <= end_date)\n",
    "covid_countries_dapt = covid_countries_dapt.loc[mask]\n",
    "covid_countries_dapt"
   ]
  },
  {
   "cell_type": "markdown",
   "metadata": {},
   "source": [
    "#1 Which country is facing a daily high cases on average for the past 2 weeks?"
   ]
  },
  {
   "cell_type": "code",
   "execution_count": 37,
   "metadata": {},
   "outputs": [
    {
     "data": {
      "text/html": [
       "<div>\n",
       "<style scoped>\n",
       "    .dataframe tbody tr th:only-of-type {\n",
       "        vertical-align: middle;\n",
       "    }\n",
       "\n",
       "    .dataframe tbody tr th {\n",
       "        vertical-align: top;\n",
       "    }\n",
       "\n",
       "    .dataframe thead th {\n",
       "        text-align: right;\n",
       "    }\n",
       "</style>\n",
       "<table border=\"1\" class=\"dataframe\">\n",
       "  <thead>\n",
       "    <tr style=\"text-align: right;\">\n",
       "      <th></th>\n",
       "      <th>Country</th>\n",
       "      <th>Density(P/Km²)</th>\n",
       "      <th>Daily Average of Cases</th>\n",
       "    </tr>\n",
       "  </thead>\n",
       "  <tbody>\n",
       "    <tr>\n",
       "      <th>0</th>\n",
       "      <td>Brazil</td>\n",
       "      <td>25</td>\n",
       "      <td>382118.500000</td>\n",
       "    </tr>\n",
       "    <tr>\n",
       "      <th>1</th>\n",
       "      <td>India</td>\n",
       "      <td>464</td>\n",
       "      <td>558069.642857</td>\n",
       "    </tr>\n",
       "    <tr>\n",
       "      <th>2</th>\n",
       "      <td>Italy</td>\n",
       "      <td>206</td>\n",
       "      <td>28332.785714</td>\n",
       "    </tr>\n",
       "    <tr>\n",
       "      <th>3</th>\n",
       "      <td>Netherlands</td>\n",
       "      <td>508</td>\n",
       "      <td>16866.000000</td>\n",
       "    </tr>\n",
       "    <tr>\n",
       "      <th>4</th>\n",
       "      <td>Romania</td>\n",
       "      <td>84</td>\n",
       "      <td>12954.428571</td>\n",
       "    </tr>\n",
       "    <tr>\n",
       "      <th>5</th>\n",
       "      <td>South Korea</td>\n",
       "      <td>527</td>\n",
       "      <td>1821.285714</td>\n",
       "    </tr>\n",
       "    <tr>\n",
       "      <th>6</th>\n",
       "      <td>Turkey</td>\n",
       "      <td>110</td>\n",
       "      <td>25094.285714</td>\n",
       "    </tr>\n",
       "    <tr>\n",
       "      <th>7</th>\n",
       "      <td>United Kingdom</td>\n",
       "      <td>281</td>\n",
       "      <td>54719.857143</td>\n",
       "    </tr>\n",
       "  </tbody>\n",
       "</table>\n",
       "</div>"
      ],
      "text/plain": [
       "          Country  Density(P/Km²)  Daily Average of Cases\n",
       "0          Brazil              25           382118.500000\n",
       "1           India             464           558069.642857\n",
       "2           Italy             206            28332.785714\n",
       "3     Netherlands             508            16866.000000\n",
       "4         Romania              84            12954.428571\n",
       "5     South Korea             527             1821.285714\n",
       "6          Turkey             110            25094.285714\n",
       "7  United Kingdom             281            54719.857143"
      ]
     },
     "execution_count": 37,
     "metadata": {},
     "output_type": "execute_result"
    }
   ],
   "source": [
    "covid_countries_dapt_df = covid_countries_dapt.groupby(['Country','Density(P/Km²)'])['New cases'].mean().reset_index()\n",
    "covid_countries_dapt_df.rename(columns={'New cases':'Daily Average of Cases'}, inplace=True)\n",
    "covid_countries_dapt_df"
   ]
  },
  {
   "cell_type": "code",
   "execution_count": 38,
   "metadata": {},
   "outputs": [
    {
     "data": {
      "image/png": "[encoded data removed]",
      "text/plain": [
       "<Figure size 720x432 with 1 Axes>"
      ]
     },
     "metadata": {},
     "output_type": "display_data"
    }
   ],
   "source": [
    "sns.set(\n",
    "    rc={'figure.figsize':(10,6)}, \n",
    "    style=\"white\",\n",
    "    palette = 'deep',\n",
    "    color_codes=True\n",
    ")\n",
    "sns.barplot( x='Country',\n",
    "    y='Daily Average of Cases',\n",
    "    data=covid_countries_dapt_df\n",
    ")\n",
    "plt.xticks(rotation = 35 , ha='right')\n",
    "plt.title('Daily Average of cases during the past 2 weeks')\n",
    "plt.show()"
   ]
  },
  {
   "cell_type": "code",
   "execution_count": null,
   "metadata": {},
   "outputs": [],
   "source": [
    "#2.Putting the population factor into consideration , will the picture look different ?"
   ]
  },
  {
   "cell_type": "code",
   "execution_count": 35,
   "metadata": {},
   "outputs": [
    {
     "data": {
      "application/vnd.plotly.v1+json": {
       "config": {
        "plotlyServerURL": "https://plot.ly"
       },
       "data": [
        {
         "hovertemplate": "<b>%{hovertext}</b><br><br>Country=Brazil<br>date=%{x}<br>Cases_per_Million=%{y}<br>Population_million=%{marker.size}<extra></extra>",
         "hovertext": [
          "Brazil",
          "Brazil",
          "Brazil",
          "Brazil",
          "Brazil",
          "Brazil",
          "Brazil",
          "Brazil",
          "Brazil",
          "Brazil",
          "Brazil",
          "Brazil",
          "Brazil",
          "Brazil"
         ],
         "legendgroup": "Brazil",
         "marker": {
          "color": "#636efa",
          "size": [
           212821.99,
           212821.99,
           212821.99,
           212821.99,
           212821.99,
           212821.99,
           212821.99,
           212821.99,
           212821.99,
           212821.99,
           212821.99,
           212821.99,
           212821.99,
           212821.99
          ],
          "sizemode": "area",
          "sizeref": 383.98474444444446,
          "symbol": "circle"
         },
         "mode": "markers",
         "name": "Brazil",
         "orientation": "v",
         "showlegend": true,
         "type": "scatter",
         "x": [
          "2020-10-01T00:00:00",
          "2020-10-10T00:00:00",
          "2020-10-11T00:00:00",
          "2020-10-12T00:00:00",
          "2020-10-13T00:00:00",
          "2020-10-14T00:00:00",
          "2020-10-02T00:00:00",
          "2020-10-03T00:00:00",
          "2020-10-04T00:00:00",
          "2020-10-05T00:00:00",
          "2020-10-06T00:00:00",
          "2020-10-07T00:00:00",
          "2020-10-08T00:00:00",
          "2020-10-09T00:00:00"
         ],
         "xaxis": "x",
         "y": [
          22.78,
          23.88,
          23.94,
          23.98,
          24.03,
          24.16,
          22.78,
          23.06,
          23.1,
          23.15,
          23.35,
          23.5,
          23.63,
          23.76
         ],
         "yaxis": "y"
        },
        {
         "hovertemplate": "<b>%{hovertext}</b><br><br>Country=India<br>date=%{x}<br>Cases_per_Million=%{y}<br>Population_million=%{marker.size}<extra></extra>",
         "hovertext": [
          "India",
          "India",
          "India",
          "India",
          "India",
          "India",
          "India",
          "India",
          "India",
          "India",
          "India",
          "India",
          "India",
          "India"
         ],
         "legendgroup": "India",
         "marker": {
          "color": "#EF553B",
          "size": [
           1382345.08,
           1382345.08,
           1382345.08,
           1382345.08,
           1382345.08,
           1382345.08,
           1382345.08,
           1382345.08,
           1382345.08,
           1382345.08,
           1382345.08,
           1382345.08,
           1382345.08,
           1382345.08
          ],
          "sizemode": "area",
          "sizeref": 383.98474444444446,
          "symbol": "circle"
         },
         "mode": "markers",
         "name": "India",
         "orientation": "v",
         "showlegend": true,
         "type": "scatter",
         "x": [
          "2020-10-01T00:00:00",
          "2020-10-10T00:00:00",
          "2020-10-11T00:00:00",
          "2020-10-12T00:00:00",
          "2020-10-13T00:00:00",
          "2020-10-14T00:00:00",
          "2020-10-02T00:00:00",
          "2020-10-03T00:00:00",
          "2020-10-04T00:00:00",
          "2020-10-05T00:00:00",
          "2020-10-06T00:00:00",
          "2020-10-07T00:00:00",
          "2020-10-08T00:00:00",
          "2020-10-09T00:00:00"
         ],
         "xaxis": "x",
         "y": [
          4.63,
          5.1,
          5.15,
          5.19,
          5.24,
          5.29,
          4.68,
          4.74,
          4.79,
          4.84,
          4.89,
          4.94,
          5,
          5.05
         ],
         "yaxis": "y"
        },
        {
         "hovertemplate": "<b>%{hovertext}</b><br><br>Country=Italy<br>date=%{x}<br>Cases_per_Million=%{y}<br>Population_million=%{marker.size}<extra></extra>",
         "hovertext": [
          "Italy",
          "Italy",
          "Italy",
          "Italy",
          "Italy",
          "Italy",
          "Italy",
          "Italy",
          "Italy",
          "Italy",
          "Italy",
          "Italy",
          "Italy",
          "Italy"
         ],
         "legendgroup": "Italy",
         "marker": {
          "color": "#00cc96",
          "size": [
           60446.04,
           60446.04,
           60446.04,
           60446.04,
           60446.04,
           60446.04,
           60446.04,
           60446.04,
           60446.04,
           60446.04,
           60446.04,
           60446.04,
           60446.04,
           60446.04
          ],
          "sizemode": "area",
          "sizeref": 383.98474444444446,
          "symbol": "circle"
         },
         "mode": "markers",
         "name": "Italy",
         "orientation": "v",
         "showlegend": true,
         "type": "scatter",
         "x": [
          "2020-10-01T00:00:00",
          "2020-10-10T00:00:00",
          "2020-10-11T00:00:00",
          "2020-10-12T00:00:00",
          "2020-10-13T00:00:00",
          "2020-10-14T00:00:00",
          "2020-10-02T00:00:00",
          "2020-10-03T00:00:00",
          "2020-10-04T00:00:00",
          "2020-10-05T00:00:00",
          "2020-10-06T00:00:00",
          "2020-10-07T00:00:00",
          "2020-10-08T00:00:00",
          "2020-10-09T00:00:00"
         ],
         "xaxis": "x",
         "y": [
          5.25,
          5.78,
          5.87,
          5.95,
          6.05,
          6.17,
          5.29,
          5.34,
          5.38,
          5.42,
          5.46,
          5.52,
          5.6,
          5.69
         ],
         "yaxis": "y"
        },
        {
         "hovertemplate": "<b>%{hovertext}</b><br><br>Country=South Korea<br>date=%{x}<br>Cases_per_Million=%{y}<br>Population_million=%{marker.size}<extra></extra>",
         "hovertext": [
          "South Korea",
          "South Korea",
          "South Korea",
          "South Korea",
          "South Korea",
          "South Korea",
          "South Korea",
          "South Korea",
          "South Korea",
          "South Korea",
          "South Korea",
          "South Korea",
          "South Korea",
          "South Korea"
         ],
         "legendgroup": "South Korea",
         "marker": {
          "color": "#ab63fa",
          "size": [
           51276.98,
           51276.98,
           51276.98,
           51276.98,
           51276.98,
           51276.98,
           51276.98,
           51276.98,
           51276.98,
           51276.98,
           51276.98,
           51276.98,
           51276.98,
           51276.98
          ],
          "sizemode": "area",
          "sizeref": 383.98474444444446,
          "symbol": "circle"
         },
         "mode": "markers",
         "name": "South Korea",
         "orientation": "v",
         "showlegend": true,
         "type": "scatter",
         "x": [
          "2020-10-01T00:00:00",
          "2020-10-10T00:00:00",
          "2020-10-11T00:00:00",
          "2020-10-12T00:00:00",
          "2020-10-13T00:00:00",
          "2020-10-14T00:00:00",
          "2020-10-02T00:00:00",
          "2020-10-03T00:00:00",
          "2020-10-04T00:00:00",
          "2020-10-05T00:00:00",
          "2020-10-06T00:00:00",
          "2020-10-07T00:00:00",
          "2020-10-08T00:00:00",
          "2020-10-09T00:00:00"
         ],
         "xaxis": "x",
         "y": [
          0.47,
          0.48,
          0.48,
          0.48,
          0.49,
          0.49,
          0.47,
          0.47,
          0.47,
          0.47,
          0.47,
          0.48,
          0.48,
          0.48
         ],
         "yaxis": "y"
        },
        {
         "hovertemplate": "<b>%{hovertext}</b><br><br>Country=Netherlands<br>date=%{x}<br>Cases_per_Million=%{y}<br>Population_million=%{marker.size}<extra></extra>",
         "hovertext": [
          "Netherlands",
          "Netherlands",
          "Netherlands",
          "Netherlands",
          "Netherlands",
          "Netherlands",
          "Netherlands",
          "Netherlands",
          "Netherlands",
          "Netherlands",
          "Netherlands",
          "Netherlands",
          "Netherlands",
          "Netherlands"
         ],
         "legendgroup": "Netherlands",
         "marker": {
          "color": "#FFA15A",
          "size": [
           17141.54,
           17141.54,
           17141.54,
           17141.54,
           17141.54,
           17141.54,
           17141.54,
           17141.54,
           17141.54,
           17141.54,
           17141.54,
           17141.54,
           17141.54,
           17141.54
          ],
          "sizemode": "area",
          "sizeref": 383.98474444444446,
          "symbol": "circle"
         },
         "mode": "markers",
         "name": "Netherlands",
         "orientation": "v",
         "showlegend": true,
         "type": "scatter",
         "x": [
          "2020-10-01T00:00:00",
          "2020-10-10T00:00:00",
          "2020-10-11T00:00:00",
          "2020-10-12T00:00:00",
          "2020-10-13T00:00:00",
          "2020-10-14T00:00:00",
          "2020-10-02T00:00:00",
          "2020-10-03T00:00:00",
          "2020-10-04T00:00:00",
          "2020-10-05T00:00:00",
          "2020-10-06T00:00:00",
          "2020-10-07T00:00:00",
          "2020-10-08T00:00:00",
          "2020-10-09T00:00:00"
         ],
         "xaxis": "x",
         "y": [
          7.54,
          10.14,
          10.52,
          10.92,
          11.35,
          11.78,
          7.77,
          8,
          8.24,
          8.24,
          8.77,
          9.07,
          9.41,
          9.76
         ],
         "yaxis": "y"
        },
        {
         "hovertemplate": "<b>%{hovertext}</b><br><br>Country=Romania<br>date=%{x}<br>Cases_per_Million=%{y}<br>Population_million=%{marker.size}<extra></extra>",
         "hovertext": [
          "Romania",
          "Romania",
          "Romania",
          "Romania",
          "Romania",
          "Romania",
          "Romania",
          "Romania",
          "Romania",
          "Romania",
          "Romania",
          "Romania",
          "Romania",
          "Romania"
         ],
         "legendgroup": "Romania",
         "marker": {
          "color": "#19d3f3",
          "size": [
           19214.61,
           19214.61,
           19214.61,
           19214.61,
           19214.61,
           19214.61,
           19214.61,
           19214.61,
           19214.61,
           19214.61,
           19214.61,
           19214.61,
           19214.61,
           19214.61
          ],
          "sizemode": "area",
          "sizeref": 383.98474444444446,
          "symbol": "circle"
         },
         "mode": "markers",
         "name": "Romania",
         "orientation": "v",
         "showlegend": true,
         "type": "scatter",
         "x": [
          "2020-10-01T00:00:00",
          "2020-10-10T00:00:00",
          "2020-10-11T00:00:00",
          "2020-10-12T00:00:00",
          "2020-10-13T00:00:00",
          "2020-10-14T00:00:00",
          "2020-10-02T00:00:00",
          "2020-10-03T00:00:00",
          "2020-10-04T00:00:00",
          "2020-10-05T00:00:00",
          "2020-10-06T00:00:00",
          "2020-10-07T00:00:00",
          "2020-10-08T00:00:00",
          "2020-10-09T00:00:00"
         ],
         "xaxis": "x",
         "y": [
          6.75,
          7.93,
          8.08,
          8.19,
          8.35,
          8.56,
          6.87,
          6.98,
          7.07,
          7.16,
          7.27,
          7.42,
          7.58,
          7.75
         ],
         "yaxis": "y"
        },
        {
         "hovertemplate": "<b>%{hovertext}</b><br><br>Country=Turkey<br>date=%{x}<br>Cases_per_Million=%{y}<br>Population_million=%{marker.size}<extra></extra>",
         "hovertext": [
          "Turkey",
          "Turkey",
          "Turkey",
          "Turkey",
          "Turkey",
          "Turkey",
          "Turkey",
          "Turkey",
          "Turkey",
          "Turkey",
          "Turkey",
          "Turkey",
          "Turkey",
          "Turkey"
         ],
         "legendgroup": "Turkey",
         "marker": {
          "color": "#FF6692",
          "size": [
           84495.24,
           84495.24,
           84495.24,
           84495.24,
           84495.24,
           84495.24,
           84495.24,
           84495.24,
           84495.24,
           84495.24,
           84495.24,
           84495.24,
           84495.24,
           84495.24
          ],
          "sizemode": "area",
          "sizeref": 383.98474444444446,
          "symbol": "circle"
         },
         "mode": "markers",
         "name": "Turkey",
         "orientation": "v",
         "showlegend": true,
         "type": "scatter",
         "x": [
          "2020-10-01T00:00:00",
          "2020-10-10T00:00:00",
          "2020-10-11T00:00:00",
          "2020-10-12T00:00:00",
          "2020-10-13T00:00:00",
          "2020-10-14T00:00:00",
          "2020-10-02T00:00:00",
          "2020-10-03T00:00:00",
          "2020-10-04T00:00:00",
          "2020-10-05T00:00:00",
          "2020-10-06T00:00:00",
          "2020-10-07T00:00:00",
          "2020-10-08T00:00:00",
          "2020-10-09T00:00:00"
         ],
         "xaxis": "x",
         "y": [
          3.79,
          3.95,
          3.97,
          3.99,
          4.01,
          4.03,
          3.81,
          3.82,
          3.84,
          3.86,
          3.88,
          3.9,
          3.91,
          3.93
         ],
         "yaxis": "y"
        },
        {
         "hovertemplate": "<b>%{hovertext}</b><br><br>Country=United Kingdom<br>date=%{x}<br>Cases_per_Million=%{y}<br>Population_million=%{marker.size}<extra></extra>",
         "hovertext": [
          "United Kingdom",
          "United Kingdom",
          "United Kingdom",
          "United Kingdom",
          "United Kingdom",
          "United Kingdom",
          "United Kingdom",
          "United Kingdom",
          "United Kingdom",
          "United Kingdom",
          "United Kingdom",
          "United Kingdom",
          "United Kingdom",
          "United Kingdom"
         ],
         "legendgroup": "United Kingdom",
         "marker": {
          "color": "#B6E880",
          "size": [
           67948.28,
           67948.28,
           67948.28,
           67948.28,
           67948.28,
           67948.28,
           67948.28,
           67948.28,
           67948.28,
           67948.28,
           67948.28,
           67948.28,
           67948.28,
           67948.28
          ],
          "sizemode": "area",
          "sizeref": 383.98474444444446,
          "symbol": "circle"
         },
         "mode": "markers",
         "name": "United Kingdom",
         "orientation": "v",
         "showlegend": true,
         "type": "scatter",
         "x": [
          "2020-10-01T00:00:00",
          "2020-10-10T00:00:00",
          "2020-10-11T00:00:00",
          "2020-10-12T00:00:00",
          "2020-10-13T00:00:00",
          "2020-10-14T00:00:00",
          "2020-10-02T00:00:00",
          "2020-10-03T00:00:00",
          "2020-10-04T00:00:00",
          "2020-10-05T00:00:00",
          "2020-10-06T00:00:00",
          "2020-10-07T00:00:00",
          "2020-10-08T00:00:00",
          "2020-10-09T00:00:00"
         ],
         "xaxis": "x",
         "y": [
          6.81,
          8.74,
          8.93,
          9.13,
          9.39,
          9.68,
          6.91,
          7.1,
          7.44,
          7.63,
          7.84,
          8.05,
          8.31,
          8.51
         ],
         "yaxis": "y"
        }
       ],
       "layout": {
        "legend": {
         "itemsizing": "constant",
         "title": {
          "text": "Country"
         },
         "tracegroupgap": 0
        },
        "template": {
         "data": {
          "bar": [
           {
            "error_x": {
             "color": "#2a3f5f"
            },
            "error_y": {
             "color": "#2a3f5f"
            },
            "marker": {
             "line": {
              "color": "#E5ECF6",
              "width": 0.5
             }
            },
            "type": "bar"
           }
          ],
          "barpolar": [
           {
            "marker": {
             "line": {
              "color": "#E5ECF6",
              "width": 0.5
             }
            },
            "type": "barpolar"
           }
          ],
          "carpet": [
           {
            "aaxis": {
             "endlinecolor": "#2a3f5f",
             "gridcolor": "white",
             "linecolor": "white",
             "minorgridcolor": "white",
             "startlinecolor": "#2a3f5f"
            },
            "baxis": {
             "endlinecolor": "#2a3f5f",
             "gridcolor": "white",
             "linecolor": "white",
             "minorgridcolor": "white",
             "startlinecolor": "#2a3f5f"
            },
            "type": "carpet"
           }
          ],
          "choropleth": [
           {
            "colorbar": {
             "outlinewidth": 0,
             "ticks": ""
            },
            "type": "choropleth"
           }
          ],
          "contour": [
           {
            "colorbar": {
             "outlinewidth": 0,
             "ticks": ""
            },
            "colorscale": [
             [
              0,
              "#0d0887"
             ],
             [
              0.1111111111111111,
              "#46039f"
             ],
             [
              0.2222222222222222,
              "#7201a8"
             ],
             [
              0.3333333333333333,
              "#9c179e"
             ],
             [
              0.4444444444444444,
              "#bd3786"
             ],
             [
              0.5555555555555556,
              "#d8576b"
             ],
             [
              0.6666666666666666,
              "#ed7953"
             ],
             [
              0.7777777777777778,
              "#fb9f3a"
             ],
             [
              0.8888888888888888,
              "#fdca26"
             ],
             [
              1,
              "#f0f921"
             ]
            ],
            "type": "contour"
           }
          ],
          "contourcarpet": [
           {
            "colorbar": {
             "outlinewidth": 0,
             "ticks": ""
            },
            "type": "contourcarpet"
           }
          ],
          "heatmap": [
           {
            "colorbar": {
             "outlinewidth": 0,
             "ticks": ""
            },
            "colorscale": [
             [
              0,
              "#0d0887"
             ],
             [
              0.1111111111111111,
              "#46039f"
             ],
             [
              0.2222222222222222,
              "#7201a8"
             ],
             [
              0.3333333333333333,
              "#9c179e"
             ],
             [
              0.4444444444444444,
              "#bd3786"
             ],
             [
              0.5555555555555556,
              "#d8576b"
             ],
             [
              0.6666666666666666,
              "#ed7953"
             ],
             [
              0.7777777777777778,
              "#fb9f3a"
             ],
             [
              0.8888888888888888,
              "#fdca26"
             ],
             [
              1,
              "#f0f921"
             ]
            ],
            "type": "heatmap"
           }
          ],
          "heatmapgl": [
           {
            "colorbar": {
             "outlinewidth": 0,
             "ticks": ""
            },
            "colorscale": [
             [
              0,
              "#0d0887"
             ],
             [
              0.1111111111111111,
              "#46039f"
             ],
             [
              0.2222222222222222,
              "#7201a8"
             ],
             [
              0.3333333333333333,
              "#9c179e"
             ],
             [
              0.4444444444444444,
              "#bd3786"
             ],
             [
              0.5555555555555556,
              "#d8576b"
             ],
             [
              0.6666666666666666,
              "#ed7953"
             ],
             [
              0.7777777777777778,
              "#fb9f3a"
             ],
             [
              0.8888888888888888,
              "#fdca26"
             ],
             [
              1,
              "#f0f921"
             ]
            ],
            "type": "heatmapgl"
           }
          ],
          "histogram": [
           {
            "marker": {
             "colorbar": {
              "outlinewidth": 0,
              "ticks": ""
             }
            },
            "type": "histogram"
           }
          ],
          "histogram2d": [
           {
            "colorbar": {
             "outlinewidth": 0,
             "ticks": ""
            },
            "colorscale": [
             [
              0,
              "#0d0887"
             ],
             [
              0.1111111111111111,
              "#46039f"
             ],
             [
              0.2222222222222222,
              "#7201a8"
             ],
             [
              0.3333333333333333,
              "#9c179e"
             ],
             [
              0.4444444444444444,
              "#bd3786"
             ],
             [
              0.5555555555555556,
              "#d8576b"
             ],
             [
              0.6666666666666666,
              "#ed7953"
             ],
             [
              0.7777777777777778,
              "#fb9f3a"
             ],
             [
              0.8888888888888888,
              "#fdca26"
             ],
             [
              1,
              "#f0f921"
             ]
            ],
            "type": "histogram2d"
           }
          ],
          "histogram2dcontour": [
           {
            "colorbar": {
             "outlinewidth": 0,
             "ticks": ""
            },
            "colorscale": [
             [
              0,
              "#0d0887"
             ],
             [
              0.1111111111111111,
              "#46039f"
             ],
             [
              0.2222222222222222,
              "#7201a8"
             ],
             [
              0.3333333333333333,
              "#9c179e"
             ],
             [
              0.4444444444444444,
              "#bd3786"
             ],
             [
              0.5555555555555556,
              "#d8576b"
             ],
             [
              0.6666666666666666,
              "#ed7953"
             ],
             [
              0.7777777777777778,
              "#fb9f3a"
             ],
             [
              0.8888888888888888,
              "#fdca26"
             ],
             [
              1,
              "#f0f921"
             ]
            ],
            "type": "histogram2dcontour"
           }
          ],
          "mesh3d": [
           {
            "colorbar": {
             "outlinewidth": 0,
             "ticks": ""
            },
            "type": "mesh3d"
           }
          ],
          "parcoords": [
           {
            "line": {
             "colorbar": {
              "outlinewidth": 0,
              "ticks": ""
             }
            },
            "type": "parcoords"
           }
          ],
          "pie": [
           {
            "automargin": true,
            "type": "pie"
           }
          ],
          "scatter": [
           {
            "marker": {
             "colorbar": {
              "outlinewidth": 0,
              "ticks": ""
             }
            },
            "type": "scatter"
           }
          ],
          "scatter3d": [
           {
            "line": {
             "colorbar": {
              "outlinewidth": 0,
              "ticks": ""
             }
            },
            "marker": {
             "colorbar": {
              "outlinewidth": 0,
              "ticks": ""
             }
            },
            "type": "scatter3d"
           }
          ],
          "scattercarpet": [
           {
            "marker": {
             "colorbar": {
              "outlinewidth": 0,
              "ticks": ""
             }
            },
            "type": "scattercarpet"
           }
          ],
          "scattergeo": [
           {
            "marker": {
             "colorbar": {
              "outlinewidth": 0,
              "ticks": ""
             }
            },
            "type": "scattergeo"
           }
          ],
          "scattergl": [
           {
            "marker": {
             "colorbar": {
              "outlinewidth": 0,
              "ticks": ""
             }
            },
            "type": "scattergl"
           }
          ],
          "scattermapbox": [
           {
            "marker": {
             "colorbar": {
              "outlinewidth": 0,
              "ticks": ""
             }
            },
            "type": "scattermapbox"
           }
          ],
          "scatterpolar": [
           {
            "marker": {
             "colorbar": {
              "outlinewidth": 0,
              "ticks": ""
             }
            },
            "type": "scatterpolar"
           }
          ],
          "scatterpolargl": [
           {
            "marker": {
             "colorbar": {
              "outlinewidth": 0,
              "ticks": ""
             }
            },
            "type": "scatterpolargl"
           }
          ],
          "scatterternary": [
           {
            "marker": {
             "colorbar": {
              "outlinewidth": 0,
              "ticks": ""
             }
            },
            "type": "scatterternary"
           }
          ],
          "surface": [
           {
            "colorbar": {
             "outlinewidth": 0,
             "ticks": ""
            },
            "colorscale": [
             [
              0,
              "#0d0887"
             ],
             [
              0.1111111111111111,
              "#46039f"
             ],
             [
              0.2222222222222222,
              "#7201a8"
             ],
             [
              0.3333333333333333,
              "#9c179e"
             ],
             [
              0.4444444444444444,
              "#bd3786"
             ],
             [
              0.5555555555555556,
              "#d8576b"
             ],
             [
              0.6666666666666666,
              "#ed7953"
             ],
             [
              0.7777777777777778,
              "#fb9f3a"
             ],
             [
              0.8888888888888888,
              "#fdca26"
             ],
             [
              1,
              "#f0f921"
             ]
            ],
            "type": "surface"
           }
          ],
          "table": [
           {
            "cells": {
             "fill": {
              "color": "#EBF0F8"
             },
             "line": {
              "color": "white"
             }
            },
            "header": {
             "fill": {
              "color": "#C8D4E3"
             },
             "line": {
              "color": "white"
             }
            },
            "type": "table"
           }
          ]
         },
         "layout": {
          "annotationdefaults": {
           "arrowcolor": "#2a3f5f",
           "arrowhead": 0,
           "arrowwidth": 1
          },
          "coloraxis": {
           "colorbar": {
            "outlinewidth": 0,
            "ticks": ""
           }
          },
          "colorscale": {
           "diverging": [
            [
             0,
             "#8e0152"
            ],
            [
             0.1,
             "#c51b7d"
            ],
            [
             0.2,
             "#de77ae"
            ],
            [
             0.3,
             "#f1b6da"
            ],
            [
             0.4,
             "#fde0ef"
            ],
            [
             0.5,
             "#f7f7f7"
            ],
            [
             0.6,
             "#e6f5d0"
            ],
            [
             0.7,
             "#b8e186"
            ],
            [
             0.8,
             "#7fbc41"
            ],
            [
             0.9,
             "#4d9221"
            ],
            [
             1,
             "#276419"
            ]
           ],
           "sequential": [
            [
             0,
             "#0d0887"
            ],
            [
             0.1111111111111111,
             "#46039f"
            ],
            [
             0.2222222222222222,
             "#7201a8"
            ],
            [
             0.3333333333333333,
             "#9c179e"
            ],
            [
             0.4444444444444444,
             "#bd3786"
            ],
            [
             0.5555555555555556,
             "#d8576b"
            ],
            [
             0.6666666666666666,
             "#ed7953"
            ],
            [
             0.7777777777777778,
             "#fb9f3a"
            ],
            [
             0.8888888888888888,
             "#fdca26"
            ],
            [
             1,
             "#f0f921"
            ]
           ],
           "sequentialminus": [
            [
             0,
             "#0d0887"
            ],
            [
             0.1111111111111111,
             "#46039f"
            ],
            [
             0.2222222222222222,
             "#7201a8"
            ],
            [
             0.3333333333333333,
             "#9c179e"
            ],
            [
             0.4444444444444444,
             "#bd3786"
            ],
            [
             0.5555555555555556,
             "#d8576b"
            ],
            [
             0.6666666666666666,
             "#ed7953"
            ],
            [
             0.7777777777777778,
             "#fb9f3a"
            ],
            [
             0.8888888888888888,
             "#fdca26"
            ],
            [
             1,
             "#f0f921"
            ]
           ]
          },
          "colorway": [
           "#636efa",
           "#EF553B",
           "#00cc96",
           "#ab63fa",
           "#FFA15A",
           "#19d3f3",
           "#FF6692",
           "#B6E880",
           "#FF97FF",
           "#FECB52"
          ],
          "font": {
           "color": "#2a3f5f"
          },
          "geo": {
           "bgcolor": "white",
           "lakecolor": "white",
           "landcolor": "#E5ECF6",
           "showlakes": true,
           "showland": true,
           "subunitcolor": "white"
          },
          "hoverlabel": {
           "align": "left"
          },
          "hovermode": "closest",
          "mapbox": {
           "style": "light"
          },
          "paper_bgcolor": "white",
          "plot_bgcolor": "#E5ECF6",
          "polar": {
           "angularaxis": {
            "gridcolor": "white",
            "linecolor": "white",
            "ticks": ""
           },
           "bgcolor": "#E5ECF6",
           "radialaxis": {
            "gridcolor": "white",
            "linecolor": "white",
            "ticks": ""
           }
          },
          "scene": {
           "xaxis": {
            "backgroundcolor": "#E5ECF6",
            "gridcolor": "white",
            "gridwidth": 2,
            "linecolor": "white",
            "showbackground": true,
            "ticks": "",
            "zerolinecolor": "white"
           },
           "yaxis": {
            "backgroundcolor": "#E5ECF6",
            "gridcolor": "white",
            "gridwidth": 2,
            "linecolor": "white",
            "showbackground": true,
            "ticks": "",
            "zerolinecolor": "white"
           },
           "zaxis": {
            "backgroundcolor": "#E5ECF6",
            "gridcolor": "white",
            "gridwidth": 2,
            "linecolor": "white",
            "showbackground": true,
            "ticks": "",
            "zerolinecolor": "white"
           }
          },
          "shapedefaults": {
           "line": {
            "color": "#2a3f5f"
           }
          },
          "ternary": {
           "aaxis": {
            "gridcolor": "white",
            "linecolor": "white",
            "ticks": ""
           },
           "baxis": {
            "gridcolor": "white",
            "linecolor": "white",
            "ticks": ""
           },
           "bgcolor": "#E5ECF6",
           "caxis": {
            "gridcolor": "white",
            "linecolor": "white",
            "ticks": ""
           }
          },
          "title": {
           "x": 0.05
          },
          "xaxis": {
           "automargin": true,
           "gridcolor": "white",
           "linecolor": "white",
           "ticks": "",
           "title": {
            "standoff": 15
           },
           "zerolinecolor": "white",
           "zerolinewidth": 2
          },
          "yaxis": {
           "automargin": true,
           "gridcolor": "white",
           "linecolor": "white",
           "ticks": "",
           "title": {
            "standoff": 15
           },
           "zerolinecolor": "white",
           "zerolinewidth": 2
          }
         }
        },
        "title": {
         "text": "Cumulative data for Cases per Million since past 2 weeks"
        },
        "xaxis": {
         "anchor": "y",
         "domain": [
          0,
          1
         ],
         "title": {
          "text": "date"
         }
        },
        "yaxis": {
         "anchor": "x",
         "domain": [
          0,
          1
         ],
         "title": {
          "text": "Cases_per_Million"
         }
        }
       }
      },
      "text/html": [
       "<div>                            <div id=\"81a45a2a-aa4a-4b76-a89f-473288b6f3d2\" class=\"plotly-graph-div\" style=\"height:525px; width:100%;\"></div>            <script type=\"text/javascript\">                require([\"plotly\"], function(Plotly) {                    window.PLOTLYENV=window.PLOTLYENV || {};                                    if (document.getElementById(\"81a45a2a-aa4a-4b76-a89f-473288b6f3d2\")) {                    Plotly.newPlot(                        \"81a45a2a-aa4a-4b76-a89f-473288b6f3d2\",                        [{\"hovertemplate\": \"<b>%{hovertext}</b><br><br>Country=Brazil<br>date=%{x}<br>Cases_per_Million=%{y}<br>Population_million=%{marker.size}<extra></extra>\", \"hovertext\": [\"Brazil\", \"Brazil\", \"Brazil\", \"Brazil\", \"Brazil\", \"Brazil\", \"Brazil\", \"Brazil\", \"Brazil\", \"Brazil\", \"Brazil\", \"Brazil\", \"Brazil\", \"Brazil\"], \"legendgroup\": \"Brazil\", \"marker\": {\"color\": \"#636efa\", \"size\": [212821.99, 212821.99, 212821.99, 212821.99, 212821.99, 212821.99, 212821.99, 212821.99, 212821.99, 212821.99, 212821.99, 212821.99, 212821.99, 212821.99], \"sizemode\": \"area\", \"sizeref\": 383.98474444444446, \"symbol\": \"circle\"}, \"mode\": \"markers\", \"name\": \"Brazil\", \"orientation\": \"v\", \"showlegend\": true, \"type\": \"scatter\", \"x\": [\"2020-10-01T00:00:00\", \"2020-10-10T00:00:00\", \"2020-10-11T00:00:00\", \"2020-10-12T00:00:00\", \"2020-10-13T00:00:00\", \"2020-10-14T00:00:00\", \"2020-10-02T00:00:00\", \"2020-10-03T00:00:00\", \"2020-10-04T00:00:00\", \"2020-10-05T00:00:00\", \"2020-10-06T00:00:00\", \"2020-10-07T00:00:00\", \"2020-10-08T00:00:00\", \"2020-10-09T00:00:00\"], \"xaxis\": \"x\", \"y\": [22.78, 23.88, 23.94, 23.98, 24.03, 24.16, 22.78, 23.06, 23.1, 23.15, 23.35, 23.5, 23.63, 23.76], \"yaxis\": \"y\"}, {\"hovertemplate\": \"<b>%{hovertext}</b><br><br>Country=India<br>date=%{x}<br>Cases_per_Million=%{y}<br>Population_million=%{marker.size}<extra></extra>\", \"hovertext\": [\"India\", \"India\", \"India\", \"India\", \"India\", \"India\", \"India\", \"India\", \"India\", \"India\", \"India\", \"India\", \"India\", \"India\"], \"legendgroup\": \"India\", \"marker\": {\"color\": \"#EF553B\", \"size\": [1382345.08, 1382345.08, 1382345.08, 1382345.08, 1382345.08, 1382345.08, 1382345.08, 1382345.08, 1382345.08, 1382345.08, 1382345.08, 1382345.08, 1382345.08, 1382345.08], \"sizemode\": \"area\", \"sizeref\": 383.98474444444446, \"symbol\": \"circle\"}, \"mode\": \"markers\", \"name\": \"India\", \"orientation\": \"v\", \"showlegend\": true, \"type\": \"scatter\", \"x\": [\"2020-10-01T00:00:00\", \"2020-10-10T00:00:00\", \"2020-10-11T00:00:00\", \"2020-10-12T00:00:00\", \"2020-10-13T00:00:00\", \"2020-10-14T00:00:00\", \"2020-10-02T00:00:00\", \"2020-10-03T00:00:00\", \"2020-10-04T00:00:00\", \"2020-10-05T00:00:00\", \"2020-10-06T00:00:00\", \"2020-10-07T00:00:00\", \"2020-10-08T00:00:00\", \"2020-10-09T00:00:00\"], \"xaxis\": \"x\", \"y\": [4.63, 5.1, 5.15, 5.19, 5.24, 5.29, 4.68, 4.74, 4.79, 4.84, 4.89, 4.94, 5.0, 5.05], \"yaxis\": \"y\"}, {\"hovertemplate\": \"<b>%{hovertext}</b><br><br>Country=Italy<br>date=%{x}<br>Cases_per_Million=%{y}<br>Population_million=%{marker.size}<extra></extra>\", \"hovertext\": [\"Italy\", \"Italy\", \"Italy\", \"Italy\", \"Italy\", \"Italy\", \"Italy\", \"Italy\", \"Italy\", \"Italy\", \"Italy\", \"Italy\", \"Italy\", \"Italy\"], \"legendgroup\": \"Italy\", \"marker\": {\"color\": \"#00cc96\", \"size\": [60446.04, 60446.04, 60446.04, 60446.04, 60446.04, 60446.04, 60446.04, 60446.04, 60446.04, 60446.04, 60446.04, 60446.04, 60446.04, 60446.04], \"sizemode\": \"area\", \"sizeref\": 383.98474444444446, \"symbol\": \"circle\"}, \"mode\": \"markers\", \"name\": \"Italy\", \"orientation\": \"v\", \"showlegend\": true, \"type\": \"scatter\", \"x\": [\"2020-10-01T00:00:00\", \"2020-10-10T00:00:00\", \"2020-10-11T00:00:00\", \"2020-10-12T00:00:00\", \"2020-10-13T00:00:00\", \"2020-10-14T00:00:00\", \"2020-10-02T00:00:00\", \"2020-10-03T00:00:00\", \"2020-10-04T00:00:00\", \"2020-10-05T00:00:00\", \"2020-10-06T00:00:00\", \"2020-10-07T00:00:00\", \"2020-10-08T00:00:00\", \"2020-10-09T00:00:00\"], \"xaxis\": \"x\", \"y\": [5.25, 5.78, 5.87, 5.95, 6.05, 6.17, 5.29, 5.34, 5.38, 5.42, 5.46, 5.52, 5.6, 5.69], \"yaxis\": \"y\"}, {\"hovertemplate\": \"<b>%{hovertext}</b><br><br>Country=South Korea<br>date=%{x}<br>Cases_per_Million=%{y}<br>Population_million=%{marker.size}<extra></extra>\", \"hovertext\": [\"South Korea\", \"South Korea\", \"South Korea\", \"South Korea\", \"South Korea\", \"South Korea\", \"South Korea\", \"South Korea\", \"South Korea\", \"South Korea\", \"South Korea\", \"South Korea\", \"South Korea\", \"South Korea\"], \"legendgroup\": \"South Korea\", \"marker\": {\"color\": \"#ab63fa\", \"size\": [51276.98, 51276.98, 51276.98, 51276.98, 51276.98, 51276.98, 51276.98, 51276.98, 51276.98, 51276.98, 51276.98, 51276.98, 51276.98, 51276.98], \"sizemode\": \"area\", \"sizeref\": 383.98474444444446, \"symbol\": \"circle\"}, \"mode\": \"markers\", \"name\": \"South Korea\", \"orientation\": \"v\", \"showlegend\": true, \"type\": \"scatter\", \"x\": [\"2020-10-01T00:00:00\", \"2020-10-10T00:00:00\", \"2020-10-11T00:00:00\", \"2020-10-12T00:00:00\", \"2020-10-13T00:00:00\", \"2020-10-14T00:00:00\", \"2020-10-02T00:00:00\", \"2020-10-03T00:00:00\", \"2020-10-04T00:00:00\", \"2020-10-05T00:00:00\", \"2020-10-06T00:00:00\", \"2020-10-07T00:00:00\", \"2020-10-08T00:00:00\", \"2020-10-09T00:00:00\"], \"xaxis\": \"x\", \"y\": [0.47, 0.48, 0.48, 0.48, 0.49, 0.49, 0.47, 0.47, 0.47, 0.47, 0.47, 0.48, 0.48, 0.48], \"yaxis\": \"y\"}, {\"hovertemplate\": \"<b>%{hovertext}</b><br><br>Country=Netherlands<br>date=%{x}<br>Cases_per_Million=%{y}<br>Population_million=%{marker.size}<extra></extra>\", \"hovertext\": [\"Netherlands\", \"Netherlands\", \"Netherlands\", \"Netherlands\", \"Netherlands\", \"Netherlands\", \"Netherlands\", \"Netherlands\", \"Netherlands\", \"Netherlands\", \"Netherlands\", \"Netherlands\", \"Netherlands\", \"Netherlands\"], \"legendgroup\": \"Netherlands\", \"marker\": {\"color\": \"#FFA15A\", \"size\": [17141.54, 17141.54, 17141.54, 17141.54, 17141.54, 17141.54, 17141.54, 17141.54, 17141.54, 17141.54, 17141.54, 17141.54, 17141.54, 17141.54], \"sizemode\": \"area\", \"sizeref\": 383.98474444444446, \"symbol\": \"circle\"}, \"mode\": \"markers\", \"name\": \"Netherlands\", \"orientation\": \"v\", \"showlegend\": true, \"type\": \"scatter\", \"x\": [\"2020-10-01T00:00:00\", \"2020-10-10T00:00:00\", \"2020-10-11T00:00:00\", \"2020-10-12T00:00:00\", \"2020-10-13T00:00:00\", \"2020-10-14T00:00:00\", \"2020-10-02T00:00:00\", \"2020-10-03T00:00:00\", \"2020-10-04T00:00:00\", \"2020-10-05T00:00:00\", \"2020-10-06T00:00:00\", \"2020-10-07T00:00:00\", \"2020-10-08T00:00:00\", \"2020-10-09T00:00:00\"], \"xaxis\": \"x\", \"y\": [7.54, 10.14, 10.52, 10.92, 11.35, 11.78, 7.77, 8.0, 8.24, 8.24, 8.77, 9.07, 9.41, 9.76], \"yaxis\": \"y\"}, {\"hovertemplate\": \"<b>%{hovertext}</b><br><br>Country=Romania<br>date=%{x}<br>Cases_per_Million=%{y}<br>Population_million=%{marker.size}<extra></extra>\", \"hovertext\": [\"Romania\", \"Romania\", \"Romania\", \"Romania\", \"Romania\", \"Romania\", \"Romania\", \"Romania\", \"Romania\", \"Romania\", \"Romania\", \"Romania\", \"Romania\", \"Romania\"], \"legendgroup\": \"Romania\", \"marker\": {\"color\": \"#19d3f3\", \"size\": [19214.61, 19214.61, 19214.61, 19214.61, 19214.61, 19214.61, 19214.61, 19214.61, 19214.61, 19214.61, 19214.61, 19214.61, 19214.61, 19214.61], \"sizemode\": \"area\", \"sizeref\": 383.98474444444446, \"symbol\": \"circle\"}, \"mode\": \"markers\", \"name\": \"Romania\", \"orientation\": \"v\", \"showlegend\": true, \"type\": \"scatter\", \"x\": [\"2020-10-01T00:00:00\", \"2020-10-10T00:00:00\", \"2020-10-11T00:00:00\", \"2020-10-12T00:00:00\", \"2020-10-13T00:00:00\", \"2020-10-14T00:00:00\", \"2020-10-02T00:00:00\", \"2020-10-03T00:00:00\", \"2020-10-04T00:00:00\", \"2020-10-05T00:00:00\", \"2020-10-06T00:00:00\", \"2020-10-07T00:00:00\", \"2020-10-08T00:00:00\", \"2020-10-09T00:00:00\"], \"xaxis\": \"x\", \"y\": [6.75, 7.93, 8.08, 8.19, 8.35, 8.56, 6.87, 6.98, 7.07, 7.16, 7.27, 7.42, 7.58, 7.75], \"yaxis\": \"y\"}, {\"hovertemplate\": \"<b>%{hovertext}</b><br><br>Country=Turkey<br>date=%{x}<br>Cases_per_Million=%{y}<br>Population_million=%{marker.size}<extra></extra>\", \"hovertext\": [\"Turkey\", \"Turkey\", \"Turkey\", \"Turkey\", \"Turkey\", \"Turkey\", \"Turkey\", \"Turkey\", \"Turkey\", \"Turkey\", \"Turkey\", \"Turkey\", \"Turkey\", \"Turkey\"], \"legendgroup\": \"Turkey\", \"marker\": {\"color\": \"#FF6692\", \"size\": [84495.24, 84495.24, 84495.24, 84495.24, 84495.24, 84495.24, 84495.24, 84495.24, 84495.24, 84495.24, 84495.24, 84495.24, 84495.24, 84495.24], \"sizemode\": \"area\", \"sizeref\": 383.98474444444446, \"symbol\": \"circle\"}, \"mode\": \"markers\", \"name\": \"Turkey\", \"orientation\": \"v\", \"showlegend\": true, \"type\": \"scatter\", \"x\": [\"2020-10-01T00:00:00\", \"2020-10-10T00:00:00\", \"2020-10-11T00:00:00\", \"2020-10-12T00:00:00\", \"2020-10-13T00:00:00\", \"2020-10-14T00:00:00\", \"2020-10-02T00:00:00\", \"2020-10-03T00:00:00\", \"2020-10-04T00:00:00\", \"2020-10-05T00:00:00\", \"2020-10-06T00:00:00\", \"2020-10-07T00:00:00\", \"2020-10-08T00:00:00\", \"2020-10-09T00:00:00\"], \"xaxis\": \"x\", \"y\": [3.79, 3.95, 3.97, 3.99, 4.01, 4.03, 3.81, 3.82, 3.84, 3.86, 3.88, 3.9, 3.91, 3.93], \"yaxis\": \"y\"}, {\"hovertemplate\": \"<b>%{hovertext}</b><br><br>Country=United Kingdom<br>date=%{x}<br>Cases_per_Million=%{y}<br>Population_million=%{marker.size}<extra></extra>\", \"hovertext\": [\"United Kingdom\", \"United Kingdom\", \"United Kingdom\", \"United Kingdom\", \"United Kingdom\", \"United Kingdom\", \"United Kingdom\", \"United Kingdom\", \"United Kingdom\", \"United Kingdom\", \"United Kingdom\", \"United Kingdom\", \"United Kingdom\", \"United Kingdom\"], \"legendgroup\": \"United Kingdom\", \"marker\": {\"color\": \"#B6E880\", \"size\": [67948.28, 67948.28, 67948.28, 67948.28, 67948.28, 67948.28, 67948.28, 67948.28, 67948.28, 67948.28, 67948.28, 67948.28, 67948.28, 67948.28], \"sizemode\": \"area\", \"sizeref\": 383.98474444444446, \"symbol\": \"circle\"}, \"mode\": \"markers\", \"name\": \"United Kingdom\", \"orientation\": \"v\", \"showlegend\": true, \"type\": \"scatter\", \"x\": [\"2020-10-01T00:00:00\", \"2020-10-10T00:00:00\", \"2020-10-11T00:00:00\", \"2020-10-12T00:00:00\", \"2020-10-13T00:00:00\", \"2020-10-14T00:00:00\", \"2020-10-02T00:00:00\", \"2020-10-03T00:00:00\", \"2020-10-04T00:00:00\", \"2020-10-05T00:00:00\", \"2020-10-06T00:00:00\", \"2020-10-07T00:00:00\", \"2020-10-08T00:00:00\", \"2020-10-09T00:00:00\"], \"xaxis\": \"x\", \"y\": [6.81, 8.74, 8.93, 9.13, 9.39, 9.68, 6.91, 7.1, 7.44, 7.63, 7.84, 8.05, 8.31, 8.51], \"yaxis\": \"y\"}],                        {\"legend\": {\"itemsizing\": \"constant\", \"title\": {\"text\": \"Country\"}, \"tracegroupgap\": 0}, \"template\": {\"data\": {\"bar\": [{\"error_x\": {\"color\": \"#2a3f5f\"}, \"error_y\": {\"color\": \"#2a3f5f\"}, \"marker\": {\"line\": {\"color\": \"#E5ECF6\", \"width\": 0.5}}, \"type\": \"bar\"}], \"barpolar\": [{\"marker\": {\"line\": {\"color\": \"#E5ECF6\", \"width\": 0.5}}, \"type\": \"barpolar\"}], \"carpet\": [{\"aaxis\": {\"endlinecolor\": \"#2a3f5f\", \"gridcolor\": \"white\", \"linecolor\": \"white\", \"minorgridcolor\": \"white\", \"startlinecolor\": \"#2a3f5f\"}, \"baxis\": {\"endlinecolor\": \"#2a3f5f\", \"gridcolor\": \"white\", \"linecolor\": \"white\", \"minorgridcolor\": \"white\", \"startlinecolor\": \"#2a3f5f\"}, \"type\": \"carpet\"}], \"choropleth\": [{\"colorbar\": {\"outlinewidth\": 0, \"ticks\": \"\"}, \"type\": \"choropleth\"}], \"contour\": [{\"colorbar\": {\"outlinewidth\": 0, \"ticks\": \"\"}, \"colorscale\": [[0.0, \"#0d0887\"], [0.1111111111111111, \"#46039f\"], [0.2222222222222222, \"#7201a8\"], [0.3333333333333333, \"#9c179e\"], [0.4444444444444444, \"#bd3786\"], [0.5555555555555556, \"#d8576b\"], [0.6666666666666666, \"#ed7953\"], [0.7777777777777778, \"#fb9f3a\"], [0.8888888888888888, \"#fdca26\"], [1.0, \"#f0f921\"]], \"type\": \"contour\"}], \"contourcarpet\": [{\"colorbar\": {\"outlinewidth\": 0, \"ticks\": \"\"}, \"type\": \"contourcarpet\"}], \"heatmap\": [{\"colorbar\": {\"outlinewidth\": 0, \"ticks\": \"\"}, \"colorscale\": [[0.0, \"#0d0887\"], [0.1111111111111111, \"#46039f\"], [0.2222222222222222, \"#7201a8\"], [0.3333333333333333, \"#9c179e\"], [0.4444444444444444, \"#bd3786\"], [0.5555555555555556, \"#d8576b\"], [0.6666666666666666, \"#ed7953\"], [0.7777777777777778, \"#fb9f3a\"], [0.8888888888888888, \"#fdca26\"], [1.0, \"#f0f921\"]], \"type\": \"heatmap\"}], \"heatmapgl\": [{\"colorbar\": {\"outlinewidth\": 0, \"ticks\": \"\"}, \"colorscale\": [[0.0, \"#0d0887\"], [0.1111111111111111, \"#46039f\"], [0.2222222222222222, \"#7201a8\"], [0.3333333333333333, \"#9c179e\"], [0.4444444444444444, \"#bd3786\"], [0.5555555555555556, \"#d8576b\"], [0.6666666666666666, \"#ed7953\"], [0.7777777777777778, \"#fb9f3a\"], [0.8888888888888888, \"#fdca26\"], [1.0, \"#f0f921\"]], \"type\": \"heatmapgl\"}], \"histogram\": [{\"marker\": {\"colorbar\": {\"outlinewidth\": 0, \"ticks\": \"\"}}, \"type\": \"histogram\"}], \"histogram2d\": [{\"colorbar\": {\"outlinewidth\": 0, \"ticks\": \"\"}, \"colorscale\": [[0.0, \"#0d0887\"], [0.1111111111111111, \"#46039f\"], [0.2222222222222222, \"#7201a8\"], [0.3333333333333333, \"#9c179e\"], [0.4444444444444444, \"#bd3786\"], [0.5555555555555556, \"#d8576b\"], [0.6666666666666666, \"#ed7953\"], [0.7777777777777778, \"#fb9f3a\"], [0.8888888888888888, \"#fdca26\"], [1.0, \"#f0f921\"]], \"type\": \"histogram2d\"}], \"histogram2dcontour\": [{\"colorbar\": {\"outlinewidth\": 0, \"ticks\": \"\"}, \"colorscale\": [[0.0, \"#0d0887\"], [0.1111111111111111, \"#46039f\"], [0.2222222222222222, \"#7201a8\"], [0.3333333333333333, \"#9c179e\"], [0.4444444444444444, \"#bd3786\"], [0.5555555555555556, \"#d8576b\"], [0.6666666666666666, \"#ed7953\"], [0.7777777777777778, \"#fb9f3a\"], [0.8888888888888888, \"#fdca26\"], [1.0, \"#f0f921\"]], \"type\": \"histogram2dcontour\"}], \"mesh3d\": [{\"colorbar\": {\"outlinewidth\": 0, \"ticks\": \"\"}, \"type\": \"mesh3d\"}], \"parcoords\": [{\"line\": {\"colorbar\": {\"outlinewidth\": 0, \"ticks\": \"\"}}, \"type\": \"parcoords\"}], \"pie\": [{\"automargin\": true, \"type\": \"pie\"}], \"scatter\": [{\"marker\": {\"colorbar\": {\"outlinewidth\": 0, \"ticks\": \"\"}}, \"type\": \"scatter\"}], \"scatter3d\": [{\"line\": {\"colorbar\": {\"outlinewidth\": 0, \"ticks\": \"\"}}, \"marker\": {\"colorbar\": {\"outlinewidth\": 0, \"ticks\": \"\"}}, \"type\": \"scatter3d\"}], \"scattercarpet\": [{\"marker\": {\"colorbar\": {\"outlinewidth\": 0, \"ticks\": \"\"}}, \"type\": \"scattercarpet\"}], \"scattergeo\": [{\"marker\": {\"colorbar\": {\"outlinewidth\": 0, \"ticks\": \"\"}}, \"type\": \"scattergeo\"}], \"scattergl\": [{\"marker\": {\"colorbar\": {\"outlinewidth\": 0, \"ticks\": \"\"}}, \"type\": \"scattergl\"}], \"scattermapbox\": [{\"marker\": {\"colorbar\": {\"outlinewidth\": 0, \"ticks\": \"\"}}, \"type\": \"scattermapbox\"}], \"scatterpolar\": [{\"marker\": {\"colorbar\": {\"outlinewidth\": 0, \"ticks\": \"\"}}, \"type\": \"scatterpolar\"}], \"scatterpolargl\": [{\"marker\": {\"colorbar\": {\"outlinewidth\": 0, \"ticks\": \"\"}}, \"type\": \"scatterpolargl\"}], \"scatterternary\": [{\"marker\": {\"colorbar\": {\"outlinewidth\": 0, \"ticks\": \"\"}}, \"type\": \"scatterternary\"}], \"surface\": [{\"colorbar\": {\"outlinewidth\": 0, \"ticks\": \"\"}, \"colorscale\": [[0.0, \"#0d0887\"], [0.1111111111111111, \"#46039f\"], [0.2222222222222222, \"#7201a8\"], [0.3333333333333333, \"#9c179e\"], [0.4444444444444444, \"#bd3786\"], [0.5555555555555556, \"#d8576b\"], [0.6666666666666666, \"#ed7953\"], [0.7777777777777778, \"#fb9f3a\"], [0.8888888888888888, \"#fdca26\"], [1.0, \"#f0f921\"]], \"type\": \"surface\"}], \"table\": [{\"cells\": {\"fill\": {\"color\": \"#EBF0F8\"}, \"line\": {\"color\": \"white\"}}, \"header\": {\"fill\": {\"color\": \"#C8D4E3\"}, \"line\": {\"color\": \"white\"}}, \"type\": \"table\"}]}, \"layout\": {\"annotationdefaults\": {\"arrowcolor\": \"#2a3f5f\", \"arrowhead\": 0, \"arrowwidth\": 1}, \"coloraxis\": {\"colorbar\": {\"outlinewidth\": 0, \"ticks\": \"\"}}, \"colorscale\": {\"diverging\": [[0, \"#8e0152\"], [0.1, \"#c51b7d\"], [0.2, \"#de77ae\"], [0.3, \"#f1b6da\"], [0.4, \"#fde0ef\"], [0.5, \"#f7f7f7\"], [0.6, \"#e6f5d0\"], [0.7, \"#b8e186\"], [0.8, \"#7fbc41\"], [0.9, \"#4d9221\"], [1, \"#276419\"]], \"sequential\": [[0.0, \"#0d0887\"], [0.1111111111111111, \"#46039f\"], [0.2222222222222222, \"#7201a8\"], [0.3333333333333333, \"#9c179e\"], [0.4444444444444444, \"#bd3786\"], [0.5555555555555556, \"#d8576b\"], [0.6666666666666666, \"#ed7953\"], [0.7777777777777778, \"#fb9f3a\"], [0.8888888888888888, \"#fdca26\"], [1.0, \"#f0f921\"]], \"sequentialminus\": [[0.0, \"#0d0887\"], [0.1111111111111111, \"#46039f\"], [0.2222222222222222, \"#7201a8\"], [0.3333333333333333, \"#9c179e\"], [0.4444444444444444, \"#bd3786\"], [0.5555555555555556, \"#d8576b\"], [0.6666666666666666, \"#ed7953\"], [0.7777777777777778, \"#fb9f3a\"], [0.8888888888888888, \"#fdca26\"], [1.0, \"#f0f921\"]]}, \"colorway\": [\"#636efa\", \"#EF553B\", \"#00cc96\", \"#ab63fa\", \"#FFA15A\", \"#19d3f3\", \"#FF6692\", \"#B6E880\", \"#FF97FF\", \"#FECB52\"], \"font\": {\"color\": \"#2a3f5f\"}, \"geo\": {\"bgcolor\": \"white\", \"lakecolor\": \"white\", \"landcolor\": \"#E5ECF6\", \"showlakes\": true, \"showland\": true, \"subunitcolor\": \"white\"}, \"hoverlabel\": {\"align\": \"left\"}, \"hovermode\": \"closest\", \"mapbox\": {\"style\": \"light\"}, \"paper_bgcolor\": \"white\", \"plot_bgcolor\": \"#E5ECF6\", \"polar\": {\"angularaxis\": {\"gridcolor\": \"white\", \"linecolor\": \"white\", \"ticks\": \"\"}, \"bgcolor\": \"#E5ECF6\", \"radialaxis\": {\"gridcolor\": \"white\", \"linecolor\": \"white\", \"ticks\": \"\"}}, \"scene\": {\"xaxis\": {\"backgroundcolor\": \"#E5ECF6\", \"gridcolor\": \"white\", \"gridwidth\": 2, \"linecolor\": \"white\", \"showbackground\": true, \"ticks\": \"\", \"zerolinecolor\": \"white\"}, \"yaxis\": {\"backgroundcolor\": \"#E5ECF6\", \"gridcolor\": \"white\", \"gridwidth\": 2, \"linecolor\": \"white\", \"showbackground\": true, \"ticks\": \"\", \"zerolinecolor\": \"white\"}, \"zaxis\": {\"backgroundcolor\": \"#E5ECF6\", \"gridcolor\": \"white\", \"gridwidth\": 2, \"linecolor\": \"white\", \"showbackground\": true, \"ticks\": \"\", \"zerolinecolor\": \"white\"}}, \"shapedefaults\": {\"line\": {\"color\": \"#2a3f5f\"}}, \"ternary\": {\"aaxis\": {\"gridcolor\": \"white\", \"linecolor\": \"white\", \"ticks\": \"\"}, \"baxis\": {\"gridcolor\": \"white\", \"linecolor\": \"white\", \"ticks\": \"\"}, \"bgcolor\": \"#E5ECF6\", \"caxis\": {\"gridcolor\": \"white\", \"linecolor\": \"white\", \"ticks\": \"\"}}, \"title\": {\"x\": 0.05}, \"xaxis\": {\"automargin\": true, \"gridcolor\": \"white\", \"linecolor\": \"white\", \"ticks\": \"\", \"title\": {\"standoff\": 15}, \"zerolinecolor\": \"white\", \"zerolinewidth\": 2}, \"yaxis\": {\"automargin\": true, \"gridcolor\": \"white\", \"linecolor\": \"white\", \"ticks\": \"\", \"title\": {\"standoff\": 15}, \"zerolinecolor\": \"white\", \"zerolinewidth\": 2}}}, \"title\": {\"text\": \"Cumulative data for Cases per Million since past 2 weeks\"}, \"xaxis\": {\"anchor\": \"y\", \"domain\": [0.0, 1.0], \"title\": {\"text\": \"date\"}}, \"yaxis\": {\"anchor\": \"x\", \"domain\": [0.0, 1.0], \"title\": {\"text\": \"Cases_per_Million\"}}},                        {\"responsive\": true}                    ).then(function(){\n",
       "                            \n",
       "var gd = document.getElementById('81a45a2a-aa4a-4b76-a89f-473288b6f3d2');\n",
       "var x = new MutationObserver(function (mutations, observer) {{\n",
       "        var display = window.getComputedStyle(gd).display;\n",
       "        if (!display || display === 'none') {{\n",
       "            console.log([gd, 'removed!']);\n",
       "            Plotly.purge(gd);\n",
       "            observer.disconnect();\n",
       "        }}\n",
       "}});\n",
       "\n",
       "// Listen for the removal of the full notebook cells\n",
       "var notebookContainer = gd.closest('#notebook-container');\n",
       "if (notebookContainer) {{\n",
       "    x.observe(notebookContainer, {childList: true});\n",
       "}}\n",
       "\n",
       "// Listen for the clearing of the current output cell\n",
       "var outputEl = gd.closest('.output');\n",
       "if (outputEl) {{\n",
       "    x.observe(outputEl, {childList: true});\n",
       "}}\n",
       "\n",
       "                        })                };                });            </script>        </div>"
      ]
     },
     "metadata": {},
     "output_type": "display_data"
    },
    {
     "data": {
      "text/plain": [
       "<Figure size 720x432 with 0 Axes>"
      ]
     },
     "metadata": {},
     "output_type": "display_data"
    }
   ],
   "source": [
    "fig = px.scatter(\n",
    "    data_frame=covid_countries_dapt, \n",
    "    x=\"date\", \n",
    "    y=\"Cases_per_Million\", \n",
    "    size=\"Population_million\", \n",
    "    color=\"Country\",\n",
    "    hover_name=\"Country\",\n",
    "    size_max=60,\n",
    "    title = \"Cumulative data for Cases per Million since past 2 weeks\"\n",
    ")\n",
    "fig.show()\n",
    "plt.savefig(\"Cumulative Cases per million - Past 2 weeks across the 8 countries\")"
   ]
  },
  {
   "cell_type": "markdown",
   "metadata": {},
   "source": [
    "In this plot , the size of the bubble represents the Population per Million. The bigger the bubble, the higher the Pop.per million\n",
    "Based on the available data for the past 2 weeks ,its clear that India has the highest Pop. per million followed by Brazil , the no. of cases per million are not significantly increasing there when compared to the countries with lower Pop.per million such as the U.K and Netherlands."
   ]
  },
  {
   "cell_type": "code",
   "execution_count": 43,
   "metadata": {},
   "outputs": [
    {
     "data": {
      "application/vnd.plotly.v1+json": {
       "config": {
        "plotlyServerURL": "https://plot.ly"
       },
       "data": [
        {
         "hovertemplate": "<b>%{hovertext}</b><br><br>Country=Brazil<br>date=%{x}<br>Cases_per_Million=%{y}<extra></extra>",
         "hovertext": [
          "Brazil",
          "Brazil",
          "Brazil",
          "Brazil",
          "Brazil",
          "Brazil",
          "Brazil",
          "Brazil",
          "Brazil",
          "Brazil",
          "Brazil",
          "Brazil",
          "Brazil",
          "Brazil"
         ],
         "legendgroup": "Brazil",
         "marker": {
          "color": "#636efa",
          "symbol": "circle"
         },
         "mode": "markers",
         "name": "Brazil",
         "orientation": "v",
         "showlegend": true,
         "type": "scatter",
         "x": [
          "2020-10-01T00:00:00",
          "2020-10-10T00:00:00",
          "2020-10-11T00:00:00",
          "2020-10-12T00:00:00",
          "2020-10-13T00:00:00",
          "2020-10-14T00:00:00",
          "2020-10-02T00:00:00",
          "2020-10-03T00:00:00",
          "2020-10-04T00:00:00",
          "2020-10-05T00:00:00",
          "2020-10-06T00:00:00",
          "2020-10-07T00:00:00",
          "2020-10-08T00:00:00",
          "2020-10-09T00:00:00"
         ],
         "xaxis": "x",
         "y": [
          22.78,
          23.88,
          23.94,
          23.98,
          24.03,
          24.16,
          22.78,
          23.06,
          23.1,
          23.15,
          23.35,
          23.5,
          23.63,
          23.76
         ],
         "yaxis": "y"
        },
        {
         "hovertemplate": "<b>%{hovertext}</b><br><br>Country=India<br>date=%{x}<br>Cases_per_Million=%{y}<extra></extra>",
         "hovertext": [
          "India",
          "India",
          "India",
          "India",
          "India",
          "India",
          "India",
          "India",
          "India",
          "India",
          "India",
          "India",
          "India",
          "India"
         ],
         "legendgroup": "India",
         "marker": {
          "color": "#EF553B",
          "symbol": "circle"
         },
         "mode": "markers",
         "name": "India",
         "orientation": "v",
         "showlegend": true,
         "type": "scatter",
         "x": [
          "2020-10-01T00:00:00",
          "2020-10-10T00:00:00",
          "2020-10-11T00:00:00",
          "2020-10-12T00:00:00",
          "2020-10-13T00:00:00",
          "2020-10-14T00:00:00",
          "2020-10-02T00:00:00",
          "2020-10-03T00:00:00",
          "2020-10-04T00:00:00",
          "2020-10-05T00:00:00",
          "2020-10-06T00:00:00",
          "2020-10-07T00:00:00",
          "2020-10-08T00:00:00",
          "2020-10-09T00:00:00"
         ],
         "xaxis": "x",
         "y": [
          4.63,
          5.1,
          5.15,
          5.19,
          5.24,
          5.29,
          4.68,
          4.74,
          4.79,
          4.84,
          4.89,
          4.94,
          5,
          5.05
         ],
         "yaxis": "y"
        },
        {
         "hovertemplate": "<b>%{hovertext}</b><br><br>Country=Italy<br>date=%{x}<br>Cases_per_Million=%{y}<extra></extra>",
         "hovertext": [
          "Italy",
          "Italy",
          "Italy",
          "Italy",
          "Italy",
          "Italy",
          "Italy",
          "Italy",
          "Italy",
          "Italy",
          "Italy",
          "Italy",
          "Italy",
          "Italy"
         ],
         "legendgroup": "Italy",
         "marker": {
          "color": "#00cc96",
          "symbol": "circle"
         },
         "mode": "markers",
         "name": "Italy",
         "orientation": "v",
         "showlegend": true,
         "type": "scatter",
         "x": [
          "2020-10-01T00:00:00",
          "2020-10-10T00:00:00",
          "2020-10-11T00:00:00",
          "2020-10-12T00:00:00",
          "2020-10-13T00:00:00",
          "2020-10-14T00:00:00",
          "2020-10-02T00:00:00",
          "2020-10-03T00:00:00",
          "2020-10-04T00:00:00",
          "2020-10-05T00:00:00",
          "2020-10-06T00:00:00",
          "2020-10-07T00:00:00",
          "2020-10-08T00:00:00",
          "2020-10-09T00:00:00"
         ],
         "xaxis": "x",
         "y": [
          5.25,
          5.78,
          5.87,
          5.95,
          6.05,
          6.17,
          5.29,
          5.34,
          5.38,
          5.42,
          5.46,
          5.52,
          5.6,
          5.69
         ],
         "yaxis": "y"
        },
        {
         "hovertemplate": "<b>%{hovertext}</b><br><br>Country=South Korea<br>date=%{x}<br>Cases_per_Million=%{y}<extra></extra>",
         "hovertext": [
          "South Korea",
          "South Korea",
          "South Korea",
          "South Korea",
          "South Korea",
          "South Korea",
          "South Korea",
          "South Korea",
          "South Korea",
          "South Korea",
          "South Korea",
          "South Korea",
          "South Korea",
          "South Korea"
         ],
         "legendgroup": "South Korea",
         "marker": {
          "color": "#ab63fa",
          "symbol": "circle"
         },
         "mode": "markers",
         "name": "South Korea",
         "orientation": "v",
         "showlegend": true,
         "type": "scatter",
         "x": [
          "2020-10-01T00:00:00",
          "2020-10-10T00:00:00",
          "2020-10-11T00:00:00",
          "2020-10-12T00:00:00",
          "2020-10-13T00:00:00",
          "2020-10-14T00:00:00",
          "2020-10-02T00:00:00",
          "2020-10-03T00:00:00",
          "2020-10-04T00:00:00",
          "2020-10-05T00:00:00",
          "2020-10-06T00:00:00",
          "2020-10-07T00:00:00",
          "2020-10-08T00:00:00",
          "2020-10-09T00:00:00"
         ],
         "xaxis": "x",
         "y": [
          0.47,
          0.48,
          0.48,
          0.48,
          0.49,
          0.49,
          0.47,
          0.47,
          0.47,
          0.47,
          0.47,
          0.48,
          0.48,
          0.48
         ],
         "yaxis": "y"
        },
        {
         "hovertemplate": "<b>%{hovertext}</b><br><br>Country=Netherlands<br>date=%{x}<br>Cases_per_Million=%{y}<extra></extra>",
         "hovertext": [
          "Netherlands",
          "Netherlands",
          "Netherlands",
          "Netherlands",
          "Netherlands",
          "Netherlands",
          "Netherlands",
          "Netherlands",
          "Netherlands",
          "Netherlands",
          "Netherlands",
          "Netherlands",
          "Netherlands",
          "Netherlands"
         ],
         "legendgroup": "Netherlands",
         "marker": {
          "color": "#FFA15A",
          "symbol": "circle"
         },
         "mode": "markers",
         "name": "Netherlands",
         "orientation": "v",
         "showlegend": true,
         "type": "scatter",
         "x": [
          "2020-10-01T00:00:00",
          "2020-10-10T00:00:00",
          "2020-10-11T00:00:00",
          "2020-10-12T00:00:00",
          "2020-10-13T00:00:00",
          "2020-10-14T00:00:00",
          "2020-10-02T00:00:00",
          "2020-10-03T00:00:00",
          "2020-10-04T00:00:00",
          "2020-10-05T00:00:00",
          "2020-10-06T00:00:00",
          "2020-10-07T00:00:00",
          "2020-10-08T00:00:00",
          "2020-10-09T00:00:00"
         ],
         "xaxis": "x",
         "y": [
          7.54,
          10.14,
          10.52,
          10.92,
          11.35,
          11.78,
          7.77,
          8,
          8.24,
          8.24,
          8.77,
          9.07,
          9.41,
          9.76
         ],
         "yaxis": "y"
        },
        {
         "hovertemplate": "<b>%{hovertext}</b><br><br>Country=Romania<br>date=%{x}<br>Cases_per_Million=%{y}<extra></extra>",
         "hovertext": [
          "Romania",
          "Romania",
          "Romania",
          "Romania",
          "Romania",
          "Romania",
          "Romania",
          "Romania",
          "Romania",
          "Romania",
          "Romania",
          "Romania",
          "Romania",
          "Romania"
         ],
         "legendgroup": "Romania",
         "marker": {
          "color": "#19d3f3",
          "symbol": "circle"
         },
         "mode": "markers",
         "name": "Romania",
         "orientation": "v",
         "showlegend": true,
         "type": "scatter",
         "x": [
          "2020-10-01T00:00:00",
          "2020-10-10T00:00:00",
          "2020-10-11T00:00:00",
          "2020-10-12T00:00:00",
          "2020-10-13T00:00:00",
          "2020-10-14T00:00:00",
          "2020-10-02T00:00:00",
          "2020-10-03T00:00:00",
          "2020-10-04T00:00:00",
          "2020-10-05T00:00:00",
          "2020-10-06T00:00:00",
          "2020-10-07T00:00:00",
          "2020-10-08T00:00:00",
          "2020-10-09T00:00:00"
         ],
         "xaxis": "x",
         "y": [
          6.75,
          7.93,
          8.08,
          8.19,
          8.35,
          8.56,
          6.87,
          6.98,
          7.07,
          7.16,
          7.27,
          7.42,
          7.58,
          7.75
         ],
         "yaxis": "y"
        },
        {
         "hovertemplate": "<b>%{hovertext}</b><br><br>Country=Turkey<br>date=%{x}<br>Cases_per_Million=%{y}<extra></extra>",
         "hovertext": [
          "Turkey",
          "Turkey",
          "Turkey",
          "Turkey",
          "Turkey",
          "Turkey",
          "Turkey",
          "Turkey",
          "Turkey",
          "Turkey",
          "Turkey",
          "Turkey",
          "Turkey",
          "Turkey"
         ],
         "legendgroup": "Turkey",
         "marker": {
          "color": "#FF6692",
          "symbol": "circle"
         },
         "mode": "markers",
         "name": "Turkey",
         "orientation": "v",
         "showlegend": true,
         "type": "scatter",
         "x": [
          "2020-10-01T00:00:00",
          "2020-10-10T00:00:00",
          "2020-10-11T00:00:00",
          "2020-10-12T00:00:00",
          "2020-10-13T00:00:00",
          "2020-10-14T00:00:00",
          "2020-10-02T00:00:00",
          "2020-10-03T00:00:00",
          "2020-10-04T00:00:00",
          "2020-10-05T00:00:00",
          "2020-10-06T00:00:00",
          "2020-10-07T00:00:00",
          "2020-10-08T00:00:00",
          "2020-10-09T00:00:00"
         ],
         "xaxis": "x",
         "y": [
          3.79,
          3.95,
          3.97,
          3.99,
          4.01,
          4.03,
          3.81,
          3.82,
          3.84,
          3.86,
          3.88,
          3.9,
          3.91,
          3.93
         ],
         "yaxis": "y"
        },
        {
         "hovertemplate": "<b>%{hovertext}</b><br><br>Country=United Kingdom<br>date=%{x}<br>Cases_per_Million=%{y}<extra></extra>",
         "hovertext": [
          "United Kingdom",
          "United Kingdom",
          "United Kingdom",
          "United Kingdom",
          "United Kingdom",
          "United Kingdom",
          "United Kingdom",
          "United Kingdom",
          "United Kingdom",
          "United Kingdom",
          "United Kingdom",
          "United Kingdom",
          "United Kingdom",
          "United Kingdom"
         ],
         "legendgroup": "United Kingdom",
         "marker": {
          "color": "#B6E880",
          "symbol": "circle"
         },
         "mode": "markers",
         "name": "United Kingdom",
         "orientation": "v",
         "showlegend": true,
         "type": "scatter",
         "x": [
          "2020-10-01T00:00:00",
          "2020-10-10T00:00:00",
          "2020-10-11T00:00:00",
          "2020-10-12T00:00:00",
          "2020-10-13T00:00:00",
          "2020-10-14T00:00:00",
          "2020-10-02T00:00:00",
          "2020-10-03T00:00:00",
          "2020-10-04T00:00:00",
          "2020-10-05T00:00:00",
          "2020-10-06T00:00:00",
          "2020-10-07T00:00:00",
          "2020-10-08T00:00:00",
          "2020-10-09T00:00:00"
         ],
         "xaxis": "x",
         "y": [
          6.81,
          8.74,
          8.93,
          9.13,
          9.39,
          9.68,
          6.91,
          7.1,
          7.44,
          7.63,
          7.84,
          8.05,
          8.31,
          8.51
         ],
         "yaxis": "y"
        }
       ],
       "layout": {
        "legend": {
         "title": {
          "text": "Country"
         },
         "tracegroupgap": 0
        },
        "template": {
         "data": {
          "bar": [
           {
            "error_x": {
             "color": "#2a3f5f"
            },
            "error_y": {
             "color": "#2a3f5f"
            },
            "marker": {
             "line": {
              "color": "#E5ECF6",
              "width": 0.5
             }
            },
            "type": "bar"
           }
          ],
          "barpolar": [
           {
            "marker": {
             "line": {
              "color": "#E5ECF6",
              "width": 0.5
             }
            },
            "type": "barpolar"
           }
          ],
          "carpet": [
           {
            "aaxis": {
             "endlinecolor": "#2a3f5f",
             "gridcolor": "white",
             "linecolor": "white",
             "minorgridcolor": "white",
             "startlinecolor": "#2a3f5f"
            },
            "baxis": {
             "endlinecolor": "#2a3f5f",
             "gridcolor": "white",
             "linecolor": "white",
             "minorgridcolor": "white",
             "startlinecolor": "#2a3f5f"
            },
            "type": "carpet"
           }
          ],
          "choropleth": [
           {
            "colorbar": {
             "outlinewidth": 0,
             "ticks": ""
            },
            "type": "choropleth"
           }
          ],
          "contour": [
           {
            "colorbar": {
             "outlinewidth": 0,
             "ticks": ""
            },
            "colorscale": [
             [
              0,
              "#0d0887"
             ],
             [
              0.1111111111111111,
              "#46039f"
             ],
             [
              0.2222222222222222,
              "#7201a8"
             ],
             [
              0.3333333333333333,
              "#9c179e"
             ],
             [
              0.4444444444444444,
              "#bd3786"
             ],
             [
              0.5555555555555556,
              "#d8576b"
             ],
             [
              0.6666666666666666,
              "#ed7953"
             ],
             [
              0.7777777777777778,
              "#fb9f3a"
             ],
             [
              0.8888888888888888,
              "#fdca26"
             ],
             [
              1,
              "#f0f921"
             ]
            ],
            "type": "contour"
           }
          ],
          "contourcarpet": [
           {
            "colorbar": {
             "outlinewidth": 0,
             "ticks": ""
            },
            "type": "contourcarpet"
           }
          ],
          "heatmap": [
           {
            "colorbar": {
             "outlinewidth": 0,
             "ticks": ""
            },
            "colorscale": [
             [
              0,
              "#0d0887"
             ],
             [
              0.1111111111111111,
              "#46039f"
             ],
             [
              0.2222222222222222,
              "#7201a8"
             ],
             [
              0.3333333333333333,
              "#9c179e"
             ],
             [
              0.4444444444444444,
              "#bd3786"
             ],
             [
              0.5555555555555556,
              "#d8576b"
             ],
             [
              0.6666666666666666,
              "#ed7953"
             ],
             [
              0.7777777777777778,
              "#fb9f3a"
             ],
             [
              0.8888888888888888,
              "#fdca26"
             ],
             [
              1,
              "#f0f921"
             ]
            ],
            "type": "heatmap"
           }
          ],
          "heatmapgl": [
           {
            "colorbar": {
             "outlinewidth": 0,
             "ticks": ""
            },
            "colorscale": [
             [
              0,
              "#0d0887"
             ],
             [
              0.1111111111111111,
              "#46039f"
             ],
             [
              0.2222222222222222,
              "#7201a8"
             ],
             [
              0.3333333333333333,
              "#9c179e"
             ],
             [
              0.4444444444444444,
              "#bd3786"
             ],
             [
              0.5555555555555556,
              "#d8576b"
             ],
             [
              0.6666666666666666,
              "#ed7953"
             ],
             [
              0.7777777777777778,
              "#fb9f3a"
             ],
             [
              0.8888888888888888,
              "#fdca26"
             ],
             [
              1,
              "#f0f921"
             ]
            ],
            "type": "heatmapgl"
           }
          ],
          "histogram": [
           {
            "marker": {
             "colorbar": {
              "outlinewidth": 0,
              "ticks": ""
             }
            },
            "type": "histogram"
           }
          ],
          "histogram2d": [
           {
            "colorbar": {
             "outlinewidth": 0,
             "ticks": ""
            },
            "colorscale": [
             [
              0,
              "#0d0887"
             ],
             [
              0.1111111111111111,
              "#46039f"
             ],
             [
              0.2222222222222222,
              "#7201a8"
             ],
             [
              0.3333333333333333,
              "#9c179e"
             ],
             [
              0.4444444444444444,
              "#bd3786"
             ],
             [
              0.5555555555555556,
              "#d8576b"
             ],
             [
              0.6666666666666666,
              "#ed7953"
             ],
             [
              0.7777777777777778,
              "#fb9f3a"
             ],
             [
              0.8888888888888888,
              "#fdca26"
             ],
             [
              1,
              "#f0f921"
             ]
            ],
            "type": "histogram2d"
           }
          ],
          "histogram2dcontour": [
           {
            "colorbar": {
             "outlinewidth": 0,
             "ticks": ""
            },
            "colorscale": [
             [
              0,
              "#0d0887"
             ],
             [
              0.1111111111111111,
              "#46039f"
             ],
             [
              0.2222222222222222,
              "#7201a8"
             ],
             [
              0.3333333333333333,
              "#9c179e"
             ],
             [
              0.4444444444444444,
              "#bd3786"
             ],
             [
              0.5555555555555556,
              "#d8576b"
             ],
             [
              0.6666666666666666,
              "#ed7953"
             ],
             [
              0.7777777777777778,
              "#fb9f3a"
             ],
             [
              0.8888888888888888,
              "#fdca26"
             ],
             [
              1,
              "#f0f921"
             ]
            ],
            "type": "histogram2dcontour"
           }
          ],
          "mesh3d": [
           {
            "colorbar": {
             "outlinewidth": 0,
             "ticks": ""
            },
            "type": "mesh3d"
           }
          ],
          "parcoords": [
           {
            "line": {
             "colorbar": {
              "outlinewidth": 0,
              "ticks": ""
             }
            },
            "type": "parcoords"
           }
          ],
          "pie": [
           {
            "automargin": true,
            "type": "pie"
           }
          ],
          "scatter": [
           {
            "marker": {
             "colorbar": {
              "outlinewidth": 0,
              "ticks": ""
             }
            },
            "type": "scatter"
           }
          ],
          "scatter3d": [
           {
            "line": {
             "colorbar": {
              "outlinewidth": 0,
              "ticks": ""
             }
            },
            "marker": {
             "colorbar": {
              "outlinewidth": 0,
              "ticks": ""
             }
            },
            "type": "scatter3d"
           }
          ],
          "scattercarpet": [
           {
            "marker": {
             "colorbar": {
              "outlinewidth": 0,
              "ticks": ""
             }
            },
            "type": "scattercarpet"
           }
          ],
          "scattergeo": [
           {
            "marker": {
             "colorbar": {
              "outlinewidth": 0,
              "ticks": ""
             }
            },
            "type": "scattergeo"
           }
          ],
          "scattergl": [
           {
            "marker": {
             "colorbar": {
              "outlinewidth": 0,
              "ticks": ""
             }
            },
            "type": "scattergl"
           }
          ],
          "scattermapbox": [
           {
            "marker": {
             "colorbar": {
              "outlinewidth": 0,
              "ticks": ""
             }
            },
            "type": "scattermapbox"
           }
          ],
          "scatterpolar": [
           {
            "marker": {
             "colorbar": {
              "outlinewidth": 0,
              "ticks": ""
             }
            },
            "type": "scatterpolar"
           }
          ],
          "scatterpolargl": [
           {
            "marker": {
             "colorbar": {
              "outlinewidth": 0,
              "ticks": ""
             }
            },
            "type": "scatterpolargl"
           }
          ],
          "scatterternary": [
           {
            "marker": {
             "colorbar": {
              "outlinewidth": 0,
              "ticks": ""
             }
            },
            "type": "scatterternary"
           }
          ],
          "surface": [
           {
            "colorbar": {
             "outlinewidth": 0,
             "ticks": ""
            },
            "colorscale": [
             [
              0,
              "#0d0887"
             ],
             [
              0.1111111111111111,
              "#46039f"
             ],
             [
              0.2222222222222222,
              "#7201a8"
             ],
             [
              0.3333333333333333,
              "#9c179e"
             ],
             [
              0.4444444444444444,
              "#bd3786"
             ],
             [
              0.5555555555555556,
              "#d8576b"
             ],
             [
              0.6666666666666666,
              "#ed7953"
             ],
             [
              0.7777777777777778,
              "#fb9f3a"
             ],
             [
              0.8888888888888888,
              "#fdca26"
             ],
             [
              1,
              "#f0f921"
             ]
            ],
            "type": "surface"
           }
          ],
          "table": [
           {
            "cells": {
             "fill": {
              "color": "#EBF0F8"
             },
             "line": {
              "color": "white"
             }
            },
            "header": {
             "fill": {
              "color": "#C8D4E3"
             },
             "line": {
              "color": "white"
             }
            },
            "type": "table"
           }
          ]
         },
         "layout": {
          "annotationdefaults": {
           "arrowcolor": "#2a3f5f",
           "arrowhead": 0,
           "arrowwidth": 1
          },
          "coloraxis": {
           "colorbar": {
            "outlinewidth": 0,
            "ticks": ""
           }
          },
          "colorscale": {
           "diverging": [
            [
             0,
             "#8e0152"
            ],
            [
             0.1,
             "#c51b7d"
            ],
            [
             0.2,
             "#de77ae"
            ],
            [
             0.3,
             "#f1b6da"
            ],
            [
             0.4,
             "#fde0ef"
            ],
            [
             0.5,
             "#f7f7f7"
            ],
            [
             0.6,
             "#e6f5d0"
            ],
            [
             0.7,
             "#b8e186"
            ],
            [
             0.8,
             "#7fbc41"
            ],
            [
             0.9,
             "#4d9221"
            ],
            [
             1,
             "#276419"
            ]
           ],
           "sequential": [
            [
             0,
             "#0d0887"
            ],
            [
             0.1111111111111111,
             "#46039f"
            ],
            [
             0.2222222222222222,
             "#7201a8"
            ],
            [
             0.3333333333333333,
             "#9c179e"
            ],
            [
             0.4444444444444444,
             "#bd3786"
            ],
            [
             0.5555555555555556,
             "#d8576b"
            ],
            [
             0.6666666666666666,
             "#ed7953"
            ],
            [
             0.7777777777777778,
             "#fb9f3a"
            ],
            [
             0.8888888888888888,
             "#fdca26"
            ],
            [
             1,
             "#f0f921"
            ]
           ],
           "sequentialminus": [
            [
             0,
             "#0d0887"
            ],
            [
             0.1111111111111111,
             "#46039f"
            ],
            [
             0.2222222222222222,
             "#7201a8"
            ],
            [
             0.3333333333333333,
             "#9c179e"
            ],
            [
             0.4444444444444444,
             "#bd3786"
            ],
            [
             0.5555555555555556,
             "#d8576b"
            ],
            [
             0.6666666666666666,
             "#ed7953"
            ],
            [
             0.7777777777777778,
             "#fb9f3a"
            ],
            [
             0.8888888888888888,
             "#fdca26"
            ],
            [
             1,
             "#f0f921"
            ]
           ]
          },
          "colorway": [
           "#636efa",
           "#EF553B",
           "#00cc96",
           "#ab63fa",
           "#FFA15A",
           "#19d3f3",
           "#FF6692",
           "#B6E880",
           "#FF97FF",
           "#FECB52"
          ],
          "font": {
           "color": "#2a3f5f"
          },
          "geo": {
           "bgcolor": "white",
           "lakecolor": "white",
           "landcolor": "#E5ECF6",
           "showlakes": true,
           "showland": true,
           "subunitcolor": "white"
          },
          "hoverlabel": {
           "align": "left"
          },
          "hovermode": "closest",
          "mapbox": {
           "style": "light"
          },
          "paper_bgcolor": "white",
          "plot_bgcolor": "#E5ECF6",
          "polar": {
           "angularaxis": {
            "gridcolor": "white",
            "linecolor": "white",
            "ticks": ""
           },
           "bgcolor": "#E5ECF6",
           "radialaxis": {
            "gridcolor": "white",
            "linecolor": "white",
            "ticks": ""
           }
          },
          "scene": {
           "xaxis": {
            "backgroundcolor": "#E5ECF6",
            "gridcolor": "white",
            "gridwidth": 2,
            "linecolor": "white",
            "showbackground": true,
            "ticks": "",
            "zerolinecolor": "white"
           },
           "yaxis": {
            "backgroundcolor": "#E5ECF6",
            "gridcolor": "white",
            "gridwidth": 2,
            "linecolor": "white",
            "showbackground": true,
            "ticks": "",
            "zerolinecolor": "white"
           },
           "zaxis": {
            "backgroundcolor": "#E5ECF6",
            "gridcolor": "white",
            "gridwidth": 2,
            "linecolor": "white",
            "showbackground": true,
            "ticks": "",
            "zerolinecolor": "white"
           }
          },
          "shapedefaults": {
           "line": {
            "color": "#2a3f5f"
           }
          },
          "ternary": {
           "aaxis": {
            "gridcolor": "white",
            "linecolor": "white",
            "ticks": ""
           },
           "baxis": {
            "gridcolor": "white",
            "linecolor": "white",
            "ticks": ""
           },
           "bgcolor": "#E5ECF6",
           "caxis": {
            "gridcolor": "white",
            "linecolor": "white",
            "ticks": ""
           }
          },
          "title": {
           "x": 0.05
          },
          "xaxis": {
           "automargin": true,
           "gridcolor": "white",
           "linecolor": "white",
           "ticks": "",
           "title": {
            "standoff": 15
           },
           "zerolinecolor": "white",
           "zerolinewidth": 2
          },
          "yaxis": {
           "automargin": true,
           "gridcolor": "white",
           "linecolor": "white",
           "ticks": "",
           "title": {
            "standoff": 15
           },
           "zerolinecolor": "white",
           "zerolinewidth": 2
          }
         }
        },
        "title": {
         "text": "Cumulative data for Cases per Million since past 2 weeks"
        },
        "xaxis": {
         "anchor": "y",
         "domain": [
          0,
          1
         ],
         "title": {
          "text": "date"
         }
        },
        "yaxis": {
         "anchor": "x",
         "domain": [
          0,
          1
         ],
         "title": {
          "text": "Cases_per_Million"
         }
        }
       }
      },
      "text/html": [
       "<div>                            <div id=\"430166ce-ab1b-4824-b2a1-4a5c360eaecd\" class=\"plotly-graph-div\" style=\"height:525px; width:100%;\"></div>            <script type=\"text/javascript\">                require([\"plotly\"], function(Plotly) {                    window.PLOTLYENV=window.PLOTLYENV || {};                                    if (document.getElementById(\"430166ce-ab1b-4824-b2a1-4a5c360eaecd\")) {                    Plotly.newPlot(                        \"430166ce-ab1b-4824-b2a1-4a5c360eaecd\",                        [{\"hovertemplate\": \"<b>%{hovertext}</b><br><br>Country=Brazil<br>date=%{x}<br>Cases_per_Million=%{y}<extra></extra>\", \"hovertext\": [\"Brazil\", \"Brazil\", \"Brazil\", \"Brazil\", \"Brazil\", \"Brazil\", \"Brazil\", \"Brazil\", \"Brazil\", \"Brazil\", \"Brazil\", \"Brazil\", \"Brazil\", \"Brazil\"], \"legendgroup\": \"Brazil\", \"marker\": {\"color\": \"#636efa\", \"symbol\": \"circle\"}, \"mode\": \"markers\", \"name\": \"Brazil\", \"orientation\": \"v\", \"showlegend\": true, \"type\": \"scatter\", \"x\": [\"2020-10-01T00:00:00\", \"2020-10-10T00:00:00\", \"2020-10-11T00:00:00\", \"2020-10-12T00:00:00\", \"2020-10-13T00:00:00\", \"2020-10-14T00:00:00\", \"2020-10-02T00:00:00\", \"2020-10-03T00:00:00\", \"2020-10-04T00:00:00\", \"2020-10-05T00:00:00\", \"2020-10-06T00:00:00\", \"2020-10-07T00:00:00\", \"2020-10-08T00:00:00\", \"2020-10-09T00:00:00\"], \"xaxis\": \"x\", \"y\": [22.78, 23.88, 23.94, 23.98, 24.03, 24.16, 22.78, 23.06, 23.1, 23.15, 23.35, 23.5, 23.63, 23.76], \"yaxis\": \"y\"}, {\"hovertemplate\": \"<b>%{hovertext}</b><br><br>Country=India<br>date=%{x}<br>Cases_per_Million=%{y}<extra></extra>\", \"hovertext\": [\"India\", \"India\", \"India\", \"India\", \"India\", \"India\", \"India\", \"India\", \"India\", \"India\", \"India\", \"India\", \"India\", \"India\"], \"legendgroup\": \"India\", \"marker\": {\"color\": \"#EF553B\", \"symbol\": \"circle\"}, \"mode\": \"markers\", \"name\": \"India\", \"orientation\": \"v\", \"showlegend\": true, \"type\": \"scatter\", \"x\": [\"2020-10-01T00:00:00\", \"2020-10-10T00:00:00\", \"2020-10-11T00:00:00\", \"2020-10-12T00:00:00\", \"2020-10-13T00:00:00\", \"2020-10-14T00:00:00\", \"2020-10-02T00:00:00\", \"2020-10-03T00:00:00\", \"2020-10-04T00:00:00\", \"2020-10-05T00:00:00\", \"2020-10-06T00:00:00\", \"2020-10-07T00:00:00\", \"2020-10-08T00:00:00\", \"2020-10-09T00:00:00\"], \"xaxis\": \"x\", \"y\": [4.63, 5.1, 5.15, 5.19, 5.24, 5.29, 4.68, 4.74, 4.79, 4.84, 4.89, 4.94, 5.0, 5.05], \"yaxis\": \"y\"}, {\"hovertemplate\": \"<b>%{hovertext}</b><br><br>Country=Italy<br>date=%{x}<br>Cases_per_Million=%{y}<extra></extra>\", \"hovertext\": [\"Italy\", \"Italy\", \"Italy\", \"Italy\", \"Italy\", \"Italy\", \"Italy\", \"Italy\", \"Italy\", \"Italy\", \"Italy\", \"Italy\", \"Italy\", \"Italy\"], \"legendgroup\": \"Italy\", \"marker\": {\"color\": \"#00cc96\", \"symbol\": \"circle\"}, \"mode\": \"markers\", \"name\": \"Italy\", \"orientation\": \"v\", \"showlegend\": true, \"type\": \"scatter\", \"x\": [\"2020-10-01T00:00:00\", \"2020-10-10T00:00:00\", \"2020-10-11T00:00:00\", \"2020-10-12T00:00:00\", \"2020-10-13T00:00:00\", \"2020-10-14T00:00:00\", \"2020-10-02T00:00:00\", \"2020-10-03T00:00:00\", \"2020-10-04T00:00:00\", \"2020-10-05T00:00:00\", \"2020-10-06T00:00:00\", \"2020-10-07T00:00:00\", \"2020-10-08T00:00:00\", \"2020-10-09T00:00:00\"], \"xaxis\": \"x\", \"y\": [5.25, 5.78, 5.87, 5.95, 6.05, 6.17, 5.29, 5.34, 5.38, 5.42, 5.46, 5.52, 5.6, 5.69], \"yaxis\": \"y\"}, {\"hovertemplate\": \"<b>%{hovertext}</b><br><br>Country=South Korea<br>date=%{x}<br>Cases_per_Million=%{y}<extra></extra>\", \"hovertext\": [\"South Korea\", \"South Korea\", \"South Korea\", \"South Korea\", \"South Korea\", \"South Korea\", \"South Korea\", \"South Korea\", \"South Korea\", \"South Korea\", \"South Korea\", \"South Korea\", \"South Korea\", \"South Korea\"], \"legendgroup\": \"South Korea\", \"marker\": {\"color\": \"#ab63fa\", \"symbol\": \"circle\"}, \"mode\": \"markers\", \"name\": \"South Korea\", \"orientation\": \"v\", \"showlegend\": true, \"type\": \"scatter\", \"x\": [\"2020-10-01T00:00:00\", \"2020-10-10T00:00:00\", \"2020-10-11T00:00:00\", \"2020-10-12T00:00:00\", \"2020-10-13T00:00:00\", \"2020-10-14T00:00:00\", \"2020-10-02T00:00:00\", \"2020-10-03T00:00:00\", \"2020-10-04T00:00:00\", \"2020-10-05T00:00:00\", \"2020-10-06T00:00:00\", \"2020-10-07T00:00:00\", \"2020-10-08T00:00:00\", \"2020-10-09T00:00:00\"], \"xaxis\": \"x\", \"y\": [0.47, 0.48, 0.48, 0.48, 0.49, 0.49, 0.47, 0.47, 0.47, 0.47, 0.47, 0.48, 0.48, 0.48], \"yaxis\": \"y\"}, {\"hovertemplate\": \"<b>%{hovertext}</b><br><br>Country=Netherlands<br>date=%{x}<br>Cases_per_Million=%{y}<extra></extra>\", \"hovertext\": [\"Netherlands\", \"Netherlands\", \"Netherlands\", \"Netherlands\", \"Netherlands\", \"Netherlands\", \"Netherlands\", \"Netherlands\", \"Netherlands\", \"Netherlands\", \"Netherlands\", \"Netherlands\", \"Netherlands\", \"Netherlands\"], \"legendgroup\": \"Netherlands\", \"marker\": {\"color\": \"#FFA15A\", \"symbol\": \"circle\"}, \"mode\": \"markers\", \"name\": \"Netherlands\", \"orientation\": \"v\", \"showlegend\": true, \"type\": \"scatter\", \"x\": [\"2020-10-01T00:00:00\", \"2020-10-10T00:00:00\", \"2020-10-11T00:00:00\", \"2020-10-12T00:00:00\", \"2020-10-13T00:00:00\", \"2020-10-14T00:00:00\", \"2020-10-02T00:00:00\", \"2020-10-03T00:00:00\", \"2020-10-04T00:00:00\", \"2020-10-05T00:00:00\", \"2020-10-06T00:00:00\", \"2020-10-07T00:00:00\", \"2020-10-08T00:00:00\", \"2020-10-09T00:00:00\"], \"xaxis\": \"x\", \"y\": [7.54, 10.14, 10.52, 10.92, 11.35, 11.78, 7.77, 8.0, 8.24, 8.24, 8.77, 9.07, 9.41, 9.76], \"yaxis\": \"y\"}, {\"hovertemplate\": \"<b>%{hovertext}</b><br><br>Country=Romania<br>date=%{x}<br>Cases_per_Million=%{y}<extra></extra>\", \"hovertext\": [\"Romania\", \"Romania\", \"Romania\", \"Romania\", \"Romania\", \"Romania\", \"Romania\", \"Romania\", \"Romania\", \"Romania\", \"Romania\", \"Romania\", \"Romania\", \"Romania\"], \"legendgroup\": \"Romania\", \"marker\": {\"color\": \"#19d3f3\", \"symbol\": \"circle\"}, \"mode\": \"markers\", \"name\": \"Romania\", \"orientation\": \"v\", \"showlegend\": true, \"type\": \"scatter\", \"x\": [\"2020-10-01T00:00:00\", \"2020-10-10T00:00:00\", \"2020-10-11T00:00:00\", \"2020-10-12T00:00:00\", \"2020-10-13T00:00:00\", \"2020-10-14T00:00:00\", \"2020-10-02T00:00:00\", \"2020-10-03T00:00:00\", \"2020-10-04T00:00:00\", \"2020-10-05T00:00:00\", \"2020-10-06T00:00:00\", \"2020-10-07T00:00:00\", \"2020-10-08T00:00:00\", \"2020-10-09T00:00:00\"], \"xaxis\": \"x\", \"y\": [6.75, 7.93, 8.08, 8.19, 8.35, 8.56, 6.87, 6.98, 7.07, 7.16, 7.27, 7.42, 7.58, 7.75], \"yaxis\": \"y\"}, {\"hovertemplate\": \"<b>%{hovertext}</b><br><br>Country=Turkey<br>date=%{x}<br>Cases_per_Million=%{y}<extra></extra>\", \"hovertext\": [\"Turkey\", \"Turkey\", \"Turkey\", \"Turkey\", \"Turkey\", \"Turkey\", \"Turkey\", \"Turkey\", \"Turkey\", \"Turkey\", \"Turkey\", \"Turkey\", \"Turkey\", \"Turkey\"], \"legendgroup\": \"Turkey\", \"marker\": {\"color\": \"#FF6692\", \"symbol\": \"circle\"}, \"mode\": \"markers\", \"name\": \"Turkey\", \"orientation\": \"v\", \"showlegend\": true, \"type\": \"scatter\", \"x\": [\"2020-10-01T00:00:00\", \"2020-10-10T00:00:00\", \"2020-10-11T00:00:00\", \"2020-10-12T00:00:00\", \"2020-10-13T00:00:00\", \"2020-10-14T00:00:00\", \"2020-10-02T00:00:00\", \"2020-10-03T00:00:00\", \"2020-10-04T00:00:00\", \"2020-10-05T00:00:00\", \"2020-10-06T00:00:00\", \"2020-10-07T00:00:00\", \"2020-10-08T00:00:00\", \"2020-10-09T00:00:00\"], \"xaxis\": \"x\", \"y\": [3.79, 3.95, 3.97, 3.99, 4.01, 4.03, 3.81, 3.82, 3.84, 3.86, 3.88, 3.9, 3.91, 3.93], \"yaxis\": \"y\"}, {\"hovertemplate\": \"<b>%{hovertext}</b><br><br>Country=United Kingdom<br>date=%{x}<br>Cases_per_Million=%{y}<extra></extra>\", \"hovertext\": [\"United Kingdom\", \"United Kingdom\", \"United Kingdom\", \"United Kingdom\", \"United Kingdom\", \"United Kingdom\", \"United Kingdom\", \"United Kingdom\", \"United Kingdom\", \"United Kingdom\", \"United Kingdom\", \"United Kingdom\", \"United Kingdom\", \"United Kingdom\"], \"legendgroup\": \"United Kingdom\", \"marker\": {\"color\": \"#B6E880\", \"symbol\": \"circle\"}, \"mode\": \"markers\", \"name\": \"United Kingdom\", \"orientation\": \"v\", \"showlegend\": true, \"type\": \"scatter\", \"x\": [\"2020-10-01T00:00:00\", \"2020-10-10T00:00:00\", \"2020-10-11T00:00:00\", \"2020-10-12T00:00:00\", \"2020-10-13T00:00:00\", \"2020-10-14T00:00:00\", \"2020-10-02T00:00:00\", \"2020-10-03T00:00:00\", \"2020-10-04T00:00:00\", \"2020-10-05T00:00:00\", \"2020-10-06T00:00:00\", \"2020-10-07T00:00:00\", \"2020-10-08T00:00:00\", \"2020-10-09T00:00:00\"], \"xaxis\": \"x\", \"y\": [6.81, 8.74, 8.93, 9.13, 9.39, 9.68, 6.91, 7.1, 7.44, 7.63, 7.84, 8.05, 8.31, 8.51], \"yaxis\": \"y\"}],                        {\"legend\": {\"title\": {\"text\": \"Country\"}, \"tracegroupgap\": 0}, \"template\": {\"data\": {\"bar\": [{\"error_x\": {\"color\": \"#2a3f5f\"}, \"error_y\": {\"color\": \"#2a3f5f\"}, \"marker\": {\"line\": {\"color\": \"#E5ECF6\", \"width\": 0.5}}, \"type\": \"bar\"}], \"barpolar\": [{\"marker\": {\"line\": {\"color\": \"#E5ECF6\", \"width\": 0.5}}, \"type\": \"barpolar\"}], \"carpet\": [{\"aaxis\": {\"endlinecolor\": \"#2a3f5f\", \"gridcolor\": \"white\", \"linecolor\": \"white\", \"minorgridcolor\": \"white\", \"startlinecolor\": \"#2a3f5f\"}, \"baxis\": {\"endlinecolor\": \"#2a3f5f\", \"gridcolor\": \"white\", \"linecolor\": \"white\", \"minorgridcolor\": \"white\", \"startlinecolor\": \"#2a3f5f\"}, \"type\": \"carpet\"}], \"choropleth\": [{\"colorbar\": {\"outlinewidth\": 0, \"ticks\": \"\"}, \"type\": \"choropleth\"}], \"contour\": [{\"colorbar\": {\"outlinewidth\": 0, \"ticks\": \"\"}, \"colorscale\": [[0.0, \"#0d0887\"], [0.1111111111111111, \"#46039f\"], [0.2222222222222222, \"#7201a8\"], [0.3333333333333333, \"#9c179e\"], [0.4444444444444444, \"#bd3786\"], [0.5555555555555556, \"#d8576b\"], [0.6666666666666666, \"#ed7953\"], [0.7777777777777778, \"#fb9f3a\"], [0.8888888888888888, \"#fdca26\"], [1.0, \"#f0f921\"]], \"type\": \"contour\"}], \"contourcarpet\": [{\"colorbar\": {\"outlinewidth\": 0, \"ticks\": \"\"}, \"type\": \"contourcarpet\"}], \"heatmap\": [{\"colorbar\": {\"outlinewidth\": 0, \"ticks\": \"\"}, \"colorscale\": [[0.0, \"#0d0887\"], [0.1111111111111111, \"#46039f\"], [0.2222222222222222, \"#7201a8\"], [0.3333333333333333, \"#9c179e\"], [0.4444444444444444, \"#bd3786\"], [0.5555555555555556, \"#d8576b\"], [0.6666666666666666, \"#ed7953\"], [0.7777777777777778, \"#fb9f3a\"], [0.8888888888888888, \"#fdca26\"], [1.0, \"#f0f921\"]], \"type\": \"heatmap\"}], \"heatmapgl\": [{\"colorbar\": {\"outlinewidth\": 0, \"ticks\": \"\"}, \"colorscale\": [[0.0, \"#0d0887\"], [0.1111111111111111, \"#46039f\"], [0.2222222222222222, \"#7201a8\"], [0.3333333333333333, \"#9c179e\"], [0.4444444444444444, \"#bd3786\"], [0.5555555555555556, \"#d8576b\"], [0.6666666666666666, \"#ed7953\"], [0.7777777777777778, \"#fb9f3a\"], [0.8888888888888888, \"#fdca26\"], [1.0, \"#f0f921\"]], \"type\": \"heatmapgl\"}], \"histogram\": [{\"marker\": {\"colorbar\": {\"outlinewidth\": 0, \"ticks\": \"\"}}, \"type\": \"histogram\"}], \"histogram2d\": [{\"colorbar\": {\"outlinewidth\": 0, \"ticks\": \"\"}, \"colorscale\": [[0.0, \"#0d0887\"], [0.1111111111111111, \"#46039f\"], [0.2222222222222222, \"#7201a8\"], [0.3333333333333333, \"#9c179e\"], [0.4444444444444444, \"#bd3786\"], [0.5555555555555556, \"#d8576b\"], [0.6666666666666666, \"#ed7953\"], [0.7777777777777778, \"#fb9f3a\"], [0.8888888888888888, \"#fdca26\"], [1.0, \"#f0f921\"]], \"type\": \"histogram2d\"}], \"histogram2dcontour\": [{\"colorbar\": {\"outlinewidth\": 0, \"ticks\": \"\"}, \"colorscale\": [[0.0, \"#0d0887\"], [0.1111111111111111, \"#46039f\"], [0.2222222222222222, \"#7201a8\"], [0.3333333333333333, \"#9c179e\"], [0.4444444444444444, \"#bd3786\"], [0.5555555555555556, \"#d8576b\"], [0.6666666666666666, \"#ed7953\"], [0.7777777777777778, \"#fb9f3a\"], [0.8888888888888888, \"#fdca26\"], [1.0, \"#f0f921\"]], \"type\": \"histogram2dcontour\"}], \"mesh3d\": [{\"colorbar\": {\"outlinewidth\": 0, \"ticks\": \"\"}, \"type\": \"mesh3d\"}], \"parcoords\": [{\"line\": {\"colorbar\": {\"outlinewidth\": 0, \"ticks\": \"\"}}, \"type\": \"parcoords\"}], \"pie\": [{\"automargin\": true, \"type\": \"pie\"}], \"scatter\": [{\"marker\": {\"colorbar\": {\"outlinewidth\": 0, \"ticks\": \"\"}}, \"type\": \"scatter\"}], \"scatter3d\": [{\"line\": {\"colorbar\": {\"outlinewidth\": 0, \"ticks\": \"\"}}, \"marker\": {\"colorbar\": {\"outlinewidth\": 0, \"ticks\": \"\"}}, \"type\": \"scatter3d\"}], \"scattercarpet\": [{\"marker\": {\"colorbar\": {\"outlinewidth\": 0, \"ticks\": \"\"}}, \"type\": \"scattercarpet\"}], \"scattergeo\": [{\"marker\": {\"colorbar\": {\"outlinewidth\": 0, \"ticks\": \"\"}}, \"type\": \"scattergeo\"}], \"scattergl\": [{\"marker\": {\"colorbar\": {\"outlinewidth\": 0, \"ticks\": \"\"}}, \"type\": \"scattergl\"}], \"scattermapbox\": [{\"marker\": {\"colorbar\": {\"outlinewidth\": 0, \"ticks\": \"\"}}, \"type\": \"scattermapbox\"}], \"scatterpolar\": [{\"marker\": {\"colorbar\": {\"outlinewidth\": 0, \"ticks\": \"\"}}, \"type\": \"scatterpolar\"}], \"scatterpolargl\": [{\"marker\": {\"colorbar\": {\"outlinewidth\": 0, \"ticks\": \"\"}}, \"type\": \"scatterpolargl\"}], \"scatterternary\": [{\"marker\": {\"colorbar\": {\"outlinewidth\": 0, \"ticks\": \"\"}}, \"type\": \"scatterternary\"}], \"surface\": [{\"colorbar\": {\"outlinewidth\": 0, \"ticks\": \"\"}, \"colorscale\": [[0.0, \"#0d0887\"], [0.1111111111111111, \"#46039f\"], [0.2222222222222222, \"#7201a8\"], [0.3333333333333333, \"#9c179e\"], [0.4444444444444444, \"#bd3786\"], [0.5555555555555556, \"#d8576b\"], [0.6666666666666666, \"#ed7953\"], [0.7777777777777778, \"#fb9f3a\"], [0.8888888888888888, \"#fdca26\"], [1.0, \"#f0f921\"]], \"type\": \"surface\"}], \"table\": [{\"cells\": {\"fill\": {\"color\": \"#EBF0F8\"}, \"line\": {\"color\": \"white\"}}, \"header\": {\"fill\": {\"color\": \"#C8D4E3\"}, \"line\": {\"color\": \"white\"}}, \"type\": \"table\"}]}, \"layout\": {\"annotationdefaults\": {\"arrowcolor\": \"#2a3f5f\", \"arrowhead\": 0, \"arrowwidth\": 1}, \"coloraxis\": {\"colorbar\": {\"outlinewidth\": 0, \"ticks\": \"\"}}, \"colorscale\": {\"diverging\": [[0, \"#8e0152\"], [0.1, \"#c51b7d\"], [0.2, \"#de77ae\"], [0.3, \"#f1b6da\"], [0.4, \"#fde0ef\"], [0.5, \"#f7f7f7\"], [0.6, \"#e6f5d0\"], [0.7, \"#b8e186\"], [0.8, \"#7fbc41\"], [0.9, \"#4d9221\"], [1, \"#276419\"]], \"sequential\": [[0.0, \"#0d0887\"], [0.1111111111111111, \"#46039f\"], [0.2222222222222222, \"#7201a8\"], [0.3333333333333333, \"#9c179e\"], [0.4444444444444444, \"#bd3786\"], [0.5555555555555556, \"#d8576b\"], [0.6666666666666666, \"#ed7953\"], [0.7777777777777778, \"#fb9f3a\"], [0.8888888888888888, \"#fdca26\"], [1.0, \"#f0f921\"]], \"sequentialminus\": [[0.0, \"#0d0887\"], [0.1111111111111111, \"#46039f\"], [0.2222222222222222, \"#7201a8\"], [0.3333333333333333, \"#9c179e\"], [0.4444444444444444, \"#bd3786\"], [0.5555555555555556, \"#d8576b\"], [0.6666666666666666, \"#ed7953\"], [0.7777777777777778, \"#fb9f3a\"], [0.8888888888888888, \"#fdca26\"], [1.0, \"#f0f921\"]]}, \"colorway\": [\"#636efa\", \"#EF553B\", \"#00cc96\", \"#ab63fa\", \"#FFA15A\", \"#19d3f3\", \"#FF6692\", \"#B6E880\", \"#FF97FF\", \"#FECB52\"], \"font\": {\"color\": \"#2a3f5f\"}, \"geo\": {\"bgcolor\": \"white\", \"lakecolor\": \"white\", \"landcolor\": \"#E5ECF6\", \"showlakes\": true, \"showland\": true, \"subunitcolor\": \"white\"}, \"hoverlabel\": {\"align\": \"left\"}, \"hovermode\": \"closest\", \"mapbox\": {\"style\": \"light\"}, \"paper_bgcolor\": \"white\", \"plot_bgcolor\": \"#E5ECF6\", \"polar\": {\"angularaxis\": {\"gridcolor\": \"white\", \"linecolor\": \"white\", \"ticks\": \"\"}, \"bgcolor\": \"#E5ECF6\", \"radialaxis\": {\"gridcolor\": \"white\", \"linecolor\": \"white\", \"ticks\": \"\"}}, \"scene\": {\"xaxis\": {\"backgroundcolor\": \"#E5ECF6\", \"gridcolor\": \"white\", \"gridwidth\": 2, \"linecolor\": \"white\", \"showbackground\": true, \"ticks\": \"\", \"zerolinecolor\": \"white\"}, \"yaxis\": {\"backgroundcolor\": \"#E5ECF6\", \"gridcolor\": \"white\", \"gridwidth\": 2, \"linecolor\": \"white\", \"showbackground\": true, \"ticks\": \"\", \"zerolinecolor\": \"white\"}, \"zaxis\": {\"backgroundcolor\": \"#E5ECF6\", \"gridcolor\": \"white\", \"gridwidth\": 2, \"linecolor\": \"white\", \"showbackground\": true, \"ticks\": \"\", \"zerolinecolor\": \"white\"}}, \"shapedefaults\": {\"line\": {\"color\": \"#2a3f5f\"}}, \"ternary\": {\"aaxis\": {\"gridcolor\": \"white\", \"linecolor\": \"white\", \"ticks\": \"\"}, \"baxis\": {\"gridcolor\": \"white\", \"linecolor\": \"white\", \"ticks\": \"\"}, \"bgcolor\": \"#E5ECF6\", \"caxis\": {\"gridcolor\": \"white\", \"linecolor\": \"white\", \"ticks\": \"\"}}, \"title\": {\"x\": 0.05}, \"xaxis\": {\"automargin\": true, \"gridcolor\": \"white\", \"linecolor\": \"white\", \"ticks\": \"\", \"title\": {\"standoff\": 15}, \"zerolinecolor\": \"white\", \"zerolinewidth\": 2}, \"yaxis\": {\"automargin\": true, \"gridcolor\": \"white\", \"linecolor\": \"white\", \"ticks\": \"\", \"title\": {\"standoff\": 15}, \"zerolinecolor\": \"white\", \"zerolinewidth\": 2}}}, \"title\": {\"text\": \"Cumulative data for Cases per Million since past 2 weeks\"}, \"xaxis\": {\"anchor\": \"y\", \"domain\": [0.0, 1.0], \"title\": {\"text\": \"date\"}}, \"yaxis\": {\"anchor\": \"x\", \"domain\": [0.0, 1.0], \"title\": {\"text\": \"Cases_per_Million\"}}},                        {\"responsive\": true}                    ).then(function(){\n",
       "                            \n",
       "var gd = document.getElementById('430166ce-ab1b-4824-b2a1-4a5c360eaecd');\n",
       "var x = new MutationObserver(function (mutations, observer) {{\n",
       "        var display = window.getComputedStyle(gd).display;\n",
       "        if (!display || display === 'none') {{\n",
       "            console.log([gd, 'removed!']);\n",
       "            Plotly.purge(gd);\n",
       "            observer.disconnect();\n",
       "        }}\n",
       "}});\n",
       "\n",
       "// Listen for the removal of the full notebook cells\n",
       "var notebookContainer = gd.closest('#notebook-container');\n",
       "if (notebookContainer) {{\n",
       "    x.observe(notebookContainer, {childList: true});\n",
       "}}\n",
       "\n",
       "// Listen for the clearing of the current output cell\n",
       "var outputEl = gd.closest('.output');\n",
       "if (outputEl) {{\n",
       "    x.observe(outputEl, {childList: true});\n",
       "}}\n",
       "\n",
       "                        })                };                });            </script>        </div>"
      ]
     },
     "metadata": {},
     "output_type": "display_data"
    },
    {
     "data": {
      "text/plain": [
       "<Figure size 720x720 with 0 Axes>"
      ]
     },
     "metadata": {},
     "output_type": "display_data"
    }
   ],
   "source": [
    "fig = px.scatter(\n",
    "    data_frame=covid_countries_dapt, \n",
    "    x=\"date\", \n",
    "    y=\"Cases_per_Million\", \n",
    "    color=\"Country\",\n",
    "    hover_name=\"Country\",\n",
    "    size_max=60,\n",
    "    title = \"Cumulative data for Cases per Million since past 2 weeks\"\n",
    ")\n",
    "fig.show()\n",
    "plt.savefig(\"Cumulative Cases per million2 - Past 2 weeks across the 8 countries\")"
   ]
  },
  {
   "cell_type": "markdown",
   "metadata": {},
   "source": [
    "Without the \"Population per Million\" showing up in the sizes ,would give more clarity on where each country stands with respect to the Cases per million. "
   ]
  },
  {
   "cell_type": "markdown",
   "metadata": {},
   "source": [
    "#Which country has had the highest death rate/victims ?"
   ]
  },
  {
   "cell_type": "code",
   "execution_count": 44,
   "metadata": {},
   "outputs": [
    {
     "data": {
      "image/png": "[encoded data removed]",
      "text/plain": [
       "<Figure size 720x720 with 1 Axes>"
      ]
     },
     "metadata": {},
     "output_type": "display_data"
    }
   ],
   "source": [
    "sns.set(\n",
    "    rc={'figure.figsize':(10,10)}, \n",
    "    style=\"whitegrid\",\n",
    "    palette = 'deep',\n",
    "    color_codes=True\n",
    ")\n",
    "sns.violinplot(\n",
    "    x='Country',\n",
    "    y='Deaths_per_Million',\n",
    "    split=True,\n",
    "    data=covid_countries_dapt\n",
    ")\n",
    "sns.despine()\n",
    "plt.savefig(\"deaths per million plot\")"
   ]
  },
  {
   "cell_type": "markdown",
   "metadata": {},
   "source": [
    "The highest number of daily cases reported in India can be accounted for the high population density.\n",
    "But ,Italy though has a lower density has more number of daily cases and higher average of cases than Netherlands with the highest density in this group.\n",
    "Italy was the epicenter of outbreak in Europe ,and this could also be due to the lack of public awareness ,leaving a \"not-prepared \" nation to face the pandemic eventually leading to collapse of healthcare facilities.\n",
    "The death rate was also scary as can be seen from the position and width of the plot."
   ]
  },
  {
   "cell_type": "markdown",
   "metadata": {},
   "source": [
    "Impact of Population per Million/Pop.Density on the number of cases"
   ]
  },
  {
   "cell_type": "code",
   "execution_count": 49,
   "metadata": {},
   "outputs": [
    {
     "data": {
      "application/vnd.plotly.v1+json": {
       "config": {
        "plotlyServerURL": "https://plot.ly"
       },
       "data": [
        {
         "hovertemplate": "<b>%{hovertext}</b><br><br>Country=Brazil<br>Population_million=%{x}<br>Cases_per_Million=%{y}<br>Density(P/Km²)=%{marker.size}<extra></extra>",
         "hovertext": [
          "Brazil",
          "Brazil",
          "Brazil",
          "Brazil",
          "Brazil",
          "Brazil",
          "Brazil",
          "Brazil",
          "Brazil",
          "Brazil",
          "Brazil",
          "Brazil",
          "Brazil",
          "Brazil"
         ],
         "legendgroup": "Brazil",
         "marker": {
          "color": "#636efa",
          "size": [
           25,
           25,
           25,
           25,
           25,
           25,
           25,
           25,
           25,
           25,
           25,
           25,
           25,
           25
          ],
          "sizemode": "area",
          "sizeref": 0.1463888888888889,
          "symbol": "circle"
         },
         "mode": "markers",
         "name": "Brazil",
         "orientation": "v",
         "showlegend": true,
         "type": "scatter",
         "x": [
          212821.99,
          212821.99,
          212821.99,
          212821.99,
          212821.99,
          212821.99,
          212821.99,
          212821.99,
          212821.99,
          212821.99,
          212821.99,
          212821.99,
          212821.99,
          212821.99
         ],
         "xaxis": "x",
         "y": [
          22.78,
          23.88,
          23.94,
          23.98,
          24.03,
          24.16,
          22.78,
          23.06,
          23.1,
          23.15,
          23.35,
          23.5,
          23.63,
          23.76
         ],
         "yaxis": "y"
        },
        {
         "hovertemplate": "<b>%{hovertext}</b><br><br>Country=India<br>Population_million=%{x}<br>Cases_per_Million=%{y}<br>Density(P/Km²)=%{marker.size}<extra></extra>",
         "hovertext": [
          "India",
          "India",
          "India",
          "India",
          "India",
          "India",
          "India",
          "India",
          "India",
          "India",
          "India",
          "India",
          "India",
          "India"
         ],
         "legendgroup": "India",
         "marker": {
          "color": "#EF553B",
          "size": [
           464,
           464,
           464,
           464,
           464,
           464,
           464,
           464,
           464,
           464,
           464,
           464,
           464,
           464
          ],
          "sizemode": "area",
          "sizeref": 0.1463888888888889,
          "symbol": "circle"
         },
         "mode": "markers",
         "name": "India",
         "orientation": "v",
         "showlegend": true,
         "type": "scatter",
         "x": [
          1382345.08,
          1382345.08,
          1382345.08,
          1382345.08,
          1382345.08,
          1382345.08,
          1382345.08,
          1382345.08,
          1382345.08,
          1382345.08,
          1382345.08,
          1382345.08,
          1382345.08,
          1382345.08
         ],
         "xaxis": "x",
         "y": [
          4.63,
          5.1,
          5.15,
          5.19,
          5.24,
          5.29,
          4.68,
          4.74,
          4.79,
          4.84,
          4.89,
          4.94,
          5,
          5.05
         ],
         "yaxis": "y"
        },
        {
         "hovertemplate": "<b>%{hovertext}</b><br><br>Country=Italy<br>Population_million=%{x}<br>Cases_per_Million=%{y}<br>Density(P/Km²)=%{marker.size}<extra></extra>",
         "hovertext": [
          "Italy",
          "Italy",
          "Italy",
          "Italy",
          "Italy",
          "Italy",
          "Italy",
          "Italy",
          "Italy",
          "Italy",
          "Italy",
          "Italy",
          "Italy",
          "Italy"
         ],
         "legendgroup": "Italy",
         "marker": {
          "color": "#00cc96",
          "size": [
           206,
           206,
           206,
           206,
           206,
           206,
           206,
           206,
           206,
           206,
           206,
           206,
           206,
           206
          ],
          "sizemode": "area",
          "sizeref": 0.1463888888888889,
          "symbol": "circle"
         },
         "mode": "markers",
         "name": "Italy",
         "orientation": "v",
         "showlegend": true,
         "type": "scatter",
         "x": [
          60446.04,
          60446.04,
          60446.04,
          60446.04,
          60446.04,
          60446.04,
          60446.04,
          60446.04,
          60446.04,
          60446.04,
          60446.04,
          60446.04,
          60446.04,
          60446.04
         ],
         "xaxis": "x",
         "y": [
          5.25,
          5.78,
          5.87,
          5.95,
          6.05,
          6.17,
          5.29,
          5.34,
          5.38,
          5.42,
          5.46,
          5.52,
          5.6,
          5.69
         ],
         "yaxis": "y"
        },
        {
         "hovertemplate": "<b>%{hovertext}</b><br><br>Country=South Korea<br>Population_million=%{x}<br>Cases_per_Million=%{y}<br>Density(P/Km²)=%{marker.size}<extra></extra>",
         "hovertext": [
          "South Korea",
          "South Korea",
          "South Korea",
          "South Korea",
          "South Korea",
          "South Korea",
          "South Korea",
          "South Korea",
          "South Korea",
          "South Korea",
          "South Korea",
          "South Korea",
          "South Korea",
          "South Korea"
         ],
         "legendgroup": "South Korea",
         "marker": {
          "color": "#ab63fa",
          "size": [
           527,
           527,
           527,
           527,
           527,
           527,
           527,
           527,
           527,
           527,
           527,
           527,
           527,
           527
          ],
          "sizemode": "area",
          "sizeref": 0.1463888888888889,
          "symbol": "circle"
         },
         "mode": "markers",
         "name": "South Korea",
         "orientation": "v",
         "showlegend": true,
         "type": "scatter",
         "x": [
          51276.98,
          51276.98,
          51276.98,
          51276.98,
          51276.98,
          51276.98,
          51276.98,
          51276.98,
          51276.98,
          51276.98,
          51276.98,
          51276.98,
          51276.98,
          51276.98
         ],
         "xaxis": "x",
         "y": [
          0.47,
          0.48,
          0.48,
          0.48,
          0.49,
          0.49,
          0.47,
          0.47,
          0.47,
          0.47,
          0.47,
          0.48,
          0.48,
          0.48
         ],
         "yaxis": "y"
        },
        {
         "hovertemplate": "<b>%{hovertext}</b><br><br>Country=Netherlands<br>Population_million=%{x}<br>Cases_per_Million=%{y}<br>Density(P/Km²)=%{marker.size}<extra></extra>",
         "hovertext": [
          "Netherlands",
          "Netherlands",
          "Netherlands",
          "Netherlands",
          "Netherlands",
          "Netherlands",
          "Netherlands",
          "Netherlands",
          "Netherlands",
          "Netherlands",
          "Netherlands",
          "Netherlands",
          "Netherlands",
          "Netherlands"
         ],
         "legendgroup": "Netherlands",
         "marker": {
          "color": "#FFA15A",
          "size": [
           508,
           508,
           508,
           508,
           508,
           508,
           508,
           508,
           508,
           508,
           508,
           508,
           508,
           508
          ],
          "sizemode": "area",
          "sizeref": 0.1463888888888889,
          "symbol": "circle"
         },
         "mode": "markers",
         "name": "Netherlands",
         "orientation": "v",
         "showlegend": true,
         "type": "scatter",
         "x": [
          17141.54,
          17141.54,
          17141.54,
          17141.54,
          17141.54,
          17141.54,
          17141.54,
          17141.54,
          17141.54,
          17141.54,
          17141.54,
          17141.54,
          17141.54,
          17141.54
         ],
         "xaxis": "x",
         "y": [
          7.54,
          10.14,
          10.52,
          10.92,
          11.35,
          11.78,
          7.77,
          8,
          8.24,
          8.24,
          8.77,
          9.07,
          9.41,
          9.76
         ],
         "yaxis": "y"
        },
        {
         "hovertemplate": "<b>%{hovertext}</b><br><br>Country=Romania<br>Population_million=%{x}<br>Cases_per_Million=%{y}<br>Density(P/Km²)=%{marker.size}<extra></extra>",
         "hovertext": [
          "Romania",
          "Romania",
          "Romania",
          "Romania",
          "Romania",
          "Romania",
          "Romania",
          "Romania",
          "Romania",
          "Romania",
          "Romania",
          "Romania",
          "Romania",
          "Romania"
         ],
         "legendgroup": "Romania",
         "marker": {
          "color": "#19d3f3",
          "size": [
           84,
           84,
           84,
           84,
           84,
           84,
           84,
           84,
           84,
           84,
           84,
           84,
           84,
           84
          ],
          "sizemode": "area",
          "sizeref": 0.1463888888888889,
          "symbol": "circle"
         },
         "mode": "markers",
         "name": "Romania",
         "orientation": "v",
         "showlegend": true,
         "type": "scatter",
         "x": [
          19214.61,
          19214.61,
          19214.61,
          19214.61,
          19214.61,
          19214.61,
          19214.61,
          19214.61,
          19214.61,
          19214.61,
          19214.61,
          19214.61,
          19214.61,
          19214.61
         ],
         "xaxis": "x",
         "y": [
          6.75,
          7.93,
          8.08,
          8.19,
          8.35,
          8.56,
          6.87,
          6.98,
          7.07,
          7.16,
          7.27,
          7.42,
          7.58,
          7.75
         ],
         "yaxis": "y"
        },
        {
         "hovertemplate": "<b>%{hovertext}</b><br><br>Country=Turkey<br>Population_million=%{x}<br>Cases_per_Million=%{y}<br>Density(P/Km²)=%{marker.size}<extra></extra>",
         "hovertext": [
          "Turkey",
          "Turkey",
          "Turkey",
          "Turkey",
          "Turkey",
          "Turkey",
          "Turkey",
          "Turkey",
          "Turkey",
          "Turkey",
          "Turkey",
          "Turkey",
          "Turkey",
          "Turkey"
         ],
         "legendgroup": "Turkey",
         "marker": {
          "color": "#FF6692",
          "size": [
           110,
           110,
           110,
           110,
           110,
           110,
           110,
           110,
           110,
           110,
           110,
           110,
           110,
           110
          ],
          "sizemode": "area",
          "sizeref": 0.1463888888888889,
          "symbol": "circle"
         },
         "mode": "markers",
         "name": "Turkey",
         "orientation": "v",
         "showlegend": true,
         "type": "scatter",
         "x": [
          84495.24,
          84495.24,
          84495.24,
          84495.24,
          84495.24,
          84495.24,
          84495.24,
          84495.24,
          84495.24,
          84495.24,
          84495.24,
          84495.24,
          84495.24,
          84495.24
         ],
         "xaxis": "x",
         "y": [
          3.79,
          3.95,
          3.97,
          3.99,
          4.01,
          4.03,
          3.81,
          3.82,
          3.84,
          3.86,
          3.88,
          3.9,
          3.91,
          3.93
         ],
         "yaxis": "y"
        },
        {
         "hovertemplate": "<b>%{hovertext}</b><br><br>Country=United Kingdom<br>Population_million=%{x}<br>Cases_per_Million=%{y}<br>Density(P/Km²)=%{marker.size}<extra></extra>",
         "hovertext": [
          "United Kingdom",
          "United Kingdom",
          "United Kingdom",
          "United Kingdom",
          "United Kingdom",
          "United Kingdom",
          "United Kingdom",
          "United Kingdom",
          "United Kingdom",
          "United Kingdom",
          "United Kingdom",
          "United Kingdom",
          "United Kingdom",
          "United Kingdom"
         ],
         "legendgroup": "United Kingdom",
         "marker": {
          "color": "#B6E880",
          "size": [
           281,
           281,
           281,
           281,
           281,
           281,
           281,
           281,
           281,
           281,
           281,
           281,
           281,
           281
          ],
          "sizemode": "area",
          "sizeref": 0.1463888888888889,
          "symbol": "circle"
         },
         "mode": "markers",
         "name": "United Kingdom",
         "orientation": "v",
         "showlegend": true,
         "type": "scatter",
         "x": [
          67948.28,
          67948.28,
          67948.28,
          67948.28,
          67948.28,
          67948.28,
          67948.28,
          67948.28,
          67948.28,
          67948.28,
          67948.28,
          67948.28,
          67948.28,
          67948.28
         ],
         "xaxis": "x",
         "y": [
          6.81,
          8.74,
          8.93,
          9.13,
          9.39,
          9.68,
          6.91,
          7.1,
          7.44,
          7.63,
          7.84,
          8.05,
          8.31,
          8.51
         ],
         "yaxis": "y"
        }
       ],
       "layout": {
        "legend": {
         "itemsizing": "constant",
         "title": {
          "text": "Country"
         },
         "tracegroupgap": 0
        },
        "template": {
         "data": {
          "bar": [
           {
            "error_x": {
             "color": "#2a3f5f"
            },
            "error_y": {
             "color": "#2a3f5f"
            },
            "marker": {
             "line": {
              "color": "#E5ECF6",
              "width": 0.5
             }
            },
            "type": "bar"
           }
          ],
          "barpolar": [
           {
            "marker": {
             "line": {
              "color": "#E5ECF6",
              "width": 0.5
             }
            },
            "type": "barpolar"
           }
          ],
          "carpet": [
           {
            "aaxis": {
             "endlinecolor": "#2a3f5f",
             "gridcolor": "white",
             "linecolor": "white",
             "minorgridcolor": "white",
             "startlinecolor": "#2a3f5f"
            },
            "baxis": {
             "endlinecolor": "#2a3f5f",
             "gridcolor": "white",
             "linecolor": "white",
             "minorgridcolor": "white",
             "startlinecolor": "#2a3f5f"
            },
            "type": "carpet"
           }
          ],
          "choropleth": [
           {
            "colorbar": {
             "outlinewidth": 0,
             "ticks": ""
            },
            "type": "choropleth"
           }
          ],
          "contour": [
           {
            "colorbar": {
             "outlinewidth": 0,
             "ticks": ""
            },
            "colorscale": [
             [
              0,
              "#0d0887"
             ],
             [
              0.1111111111111111,
              "#46039f"
             ],
             [
              0.2222222222222222,
              "#7201a8"
             ],
             [
              0.3333333333333333,
              "#9c179e"
             ],
             [
              0.4444444444444444,
              "#bd3786"
             ],
             [
              0.5555555555555556,
              "#d8576b"
             ],
             [
              0.6666666666666666,
              "#ed7953"
             ],
             [
              0.7777777777777778,
              "#fb9f3a"
             ],
             [
              0.8888888888888888,
              "#fdca26"
             ],
             [
              1,
              "#f0f921"
             ]
            ],
            "type": "contour"
           }
          ],
          "contourcarpet": [
           {
            "colorbar": {
             "outlinewidth": 0,
             "ticks": ""
            },
            "type": "contourcarpet"
           }
          ],
          "heatmap": [
           {
            "colorbar": {
             "outlinewidth": 0,
             "ticks": ""
            },
            "colorscale": [
             [
              0,
              "#0d0887"
             ],
             [
              0.1111111111111111,
              "#46039f"
             ],
             [
              0.2222222222222222,
              "#7201a8"
             ],
             [
              0.3333333333333333,
              "#9c179e"
             ],
             [
              0.4444444444444444,
              "#bd3786"
             ],
             [
              0.5555555555555556,
              "#d8576b"
             ],
             [
              0.6666666666666666,
              "#ed7953"
             ],
             [
              0.7777777777777778,
              "#fb9f3a"
             ],
             [
              0.8888888888888888,
              "#fdca26"
             ],
             [
              1,
              "#f0f921"
             ]
            ],
            "type": "heatmap"
           }
          ],
          "heatmapgl": [
           {
            "colorbar": {
             "outlinewidth": 0,
             "ticks": ""
            },
            "colorscale": [
             [
              0,
              "#0d0887"
             ],
             [
              0.1111111111111111,
              "#46039f"
             ],
             [
              0.2222222222222222,
              "#7201a8"
             ],
             [
              0.3333333333333333,
              "#9c179e"
             ],
             [
              0.4444444444444444,
              "#bd3786"
             ],
             [
              0.5555555555555556,
              "#d8576b"
             ],
             [
              0.6666666666666666,
              "#ed7953"
             ],
             [
              0.7777777777777778,
              "#fb9f3a"
             ],
             [
              0.8888888888888888,
              "#fdca26"
             ],
             [
              1,
              "#f0f921"
             ]
            ],
            "type": "heatmapgl"
           }
          ],
          "histogram": [
           {
            "marker": {
             "colorbar": {
              "outlinewidth": 0,
              "ticks": ""
             }
            },
            "type": "histogram"
           }
          ],
          "histogram2d": [
           {
            "colorbar": {
             "outlinewidth": 0,
             "ticks": ""
            },
            "colorscale": [
             [
              0,
              "#0d0887"
             ],
             [
              0.1111111111111111,
              "#46039f"
             ],
             [
              0.2222222222222222,
              "#7201a8"
             ],
             [
              0.3333333333333333,
              "#9c179e"
             ],
             [
              0.4444444444444444,
              "#bd3786"
             ],
             [
              0.5555555555555556,
              "#d8576b"
             ],
             [
              0.6666666666666666,
              "#ed7953"
             ],
             [
              0.7777777777777778,
              "#fb9f3a"
             ],
             [
              0.8888888888888888,
              "#fdca26"
             ],
             [
              1,
              "#f0f921"
             ]
            ],
            "type": "histogram2d"
           }
          ],
          "histogram2dcontour": [
           {
            "colorbar": {
             "outlinewidth": 0,
             "ticks": ""
            },
            "colorscale": [
             [
              0,
              "#0d0887"
             ],
             [
              0.1111111111111111,
              "#46039f"
             ],
             [
              0.2222222222222222,
              "#7201a8"
             ],
             [
              0.3333333333333333,
              "#9c179e"
             ],
             [
              0.4444444444444444,
              "#bd3786"
             ],
             [
              0.5555555555555556,
              "#d8576b"
             ],
             [
              0.6666666666666666,
              "#ed7953"
             ],
             [
              0.7777777777777778,
              "#fb9f3a"
             ],
             [
              0.8888888888888888,
              "#fdca26"
             ],
             [
              1,
              "#f0f921"
             ]
            ],
            "type": "histogram2dcontour"
           }
          ],
          "mesh3d": [
           {
            "colorbar": {
             "outlinewidth": 0,
             "ticks": ""
            },
            "type": "mesh3d"
           }
          ],
          "parcoords": [
           {
            "line": {
             "colorbar": {
              "outlinewidth": 0,
              "ticks": ""
             }
            },
            "type": "parcoords"
           }
          ],
          "pie": [
           {
            "automargin": true,
            "type": "pie"
           }
          ],
          "scatter": [
           {
            "marker": {
             "colorbar": {
              "outlinewidth": 0,
              "ticks": ""
             }
            },
            "type": "scatter"
           }
          ],
          "scatter3d": [
           {
            "line": {
             "colorbar": {
              "outlinewidth": 0,
              "ticks": ""
             }
            },
            "marker": {
             "colorbar": {
              "outlinewidth": 0,
              "ticks": ""
             }
            },
            "type": "scatter3d"
           }
          ],
          "scattercarpet": [
           {
            "marker": {
             "colorbar": {
              "outlinewidth": 0,
              "ticks": ""
             }
            },
            "type": "scattercarpet"
           }
          ],
          "scattergeo": [
           {
            "marker": {
             "colorbar": {
              "outlinewidth": 0,
              "ticks": ""
             }
            },
            "type": "scattergeo"
           }
          ],
          "scattergl": [
           {
            "marker": {
             "colorbar": {
              "outlinewidth": 0,
              "ticks": ""
             }
            },
            "type": "scattergl"
           }
          ],
          "scattermapbox": [
           {
            "marker": {
             "colorbar": {
              "outlinewidth": 0,
              "ticks": ""
             }
            },
            "type": "scattermapbox"
           }
          ],
          "scatterpolar": [
           {
            "marker": {
             "colorbar": {
              "outlinewidth": 0,
              "ticks": ""
             }
            },
            "type": "scatterpolar"
           }
          ],
          "scatterpolargl": [
           {
            "marker": {
             "colorbar": {
              "outlinewidth": 0,
              "ticks": ""
             }
            },
            "type": "scatterpolargl"
           }
          ],
          "scatterternary": [
           {
            "marker": {
             "colorbar": {
              "outlinewidth": 0,
              "ticks": ""
             }
            },
            "type": "scatterternary"
           }
          ],
          "surface": [
           {
            "colorbar": {
             "outlinewidth": 0,
             "ticks": ""
            },
            "colorscale": [
             [
              0,
              "#0d0887"
             ],
             [
              0.1111111111111111,
              "#46039f"
             ],
             [
              0.2222222222222222,
              "#7201a8"
             ],
             [
              0.3333333333333333,
              "#9c179e"
             ],
             [
              0.4444444444444444,
              "#bd3786"
             ],
             [
              0.5555555555555556,
              "#d8576b"
             ],
             [
              0.6666666666666666,
              "#ed7953"
             ],
             [
              0.7777777777777778,
              "#fb9f3a"
             ],
             [
              0.8888888888888888,
              "#fdca26"
             ],
             [
              1,
              "#f0f921"
             ]
            ],
            "type": "surface"
           }
          ],
          "table": [
           {
            "cells": {
             "fill": {
              "color": "#EBF0F8"
             },
             "line": {
              "color": "white"
             }
            },
            "header": {
             "fill": {
              "color": "#C8D4E3"
             },
             "line": {
              "color": "white"
             }
            },
            "type": "table"
           }
          ]
         },
         "layout": {
          "annotationdefaults": {
           "arrowcolor": "#2a3f5f",
           "arrowhead": 0,
           "arrowwidth": 1
          },
          "coloraxis": {
           "colorbar": {
            "outlinewidth": 0,
            "ticks": ""
           }
          },
          "colorscale": {
           "diverging": [
            [
             0,
             "#8e0152"
            ],
            [
             0.1,
             "#c51b7d"
            ],
            [
             0.2,
             "#de77ae"
            ],
            [
             0.3,
             "#f1b6da"
            ],
            [
             0.4,
             "#fde0ef"
            ],
            [
             0.5,
             "#f7f7f7"
            ],
            [
             0.6,
             "#e6f5d0"
            ],
            [
             0.7,
             "#b8e186"
            ],
            [
             0.8,
             "#7fbc41"
            ],
            [
             0.9,
             "#4d9221"
            ],
            [
             1,
             "#276419"
            ]
           ],
           "sequential": [
            [
             0,
             "#0d0887"
            ],
            [
             0.1111111111111111,
             "#46039f"
            ],
            [
             0.2222222222222222,
             "#7201a8"
            ],
            [
             0.3333333333333333,
             "#9c179e"
            ],
            [
             0.4444444444444444,
             "#bd3786"
            ],
            [
             0.5555555555555556,
             "#d8576b"
            ],
            [
             0.6666666666666666,
             "#ed7953"
            ],
            [
             0.7777777777777778,
             "#fb9f3a"
            ],
            [
             0.8888888888888888,
             "#fdca26"
            ],
            [
             1,
             "#f0f921"
            ]
           ],
           "sequentialminus": [
            [
             0,
             "#0d0887"
            ],
            [
             0.1111111111111111,
             "#46039f"
            ],
            [
             0.2222222222222222,
             "#7201a8"
            ],
            [
             0.3333333333333333,
             "#9c179e"
            ],
            [
             0.4444444444444444,
             "#bd3786"
            ],
            [
             0.5555555555555556,
             "#d8576b"
            ],
            [
             0.6666666666666666,
             "#ed7953"
            ],
            [
             0.7777777777777778,
             "#fb9f3a"
            ],
            [
             0.8888888888888888,
             "#fdca26"
            ],
            [
             1,
             "#f0f921"
            ]
           ]
          },
          "colorway": [
           "#636efa",
           "#EF553B",
           "#00cc96",
           "#ab63fa",
           "#FFA15A",
           "#19d3f3",
           "#FF6692",
           "#B6E880",
           "#FF97FF",
           "#FECB52"
          ],
          "font": {
           "color": "#2a3f5f"
          },
          "geo": {
           "bgcolor": "white",
           "lakecolor": "white",
           "landcolor": "#E5ECF6",
           "showlakes": true,
           "showland": true,
           "subunitcolor": "white"
          },
          "hoverlabel": {
           "align": "left"
          },
          "hovermode": "closest",
          "mapbox": {
           "style": "light"
          },
          "paper_bgcolor": "white",
          "plot_bgcolor": "#E5ECF6",
          "polar": {
           "angularaxis": {
            "gridcolor": "white",
            "linecolor": "white",
            "ticks": ""
           },
           "bgcolor": "#E5ECF6",
           "radialaxis": {
            "gridcolor": "white",
            "linecolor": "white",
            "ticks": ""
           }
          },
          "scene": {
           "xaxis": {
            "backgroundcolor": "#E5ECF6",
            "gridcolor": "white",
            "gridwidth": 2,
            "linecolor": "white",
            "showbackground": true,
            "ticks": "",
            "zerolinecolor": "white"
           },
           "yaxis": {
            "backgroundcolor": "#E5ECF6",
            "gridcolor": "white",
            "gridwidth": 2,
            "linecolor": "white",
            "showbackground": true,
            "ticks": "",
            "zerolinecolor": "white"
           },
           "zaxis": {
            "backgroundcolor": "#E5ECF6",
            "gridcolor": "white",
            "gridwidth": 2,
            "linecolor": "white",
            "showbackground": true,
            "ticks": "",
            "zerolinecolor": "white"
           }
          },
          "shapedefaults": {
           "line": {
            "color": "#2a3f5f"
           }
          },
          "ternary": {
           "aaxis": {
            "gridcolor": "white",
            "linecolor": "white",
            "ticks": ""
           },
           "baxis": {
            "gridcolor": "white",
            "linecolor": "white",
            "ticks": ""
           },
           "bgcolor": "#E5ECF6",
           "caxis": {
            "gridcolor": "white",
            "linecolor": "white",
            "ticks": ""
           }
          },
          "title": {
           "x": 0.05
          },
          "xaxis": {
           "automargin": true,
           "gridcolor": "white",
           "linecolor": "white",
           "ticks": "",
           "title": {
            "standoff": 15
           },
           "zerolinecolor": "white",
           "zerolinewidth": 2
          },
          "yaxis": {
           "automargin": true,
           "gridcolor": "white",
           "linecolor": "white",
           "ticks": "",
           "title": {
            "standoff": 15
           },
           "zerolinecolor": "white",
           "zerolinewidth": 2
          }
         }
        },
        "title": {
         "text": "Cases per Million in the Countries"
        },
        "xaxis": {
         "anchor": "y",
         "domain": [
          0,
          1
         ],
         "title": {
          "text": "Population_million"
         }
        },
        "yaxis": {
         "anchor": "x",
         "domain": [
          0,
          1
         ],
         "title": {
          "text": "Cases_per_Million"
         }
        }
       }
      },
      "text/html": [
       "<div>                            <div id=\"4a3b5229-de69-4b77-a26e-6b38516ab152\" class=\"plotly-graph-div\" style=\"height:525px; width:100%;\"></div>            <script type=\"text/javascript\">                require([\"plotly\"], function(Plotly) {                    window.PLOTLYENV=window.PLOTLYENV || {};                                    if (document.getElementById(\"4a3b5229-de69-4b77-a26e-6b38516ab152\")) {                    Plotly.newPlot(                        \"4a3b5229-de69-4b77-a26e-6b38516ab152\",                        [{\"hovertemplate\": \"<b>%{hovertext}</b><br><br>Country=Brazil<br>Population_million=%{x}<br>Cases_per_Million=%{y}<br>Density(P/Km\\u00b2)=%{marker.size}<extra></extra>\", \"hovertext\": [\"Brazil\", \"Brazil\", \"Brazil\", \"Brazil\", \"Brazil\", \"Brazil\", \"Brazil\", \"Brazil\", \"Brazil\", \"Brazil\", \"Brazil\", \"Brazil\", \"Brazil\", \"Brazil\"], \"legendgroup\": \"Brazil\", \"marker\": {\"color\": \"#636efa\", \"size\": [25, 25, 25, 25, 25, 25, 25, 25, 25, 25, 25, 25, 25, 25], \"sizemode\": \"area\", \"sizeref\": 0.1463888888888889, \"symbol\": \"circle\"}, \"mode\": \"markers\", \"name\": \"Brazil\", \"orientation\": \"v\", \"showlegend\": true, \"type\": \"scatter\", \"x\": [212821.99, 212821.99, 212821.99, 212821.99, 212821.99, 212821.99, 212821.99, 212821.99, 212821.99, 212821.99, 212821.99, 212821.99, 212821.99, 212821.99], \"xaxis\": \"x\", \"y\": [22.78, 23.88, 23.94, 23.98, 24.03, 24.16, 22.78, 23.06, 23.1, 23.15, 23.35, 23.5, 23.63, 23.76], \"yaxis\": \"y\"}, {\"hovertemplate\": \"<b>%{hovertext}</b><br><br>Country=India<br>Population_million=%{x}<br>Cases_per_Million=%{y}<br>Density(P/Km\\u00b2)=%{marker.size}<extra></extra>\", \"hovertext\": [\"India\", \"India\", \"India\", \"India\", \"India\", \"India\", \"India\", \"India\", \"India\", \"India\", \"India\", \"India\", \"India\", \"India\"], \"legendgroup\": \"India\", \"marker\": {\"color\": \"#EF553B\", \"size\": [464, 464, 464, 464, 464, 464, 464, 464, 464, 464, 464, 464, 464, 464], \"sizemode\": \"area\", \"sizeref\": 0.1463888888888889, \"symbol\": \"circle\"}, \"mode\": \"markers\", \"name\": \"India\", \"orientation\": \"v\", \"showlegend\": true, \"type\": \"scatter\", \"x\": [1382345.08, 1382345.08, 1382345.08, 1382345.08, 1382345.08, 1382345.08, 1382345.08, 1382345.08, 1382345.08, 1382345.08, 1382345.08, 1382345.08, 1382345.08, 1382345.08], \"xaxis\": \"x\", \"y\": [4.63, 5.1, 5.15, 5.19, 5.24, 5.29, 4.68, 4.74, 4.79, 4.84, 4.89, 4.94, 5.0, 5.05], \"yaxis\": \"y\"}, {\"hovertemplate\": \"<b>%{hovertext}</b><br><br>Country=Italy<br>Population_million=%{x}<br>Cases_per_Million=%{y}<br>Density(P/Km\\u00b2)=%{marker.size}<extra></extra>\", \"hovertext\": [\"Italy\", \"Italy\", \"Italy\", \"Italy\", \"Italy\", \"Italy\", \"Italy\", \"Italy\", \"Italy\", \"Italy\", \"Italy\", \"Italy\", \"Italy\", \"Italy\"], \"legendgroup\": \"Italy\", \"marker\": {\"color\": \"#00cc96\", \"size\": [206, 206, 206, 206, 206, 206, 206, 206, 206, 206, 206, 206, 206, 206], \"sizemode\": \"area\", \"sizeref\": 0.1463888888888889, \"symbol\": \"circle\"}, \"mode\": \"markers\", \"name\": \"Italy\", \"orientation\": \"v\", \"showlegend\": true, \"type\": \"scatter\", \"x\": [60446.04, 60446.04, 60446.04, 60446.04, 60446.04, 60446.04, 60446.04, 60446.04, 60446.04, 60446.04, 60446.04, 60446.04, 60446.04, 60446.04], \"xaxis\": \"x\", \"y\": [5.25, 5.78, 5.87, 5.95, 6.05, 6.17, 5.29, 5.34, 5.38, 5.42, 5.46, 5.52, 5.6, 5.69], \"yaxis\": \"y\"}, {\"hovertemplate\": \"<b>%{hovertext}</b><br><br>Country=South Korea<br>Population_million=%{x}<br>Cases_per_Million=%{y}<br>Density(P/Km\\u00b2)=%{marker.size}<extra></extra>\", \"hovertext\": [\"South Korea\", \"South Korea\", \"South Korea\", \"South Korea\", \"South Korea\", \"South Korea\", \"South Korea\", \"South Korea\", \"South Korea\", \"South Korea\", \"South Korea\", \"South Korea\", \"South Korea\", \"South Korea\"], \"legendgroup\": \"South Korea\", \"marker\": {\"color\": \"#ab63fa\", \"size\": [527, 527, 527, 527, 527, 527, 527, 527, 527, 527, 527, 527, 527, 527], \"sizemode\": \"area\", \"sizeref\": 0.1463888888888889, \"symbol\": \"circle\"}, \"mode\": \"markers\", \"name\": \"South Korea\", \"orientation\": \"v\", \"showlegend\": true, \"type\": \"scatter\", \"x\": [51276.98, 51276.98, 51276.98, 51276.98, 51276.98, 51276.98, 51276.98, 51276.98, 51276.98, 51276.98, 51276.98, 51276.98, 51276.98, 51276.98], \"xaxis\": \"x\", \"y\": [0.47, 0.48, 0.48, 0.48, 0.49, 0.49, 0.47, 0.47, 0.47, 0.47, 0.47, 0.48, 0.48, 0.48], \"yaxis\": \"y\"}, {\"hovertemplate\": \"<b>%{hovertext}</b><br><br>Country=Netherlands<br>Population_million=%{x}<br>Cases_per_Million=%{y}<br>Density(P/Km\\u00b2)=%{marker.size}<extra></extra>\", \"hovertext\": [\"Netherlands\", \"Netherlands\", \"Netherlands\", \"Netherlands\", \"Netherlands\", \"Netherlands\", \"Netherlands\", \"Netherlands\", \"Netherlands\", \"Netherlands\", \"Netherlands\", \"Netherlands\", \"Netherlands\", \"Netherlands\"], \"legendgroup\": \"Netherlands\", \"marker\": {\"color\": \"#FFA15A\", \"size\": [508, 508, 508, 508, 508, 508, 508, 508, 508, 508, 508, 508, 508, 508], \"sizemode\": \"area\", \"sizeref\": 0.1463888888888889, \"symbol\": \"circle\"}, \"mode\": \"markers\", \"name\": \"Netherlands\", \"orientation\": \"v\", \"showlegend\": true, \"type\": \"scatter\", \"x\": [17141.54, 17141.54, 17141.54, 17141.54, 17141.54, 17141.54, 17141.54, 17141.54, 17141.54, 17141.54, 17141.54, 17141.54, 17141.54, 17141.54], \"xaxis\": \"x\", \"y\": [7.54, 10.14, 10.52, 10.92, 11.35, 11.78, 7.77, 8.0, 8.24, 8.24, 8.77, 9.07, 9.41, 9.76], \"yaxis\": \"y\"}, {\"hovertemplate\": \"<b>%{hovertext}</b><br><br>Country=Romania<br>Population_million=%{x}<br>Cases_per_Million=%{y}<br>Density(P/Km\\u00b2)=%{marker.size}<extra></extra>\", \"hovertext\": [\"Romania\", \"Romania\", \"Romania\", \"Romania\", \"Romania\", \"Romania\", \"Romania\", \"Romania\", \"Romania\", \"Romania\", \"Romania\", \"Romania\", \"Romania\", \"Romania\"], \"legendgroup\": \"Romania\", \"marker\": {\"color\": \"#19d3f3\", \"size\": [84, 84, 84, 84, 84, 84, 84, 84, 84, 84, 84, 84, 84, 84], \"sizemode\": \"area\", \"sizeref\": 0.1463888888888889, \"symbol\": \"circle\"}, \"mode\": \"markers\", \"name\": \"Romania\", \"orientation\": \"v\", \"showlegend\": true, \"type\": \"scatter\", \"x\": [19214.61, 19214.61, 19214.61, 19214.61, 19214.61, 19214.61, 19214.61, 19214.61, 19214.61, 19214.61, 19214.61, 19214.61, 19214.61, 19214.61], \"xaxis\": \"x\", \"y\": [6.75, 7.93, 8.08, 8.19, 8.35, 8.56, 6.87, 6.98, 7.07, 7.16, 7.27, 7.42, 7.58, 7.75], \"yaxis\": \"y\"}, {\"hovertemplate\": \"<b>%{hovertext}</b><br><br>Country=Turkey<br>Population_million=%{x}<br>Cases_per_Million=%{y}<br>Density(P/Km\\u00b2)=%{marker.size}<extra></extra>\", \"hovertext\": [\"Turkey\", \"Turkey\", \"Turkey\", \"Turkey\", \"Turkey\", \"Turkey\", \"Turkey\", \"Turkey\", \"Turkey\", \"Turkey\", \"Turkey\", \"Turkey\", \"Turkey\", \"Turkey\"], \"legendgroup\": \"Turkey\", \"marker\": {\"color\": \"#FF6692\", \"size\": [110, 110, 110, 110, 110, 110, 110, 110, 110, 110, 110, 110, 110, 110], \"sizemode\": \"area\", \"sizeref\": 0.1463888888888889, \"symbol\": \"circle\"}, \"mode\": \"markers\", \"name\": \"Turkey\", \"orientation\": \"v\", \"showlegend\": true, \"type\": \"scatter\", \"x\": [84495.24, 84495.24, 84495.24, 84495.24, 84495.24, 84495.24, 84495.24, 84495.24, 84495.24, 84495.24, 84495.24, 84495.24, 84495.24, 84495.24], \"xaxis\": \"x\", \"y\": [3.79, 3.95, 3.97, 3.99, 4.01, 4.03, 3.81, 3.82, 3.84, 3.86, 3.88, 3.9, 3.91, 3.93], \"yaxis\": \"y\"}, {\"hovertemplate\": \"<b>%{hovertext}</b><br><br>Country=United Kingdom<br>Population_million=%{x}<br>Cases_per_Million=%{y}<br>Density(P/Km\\u00b2)=%{marker.size}<extra></extra>\", \"hovertext\": [\"United Kingdom\", \"United Kingdom\", \"United Kingdom\", \"United Kingdom\", \"United Kingdom\", \"United Kingdom\", \"United Kingdom\", \"United Kingdom\", \"United Kingdom\", \"United Kingdom\", \"United Kingdom\", \"United Kingdom\", \"United Kingdom\", \"United Kingdom\"], \"legendgroup\": \"United Kingdom\", \"marker\": {\"color\": \"#B6E880\", \"size\": [281, 281, 281, 281, 281, 281, 281, 281, 281, 281, 281, 281, 281, 281], \"sizemode\": \"area\", \"sizeref\": 0.1463888888888889, \"symbol\": \"circle\"}, \"mode\": \"markers\", \"name\": \"United Kingdom\", \"orientation\": \"v\", \"showlegend\": true, \"type\": \"scatter\", \"x\": [67948.28, 67948.28, 67948.28, 67948.28, 67948.28, 67948.28, 67948.28, 67948.28, 67948.28, 67948.28, 67948.28, 67948.28, 67948.28, 67948.28], \"xaxis\": \"x\", \"y\": [6.81, 8.74, 8.93, 9.13, 9.39, 9.68, 6.91, 7.1, 7.44, 7.63, 7.84, 8.05, 8.31, 8.51], \"yaxis\": \"y\"}],                        {\"legend\": {\"itemsizing\": \"constant\", \"title\": {\"text\": \"Country\"}, \"tracegroupgap\": 0}, \"template\": {\"data\": {\"bar\": [{\"error_x\": {\"color\": \"#2a3f5f\"}, \"error_y\": {\"color\": \"#2a3f5f\"}, \"marker\": {\"line\": {\"color\": \"#E5ECF6\", \"width\": 0.5}}, \"type\": \"bar\"}], \"barpolar\": [{\"marker\": {\"line\": {\"color\": \"#E5ECF6\", \"width\": 0.5}}, \"type\": \"barpolar\"}], \"carpet\": [{\"aaxis\": {\"endlinecolor\": \"#2a3f5f\", \"gridcolor\": \"white\", \"linecolor\": \"white\", \"minorgridcolor\": \"white\", \"startlinecolor\": \"#2a3f5f\"}, \"baxis\": {\"endlinecolor\": \"#2a3f5f\", \"gridcolor\": \"white\", \"linecolor\": \"white\", \"minorgridcolor\": \"white\", \"startlinecolor\": \"#2a3f5f\"}, \"type\": \"carpet\"}], \"choropleth\": [{\"colorbar\": {\"outlinewidth\": 0, \"ticks\": \"\"}, \"type\": \"choropleth\"}], \"contour\": [{\"colorbar\": {\"outlinewidth\": 0, \"ticks\": \"\"}, \"colorscale\": [[0.0, \"#0d0887\"], [0.1111111111111111, \"#46039f\"], [0.2222222222222222, \"#7201a8\"], [0.3333333333333333, \"#9c179e\"], [0.4444444444444444, \"#bd3786\"], [0.5555555555555556, \"#d8576b\"], [0.6666666666666666, \"#ed7953\"], [0.7777777777777778, \"#fb9f3a\"], [0.8888888888888888, \"#fdca26\"], [1.0, \"#f0f921\"]], \"type\": \"contour\"}], \"contourcarpet\": [{\"colorbar\": {\"outlinewidth\": 0, \"ticks\": \"\"}, \"type\": \"contourcarpet\"}], \"heatmap\": [{\"colorbar\": {\"outlinewidth\": 0, \"ticks\": \"\"}, \"colorscale\": [[0.0, \"#0d0887\"], [0.1111111111111111, \"#46039f\"], [0.2222222222222222, \"#7201a8\"], [0.3333333333333333, \"#9c179e\"], [0.4444444444444444, \"#bd3786\"], [0.5555555555555556, \"#d8576b\"], [0.6666666666666666, \"#ed7953\"], [0.7777777777777778, \"#fb9f3a\"], [0.8888888888888888, \"#fdca26\"], [1.0, \"#f0f921\"]], \"type\": \"heatmap\"}], \"heatmapgl\": [{\"colorbar\": {\"outlinewidth\": 0, \"ticks\": \"\"}, \"colorscale\": [[0.0, \"#0d0887\"], [0.1111111111111111, \"#46039f\"], [0.2222222222222222, \"#7201a8\"], [0.3333333333333333, \"#9c179e\"], [0.4444444444444444, \"#bd3786\"], [0.5555555555555556, \"#d8576b\"], [0.6666666666666666, \"#ed7953\"], [0.7777777777777778, \"#fb9f3a\"], [0.8888888888888888, \"#fdca26\"], [1.0, \"#f0f921\"]], \"type\": \"heatmapgl\"}], \"histogram\": [{\"marker\": {\"colorbar\": {\"outlinewidth\": 0, \"ticks\": \"\"}}, \"type\": \"histogram\"}], \"histogram2d\": [{\"colorbar\": {\"outlinewidth\": 0, \"ticks\": \"\"}, \"colorscale\": [[0.0, \"#0d0887\"], [0.1111111111111111, \"#46039f\"], [0.2222222222222222, \"#7201a8\"], [0.3333333333333333, \"#9c179e\"], [0.4444444444444444, \"#bd3786\"], [0.5555555555555556, \"#d8576b\"], [0.6666666666666666, \"#ed7953\"], [0.7777777777777778, \"#fb9f3a\"], [0.8888888888888888, \"#fdca26\"], [1.0, \"#f0f921\"]], \"type\": \"histogram2d\"}], \"histogram2dcontour\": [{\"colorbar\": {\"outlinewidth\": 0, \"ticks\": \"\"}, \"colorscale\": [[0.0, \"#0d0887\"], [0.1111111111111111, \"#46039f\"], [0.2222222222222222, \"#7201a8\"], [0.3333333333333333, \"#9c179e\"], [0.4444444444444444, \"#bd3786\"], [0.5555555555555556, \"#d8576b\"], [0.6666666666666666, \"#ed7953\"], [0.7777777777777778, \"#fb9f3a\"], [0.8888888888888888, \"#fdca26\"], [1.0, \"#f0f921\"]], \"type\": \"histogram2dcontour\"}], \"mesh3d\": [{\"colorbar\": {\"outlinewidth\": 0, \"ticks\": \"\"}, \"type\": \"mesh3d\"}], \"parcoords\": [{\"line\": {\"colorbar\": {\"outlinewidth\": 0, \"ticks\": \"\"}}, \"type\": \"parcoords\"}], \"pie\": [{\"automargin\": true, \"type\": \"pie\"}], \"scatter\": [{\"marker\": {\"colorbar\": {\"outlinewidth\": 0, \"ticks\": \"\"}}, \"type\": \"scatter\"}], \"scatter3d\": [{\"line\": {\"colorbar\": {\"outlinewidth\": 0, \"ticks\": \"\"}}, \"marker\": {\"colorbar\": {\"outlinewidth\": 0, \"ticks\": \"\"}}, \"type\": \"scatter3d\"}], \"scattercarpet\": [{\"marker\": {\"colorbar\": {\"outlinewidth\": 0, \"ticks\": \"\"}}, \"type\": \"scattercarpet\"}], \"scattergeo\": [{\"marker\": {\"colorbar\": {\"outlinewidth\": 0, \"ticks\": \"\"}}, \"type\": \"scattergeo\"}], \"scattergl\": [{\"marker\": {\"colorbar\": {\"outlinewidth\": 0, \"ticks\": \"\"}}, \"type\": \"scattergl\"}], \"scattermapbox\": [{\"marker\": {\"colorbar\": {\"outlinewidth\": 0, \"ticks\": \"\"}}, \"type\": \"scattermapbox\"}], \"scatterpolar\": [{\"marker\": {\"colorbar\": {\"outlinewidth\": 0, \"ticks\": \"\"}}, \"type\": \"scatterpolar\"}], \"scatterpolargl\": [{\"marker\": {\"colorbar\": {\"outlinewidth\": 0, \"ticks\": \"\"}}, \"type\": \"scatterpolargl\"}], \"scatterternary\": [{\"marker\": {\"colorbar\": {\"outlinewidth\": 0, \"ticks\": \"\"}}, \"type\": \"scatterternary\"}], \"surface\": [{\"colorbar\": {\"outlinewidth\": 0, \"ticks\": \"\"}, \"colorscale\": [[0.0, \"#0d0887\"], [0.1111111111111111, \"#46039f\"], [0.2222222222222222, \"#7201a8\"], [0.3333333333333333, \"#9c179e\"], [0.4444444444444444, \"#bd3786\"], [0.5555555555555556, \"#d8576b\"], [0.6666666666666666, \"#ed7953\"], [0.7777777777777778, \"#fb9f3a\"], [0.8888888888888888, \"#fdca26\"], [1.0, \"#f0f921\"]], \"type\": \"surface\"}], \"table\": [{\"cells\": {\"fill\": {\"color\": \"#EBF0F8\"}, \"line\": {\"color\": \"white\"}}, \"header\": {\"fill\": {\"color\": \"#C8D4E3\"}, \"line\": {\"color\": \"white\"}}, \"type\": \"table\"}]}, \"layout\": {\"annotationdefaults\": {\"arrowcolor\": \"#2a3f5f\", \"arrowhead\": 0, \"arrowwidth\": 1}, \"coloraxis\": {\"colorbar\": {\"outlinewidth\": 0, \"ticks\": \"\"}}, \"colorscale\": {\"diverging\": [[0, \"#8e0152\"], [0.1, \"#c51b7d\"], [0.2, \"#de77ae\"], [0.3, \"#f1b6da\"], [0.4, \"#fde0ef\"], [0.5, \"#f7f7f7\"], [0.6, \"#e6f5d0\"], [0.7, \"#b8e186\"], [0.8, \"#7fbc41\"], [0.9, \"#4d9221\"], [1, \"#276419\"]], \"sequential\": [[0.0, \"#0d0887\"], [0.1111111111111111, \"#46039f\"], [0.2222222222222222, \"#7201a8\"], [0.3333333333333333, \"#9c179e\"], [0.4444444444444444, \"#bd3786\"], [0.5555555555555556, \"#d8576b\"], [0.6666666666666666, \"#ed7953\"], [0.7777777777777778, \"#fb9f3a\"], [0.8888888888888888, \"#fdca26\"], [1.0, \"#f0f921\"]], \"sequentialminus\": [[0.0, \"#0d0887\"], [0.1111111111111111, \"#46039f\"], [0.2222222222222222, \"#7201a8\"], [0.3333333333333333, \"#9c179e\"], [0.4444444444444444, \"#bd3786\"], [0.5555555555555556, \"#d8576b\"], [0.6666666666666666, \"#ed7953\"], [0.7777777777777778, \"#fb9f3a\"], [0.8888888888888888, \"#fdca26\"], [1.0, \"#f0f921\"]]}, \"colorway\": [\"#636efa\", \"#EF553B\", \"#00cc96\", \"#ab63fa\", \"#FFA15A\", \"#19d3f3\", \"#FF6692\", \"#B6E880\", \"#FF97FF\", \"#FECB52\"], \"font\": {\"color\": \"#2a3f5f\"}, \"geo\": {\"bgcolor\": \"white\", \"lakecolor\": \"white\", \"landcolor\": \"#E5ECF6\", \"showlakes\": true, \"showland\": true, \"subunitcolor\": \"white\"}, \"hoverlabel\": {\"align\": \"left\"}, \"hovermode\": \"closest\", \"mapbox\": {\"style\": \"light\"}, \"paper_bgcolor\": \"white\", \"plot_bgcolor\": \"#E5ECF6\", \"polar\": {\"angularaxis\": {\"gridcolor\": \"white\", \"linecolor\": \"white\", \"ticks\": \"\"}, \"bgcolor\": \"#E5ECF6\", \"radialaxis\": {\"gridcolor\": \"white\", \"linecolor\": \"white\", \"ticks\": \"\"}}, \"scene\": {\"xaxis\": {\"backgroundcolor\": \"#E5ECF6\", \"gridcolor\": \"white\", \"gridwidth\": 2, \"linecolor\": \"white\", \"showbackground\": true, \"ticks\": \"\", \"zerolinecolor\": \"white\"}, \"yaxis\": {\"backgroundcolor\": \"#E5ECF6\", \"gridcolor\": \"white\", \"gridwidth\": 2, \"linecolor\": \"white\", \"showbackground\": true, \"ticks\": \"\", \"zerolinecolor\": \"white\"}, \"zaxis\": {\"backgroundcolor\": \"#E5ECF6\", \"gridcolor\": \"white\", \"gridwidth\": 2, \"linecolor\": \"white\", \"showbackground\": true, \"ticks\": \"\", \"zerolinecolor\": \"white\"}}, \"shapedefaults\": {\"line\": {\"color\": \"#2a3f5f\"}}, \"ternary\": {\"aaxis\": {\"gridcolor\": \"white\", \"linecolor\": \"white\", \"ticks\": \"\"}, \"baxis\": {\"gridcolor\": \"white\", \"linecolor\": \"white\", \"ticks\": \"\"}, \"bgcolor\": \"#E5ECF6\", \"caxis\": {\"gridcolor\": \"white\", \"linecolor\": \"white\", \"ticks\": \"\"}}, \"title\": {\"x\": 0.05}, \"xaxis\": {\"automargin\": true, \"gridcolor\": \"white\", \"linecolor\": \"white\", \"ticks\": \"\", \"title\": {\"standoff\": 15}, \"zerolinecolor\": \"white\", \"zerolinewidth\": 2}, \"yaxis\": {\"automargin\": true, \"gridcolor\": \"white\", \"linecolor\": \"white\", \"ticks\": \"\", \"title\": {\"standoff\": 15}, \"zerolinecolor\": \"white\", \"zerolinewidth\": 2}}}, \"title\": {\"text\": \"Cases per Million in the Countries\"}, \"xaxis\": {\"anchor\": \"y\", \"domain\": [0.0, 1.0], \"title\": {\"text\": \"Population_million\"}}, \"yaxis\": {\"anchor\": \"x\", \"domain\": [0.0, 1.0], \"title\": {\"text\": \"Cases_per_Million\"}}},                        {\"responsive\": true}                    ).then(function(){\n",
       "                            \n",
       "var gd = document.getElementById('4a3b5229-de69-4b77-a26e-6b38516ab152');\n",
       "var x = new MutationObserver(function (mutations, observer) {{\n",
       "        var display = window.getComputedStyle(gd).display;\n",
       "        if (!display || display === 'none') {{\n",
       "            console.log([gd, 'removed!']);\n",
       "            Plotly.purge(gd);\n",
       "            observer.disconnect();\n",
       "        }}\n",
       "}});\n",
       "\n",
       "// Listen for the removal of the full notebook cells\n",
       "var notebookContainer = gd.closest('#notebook-container');\n",
       "if (notebookContainer) {{\n",
       "    x.observe(notebookContainer, {childList: true});\n",
       "}}\n",
       "\n",
       "// Listen for the clearing of the current output cell\n",
       "var outputEl = gd.closest('.output');\n",
       "if (outputEl) {{\n",
       "    x.observe(outputEl, {childList: true});\n",
       "}}\n",
       "\n",
       "                        })                };                });            </script>        </div>"
      ]
     },
     "metadata": {},
     "output_type": "display_data"
    },
    {
     "data": {
      "text/plain": [
       "<Figure size 720x720 with 0 Axes>"
      ]
     },
     "metadata": {},
     "output_type": "display_data"
    }
   ],
   "source": [
    "fig = px.scatter(\n",
    "    data_frame=covid_countries_dapt, \n",
    "    x=\"Population_million\", \n",
    "    y=\"Cases_per_Million\", \n",
    "    size=\"Density(P/Km²)\", \n",
    "    color=\"Country\",\n",
    "    hover_name=\"Country\",\n",
    "    size_max=60,\n",
    "    title = \"Cases per Million in the Countries\"    \n",
    ")\n",
    "fig.show()\n",
    "plt.savefig('Density Vs Cases')"
   ]
  },
  {
   "cell_type": "markdown",
   "metadata": {},
   "source": [
    "There's quite an interesting observation here that despite having high Pop.per million and high density, India has a considerable less number of cases than Brazil. Brazil indeed has a lowest figure of density amongst the 8 countries,but this huge surge in cases could be due to the high Pop.per million factor.\n",
    "South Korea ,which has quite a high population density has so far been successful in handling the pandemic with an effective strategy in place with the lowest cases per million reported."
   ]
  }
 ],
 "metadata": {
  "kernelspec": {
   "display_name": "Python 3",
   "language": "python",
   "name": "python3"
  },
  "language_info": {
   "codemirror_mode": {
    "name": "ipython",
    "version": 3
   },
   "file_extension": ".py",
   "mimetype": "text/x-python",
   "name": "python",
   "nbconvert_exporter": "python",
   "pygments_lexer": "ipython3",
   "version": "3.7.6"
  }
 },
 "nbformat": 4,
 "nbformat_minor": 4
}
